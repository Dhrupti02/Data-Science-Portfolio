{
 "cells": [
  {
   "cell_type": "code",
   "execution_count": 324,
   "id": "281e4fea",
   "metadata": {},
   "outputs": [],
   "source": [
    "import pandas as pd\n",
    "import numpy as np\n",
    "import matplotlib.pyplot as plt\n",
    "import seaborn as sns"
   ]
  },
  {
   "cell_type": "code",
   "execution_count": 387,
   "id": "1b22317c",
   "metadata": {},
   "outputs": [],
   "source": [
    "data = pd.read_csv('weatherHistory.csv')"
   ]
  },
  {
   "cell_type": "code",
   "execution_count": 388,
   "id": "4ead5490",
   "metadata": {
    "scrolled": false
   },
   "outputs": [
    {
     "data": {
      "text/html": [
       "<div>\n",
       "<style scoped>\n",
       "    .dataframe tbody tr th:only-of-type {\n",
       "        vertical-align: middle;\n",
       "    }\n",
       "\n",
       "    .dataframe tbody tr th {\n",
       "        vertical-align: top;\n",
       "    }\n",
       "\n",
       "    .dataframe thead th {\n",
       "        text-align: right;\n",
       "    }\n",
       "</style>\n",
       "<table border=\"1\" class=\"dataframe\">\n",
       "  <thead>\n",
       "    <tr style=\"text-align: right;\">\n",
       "      <th></th>\n",
       "      <th>Formatted Date</th>\n",
       "      <th>Summary</th>\n",
       "      <th>Precip Type</th>\n",
       "      <th>Temperature (C)</th>\n",
       "      <th>Apparent Temperature (C)</th>\n",
       "      <th>Humidity</th>\n",
       "      <th>Wind Speed (km/h)</th>\n",
       "      <th>Wind Bearing (degrees)</th>\n",
       "      <th>Visibility (km)</th>\n",
       "      <th>Loud Cover</th>\n",
       "      <th>Pressure (millibars)</th>\n",
       "      <th>Daily Summary</th>\n",
       "    </tr>\n",
       "  </thead>\n",
       "  <tbody>\n",
       "    <tr>\n",
       "      <th>0</th>\n",
       "      <td>2006-04-01 00:00:00.000 +0200</td>\n",
       "      <td>Partly Cloudy</td>\n",
       "      <td>rain</td>\n",
       "      <td>9.472222</td>\n",
       "      <td>7.388889</td>\n",
       "      <td>0.89</td>\n",
       "      <td>14.1197</td>\n",
       "      <td>251.0</td>\n",
       "      <td>15.8263</td>\n",
       "      <td>0.0</td>\n",
       "      <td>1015.13</td>\n",
       "      <td>Partly cloudy throughout the day.</td>\n",
       "    </tr>\n",
       "    <tr>\n",
       "      <th>1</th>\n",
       "      <td>2006-04-01 01:00:00.000 +0200</td>\n",
       "      <td>Partly Cloudy</td>\n",
       "      <td>rain</td>\n",
       "      <td>9.355556</td>\n",
       "      <td>7.227778</td>\n",
       "      <td>0.86</td>\n",
       "      <td>14.2646</td>\n",
       "      <td>259.0</td>\n",
       "      <td>15.8263</td>\n",
       "      <td>0.0</td>\n",
       "      <td>1015.63</td>\n",
       "      <td>Partly cloudy throughout the day.</td>\n",
       "    </tr>\n",
       "    <tr>\n",
       "      <th>2</th>\n",
       "      <td>2006-04-01 02:00:00.000 +0200</td>\n",
       "      <td>Mostly Cloudy</td>\n",
       "      <td>rain</td>\n",
       "      <td>9.377778</td>\n",
       "      <td>9.377778</td>\n",
       "      <td>0.89</td>\n",
       "      <td>3.9284</td>\n",
       "      <td>204.0</td>\n",
       "      <td>14.9569</td>\n",
       "      <td>0.0</td>\n",
       "      <td>1015.94</td>\n",
       "      <td>Partly cloudy throughout the day.</td>\n",
       "    </tr>\n",
       "    <tr>\n",
       "      <th>3</th>\n",
       "      <td>2006-04-01 03:00:00.000 +0200</td>\n",
       "      <td>Partly Cloudy</td>\n",
       "      <td>rain</td>\n",
       "      <td>8.288889</td>\n",
       "      <td>5.944444</td>\n",
       "      <td>0.83</td>\n",
       "      <td>14.1036</td>\n",
       "      <td>269.0</td>\n",
       "      <td>15.8263</td>\n",
       "      <td>0.0</td>\n",
       "      <td>1016.41</td>\n",
       "      <td>Partly cloudy throughout the day.</td>\n",
       "    </tr>\n",
       "    <tr>\n",
       "      <th>4</th>\n",
       "      <td>2006-04-01 04:00:00.000 +0200</td>\n",
       "      <td>Mostly Cloudy</td>\n",
       "      <td>rain</td>\n",
       "      <td>8.755556</td>\n",
       "      <td>6.977778</td>\n",
       "      <td>0.83</td>\n",
       "      <td>11.0446</td>\n",
       "      <td>259.0</td>\n",
       "      <td>15.8263</td>\n",
       "      <td>0.0</td>\n",
       "      <td>1016.51</td>\n",
       "      <td>Partly cloudy throughout the day.</td>\n",
       "    </tr>\n",
       "  </tbody>\n",
       "</table>\n",
       "</div>"
      ],
      "text/plain": [
       "                  Formatted Date        Summary Precip Type  Temperature (C)  \\\n",
       "0  2006-04-01 00:00:00.000 +0200  Partly Cloudy        rain         9.472222   \n",
       "1  2006-04-01 01:00:00.000 +0200  Partly Cloudy        rain         9.355556   \n",
       "2  2006-04-01 02:00:00.000 +0200  Mostly Cloudy        rain         9.377778   \n",
       "3  2006-04-01 03:00:00.000 +0200  Partly Cloudy        rain         8.288889   \n",
       "4  2006-04-01 04:00:00.000 +0200  Mostly Cloudy        rain         8.755556   \n",
       "\n",
       "   Apparent Temperature (C)  Humidity  Wind Speed (km/h)  \\\n",
       "0                  7.388889      0.89            14.1197   \n",
       "1                  7.227778      0.86            14.2646   \n",
       "2                  9.377778      0.89             3.9284   \n",
       "3                  5.944444      0.83            14.1036   \n",
       "4                  6.977778      0.83            11.0446   \n",
       "\n",
       "   Wind Bearing (degrees)  Visibility (km)  Loud Cover  Pressure (millibars)  \\\n",
       "0                   251.0          15.8263         0.0               1015.13   \n",
       "1                   259.0          15.8263         0.0               1015.63   \n",
       "2                   204.0          14.9569         0.0               1015.94   \n",
       "3                   269.0          15.8263         0.0               1016.41   \n",
       "4                   259.0          15.8263         0.0               1016.51   \n",
       "\n",
       "                       Daily Summary  \n",
       "0  Partly cloudy throughout the day.  \n",
       "1  Partly cloudy throughout the day.  \n",
       "2  Partly cloudy throughout the day.  \n",
       "3  Partly cloudy throughout the day.  \n",
       "4  Partly cloudy throughout the day.  "
      ]
     },
     "execution_count": 388,
     "metadata": {},
     "output_type": "execute_result"
    }
   ],
   "source": [
    "data.head()"
   ]
  },
  {
   "cell_type": "code",
   "execution_count": 327,
   "id": "f75f42f5",
   "metadata": {},
   "outputs": [
    {
     "name": "stdout",
     "output_type": "stream",
     "text": [
      "<class 'pandas.core.frame.DataFrame'>\n",
      "RangeIndex: 96453 entries, 0 to 96452\n",
      "Data columns (total 12 columns):\n",
      " #   Column                    Non-Null Count  Dtype  \n",
      "---  ------                    --------------  -----  \n",
      " 0   Formatted Date            96453 non-null  object \n",
      " 1   Summary                   96453 non-null  object \n",
      " 2   Precip Type               95936 non-null  object \n",
      " 3   Temperature (C)           96453 non-null  float64\n",
      " 4   Apparent Temperature (C)  96453 non-null  float64\n",
      " 5   Humidity                  96453 non-null  float64\n",
      " 6   Wind Speed (km/h)         96453 non-null  float64\n",
      " 7   Wind Bearing (degrees)    96453 non-null  float64\n",
      " 8   Visibility (km)           96453 non-null  float64\n",
      " 9   Loud Cover                96453 non-null  float64\n",
      " 10  Pressure (millibars)      96453 non-null  float64\n",
      " 11  Daily Summary             96453 non-null  object \n",
      "dtypes: float64(8), object(4)\n",
      "memory usage: 8.8+ MB\n"
     ]
    }
   ],
   "source": [
    "data.info()"
   ]
  },
  {
   "cell_type": "code",
   "execution_count": 328,
   "id": "edc18fbd",
   "metadata": {},
   "outputs": [
    {
     "data": {
      "text/plain": [
       "(96453, 12)"
      ]
     },
     "execution_count": 328,
     "metadata": {},
     "output_type": "execute_result"
    }
   ],
   "source": [
    "data.shape"
   ]
  },
  {
   "cell_type": "code",
   "execution_count": 329,
   "id": "1c726ce3",
   "metadata": {},
   "outputs": [
    {
     "data": {
      "text/html": [
       "<div>\n",
       "<style scoped>\n",
       "    .dataframe tbody tr th:only-of-type {\n",
       "        vertical-align: middle;\n",
       "    }\n",
       "\n",
       "    .dataframe tbody tr th {\n",
       "        vertical-align: top;\n",
       "    }\n",
       "\n",
       "    .dataframe thead th {\n",
       "        text-align: right;\n",
       "    }\n",
       "</style>\n",
       "<table border=\"1\" class=\"dataframe\">\n",
       "  <thead>\n",
       "    <tr style=\"text-align: right;\">\n",
       "      <th></th>\n",
       "      <th>Temperature (C)</th>\n",
       "      <th>Apparent Temperature (C)</th>\n",
       "      <th>Humidity</th>\n",
       "      <th>Wind Speed (km/h)</th>\n",
       "      <th>Wind Bearing (degrees)</th>\n",
       "      <th>Visibility (km)</th>\n",
       "      <th>Loud Cover</th>\n",
       "      <th>Pressure (millibars)</th>\n",
       "    </tr>\n",
       "  </thead>\n",
       "  <tbody>\n",
       "    <tr>\n",
       "      <th>count</th>\n",
       "      <td>96453.000000</td>\n",
       "      <td>96453.000000</td>\n",
       "      <td>96453.000000</td>\n",
       "      <td>96453.000000</td>\n",
       "      <td>96453.000000</td>\n",
       "      <td>96453.000000</td>\n",
       "      <td>96453.0</td>\n",
       "      <td>96453.000000</td>\n",
       "    </tr>\n",
       "    <tr>\n",
       "      <th>mean</th>\n",
       "      <td>11.932678</td>\n",
       "      <td>10.855029</td>\n",
       "      <td>0.734899</td>\n",
       "      <td>10.810640</td>\n",
       "      <td>187.509232</td>\n",
       "      <td>10.347325</td>\n",
       "      <td>0.0</td>\n",
       "      <td>1003.235956</td>\n",
       "    </tr>\n",
       "    <tr>\n",
       "      <th>std</th>\n",
       "      <td>9.551546</td>\n",
       "      <td>10.696847</td>\n",
       "      <td>0.195473</td>\n",
       "      <td>6.913571</td>\n",
       "      <td>107.383428</td>\n",
       "      <td>4.192123</td>\n",
       "      <td>0.0</td>\n",
       "      <td>116.969906</td>\n",
       "    </tr>\n",
       "    <tr>\n",
       "      <th>min</th>\n",
       "      <td>-21.822222</td>\n",
       "      <td>-27.716667</td>\n",
       "      <td>0.000000</td>\n",
       "      <td>0.000000</td>\n",
       "      <td>0.000000</td>\n",
       "      <td>0.000000</td>\n",
       "      <td>0.0</td>\n",
       "      <td>0.000000</td>\n",
       "    </tr>\n",
       "    <tr>\n",
       "      <th>25%</th>\n",
       "      <td>4.688889</td>\n",
       "      <td>2.311111</td>\n",
       "      <td>0.600000</td>\n",
       "      <td>5.828200</td>\n",
       "      <td>116.000000</td>\n",
       "      <td>8.339800</td>\n",
       "      <td>0.0</td>\n",
       "      <td>1011.900000</td>\n",
       "    </tr>\n",
       "    <tr>\n",
       "      <th>50%</th>\n",
       "      <td>12.000000</td>\n",
       "      <td>12.000000</td>\n",
       "      <td>0.780000</td>\n",
       "      <td>9.965900</td>\n",
       "      <td>180.000000</td>\n",
       "      <td>10.046400</td>\n",
       "      <td>0.0</td>\n",
       "      <td>1016.450000</td>\n",
       "    </tr>\n",
       "    <tr>\n",
       "      <th>75%</th>\n",
       "      <td>18.838889</td>\n",
       "      <td>18.838889</td>\n",
       "      <td>0.890000</td>\n",
       "      <td>14.135800</td>\n",
       "      <td>290.000000</td>\n",
       "      <td>14.812000</td>\n",
       "      <td>0.0</td>\n",
       "      <td>1021.090000</td>\n",
       "    </tr>\n",
       "    <tr>\n",
       "      <th>max</th>\n",
       "      <td>39.905556</td>\n",
       "      <td>39.344444</td>\n",
       "      <td>1.000000</td>\n",
       "      <td>63.852600</td>\n",
       "      <td>359.000000</td>\n",
       "      <td>16.100000</td>\n",
       "      <td>0.0</td>\n",
       "      <td>1046.380000</td>\n",
       "    </tr>\n",
       "  </tbody>\n",
       "</table>\n",
       "</div>"
      ],
      "text/plain": [
       "       Temperature (C)  Apparent Temperature (C)      Humidity  \\\n",
       "count     96453.000000              96453.000000  96453.000000   \n",
       "mean         11.932678                 10.855029      0.734899   \n",
       "std           9.551546                 10.696847      0.195473   \n",
       "min         -21.822222                -27.716667      0.000000   \n",
       "25%           4.688889                  2.311111      0.600000   \n",
       "50%          12.000000                 12.000000      0.780000   \n",
       "75%          18.838889                 18.838889      0.890000   \n",
       "max          39.905556                 39.344444      1.000000   \n",
       "\n",
       "       Wind Speed (km/h)  Wind Bearing (degrees)  Visibility (km)  Loud Cover  \\\n",
       "count       96453.000000            96453.000000     96453.000000     96453.0   \n",
       "mean           10.810640              187.509232        10.347325         0.0   \n",
       "std             6.913571              107.383428         4.192123         0.0   \n",
       "min             0.000000                0.000000         0.000000         0.0   \n",
       "25%             5.828200              116.000000         8.339800         0.0   \n",
       "50%             9.965900              180.000000        10.046400         0.0   \n",
       "75%            14.135800              290.000000        14.812000         0.0   \n",
       "max            63.852600              359.000000        16.100000         0.0   \n",
       "\n",
       "       Pressure (millibars)  \n",
       "count          96453.000000  \n",
       "mean            1003.235956  \n",
       "std              116.969906  \n",
       "min                0.000000  \n",
       "25%             1011.900000  \n",
       "50%             1016.450000  \n",
       "75%             1021.090000  \n",
       "max             1046.380000  "
      ]
     },
     "execution_count": 329,
     "metadata": {},
     "output_type": "execute_result"
    }
   ],
   "source": [
    "data.describe()"
   ]
  },
  {
   "cell_type": "code",
   "execution_count": 330,
   "id": "352a7135",
   "metadata": {},
   "outputs": [
    {
     "data": {
      "text/plain": [
       "Formatted Date                0\n",
       "Summary                       0\n",
       "Precip Type                 517\n",
       "Temperature (C)               0\n",
       "Apparent Temperature (C)      0\n",
       "Humidity                      0\n",
       "Wind Speed (km/h)             0\n",
       "Wind Bearing (degrees)        0\n",
       "Visibility (km)               0\n",
       "Loud Cover                    0\n",
       "Pressure (millibars)          0\n",
       "Daily Summary                 0\n",
       "dtype: int64"
      ]
     },
     "execution_count": 330,
     "metadata": {},
     "output_type": "execute_result"
    }
   ],
   "source": [
    "data.isnull().sum()"
   ]
  },
  {
   "cell_type": "markdown",
   "id": "4bd80b9b",
   "metadata": {},
   "source": [
    "#### Dataset has 12 columns and 96453 rows.\n",
    "#### Precip Type has null values."
   ]
  },
  {
   "cell_type": "code",
   "execution_count": null,
   "id": "13dda836",
   "metadata": {},
   "outputs": [],
   "source": []
  },
  {
   "cell_type": "code",
   "execution_count": 331,
   "id": "7ec5e692",
   "metadata": {},
   "outputs": [],
   "source": [
    "def numerical_feature(data):\n",
    "    numerical_features = [feature for feature in data.columns if data[feature].dtypes != 'O']\n",
    "    return numerical_features"
   ]
  },
  {
   "cell_type": "code",
   "execution_count": 332,
   "id": "75fa38d4",
   "metadata": {},
   "outputs": [],
   "source": [
    "def categorical_feature(data):\n",
    "    categorical_feature = [feature for feature in data.columns if data[feature].dtypes == 'O']\n",
    "    return categorical_feature"
   ]
  },
  {
   "cell_type": "code",
   "execution_count": 333,
   "id": "d0d71e08",
   "metadata": {},
   "outputs": [
    {
     "data": {
      "text/plain": [
       "['Formatted Date', 'Summary', 'Precip Type', 'Daily Summary']"
      ]
     },
     "execution_count": 333,
     "metadata": {},
     "output_type": "execute_result"
    }
   ],
   "source": [
    "categorical_feature(data)"
   ]
  },
  {
   "cell_type": "code",
   "execution_count": 334,
   "id": "6657a625",
   "metadata": {},
   "outputs": [
    {
     "data": {
      "text/plain": [
       "['Temperature (C)',\n",
       " 'Apparent Temperature (C)',\n",
       " 'Humidity',\n",
       " 'Wind Speed (km/h)',\n",
       " 'Wind Bearing (degrees)',\n",
       " 'Visibility (km)',\n",
       " 'Loud Cover',\n",
       " 'Pressure (millibars)']"
      ]
     },
     "execution_count": 334,
     "metadata": {},
     "output_type": "execute_result"
    }
   ],
   "source": [
    "numerical_feature(data)"
   ]
  },
  {
   "cell_type": "markdown",
   "id": "3a31a621",
   "metadata": {},
   "source": [
    "#### There are four categorical features and rest are numerical features."
   ]
  },
  {
   "cell_type": "code",
   "execution_count": null,
   "id": "e9003d66",
   "metadata": {},
   "outputs": [],
   "source": []
  },
  {
   "cell_type": "code",
   "execution_count": 335,
   "id": "2534cc52",
   "metadata": {},
   "outputs": [],
   "source": [
    "cat = []\n",
    "ln = []\n",
    "def get_categories(data):\n",
    "    for category in categorical_feature(data):\n",
    "        cat.append(data[category].unique())\n",
    "        ln.append(len(data[category].unique())) \n",
    "    return cat,ln"
   ]
  },
  {
   "cell_type": "code",
   "execution_count": 336,
   "id": "54da95de",
   "metadata": {},
   "outputs": [
    {
     "data": {
      "text/plain": [
       "([array(['2006-04-01 00:00:00.000 +0200', '2006-04-01 01:00:00.000 +0200',\n",
       "         '2006-04-01 02:00:00.000 +0200', ...,\n",
       "         '2016-09-09 21:00:00.000 +0200', '2016-09-09 22:00:00.000 +0200',\n",
       "         '2016-09-09 23:00:00.000 +0200'], dtype=object),\n",
       "  array(['Partly Cloudy', 'Mostly Cloudy', 'Overcast', 'Foggy',\n",
       "         'Breezy and Mostly Cloudy', 'Clear', 'Breezy and Partly Cloudy',\n",
       "         'Breezy and Overcast', 'Humid and Mostly Cloudy',\n",
       "         'Humid and Partly Cloudy', 'Windy and Foggy', 'Windy and Overcast',\n",
       "         'Breezy and Foggy', 'Windy and Partly Cloudy', 'Breezy',\n",
       "         'Dry and Partly Cloudy', 'Windy and Mostly Cloudy',\n",
       "         'Dangerously Windy and Partly Cloudy', 'Dry', 'Windy',\n",
       "         'Humid and Overcast', 'Light Rain', 'Drizzle', 'Windy and Dry',\n",
       "         'Dry and Mostly Cloudy', 'Breezy and Dry', 'Rain'], dtype=object),\n",
       "  array(['rain', 'snow', nan], dtype=object),\n",
       "  array(['Partly cloudy throughout the day.',\n",
       "         'Mostly cloudy throughout the day.', 'Foggy in the evening.',\n",
       "         'Foggy overnight and breezy in the morning.',\n",
       "         'Overcast throughout the day.', 'Partly cloudy until night.',\n",
       "         'Mostly cloudy until night.',\n",
       "         'Foggy starting overnight continuing until morning.',\n",
       "         'Foggy in the morning.', 'Partly cloudy until evening.',\n",
       "         'Partly cloudy starting in the morning.',\n",
       "         'Mostly cloudy starting overnight continuing until night.',\n",
       "         'Mostly cloudy until evening.',\n",
       "         'Partly cloudy starting in the morning continuing until evening.',\n",
       "         'Partly cloudy starting in the afternoon.',\n",
       "         'Partly cloudy starting overnight.',\n",
       "         'Partly cloudy until morning.',\n",
       "         'Partly cloudy starting overnight continuing until night.',\n",
       "         'Partly cloudy starting in the afternoon continuing until night.',\n",
       "         'Mostly cloudy starting overnight.',\n",
       "         'Partly cloudy until afternoon.',\n",
       "         'Mostly cloudy until night and breezy in the afternoon.',\n",
       "         'Foggy starting in the evening.', 'Foggy throughout the day.',\n",
       "         'Foggy starting in the evening continuing until night.',\n",
       "         'Mostly cloudy until morning.',\n",
       "         'Foggy starting in the morning continuing until evening.',\n",
       "         'Foggy starting overnight continuing until afternoon.',\n",
       "         'Partly cloudy starting in the morning continuing until afternoon.',\n",
       "         'Foggy starting overnight.', 'Foggy until morning.',\n",
       "         'Foggy starting overnight continuing until evening.',\n",
       "         'Foggy starting in the afternoon.',\n",
       "         'Partly cloudy starting overnight continuing until afternoon.',\n",
       "         'Partly cloudy starting in the morning continuing until night.',\n",
       "         'Overcast until night.',\n",
       "         'Mostly cloudy starting overnight continuing until evening.',\n",
       "         'Foggy overnight.', 'Partly cloudy in the morning.',\n",
       "         'Mostly cloudy starting in the morning.',\n",
       "         'Foggy starting in the afternoon continuing until evening.',\n",
       "         'Mostly cloudy until afternoon.',\n",
       "         'Foggy starting overnight continuing until night.',\n",
       "         'Mostly cloudy throughout the day and breezy in the evening.',\n",
       "         'Foggy starting in the morning continuing until afternoon.',\n",
       "         'Partly cloudy in the afternoon.', 'Clear throughout the day.',\n",
       "         'Partly cloudy starting in the afternoon continuing until evening.',\n",
       "         'Partly cloudy overnight.', 'Overcast until evening.',\n",
       "         'Foggy in the morning and breezy starting in the afternoon continuing until night.',\n",
       "         'Breezy starting overnight continuing until afternoon and foggy starting in the morning continuing until evening.',\n",
       "         'Partly cloudy starting overnight continuing until morning.',\n",
       "         'Mostly cloudy throughout the day and breezy in the afternoon.',\n",
       "         'Mostly cloudy starting overnight and breezy in the afternoon.',\n",
       "         'Partly cloudy throughout the day and breezy starting in the morning continuing until night.',\n",
       "         'Mostly cloudy throughout the day and breezy in the morning.',\n",
       "         'Partly cloudy starting in the evening continuing until night.',\n",
       "         'Mostly cloudy until night and breezy starting in the morning continuing until afternoon.',\n",
       "         'Partly cloudy starting in the morning continuing until evening and breezy starting in the morning continuing until afternoon.',\n",
       "         'Partly cloudy throughout the day and breezy starting in the morning continuing until afternoon.',\n",
       "         'Partly cloudy throughout the day and breezy starting in the morning continuing until evening.',\n",
       "         'Foggy until afternoon.',\n",
       "         'Overcast until night and breezy overnight.',\n",
       "         'Breezy until morning and mostly cloudy throughout the day.',\n",
       "         'Mostly cloudy starting in the morning continuing until night.',\n",
       "         'Breezy starting overnight continuing until morning and partly cloudy starting overnight continuing until evening.',\n",
       "         'Partly cloudy in the evening.',\n",
       "         'Mostly cloudy starting overnight continuing until afternoon.',\n",
       "         'Mostly cloudy starting in the morning continuing until afternoon.',\n",
       "         'Mostly cloudy starting in the afternoon.',\n",
       "         'Mostly cloudy starting in the morning continuing until evening.',\n",
       "         'Partly cloudy starting overnight continuing until afternoon and breezy in the afternoon.',\n",
       "         'Partly cloudy starting overnight and breezy in the afternoon.',\n",
       "         'Mostly cloudy starting in the morning and breezy in the evening.',\n",
       "         'Foggy starting in the afternoon continuing until night.',\n",
       "         'Foggy until night.',\n",
       "         'Foggy starting in the morning continuing until night.',\n",
       "         'Foggy until evening.', 'Foggy starting in the morning.',\n",
       "         'Partly cloudy starting overnight continuing until evening.',\n",
       "         'Partly cloudy starting overnight continuing until evening and breezy starting in the morning continuing until evening.',\n",
       "         'Breezy starting overnight continuing until morning and foggy in the evening.',\n",
       "         'Mostly cloudy throughout the day and breezy starting in the morning continuing until evening.',\n",
       "         'Partly cloudy until evening and breezy starting in the morning continuing until afternoon.',\n",
       "         'Mostly cloudy starting in the afternoon continuing until night.',\n",
       "         'Breezy starting overnight continuing until afternoon and mostly cloudy starting overnight continuing until evening.',\n",
       "         'Mostly cloudy throughout the day and windy starting in the morning continuing until evening.',\n",
       "         'Breezy and partly cloudy in the afternoon.',\n",
       "         'Mostly cloudy starting overnight and breezy starting in the morning continuing until afternoon.',\n",
       "         'Partly cloudy until night and breezy starting in the morning continuing until afternoon.',\n",
       "         'Breezy and mostly cloudy overnight.',\n",
       "         'Mostly cloudy throughout the day and breezy overnight.',\n",
       "         'Mostly cloudy throughout the day and breezy starting in the morning continuing until afternoon.',\n",
       "         'Partly cloudy throughout the day and breezy in the morning.',\n",
       "         'Partly cloudy starting in the morning continuing until evening and breezy starting in the afternoon continuing until evening.',\n",
       "         'Partly cloudy throughout the day and breezy starting in the afternoon continuing until evening.',\n",
       "         'Mostly cloudy starting overnight and breezy in the morning.',\n",
       "         'Partly cloudy starting in the afternoon and breezy in the afternoon.',\n",
       "         'Partly cloudy starting in the morning and breezy in the evening.',\n",
       "         'Partly cloudy until evening and breezy in the morning.',\n",
       "         'Partly cloudy starting overnight continuing until evening and breezy starting in the morning continuing until afternoon.',\n",
       "         'Partly cloudy starting overnight continuing until evening and breezy in the evening.',\n",
       "         'Mostly cloudy throughout the day and breezy starting in the evening.',\n",
       "         'Mostly cloudy throughout the day and windy starting in the morning continuing until night.',\n",
       "         'Breezy starting overnight continuing until morning and partly cloudy starting in the morning.',\n",
       "         'Mostly cloudy starting in the morning and breezy overnight.',\n",
       "         'Overcast throughout the day and breezy starting overnight continuing until morning.',\n",
       "         'Partly cloudy throughout the day and breezy in the evening.',\n",
       "         'Mostly cloudy until evening and breezy starting in the morning continuing until afternoon.',\n",
       "         'Mostly cloudy until night and breezy in the evening.',\n",
       "         'Partly cloudy starting in the evening.',\n",
       "         'Overcast starting in the morning.',\n",
       "         'Mostly cloudy starting overnight continuing until evening and breezy starting overnight continuing until morning.',\n",
       "         'Partly cloudy starting overnight continuing until morning and breezy starting in the morning continuing until afternoon.',\n",
       "         'Partly cloudy until evening and breezy starting in the morning continuing until evening.',\n",
       "         'Breezy starting in the morning continuing until afternoon and partly cloudy starting in the morning.',\n",
       "         'Partly cloudy starting in the morning and breezy starting in the afternoon continuing until evening.',\n",
       "         'Mostly cloudy starting overnight continuing until morning.',\n",
       "         'Mostly cloudy throughout the day and breezy starting overnight continuing until afternoon.',\n",
       "         'Breezy starting overnight continuing until morning and foggy overnight.',\n",
       "         'Mostly cloudy throughout the day and breezy starting overnight continuing until morning.',\n",
       "         'Overcast throughout the day and breezy in the morning.',\n",
       "         'Overcast throughout the day and breezy in the evening.',\n",
       "         'Mostly cloudy starting in the morning continuing until night and breezy in the afternoon.',\n",
       "         'Mostly cloudy until night and breezy starting in the evening continuing until night.',\n",
       "         'Partly cloudy until night and breezy in the morning.',\n",
       "         'Partly cloudy until evening and breezy overnight.',\n",
       "         'Partly cloudy starting overnight continuing until night and windy starting in the morning continuing until afternoon.',\n",
       "         'Breezy starting in the morning continuing until afternoon and mostly cloudy starting in the morning.',\n",
       "         'Foggy starting overnight continuing until morning and breezy starting in the evening.',\n",
       "         'Mostly cloudy until night and breezy starting in the afternoon.',\n",
       "         'Foggy in the afternoon.',\n",
       "         'Mostly cloudy until night and breezy starting in the afternoon continuing until night.',\n",
       "         'Foggy starting overnight continuing until morning and breezy starting in the evening continuing until night.',\n",
       "         'Breezy until afternoon and mostly cloudy throughout the day.',\n",
       "         'Mostly cloudy throughout the day and breezy starting in the morning continuing until night.',\n",
       "         'Partly cloudy starting overnight continuing until evening and breezy in the morning.',\n",
       "         'Mostly cloudy starting in the morning and breezy in the afternoon.',\n",
       "         'Mostly cloudy starting overnight continuing until night and breezy starting in the morning continuing until evening.',\n",
       "         'Foggy starting overnight continuing until morning and breezy starting in the morning continuing until afternoon.',\n",
       "         'Mostly cloudy until evening and windy starting in the morning continuing until afternoon.',\n",
       "         'Foggy starting overnight continuing until afternoon and breezy in the morning.',\n",
       "         'Foggy starting in the morning continuing until afternoon and breezy starting in the evening.',\n",
       "         'Partly cloudy starting overnight and breezy starting in the morning continuing until afternoon.',\n",
       "         'Foggy starting overnight continuing until morning and breezy in the afternoon.',\n",
       "         'Mostly cloudy starting overnight and breezy starting in the afternoon continuing until evening.',\n",
       "         'Overcast throughout the day and breezy starting overnight continuing until afternoon.',\n",
       "         'Partly cloudy starting in the morning continuing until evening and breezy in the afternoon.',\n",
       "         'Partly cloudy starting in the morning continuing until night and breezy starting in the afternoon continuing until evening.',\n",
       "         'Mostly cloudy until night and breezy starting in the evening.',\n",
       "         'Breezy in the morning and mostly cloudy starting in the morning.',\n",
       "         'Mostly cloudy until night and breezy starting in the morning continuing until evening.',\n",
       "         'Partly cloudy starting overnight continuing until evening and windy starting in the morning continuing until evening.',\n",
       "         'Breezy in the morning and partly cloudy starting in the evening continuing until night.',\n",
       "         'Partly cloudy overnight and breezy starting in the morning continuing until afternoon.',\n",
       "         'Light rain in the morning.', 'Light rain until morning.',\n",
       "         'Light rain in the morning and afternoon.',\n",
       "         'Partly cloudy starting in the morning continuing until night and breezy starting in the morning continuing until afternoon.',\n",
       "         'Breezy starting in the afternoon continuing until night and mostly cloudy starting in the evening.',\n",
       "         'Mostly cloudy throughout the day and breezy starting in the evening continuing until night.',\n",
       "         'Foggy starting in the afternoon and breezy starting in the afternoon continuing until evening.',\n",
       "         'Breezy and foggy until morning.',\n",
       "         'Mostly cloudy until night and breezy starting overnight continuing until morning.',\n",
       "         'Partly cloudy starting overnight continuing until night and breezy in the morning.',\n",
       "         'Partly cloudy starting overnight continuing until night and breezy in the afternoon.',\n",
       "         'Mostly cloudy starting in the morning and breezy starting in the afternoon continuing until evening.',\n",
       "         'Partly cloudy starting overnight and breezy starting in the evening.',\n",
       "         'Breezy overnight and overcast throughout the day.',\n",
       "         'Partly cloudy until night and breezy in the afternoon.',\n",
       "         'Mostly cloudy starting overnight and breezy starting in the evening.',\n",
       "         'Breezy overnight and partly cloudy until evening.',\n",
       "         'Mostly cloudy starting in the evening.',\n",
       "         'Mostly cloudy throughout the day and breezy starting in the afternoon.',\n",
       "         'Mostly cloudy throughout the day and breezy starting in the afternoon continuing until evening.',\n",
       "         'Mostly cloudy until night and windy starting in the morning continuing until afternoon.',\n",
       "         'Breezy and foggy starting in the evening.',\n",
       "         'Breezy overnight and partly cloudy throughout the day.',\n",
       "         'Overcast throughout the day and breezy starting in the evening.',\n",
       "         'Breezy until evening and foggy in the morning.',\n",
       "         'Breezy overnight and mostly cloudy throughout the day.',\n",
       "         'Partly cloudy until evening and breezy in the afternoon.',\n",
       "         'Partly cloudy starting in the morning and breezy starting in the morning continuing until afternoon.',\n",
       "         'Mostly cloudy until evening and breezy in the evening.',\n",
       "         'Windy in the afternoon.', 'Overcast until morning.',\n",
       "         'Mostly cloudy overnight.',\n",
       "         'Foggy starting in the morning continuing until evening and breezy in the evening.',\n",
       "         'Breezy starting overnight continuing until morning.',\n",
       "         'Breezy starting in the afternoon continuing until evening and foggy starting in the evening.',\n",
       "         'Mostly cloudy until night and breezy overnight.',\n",
       "         'Mostly cloudy starting in the morning and windy in the evening.',\n",
       "         'Partly cloudy throughout the day and windy starting in the morning continuing until afternoon.',\n",
       "         'Breezy until afternoon and overcast throughout the day.',\n",
       "         'Breezy in the morning and foggy in the evening.',\n",
       "         'Breezy starting in the afternoon continuing until evening and foggy in the evening.',\n",
       "         'Breezy starting in the morning continuing until night.',\n",
       "         'Breezy in the morning and mostly cloudy starting in the evening.',\n",
       "         'Mostly cloudy until evening and breezy in the afternoon.',\n",
       "         'Mostly cloudy until night and breezy starting in the afternoon continuing until evening.',\n",
       "         'Mostly cloudy until evening and breezy starting overnight continuing until morning.',\n",
       "         'Overcast throughout the day and breezy in the afternoon.',\n",
       "         'Overcast throughout the day and breezy starting in the morning continuing until evening.',\n",
       "         'Overcast throughout the day and breezy overnight.',\n",
       "         'Overcast starting in the afternoon.',\n",
       "         'Partly cloudy throughout the day and breezy in the afternoon.',\n",
       "         'Light rain starting overnight.',\n",
       "         'Drizzle starting in the evening.', 'Drizzle until morning.',\n",
       "         'Rain throughout the day.', 'Rain until morning.',\n",
       "         'Light rain overnight.', 'Rain until afternoon.'], dtype=object)],\n",
       " [96429, 27, 3, 214])"
      ]
     },
     "execution_count": 336,
     "metadata": {},
     "output_type": "execute_result"
    }
   ],
   "source": [
    "get_categories(data)"
   ]
  },
  {
   "cell_type": "code",
   "execution_count": 337,
   "id": "fa3fc18e",
   "metadata": {},
   "outputs": [],
   "source": [
    "data['Precip Type'] = data['Precip Type'].fillna(data['Precip Type'].mode)"
   ]
  },
  {
   "cell_type": "code",
   "execution_count": 338,
   "id": "d6c38921",
   "metadata": {},
   "outputs": [
    {
     "data": {
      "text/html": [
       "<div>\n",
       "<style scoped>\n",
       "    .dataframe tbody tr th:only-of-type {\n",
       "        vertical-align: middle;\n",
       "    }\n",
       "\n",
       "    .dataframe tbody tr th {\n",
       "        vertical-align: top;\n",
       "    }\n",
       "\n",
       "    .dataframe thead th {\n",
       "        text-align: right;\n",
       "    }\n",
       "</style>\n",
       "<table border=\"1\" class=\"dataframe\">\n",
       "  <thead>\n",
       "    <tr style=\"text-align: right;\">\n",
       "      <th></th>\n",
       "      <th>Formatted Date</th>\n",
       "      <th>Summary</th>\n",
       "      <th>Precip Type</th>\n",
       "      <th>Temperature (C)</th>\n",
       "      <th>Apparent Temperature (C)</th>\n",
       "      <th>Humidity</th>\n",
       "      <th>Wind Speed (km/h)</th>\n",
       "      <th>Wind Bearing (degrees)</th>\n",
       "      <th>Visibility (km)</th>\n",
       "      <th>Loud Cover</th>\n",
       "      <th>Pressure (millibars)</th>\n",
       "      <th>Daily Summary</th>\n",
       "    </tr>\n",
       "  </thead>\n",
       "  <tbody>\n",
       "    <tr>\n",
       "      <th>0</th>\n",
       "      <td>2006-04-01 00:00:00.000 +0200</td>\n",
       "      <td>Partly Cloudy</td>\n",
       "      <td>rain</td>\n",
       "      <td>9.472222</td>\n",
       "      <td>7.388889</td>\n",
       "      <td>0.89</td>\n",
       "      <td>14.1197</td>\n",
       "      <td>251.0</td>\n",
       "      <td>15.8263</td>\n",
       "      <td>0.0</td>\n",
       "      <td>1015.13</td>\n",
       "      <td>Partly cloudy throughout the day.</td>\n",
       "    </tr>\n",
       "    <tr>\n",
       "      <th>1</th>\n",
       "      <td>2006-04-01 01:00:00.000 +0200</td>\n",
       "      <td>Partly Cloudy</td>\n",
       "      <td>rain</td>\n",
       "      <td>9.355556</td>\n",
       "      <td>7.227778</td>\n",
       "      <td>0.86</td>\n",
       "      <td>14.2646</td>\n",
       "      <td>259.0</td>\n",
       "      <td>15.8263</td>\n",
       "      <td>0.0</td>\n",
       "      <td>1015.63</td>\n",
       "      <td>Partly cloudy throughout the day.</td>\n",
       "    </tr>\n",
       "    <tr>\n",
       "      <th>2</th>\n",
       "      <td>2006-04-01 02:00:00.000 +0200</td>\n",
       "      <td>Mostly Cloudy</td>\n",
       "      <td>rain</td>\n",
       "      <td>9.377778</td>\n",
       "      <td>9.377778</td>\n",
       "      <td>0.89</td>\n",
       "      <td>3.9284</td>\n",
       "      <td>204.0</td>\n",
       "      <td>14.9569</td>\n",
       "      <td>0.0</td>\n",
       "      <td>1015.94</td>\n",
       "      <td>Partly cloudy throughout the day.</td>\n",
       "    </tr>\n",
       "    <tr>\n",
       "      <th>3</th>\n",
       "      <td>2006-04-01 03:00:00.000 +0200</td>\n",
       "      <td>Partly Cloudy</td>\n",
       "      <td>rain</td>\n",
       "      <td>8.288889</td>\n",
       "      <td>5.944444</td>\n",
       "      <td>0.83</td>\n",
       "      <td>14.1036</td>\n",
       "      <td>269.0</td>\n",
       "      <td>15.8263</td>\n",
       "      <td>0.0</td>\n",
       "      <td>1016.41</td>\n",
       "      <td>Partly cloudy throughout the day.</td>\n",
       "    </tr>\n",
       "    <tr>\n",
       "      <th>4</th>\n",
       "      <td>2006-04-01 04:00:00.000 +0200</td>\n",
       "      <td>Mostly Cloudy</td>\n",
       "      <td>rain</td>\n",
       "      <td>8.755556</td>\n",
       "      <td>6.977778</td>\n",
       "      <td>0.83</td>\n",
       "      <td>11.0446</td>\n",
       "      <td>259.0</td>\n",
       "      <td>15.8263</td>\n",
       "      <td>0.0</td>\n",
       "      <td>1016.51</td>\n",
       "      <td>Partly cloudy throughout the day.</td>\n",
       "    </tr>\n",
       "    <tr>\n",
       "      <th>...</th>\n",
       "      <td>...</td>\n",
       "      <td>...</td>\n",
       "      <td>...</td>\n",
       "      <td>...</td>\n",
       "      <td>...</td>\n",
       "      <td>...</td>\n",
       "      <td>...</td>\n",
       "      <td>...</td>\n",
       "      <td>...</td>\n",
       "      <td>...</td>\n",
       "      <td>...</td>\n",
       "      <td>...</td>\n",
       "    </tr>\n",
       "    <tr>\n",
       "      <th>96448</th>\n",
       "      <td>2016-09-09 19:00:00.000 +0200</td>\n",
       "      <td>Partly Cloudy</td>\n",
       "      <td>rain</td>\n",
       "      <td>26.016667</td>\n",
       "      <td>26.016667</td>\n",
       "      <td>0.43</td>\n",
       "      <td>10.9963</td>\n",
       "      <td>31.0</td>\n",
       "      <td>16.1000</td>\n",
       "      <td>0.0</td>\n",
       "      <td>1014.36</td>\n",
       "      <td>Partly cloudy starting in the morning.</td>\n",
       "    </tr>\n",
       "    <tr>\n",
       "      <th>96449</th>\n",
       "      <td>2016-09-09 20:00:00.000 +0200</td>\n",
       "      <td>Partly Cloudy</td>\n",
       "      <td>rain</td>\n",
       "      <td>24.583333</td>\n",
       "      <td>24.583333</td>\n",
       "      <td>0.48</td>\n",
       "      <td>10.0947</td>\n",
       "      <td>20.0</td>\n",
       "      <td>15.5526</td>\n",
       "      <td>0.0</td>\n",
       "      <td>1015.16</td>\n",
       "      <td>Partly cloudy starting in the morning.</td>\n",
       "    </tr>\n",
       "    <tr>\n",
       "      <th>96450</th>\n",
       "      <td>2016-09-09 21:00:00.000 +0200</td>\n",
       "      <td>Partly Cloudy</td>\n",
       "      <td>rain</td>\n",
       "      <td>22.038889</td>\n",
       "      <td>22.038889</td>\n",
       "      <td>0.56</td>\n",
       "      <td>8.9838</td>\n",
       "      <td>30.0</td>\n",
       "      <td>16.1000</td>\n",
       "      <td>0.0</td>\n",
       "      <td>1015.66</td>\n",
       "      <td>Partly cloudy starting in the morning.</td>\n",
       "    </tr>\n",
       "    <tr>\n",
       "      <th>96451</th>\n",
       "      <td>2016-09-09 22:00:00.000 +0200</td>\n",
       "      <td>Partly Cloudy</td>\n",
       "      <td>rain</td>\n",
       "      <td>21.522222</td>\n",
       "      <td>21.522222</td>\n",
       "      <td>0.60</td>\n",
       "      <td>10.5294</td>\n",
       "      <td>20.0</td>\n",
       "      <td>16.1000</td>\n",
       "      <td>0.0</td>\n",
       "      <td>1015.95</td>\n",
       "      <td>Partly cloudy starting in the morning.</td>\n",
       "    </tr>\n",
       "    <tr>\n",
       "      <th>96452</th>\n",
       "      <td>2016-09-09 23:00:00.000 +0200</td>\n",
       "      <td>Partly Cloudy</td>\n",
       "      <td>rain</td>\n",
       "      <td>20.438889</td>\n",
       "      <td>20.438889</td>\n",
       "      <td>0.61</td>\n",
       "      <td>5.8765</td>\n",
       "      <td>39.0</td>\n",
       "      <td>15.5204</td>\n",
       "      <td>0.0</td>\n",
       "      <td>1016.16</td>\n",
       "      <td>Partly cloudy starting in the morning.</td>\n",
       "    </tr>\n",
       "  </tbody>\n",
       "</table>\n",
       "<p>96453 rows × 12 columns</p>\n",
       "</div>"
      ],
      "text/plain": [
       "                      Formatted Date        Summary Precip Type  \\\n",
       "0      2006-04-01 00:00:00.000 +0200  Partly Cloudy        rain   \n",
       "1      2006-04-01 01:00:00.000 +0200  Partly Cloudy        rain   \n",
       "2      2006-04-01 02:00:00.000 +0200  Mostly Cloudy        rain   \n",
       "3      2006-04-01 03:00:00.000 +0200  Partly Cloudy        rain   \n",
       "4      2006-04-01 04:00:00.000 +0200  Mostly Cloudy        rain   \n",
       "...                              ...            ...         ...   \n",
       "96448  2016-09-09 19:00:00.000 +0200  Partly Cloudy        rain   \n",
       "96449  2016-09-09 20:00:00.000 +0200  Partly Cloudy        rain   \n",
       "96450  2016-09-09 21:00:00.000 +0200  Partly Cloudy        rain   \n",
       "96451  2016-09-09 22:00:00.000 +0200  Partly Cloudy        rain   \n",
       "96452  2016-09-09 23:00:00.000 +0200  Partly Cloudy        rain   \n",
       "\n",
       "       Temperature (C)  Apparent Temperature (C)  Humidity  Wind Speed (km/h)  \\\n",
       "0             9.472222                  7.388889      0.89            14.1197   \n",
       "1             9.355556                  7.227778      0.86            14.2646   \n",
       "2             9.377778                  9.377778      0.89             3.9284   \n",
       "3             8.288889                  5.944444      0.83            14.1036   \n",
       "4             8.755556                  6.977778      0.83            11.0446   \n",
       "...                ...                       ...       ...                ...   \n",
       "96448        26.016667                 26.016667      0.43            10.9963   \n",
       "96449        24.583333                 24.583333      0.48            10.0947   \n",
       "96450        22.038889                 22.038889      0.56             8.9838   \n",
       "96451        21.522222                 21.522222      0.60            10.5294   \n",
       "96452        20.438889                 20.438889      0.61             5.8765   \n",
       "\n",
       "       Wind Bearing (degrees)  Visibility (km)  Loud Cover  \\\n",
       "0                       251.0          15.8263         0.0   \n",
       "1                       259.0          15.8263         0.0   \n",
       "2                       204.0          14.9569         0.0   \n",
       "3                       269.0          15.8263         0.0   \n",
       "4                       259.0          15.8263         0.0   \n",
       "...                       ...              ...         ...   \n",
       "96448                    31.0          16.1000         0.0   \n",
       "96449                    20.0          15.5526         0.0   \n",
       "96450                    30.0          16.1000         0.0   \n",
       "96451                    20.0          16.1000         0.0   \n",
       "96452                    39.0          15.5204         0.0   \n",
       "\n",
       "       Pressure (millibars)                           Daily Summary  \n",
       "0                   1015.13       Partly cloudy throughout the day.  \n",
       "1                   1015.63       Partly cloudy throughout the day.  \n",
       "2                   1015.94       Partly cloudy throughout the day.  \n",
       "3                   1016.41       Partly cloudy throughout the day.  \n",
       "4                   1016.51       Partly cloudy throughout the day.  \n",
       "...                     ...                                     ...  \n",
       "96448               1014.36  Partly cloudy starting in the morning.  \n",
       "96449               1015.16  Partly cloudy starting in the morning.  \n",
       "96450               1015.66  Partly cloudy starting in the morning.  \n",
       "96451               1015.95  Partly cloudy starting in the morning.  \n",
       "96452               1016.16  Partly cloudy starting in the morning.  \n",
       "\n",
       "[96453 rows x 12 columns]"
      ]
     },
     "execution_count": 338,
     "metadata": {},
     "output_type": "execute_result"
    }
   ],
   "source": [
    "data"
   ]
  },
  {
   "cell_type": "code",
   "execution_count": null,
   "id": "5574dec8",
   "metadata": {},
   "outputs": [],
   "source": []
  },
  {
   "cell_type": "code",
   "execution_count": 339,
   "id": "cb5c1460",
   "metadata": {},
   "outputs": [],
   "source": [
    "data.drop(['Formatted Date','Summary','Daily Summary'], axis = 1, inplace = True)"
   ]
  },
  {
   "cell_type": "code",
   "execution_count": 340,
   "id": "39142a49",
   "metadata": {},
   "outputs": [
    {
     "data": {
      "text/html": [
       "<div>\n",
       "<style scoped>\n",
       "    .dataframe tbody tr th:only-of-type {\n",
       "        vertical-align: middle;\n",
       "    }\n",
       "\n",
       "    .dataframe tbody tr th {\n",
       "        vertical-align: top;\n",
       "    }\n",
       "\n",
       "    .dataframe thead th {\n",
       "        text-align: right;\n",
       "    }\n",
       "</style>\n",
       "<table border=\"1\" class=\"dataframe\">\n",
       "  <thead>\n",
       "    <tr style=\"text-align: right;\">\n",
       "      <th></th>\n",
       "      <th>Precip Type</th>\n",
       "      <th>Temperature (C)</th>\n",
       "      <th>Apparent Temperature (C)</th>\n",
       "      <th>Humidity</th>\n",
       "      <th>Wind Speed (km/h)</th>\n",
       "      <th>Wind Bearing (degrees)</th>\n",
       "      <th>Visibility (km)</th>\n",
       "      <th>Loud Cover</th>\n",
       "      <th>Pressure (millibars)</th>\n",
       "    </tr>\n",
       "  </thead>\n",
       "  <tbody>\n",
       "    <tr>\n",
       "      <th>0</th>\n",
       "      <td>rain</td>\n",
       "      <td>9.472222</td>\n",
       "      <td>7.388889</td>\n",
       "      <td>0.89</td>\n",
       "      <td>14.1197</td>\n",
       "      <td>251.0</td>\n",
       "      <td>15.8263</td>\n",
       "      <td>0.0</td>\n",
       "      <td>1015.13</td>\n",
       "    </tr>\n",
       "    <tr>\n",
       "      <th>1</th>\n",
       "      <td>rain</td>\n",
       "      <td>9.355556</td>\n",
       "      <td>7.227778</td>\n",
       "      <td>0.86</td>\n",
       "      <td>14.2646</td>\n",
       "      <td>259.0</td>\n",
       "      <td>15.8263</td>\n",
       "      <td>0.0</td>\n",
       "      <td>1015.63</td>\n",
       "    </tr>\n",
       "    <tr>\n",
       "      <th>2</th>\n",
       "      <td>rain</td>\n",
       "      <td>9.377778</td>\n",
       "      <td>9.377778</td>\n",
       "      <td>0.89</td>\n",
       "      <td>3.9284</td>\n",
       "      <td>204.0</td>\n",
       "      <td>14.9569</td>\n",
       "      <td>0.0</td>\n",
       "      <td>1015.94</td>\n",
       "    </tr>\n",
       "    <tr>\n",
       "      <th>3</th>\n",
       "      <td>rain</td>\n",
       "      <td>8.288889</td>\n",
       "      <td>5.944444</td>\n",
       "      <td>0.83</td>\n",
       "      <td>14.1036</td>\n",
       "      <td>269.0</td>\n",
       "      <td>15.8263</td>\n",
       "      <td>0.0</td>\n",
       "      <td>1016.41</td>\n",
       "    </tr>\n",
       "    <tr>\n",
       "      <th>4</th>\n",
       "      <td>rain</td>\n",
       "      <td>8.755556</td>\n",
       "      <td>6.977778</td>\n",
       "      <td>0.83</td>\n",
       "      <td>11.0446</td>\n",
       "      <td>259.0</td>\n",
       "      <td>15.8263</td>\n",
       "      <td>0.0</td>\n",
       "      <td>1016.51</td>\n",
       "    </tr>\n",
       "    <tr>\n",
       "      <th>...</th>\n",
       "      <td>...</td>\n",
       "      <td>...</td>\n",
       "      <td>...</td>\n",
       "      <td>...</td>\n",
       "      <td>...</td>\n",
       "      <td>...</td>\n",
       "      <td>...</td>\n",
       "      <td>...</td>\n",
       "      <td>...</td>\n",
       "    </tr>\n",
       "    <tr>\n",
       "      <th>96448</th>\n",
       "      <td>rain</td>\n",
       "      <td>26.016667</td>\n",
       "      <td>26.016667</td>\n",
       "      <td>0.43</td>\n",
       "      <td>10.9963</td>\n",
       "      <td>31.0</td>\n",
       "      <td>16.1000</td>\n",
       "      <td>0.0</td>\n",
       "      <td>1014.36</td>\n",
       "    </tr>\n",
       "    <tr>\n",
       "      <th>96449</th>\n",
       "      <td>rain</td>\n",
       "      <td>24.583333</td>\n",
       "      <td>24.583333</td>\n",
       "      <td>0.48</td>\n",
       "      <td>10.0947</td>\n",
       "      <td>20.0</td>\n",
       "      <td>15.5526</td>\n",
       "      <td>0.0</td>\n",
       "      <td>1015.16</td>\n",
       "    </tr>\n",
       "    <tr>\n",
       "      <th>96450</th>\n",
       "      <td>rain</td>\n",
       "      <td>22.038889</td>\n",
       "      <td>22.038889</td>\n",
       "      <td>0.56</td>\n",
       "      <td>8.9838</td>\n",
       "      <td>30.0</td>\n",
       "      <td>16.1000</td>\n",
       "      <td>0.0</td>\n",
       "      <td>1015.66</td>\n",
       "    </tr>\n",
       "    <tr>\n",
       "      <th>96451</th>\n",
       "      <td>rain</td>\n",
       "      <td>21.522222</td>\n",
       "      <td>21.522222</td>\n",
       "      <td>0.60</td>\n",
       "      <td>10.5294</td>\n",
       "      <td>20.0</td>\n",
       "      <td>16.1000</td>\n",
       "      <td>0.0</td>\n",
       "      <td>1015.95</td>\n",
       "    </tr>\n",
       "    <tr>\n",
       "      <th>96452</th>\n",
       "      <td>rain</td>\n",
       "      <td>20.438889</td>\n",
       "      <td>20.438889</td>\n",
       "      <td>0.61</td>\n",
       "      <td>5.8765</td>\n",
       "      <td>39.0</td>\n",
       "      <td>15.5204</td>\n",
       "      <td>0.0</td>\n",
       "      <td>1016.16</td>\n",
       "    </tr>\n",
       "  </tbody>\n",
       "</table>\n",
       "<p>96453 rows × 9 columns</p>\n",
       "</div>"
      ],
      "text/plain": [
       "      Precip Type  Temperature (C)  Apparent Temperature (C)  Humidity  \\\n",
       "0            rain         9.472222                  7.388889      0.89   \n",
       "1            rain         9.355556                  7.227778      0.86   \n",
       "2            rain         9.377778                  9.377778      0.89   \n",
       "3            rain         8.288889                  5.944444      0.83   \n",
       "4            rain         8.755556                  6.977778      0.83   \n",
       "...           ...              ...                       ...       ...   \n",
       "96448        rain        26.016667                 26.016667      0.43   \n",
       "96449        rain        24.583333                 24.583333      0.48   \n",
       "96450        rain        22.038889                 22.038889      0.56   \n",
       "96451        rain        21.522222                 21.522222      0.60   \n",
       "96452        rain        20.438889                 20.438889      0.61   \n",
       "\n",
       "       Wind Speed (km/h)  Wind Bearing (degrees)  Visibility (km)  Loud Cover  \\\n",
       "0                14.1197                   251.0          15.8263         0.0   \n",
       "1                14.2646                   259.0          15.8263         0.0   \n",
       "2                 3.9284                   204.0          14.9569         0.0   \n",
       "3                14.1036                   269.0          15.8263         0.0   \n",
       "4                11.0446                   259.0          15.8263         0.0   \n",
       "...                  ...                     ...              ...         ...   \n",
       "96448            10.9963                    31.0          16.1000         0.0   \n",
       "96449            10.0947                    20.0          15.5526         0.0   \n",
       "96450             8.9838                    30.0          16.1000         0.0   \n",
       "96451            10.5294                    20.0          16.1000         0.0   \n",
       "96452             5.8765                    39.0          15.5204         0.0   \n",
       "\n",
       "       Pressure (millibars)  \n",
       "0                   1015.13  \n",
       "1                   1015.63  \n",
       "2                   1015.94  \n",
       "3                   1016.41  \n",
       "4                   1016.51  \n",
       "...                     ...  \n",
       "96448               1014.36  \n",
       "96449               1015.16  \n",
       "96450               1015.66  \n",
       "96451               1015.95  \n",
       "96452               1016.16  \n",
       "\n",
       "[96453 rows x 9 columns]"
      ]
     },
     "execution_count": 340,
     "metadata": {},
     "output_type": "execute_result"
    }
   ],
   "source": [
    "data"
   ]
  },
  {
   "cell_type": "markdown",
   "id": "9a5af541",
   "metadata": {},
   "source": [
    "#### We don't need date, summary, and daily summary for prediction. These informatio has nothing to do with prediction."
   ]
  },
  {
   "cell_type": "code",
   "execution_count": null,
   "id": "c397354b",
   "metadata": {},
   "outputs": [],
   "source": []
  },
  {
   "cell_type": "markdown",
   "id": "126cba7d",
   "metadata": {},
   "source": [
    "### handling categorical data"
   ]
  },
  {
   "cell_type": "code",
   "execution_count": 341,
   "id": "7ac4d341",
   "metadata": {},
   "outputs": [],
   "source": [
    "obj = data[['Precip Type']]\n",
    "other = data[['Temperature (C)', 'Apparent Temperature (C)', 'Humidity', 'Wind Speed (km/h)',\n",
    "              'Wind Bearing (degrees)', 'Visibility (km)', 'Loud Cover', 'Pressure (millibars)']]\n",
    "encode = pd.get_dummies(obj, drop_first = True)\n",
    "df = pd.concat([other, encode], axis = 1)"
   ]
  },
  {
   "cell_type": "code",
   "execution_count": 342,
   "id": "567f9c26",
   "metadata": {},
   "outputs": [
    {
     "data": {
      "text/html": [
       "<div>\n",
       "<style scoped>\n",
       "    .dataframe tbody tr th:only-of-type {\n",
       "        vertical-align: middle;\n",
       "    }\n",
       "\n",
       "    .dataframe tbody tr th {\n",
       "        vertical-align: top;\n",
       "    }\n",
       "\n",
       "    .dataframe thead th {\n",
       "        text-align: right;\n",
       "    }\n",
       "</style>\n",
       "<table border=\"1\" class=\"dataframe\">\n",
       "  <thead>\n",
       "    <tr style=\"text-align: right;\">\n",
       "      <th></th>\n",
       "      <th>Temperature (C)</th>\n",
       "      <th>Apparent Temperature (C)</th>\n",
       "      <th>Humidity</th>\n",
       "      <th>Wind Speed (km/h)</th>\n",
       "      <th>Wind Bearing (degrees)</th>\n",
       "      <th>Visibility (km)</th>\n",
       "      <th>Loud Cover</th>\n",
       "      <th>Pressure (millibars)</th>\n",
       "      <th>Precip Type_rain</th>\n",
       "      <th>Precip Type_snow</th>\n",
       "    </tr>\n",
       "  </thead>\n",
       "  <tbody>\n",
       "    <tr>\n",
       "      <th>0</th>\n",
       "      <td>9.472222</td>\n",
       "      <td>7.388889</td>\n",
       "      <td>0.89</td>\n",
       "      <td>14.1197</td>\n",
       "      <td>251.0</td>\n",
       "      <td>15.8263</td>\n",
       "      <td>0.0</td>\n",
       "      <td>1015.13</td>\n",
       "      <td>1</td>\n",
       "      <td>0</td>\n",
       "    </tr>\n",
       "    <tr>\n",
       "      <th>1</th>\n",
       "      <td>9.355556</td>\n",
       "      <td>7.227778</td>\n",
       "      <td>0.86</td>\n",
       "      <td>14.2646</td>\n",
       "      <td>259.0</td>\n",
       "      <td>15.8263</td>\n",
       "      <td>0.0</td>\n",
       "      <td>1015.63</td>\n",
       "      <td>1</td>\n",
       "      <td>0</td>\n",
       "    </tr>\n",
       "    <tr>\n",
       "      <th>2</th>\n",
       "      <td>9.377778</td>\n",
       "      <td>9.377778</td>\n",
       "      <td>0.89</td>\n",
       "      <td>3.9284</td>\n",
       "      <td>204.0</td>\n",
       "      <td>14.9569</td>\n",
       "      <td>0.0</td>\n",
       "      <td>1015.94</td>\n",
       "      <td>1</td>\n",
       "      <td>0</td>\n",
       "    </tr>\n",
       "    <tr>\n",
       "      <th>3</th>\n",
       "      <td>8.288889</td>\n",
       "      <td>5.944444</td>\n",
       "      <td>0.83</td>\n",
       "      <td>14.1036</td>\n",
       "      <td>269.0</td>\n",
       "      <td>15.8263</td>\n",
       "      <td>0.0</td>\n",
       "      <td>1016.41</td>\n",
       "      <td>1</td>\n",
       "      <td>0</td>\n",
       "    </tr>\n",
       "    <tr>\n",
       "      <th>4</th>\n",
       "      <td>8.755556</td>\n",
       "      <td>6.977778</td>\n",
       "      <td>0.83</td>\n",
       "      <td>11.0446</td>\n",
       "      <td>259.0</td>\n",
       "      <td>15.8263</td>\n",
       "      <td>0.0</td>\n",
       "      <td>1016.51</td>\n",
       "      <td>1</td>\n",
       "      <td>0</td>\n",
       "    </tr>\n",
       "    <tr>\n",
       "      <th>...</th>\n",
       "      <td>...</td>\n",
       "      <td>...</td>\n",
       "      <td>...</td>\n",
       "      <td>...</td>\n",
       "      <td>...</td>\n",
       "      <td>...</td>\n",
       "      <td>...</td>\n",
       "      <td>...</td>\n",
       "      <td>...</td>\n",
       "      <td>...</td>\n",
       "    </tr>\n",
       "    <tr>\n",
       "      <th>96448</th>\n",
       "      <td>26.016667</td>\n",
       "      <td>26.016667</td>\n",
       "      <td>0.43</td>\n",
       "      <td>10.9963</td>\n",
       "      <td>31.0</td>\n",
       "      <td>16.1000</td>\n",
       "      <td>0.0</td>\n",
       "      <td>1014.36</td>\n",
       "      <td>1</td>\n",
       "      <td>0</td>\n",
       "    </tr>\n",
       "    <tr>\n",
       "      <th>96449</th>\n",
       "      <td>24.583333</td>\n",
       "      <td>24.583333</td>\n",
       "      <td>0.48</td>\n",
       "      <td>10.0947</td>\n",
       "      <td>20.0</td>\n",
       "      <td>15.5526</td>\n",
       "      <td>0.0</td>\n",
       "      <td>1015.16</td>\n",
       "      <td>1</td>\n",
       "      <td>0</td>\n",
       "    </tr>\n",
       "    <tr>\n",
       "      <th>96450</th>\n",
       "      <td>22.038889</td>\n",
       "      <td>22.038889</td>\n",
       "      <td>0.56</td>\n",
       "      <td>8.9838</td>\n",
       "      <td>30.0</td>\n",
       "      <td>16.1000</td>\n",
       "      <td>0.0</td>\n",
       "      <td>1015.66</td>\n",
       "      <td>1</td>\n",
       "      <td>0</td>\n",
       "    </tr>\n",
       "    <tr>\n",
       "      <th>96451</th>\n",
       "      <td>21.522222</td>\n",
       "      <td>21.522222</td>\n",
       "      <td>0.60</td>\n",
       "      <td>10.5294</td>\n",
       "      <td>20.0</td>\n",
       "      <td>16.1000</td>\n",
       "      <td>0.0</td>\n",
       "      <td>1015.95</td>\n",
       "      <td>1</td>\n",
       "      <td>0</td>\n",
       "    </tr>\n",
       "    <tr>\n",
       "      <th>96452</th>\n",
       "      <td>20.438889</td>\n",
       "      <td>20.438889</td>\n",
       "      <td>0.61</td>\n",
       "      <td>5.8765</td>\n",
       "      <td>39.0</td>\n",
       "      <td>15.5204</td>\n",
       "      <td>0.0</td>\n",
       "      <td>1016.16</td>\n",
       "      <td>1</td>\n",
       "      <td>0</td>\n",
       "    </tr>\n",
       "  </tbody>\n",
       "</table>\n",
       "<p>96453 rows × 10 columns</p>\n",
       "</div>"
      ],
      "text/plain": [
       "       Temperature (C)  Apparent Temperature (C)  Humidity  Wind Speed (km/h)  \\\n",
       "0             9.472222                  7.388889      0.89            14.1197   \n",
       "1             9.355556                  7.227778      0.86            14.2646   \n",
       "2             9.377778                  9.377778      0.89             3.9284   \n",
       "3             8.288889                  5.944444      0.83            14.1036   \n",
       "4             8.755556                  6.977778      0.83            11.0446   \n",
       "...                ...                       ...       ...                ...   \n",
       "96448        26.016667                 26.016667      0.43            10.9963   \n",
       "96449        24.583333                 24.583333      0.48            10.0947   \n",
       "96450        22.038889                 22.038889      0.56             8.9838   \n",
       "96451        21.522222                 21.522222      0.60            10.5294   \n",
       "96452        20.438889                 20.438889      0.61             5.8765   \n",
       "\n",
       "       Wind Bearing (degrees)  Visibility (km)  Loud Cover  \\\n",
       "0                       251.0          15.8263         0.0   \n",
       "1                       259.0          15.8263         0.0   \n",
       "2                       204.0          14.9569         0.0   \n",
       "3                       269.0          15.8263         0.0   \n",
       "4                       259.0          15.8263         0.0   \n",
       "...                       ...              ...         ...   \n",
       "96448                    31.0          16.1000         0.0   \n",
       "96449                    20.0          15.5526         0.0   \n",
       "96450                    30.0          16.1000         0.0   \n",
       "96451                    20.0          16.1000         0.0   \n",
       "96452                    39.0          15.5204         0.0   \n",
       "\n",
       "       Pressure (millibars)  Precip Type_rain  Precip Type_snow  \n",
       "0                   1015.13                 1                 0  \n",
       "1                   1015.63                 1                 0  \n",
       "2                   1015.94                 1                 0  \n",
       "3                   1016.41                 1                 0  \n",
       "4                   1016.51                 1                 0  \n",
       "...                     ...               ...               ...  \n",
       "96448               1014.36                 1                 0  \n",
       "96449               1015.16                 1                 0  \n",
       "96450               1015.66                 1                 0  \n",
       "96451               1015.95                 1                 0  \n",
       "96452               1016.16                 1                 0  \n",
       "\n",
       "[96453 rows x 10 columns]"
      ]
     },
     "execution_count": 342,
     "metadata": {},
     "output_type": "execute_result"
    }
   ],
   "source": [
    "df"
   ]
  },
  {
   "cell_type": "code",
   "execution_count": 343,
   "id": "0c521f6d",
   "metadata": {
    "scrolled": true
   },
   "outputs": [
    {
     "name": "stdout",
     "output_type": "stream",
     "text": [
      "<class 'pandas.core.frame.DataFrame'>\n",
      "RangeIndex: 96453 entries, 0 to 96452\n",
      "Data columns (total 10 columns):\n",
      " #   Column                    Non-Null Count  Dtype  \n",
      "---  ------                    --------------  -----  \n",
      " 0   Temperature (C)           96453 non-null  float64\n",
      " 1   Apparent Temperature (C)  96453 non-null  float64\n",
      " 2   Humidity                  96453 non-null  float64\n",
      " 3   Wind Speed (km/h)         96453 non-null  float64\n",
      " 4   Wind Bearing (degrees)    96453 non-null  float64\n",
      " 5   Visibility (km)           96453 non-null  float64\n",
      " 6   Loud Cover                96453 non-null  float64\n",
      " 7   Pressure (millibars)      96453 non-null  float64\n",
      " 8   Precip Type_rain          96453 non-null  uint8  \n",
      " 9   Precip Type_snow          96453 non-null  uint8  \n",
      "dtypes: float64(8), uint8(2)\n",
      "memory usage: 6.1 MB\n"
     ]
    }
   ],
   "source": [
    "df.info()"
   ]
  },
  {
   "cell_type": "markdown",
   "id": "24be5dc0",
   "metadata": {},
   "source": [
    "## Feature scaling"
   ]
  },
  {
   "cell_type": "code",
   "execution_count": 344,
   "id": "59418e81",
   "metadata": {},
   "outputs": [
    {
     "data": {
      "text/html": [
       "<div>\n",
       "<style scoped>\n",
       "    .dataframe tbody tr th:only-of-type {\n",
       "        vertical-align: middle;\n",
       "    }\n",
       "\n",
       "    .dataframe tbody tr th {\n",
       "        vertical-align: top;\n",
       "    }\n",
       "\n",
       "    .dataframe thead th {\n",
       "        text-align: right;\n",
       "    }\n",
       "</style>\n",
       "<table border=\"1\" class=\"dataframe\">\n",
       "  <thead>\n",
       "    <tr style=\"text-align: right;\">\n",
       "      <th></th>\n",
       "      <th>Temperature (C)</th>\n",
       "      <th>Apparent Temperature (C)</th>\n",
       "      <th>Humidity</th>\n",
       "      <th>Wind Speed (km/h)</th>\n",
       "      <th>Wind Bearing (degrees)</th>\n",
       "      <th>Visibility (km)</th>\n",
       "      <th>Loud Cover</th>\n",
       "      <th>Pressure (millibars)</th>\n",
       "      <th>Precip Type_rain</th>\n",
       "      <th>Precip Type_snow</th>\n",
       "    </tr>\n",
       "  </thead>\n",
       "  <tbody>\n",
       "    <tr>\n",
       "      <th>count</th>\n",
       "      <td>96453.000000</td>\n",
       "      <td>96453.000000</td>\n",
       "      <td>96453.000000</td>\n",
       "      <td>96453.000000</td>\n",
       "      <td>96453.000000</td>\n",
       "      <td>96453.000000</td>\n",
       "      <td>96453.0</td>\n",
       "      <td>96453.000000</td>\n",
       "      <td>96453.000000</td>\n",
       "      <td>96453.000000</td>\n",
       "    </tr>\n",
       "    <tr>\n",
       "      <th>mean</th>\n",
       "      <td>11.932678</td>\n",
       "      <td>10.855029</td>\n",
       "      <td>0.734899</td>\n",
       "      <td>10.810640</td>\n",
       "      <td>187.509232</td>\n",
       "      <td>10.347325</td>\n",
       "      <td>0.0</td>\n",
       "      <td>1003.235956</td>\n",
       "      <td>0.883581</td>\n",
       "      <td>0.111059</td>\n",
       "    </tr>\n",
       "    <tr>\n",
       "      <th>std</th>\n",
       "      <td>9.551546</td>\n",
       "      <td>10.696847</td>\n",
       "      <td>0.195473</td>\n",
       "      <td>6.913571</td>\n",
       "      <td>107.383428</td>\n",
       "      <td>4.192123</td>\n",
       "      <td>0.0</td>\n",
       "      <td>116.969906</td>\n",
       "      <td>0.320729</td>\n",
       "      <td>0.314207</td>\n",
       "    </tr>\n",
       "    <tr>\n",
       "      <th>min</th>\n",
       "      <td>-21.822222</td>\n",
       "      <td>-27.716667</td>\n",
       "      <td>0.000000</td>\n",
       "      <td>0.000000</td>\n",
       "      <td>0.000000</td>\n",
       "      <td>0.000000</td>\n",
       "      <td>0.0</td>\n",
       "      <td>0.000000</td>\n",
       "      <td>0.000000</td>\n",
       "      <td>0.000000</td>\n",
       "    </tr>\n",
       "    <tr>\n",
       "      <th>25%</th>\n",
       "      <td>4.688889</td>\n",
       "      <td>2.311111</td>\n",
       "      <td>0.600000</td>\n",
       "      <td>5.828200</td>\n",
       "      <td>116.000000</td>\n",
       "      <td>8.339800</td>\n",
       "      <td>0.0</td>\n",
       "      <td>1011.900000</td>\n",
       "      <td>1.000000</td>\n",
       "      <td>0.000000</td>\n",
       "    </tr>\n",
       "    <tr>\n",
       "      <th>50%</th>\n",
       "      <td>12.000000</td>\n",
       "      <td>12.000000</td>\n",
       "      <td>0.780000</td>\n",
       "      <td>9.965900</td>\n",
       "      <td>180.000000</td>\n",
       "      <td>10.046400</td>\n",
       "      <td>0.0</td>\n",
       "      <td>1016.450000</td>\n",
       "      <td>1.000000</td>\n",
       "      <td>0.000000</td>\n",
       "    </tr>\n",
       "    <tr>\n",
       "      <th>75%</th>\n",
       "      <td>18.838889</td>\n",
       "      <td>18.838889</td>\n",
       "      <td>0.890000</td>\n",
       "      <td>14.135800</td>\n",
       "      <td>290.000000</td>\n",
       "      <td>14.812000</td>\n",
       "      <td>0.0</td>\n",
       "      <td>1021.090000</td>\n",
       "      <td>1.000000</td>\n",
       "      <td>0.000000</td>\n",
       "    </tr>\n",
       "    <tr>\n",
       "      <th>max</th>\n",
       "      <td>39.905556</td>\n",
       "      <td>39.344444</td>\n",
       "      <td>1.000000</td>\n",
       "      <td>63.852600</td>\n",
       "      <td>359.000000</td>\n",
       "      <td>16.100000</td>\n",
       "      <td>0.0</td>\n",
       "      <td>1046.380000</td>\n",
       "      <td>1.000000</td>\n",
       "      <td>1.000000</td>\n",
       "    </tr>\n",
       "  </tbody>\n",
       "</table>\n",
       "</div>"
      ],
      "text/plain": [
       "       Temperature (C)  Apparent Temperature (C)      Humidity  \\\n",
       "count     96453.000000              96453.000000  96453.000000   \n",
       "mean         11.932678                 10.855029      0.734899   \n",
       "std           9.551546                 10.696847      0.195473   \n",
       "min         -21.822222                -27.716667      0.000000   \n",
       "25%           4.688889                  2.311111      0.600000   \n",
       "50%          12.000000                 12.000000      0.780000   \n",
       "75%          18.838889                 18.838889      0.890000   \n",
       "max          39.905556                 39.344444      1.000000   \n",
       "\n",
       "       Wind Speed (km/h)  Wind Bearing (degrees)  Visibility (km)  Loud Cover  \\\n",
       "count       96453.000000            96453.000000     96453.000000     96453.0   \n",
       "mean           10.810640              187.509232        10.347325         0.0   \n",
       "std             6.913571              107.383428         4.192123         0.0   \n",
       "min             0.000000                0.000000         0.000000         0.0   \n",
       "25%             5.828200              116.000000         8.339800         0.0   \n",
       "50%             9.965900              180.000000        10.046400         0.0   \n",
       "75%            14.135800              290.000000        14.812000         0.0   \n",
       "max            63.852600              359.000000        16.100000         0.0   \n",
       "\n",
       "       Pressure (millibars)  Precip Type_rain  Precip Type_snow  \n",
       "count          96453.000000      96453.000000      96453.000000  \n",
       "mean            1003.235956          0.883581          0.111059  \n",
       "std              116.969906          0.320729          0.314207  \n",
       "min                0.000000          0.000000          0.000000  \n",
       "25%             1011.900000          1.000000          0.000000  \n",
       "50%             1016.450000          1.000000          0.000000  \n",
       "75%             1021.090000          1.000000          0.000000  \n",
       "max             1046.380000          1.000000          1.000000  "
      ]
     },
     "execution_count": 344,
     "metadata": {},
     "output_type": "execute_result"
    }
   ],
   "source": [
    "df.describe()"
   ]
  },
  {
   "cell_type": "markdown",
   "id": "14710db7",
   "metadata": {},
   "source": [
    "#### As we can see, Wind bearing and Pressure mean, std are very high tham Temperature. It will increase the error. Hence, scaling is necessary."
   ]
  },
  {
   "cell_type": "code",
   "execution_count": 345,
   "id": "82b72534",
   "metadata": {},
   "outputs": [
    {
     "data": {
      "text/plain": [
       "MinMaxScaler()"
      ]
     },
     "execution_count": 345,
     "metadata": {},
     "output_type": "execute_result"
    }
   ],
   "source": [
    "feature_scale = ['Wind Bearing (degrees)', 'Pressure (millibars)']\n",
    "from sklearn.preprocessing import MinMaxScaler\n",
    "scaler=MinMaxScaler()\n",
    "scaler.fit(df[feature_scale])"
   ]
  },
  {
   "cell_type": "code",
   "execution_count": 346,
   "id": "91cb8604",
   "metadata": {},
   "outputs": [
    {
     "data": {
      "text/plain": [
       "array([[0.69916435, 0.97013513],\n",
       "       [0.72144847, 0.97061297],\n",
       "       [0.56824513, 0.97090923],\n",
       "       ...,\n",
       "       [0.08356546, 0.97064164],\n",
       "       [0.05571031, 0.97091879],\n",
       "       [0.1086351 , 0.97111948]])"
      ]
     },
     "execution_count": 346,
     "metadata": {},
     "output_type": "execute_result"
    }
   ],
   "source": [
    "scaler.transform(df[feature_scale])"
   ]
  },
  {
   "cell_type": "code",
   "execution_count": 347,
   "id": "eaa10cb3",
   "metadata": {},
   "outputs": [],
   "source": [
    "df1 = df.drop(['Wind Bearing (degrees)', 'Pressure (millibars)'], axis = 1)"
   ]
  },
  {
   "cell_type": "code",
   "execution_count": 348,
   "id": "8fc4228e",
   "metadata": {},
   "outputs": [],
   "source": [
    "final_data = pd.concat([df1.reset_index(drop=True), pd.DataFrame(scaler.transform(df[feature_scale]), columns=feature_scale)], axis = 1)"
   ]
  },
  {
   "cell_type": "code",
   "execution_count": 349,
   "id": "e3c25a54",
   "metadata": {},
   "outputs": [
    {
     "data": {
      "text/html": [
       "<div>\n",
       "<style scoped>\n",
       "    .dataframe tbody tr th:only-of-type {\n",
       "        vertical-align: middle;\n",
       "    }\n",
       "\n",
       "    .dataframe tbody tr th {\n",
       "        vertical-align: top;\n",
       "    }\n",
       "\n",
       "    .dataframe thead th {\n",
       "        text-align: right;\n",
       "    }\n",
       "</style>\n",
       "<table border=\"1\" class=\"dataframe\">\n",
       "  <thead>\n",
       "    <tr style=\"text-align: right;\">\n",
       "      <th></th>\n",
       "      <th>Temperature (C)</th>\n",
       "      <th>Apparent Temperature (C)</th>\n",
       "      <th>Humidity</th>\n",
       "      <th>Wind Speed (km/h)</th>\n",
       "      <th>Visibility (km)</th>\n",
       "      <th>Loud Cover</th>\n",
       "      <th>Precip Type_rain</th>\n",
       "      <th>Precip Type_snow</th>\n",
       "      <th>Wind Bearing (degrees)</th>\n",
       "      <th>Pressure (millibars)</th>\n",
       "    </tr>\n",
       "  </thead>\n",
       "  <tbody>\n",
       "    <tr>\n",
       "      <th>0</th>\n",
       "      <td>9.472222</td>\n",
       "      <td>7.388889</td>\n",
       "      <td>0.89</td>\n",
       "      <td>14.1197</td>\n",
       "      <td>15.8263</td>\n",
       "      <td>0.0</td>\n",
       "      <td>1</td>\n",
       "      <td>0</td>\n",
       "      <td>0.699164</td>\n",
       "      <td>0.970135</td>\n",
       "    </tr>\n",
       "    <tr>\n",
       "      <th>1</th>\n",
       "      <td>9.355556</td>\n",
       "      <td>7.227778</td>\n",
       "      <td>0.86</td>\n",
       "      <td>14.2646</td>\n",
       "      <td>15.8263</td>\n",
       "      <td>0.0</td>\n",
       "      <td>1</td>\n",
       "      <td>0</td>\n",
       "      <td>0.721448</td>\n",
       "      <td>0.970613</td>\n",
       "    </tr>\n",
       "    <tr>\n",
       "      <th>2</th>\n",
       "      <td>9.377778</td>\n",
       "      <td>9.377778</td>\n",
       "      <td>0.89</td>\n",
       "      <td>3.9284</td>\n",
       "      <td>14.9569</td>\n",
       "      <td>0.0</td>\n",
       "      <td>1</td>\n",
       "      <td>0</td>\n",
       "      <td>0.568245</td>\n",
       "      <td>0.970909</td>\n",
       "    </tr>\n",
       "    <tr>\n",
       "      <th>3</th>\n",
       "      <td>8.288889</td>\n",
       "      <td>5.944444</td>\n",
       "      <td>0.83</td>\n",
       "      <td>14.1036</td>\n",
       "      <td>15.8263</td>\n",
       "      <td>0.0</td>\n",
       "      <td>1</td>\n",
       "      <td>0</td>\n",
       "      <td>0.749304</td>\n",
       "      <td>0.971358</td>\n",
       "    </tr>\n",
       "    <tr>\n",
       "      <th>4</th>\n",
       "      <td>8.755556</td>\n",
       "      <td>6.977778</td>\n",
       "      <td>0.83</td>\n",
       "      <td>11.0446</td>\n",
       "      <td>15.8263</td>\n",
       "      <td>0.0</td>\n",
       "      <td>1</td>\n",
       "      <td>0</td>\n",
       "      <td>0.721448</td>\n",
       "      <td>0.971454</td>\n",
       "    </tr>\n",
       "    <tr>\n",
       "      <th>...</th>\n",
       "      <td>...</td>\n",
       "      <td>...</td>\n",
       "      <td>...</td>\n",
       "      <td>...</td>\n",
       "      <td>...</td>\n",
       "      <td>...</td>\n",
       "      <td>...</td>\n",
       "      <td>...</td>\n",
       "      <td>...</td>\n",
       "      <td>...</td>\n",
       "    </tr>\n",
       "    <tr>\n",
       "      <th>96448</th>\n",
       "      <td>26.016667</td>\n",
       "      <td>26.016667</td>\n",
       "      <td>0.43</td>\n",
       "      <td>10.9963</td>\n",
       "      <td>16.1000</td>\n",
       "      <td>0.0</td>\n",
       "      <td>1</td>\n",
       "      <td>0</td>\n",
       "      <td>0.086351</td>\n",
       "      <td>0.969399</td>\n",
       "    </tr>\n",
       "    <tr>\n",
       "      <th>96449</th>\n",
       "      <td>24.583333</td>\n",
       "      <td>24.583333</td>\n",
       "      <td>0.48</td>\n",
       "      <td>10.0947</td>\n",
       "      <td>15.5526</td>\n",
       "      <td>0.0</td>\n",
       "      <td>1</td>\n",
       "      <td>0</td>\n",
       "      <td>0.055710</td>\n",
       "      <td>0.970164</td>\n",
       "    </tr>\n",
       "    <tr>\n",
       "      <th>96450</th>\n",
       "      <td>22.038889</td>\n",
       "      <td>22.038889</td>\n",
       "      <td>0.56</td>\n",
       "      <td>8.9838</td>\n",
       "      <td>16.1000</td>\n",
       "      <td>0.0</td>\n",
       "      <td>1</td>\n",
       "      <td>0</td>\n",
       "      <td>0.083565</td>\n",
       "      <td>0.970642</td>\n",
       "    </tr>\n",
       "    <tr>\n",
       "      <th>96451</th>\n",
       "      <td>21.522222</td>\n",
       "      <td>21.522222</td>\n",
       "      <td>0.60</td>\n",
       "      <td>10.5294</td>\n",
       "      <td>16.1000</td>\n",
       "      <td>0.0</td>\n",
       "      <td>1</td>\n",
       "      <td>0</td>\n",
       "      <td>0.055710</td>\n",
       "      <td>0.970919</td>\n",
       "    </tr>\n",
       "    <tr>\n",
       "      <th>96452</th>\n",
       "      <td>20.438889</td>\n",
       "      <td>20.438889</td>\n",
       "      <td>0.61</td>\n",
       "      <td>5.8765</td>\n",
       "      <td>15.5204</td>\n",
       "      <td>0.0</td>\n",
       "      <td>1</td>\n",
       "      <td>0</td>\n",
       "      <td>0.108635</td>\n",
       "      <td>0.971119</td>\n",
       "    </tr>\n",
       "  </tbody>\n",
       "</table>\n",
       "<p>96453 rows × 10 columns</p>\n",
       "</div>"
      ],
      "text/plain": [
       "       Temperature (C)  Apparent Temperature (C)  Humidity  Wind Speed (km/h)  \\\n",
       "0             9.472222                  7.388889      0.89            14.1197   \n",
       "1             9.355556                  7.227778      0.86            14.2646   \n",
       "2             9.377778                  9.377778      0.89             3.9284   \n",
       "3             8.288889                  5.944444      0.83            14.1036   \n",
       "4             8.755556                  6.977778      0.83            11.0446   \n",
       "...                ...                       ...       ...                ...   \n",
       "96448        26.016667                 26.016667      0.43            10.9963   \n",
       "96449        24.583333                 24.583333      0.48            10.0947   \n",
       "96450        22.038889                 22.038889      0.56             8.9838   \n",
       "96451        21.522222                 21.522222      0.60            10.5294   \n",
       "96452        20.438889                 20.438889      0.61             5.8765   \n",
       "\n",
       "       Visibility (km)  Loud Cover  Precip Type_rain  Precip Type_snow  \\\n",
       "0              15.8263         0.0                 1                 0   \n",
       "1              15.8263         0.0                 1                 0   \n",
       "2              14.9569         0.0                 1                 0   \n",
       "3              15.8263         0.0                 1                 0   \n",
       "4              15.8263         0.0                 1                 0   \n",
       "...                ...         ...               ...               ...   \n",
       "96448          16.1000         0.0                 1                 0   \n",
       "96449          15.5526         0.0                 1                 0   \n",
       "96450          16.1000         0.0                 1                 0   \n",
       "96451          16.1000         0.0                 1                 0   \n",
       "96452          15.5204         0.0                 1                 0   \n",
       "\n",
       "       Wind Bearing (degrees)  Pressure (millibars)  \n",
       "0                    0.699164              0.970135  \n",
       "1                    0.721448              0.970613  \n",
       "2                    0.568245              0.970909  \n",
       "3                    0.749304              0.971358  \n",
       "4                    0.721448              0.971454  \n",
       "...                       ...                   ...  \n",
       "96448                0.086351              0.969399  \n",
       "96449                0.055710              0.970164  \n",
       "96450                0.083565              0.970642  \n",
       "96451                0.055710              0.970919  \n",
       "96452                0.108635              0.971119  \n",
       "\n",
       "[96453 rows x 10 columns]"
      ]
     },
     "execution_count": 349,
     "metadata": {},
     "output_type": "execute_result"
    }
   ],
   "source": [
    "final_data"
   ]
  },
  {
   "cell_type": "code",
   "execution_count": null,
   "id": "0f1a6c2e",
   "metadata": {},
   "outputs": [],
   "source": []
  },
  {
   "cell_type": "markdown",
   "id": "ab9e8139",
   "metadata": {},
   "source": [
    "## Modeling"
   ]
  },
  {
   "cell_type": "markdown",
   "id": "a46f4638",
   "metadata": {},
   "source": [
    "### Linear regression"
   ]
  },
  {
   "cell_type": "code",
   "execution_count": 351,
   "id": "c36e1abf",
   "metadata": {},
   "outputs": [],
   "source": [
    "#separate dataset into train and test\n",
    "from sklearn.model_selection import train_test_split, KFold, cross_val_score\n",
    "from sklearn.linear_model import LinearRegression, Ridge, Lasso\n",
    "from sklearn.metrics import r2_score\n",
    "from sklearn import metrics"
   ]
  },
  {
   "cell_type": "code",
   "execution_count": 352,
   "id": "6cb2273d",
   "metadata": {},
   "outputs": [],
   "source": [
    "X = final_data.drop('Temperature (C)', axis = 1)\n",
    "y = final_data['Temperature (C)']"
   ]
  },
  {
   "cell_type": "code",
   "execution_count": 353,
   "id": "f81b71a9",
   "metadata": {},
   "outputs": [
    {
     "data": {
      "text/plain": [
       "((67517, 9), (28936, 9))"
      ]
     },
     "execution_count": 353,
     "metadata": {},
     "output_type": "execute_result"
    }
   ],
   "source": [
    "X_train, X_test, y_train, y_test = train_test_split(X, y, test_size=0.3, random_state = 0)\n",
    "\n",
    "X_train.shape, X_test.shape"
   ]
  },
  {
   "cell_type": "code",
   "execution_count": 354,
   "id": "0c817a0a",
   "metadata": {},
   "outputs": [],
   "source": [
    "regmodel = LinearRegression()"
   ]
  },
  {
   "cell_type": "code",
   "execution_count": 355,
   "id": "e72f0dcc",
   "metadata": {},
   "outputs": [],
   "source": [
    "kfold_validation=KFold(10)"
   ]
  },
  {
   "cell_type": "code",
   "execution_count": 356,
   "id": "96c009b6",
   "metadata": {},
   "outputs": [],
   "source": [
    "results=cross_val_score(regmodel, X_train, y_train, cv=kfold_validation)"
   ]
  },
  {
   "cell_type": "code",
   "execution_count": 357,
   "id": "d0740553",
   "metadata": {},
   "outputs": [
    {
     "data": {
      "text/plain": [
       "LinearRegression()"
      ]
     },
     "execution_count": 357,
     "metadata": {},
     "output_type": "execute_result"
    }
   ],
   "source": [
    "regmodel.fit(X_train, y_train)"
   ]
  },
  {
   "cell_type": "code",
   "execution_count": 358,
   "id": "e7c25771",
   "metadata": {},
   "outputs": [],
   "source": [
    "y_pred = regmodel.predict(X_test)"
   ]
  },
  {
   "cell_type": "code",
   "execution_count": 359,
   "id": "fccea23d",
   "metadata": {},
   "outputs": [],
   "source": [
    "r_squared = r2_score(y_test, y_pred)"
   ]
  },
  {
   "cell_type": "code",
   "execution_count": 389,
   "id": "f7299163",
   "metadata": {},
   "outputs": [
    {
     "data": {
      "text/plain": [
       "0.99"
      ]
     },
     "execution_count": 389,
     "metadata": {},
     "output_type": "execute_result"
    }
   ],
   "source": [
    "r_squared.round(2)"
   ]
  },
  {
   "cell_type": "code",
   "execution_count": 361,
   "id": "55439d8b",
   "metadata": {},
   "outputs": [
    {
     "data": {
      "text/plain": [
       "array([0.99025743, 0.99011504, 0.99022763, 0.99021398, 0.99032121,\n",
       "       0.98997316, 0.99031961, 0.9900007 , 0.98989541, 0.98976527])"
      ]
     },
     "execution_count": 361,
     "metadata": {},
     "output_type": "execute_result"
    }
   ],
   "source": [
    "results"
   ]
  },
  {
   "cell_type": "code",
   "execution_count": 362,
   "id": "3ca9f834",
   "metadata": {},
   "outputs": [
    {
     "data": {
      "text/plain": [
       "0.9901089443478108"
      ]
     },
     "execution_count": 362,
     "metadata": {},
     "output_type": "execute_result"
    }
   ],
   "source": [
    "np.mean(results)"
   ]
  },
  {
   "cell_type": "code",
   "execution_count": 391,
   "id": "4797e482",
   "metadata": {},
   "outputs": [
    {
     "name": "stdout",
     "output_type": "stream",
     "text": [
      "Root mean squared error 0.95\n",
      "Mean Absolute error:  0.74\n",
      "Mean squared error:  0.89\n"
     ]
    }
   ],
   "source": [
    "print('Root mean squared error', np.sqrt(metrics.mean_squared_error(y_test, y_pred)).round(2))\n",
    "print('Mean Absolute error: ', metrics.mean_absolute_error(y_test, y_pred).round(2))\n",
    "print('Mean squared error: ', metrics.mean_squared_error(y_test,y_pred).round(2))"
   ]
  },
  {
   "cell_type": "code",
   "execution_count": null,
   "id": "1bb0b224",
   "metadata": {},
   "outputs": [],
   "source": []
  },
  {
   "cell_type": "markdown",
   "id": "8d510cae",
   "metadata": {},
   "source": [
    "### Ridge regression"
   ]
  },
  {
   "cell_type": "code",
   "execution_count": 364,
   "id": "39f6f503",
   "metadata": {},
   "outputs": [],
   "source": [
    "rreg = Ridge(alpha=.5)"
   ]
  },
  {
   "cell_type": "code",
   "execution_count": 365,
   "id": "f2cd9784",
   "metadata": {},
   "outputs": [
    {
     "data": {
      "text/plain": [
       "Ridge(alpha=0.5)"
      ]
     },
     "execution_count": 365,
     "metadata": {},
     "output_type": "execute_result"
    }
   ],
   "source": [
    "rreg.fit(X_train, y_train)"
   ]
  },
  {
   "cell_type": "code",
   "execution_count": 366,
   "id": "1969365c",
   "metadata": {},
   "outputs": [],
   "source": [
    "y_pred2 = rreg.predict(X_test)"
   ]
  },
  {
   "cell_type": "code",
   "execution_count": 392,
   "id": "673da23d",
   "metadata": {},
   "outputs": [
    {
     "data": {
      "text/plain": [
       "1.0"
      ]
     },
     "execution_count": 392,
     "metadata": {},
     "output_type": "execute_result"
    }
   ],
   "source": [
    "r2_score(y_test, y_pred2).round(2)"
   ]
  },
  {
   "cell_type": "code",
   "execution_count": 368,
   "id": "001e379e",
   "metadata": {},
   "outputs": [],
   "source": [
    "ridge_result = cross_val_score(rreg, X_train, y_train, cv=kfold_validation)"
   ]
  },
  {
   "cell_type": "code",
   "execution_count": 369,
   "id": "34a11702",
   "metadata": {},
   "outputs": [
    {
     "data": {
      "text/plain": [
       "array([0.99025742, 0.99011504, 0.99022764, 0.99021398, 0.99032122,\n",
       "       0.98997317, 0.99031959, 0.9900007 , 0.98989545, 0.98976525])"
      ]
     },
     "execution_count": 369,
     "metadata": {},
     "output_type": "execute_result"
    }
   ],
   "source": [
    "ridge_result"
   ]
  },
  {
   "cell_type": "code",
   "execution_count": 393,
   "id": "e7a6c76a",
   "metadata": {},
   "outputs": [
    {
     "name": "stdout",
     "output_type": "stream",
     "text": [
      "Root mean squared error 0.09\n",
      "Mean Absolute error:  0.02\n",
      "Mean squared error:  0.01\n"
     ]
    }
   ],
   "source": [
    "print('Root mean squared error', np.sqrt(metrics.mean_squared_error(y_test, y_pred2)).round(2))\n",
    "print('Mean Absolute error: ', metrics.mean_absolute_error(y_test, y_pred2).round(2))\n",
    "print('Mean squared error: ', metrics.mean_squared_error(y_test,y_pred2).round(2))"
   ]
  },
  {
   "cell_type": "code",
   "execution_count": null,
   "id": "c67d89bb",
   "metadata": {},
   "outputs": [],
   "source": []
  },
  {
   "cell_type": "markdown",
   "id": "535df05b",
   "metadata": {},
   "source": [
    "### Lasso regression"
   ]
  },
  {
   "cell_type": "code",
   "execution_count": 371,
   "id": "69c238fd",
   "metadata": {},
   "outputs": [],
   "source": [
    "lreg = Lasso(alpha=.5)"
   ]
  },
  {
   "cell_type": "code",
   "execution_count": 372,
   "id": "45cbaa9d",
   "metadata": {},
   "outputs": [
    {
     "data": {
      "text/plain": [
       "Lasso(alpha=0.5)"
      ]
     },
     "execution_count": 372,
     "metadata": {},
     "output_type": "execute_result"
    }
   ],
   "source": [
    "lreg.fit(X_train, y_train)"
   ]
  },
  {
   "cell_type": "code",
   "execution_count": 373,
   "id": "48eae600",
   "metadata": {},
   "outputs": [],
   "source": [
    "y_pred3 = lreg.predict(X_test)"
   ]
  },
  {
   "cell_type": "code",
   "execution_count": 395,
   "id": "4b6b3d7d",
   "metadata": {},
   "outputs": [
    {
     "data": {
      "text/plain": [
       "0.99"
      ]
     },
     "execution_count": 395,
     "metadata": {},
     "output_type": "execute_result"
    }
   ],
   "source": [
    "r2_score(y_test, y_pred3).round(2)"
   ]
  },
  {
   "cell_type": "code",
   "execution_count": 375,
   "id": "9cda5623",
   "metadata": {},
   "outputs": [],
   "source": [
    "Lasso_result = cross_val_score(lreg, X_train, y_train, cv=kfold_validation)"
   ]
  },
  {
   "cell_type": "code",
   "execution_count": 376,
   "id": "ee4fbd72",
   "metadata": {},
   "outputs": [
    {
     "data": {
      "text/plain": [
       "array([0.9896091 , 0.98948867, 0.98960297, 0.98960541, 0.98962801,\n",
       "       0.98938578, 0.98963024, 0.98935833, 0.98933097, 0.98910124])"
      ]
     },
     "execution_count": 376,
     "metadata": {},
     "output_type": "execute_result"
    }
   ],
   "source": [
    "Lasso_result"
   ]
  },
  {
   "cell_type": "code",
   "execution_count": 394,
   "id": "ea2c2a95",
   "metadata": {},
   "outputs": [
    {
     "name": "stdout",
     "output_type": "stream",
     "text": [
      "Root mean squared error 0.98\n",
      "Mean Absolute error:  0.76\n",
      "Mean squared error:  0.96\n"
     ]
    }
   ],
   "source": [
    "print('Root mean squared error', np.sqrt(metrics.mean_squared_error(y_test, y_pred3)).round(2))\n",
    "print('Mean Absolute error: ', metrics.mean_absolute_error(y_test, y_pred3).round(2))\n",
    "print('Mean squared error: ', metrics.mean_squared_error(y_test,y_pred3).round(2))"
   ]
  },
  {
   "cell_type": "code",
   "execution_count": null,
   "id": "fd874c55",
   "metadata": {},
   "outputs": [],
   "source": []
  },
  {
   "cell_type": "markdown",
   "id": "ab6f5beb",
   "metadata": {},
   "source": [
    "### Decision tree regression"
   ]
  },
  {
   "cell_type": "code",
   "execution_count": 378,
   "id": "782503ee",
   "metadata": {},
   "outputs": [],
   "source": [
    "from sklearn.tree import DecisionTreeRegressor"
   ]
  },
  {
   "cell_type": "code",
   "execution_count": 379,
   "id": "87816572",
   "metadata": {},
   "outputs": [],
   "source": [
    "dregr = DecisionTreeRegressor()"
   ]
  },
  {
   "cell_type": "code",
   "execution_count": 380,
   "id": "2fbdb331",
   "metadata": {},
   "outputs": [],
   "source": [
    "dec_result = cross_val_score(dregr, X_train, y_train, cv=kfold_validation)"
   ]
  },
  {
   "cell_type": "code",
   "execution_count": 381,
   "id": "5b947fb7",
   "metadata": {},
   "outputs": [
    {
     "data": {
      "text/plain": [
       "DecisionTreeRegressor()"
      ]
     },
     "execution_count": 381,
     "metadata": {},
     "output_type": "execute_result"
    }
   ],
   "source": [
    "dregr.fit(X_train, y_train)"
   ]
  },
  {
   "cell_type": "code",
   "execution_count": 382,
   "id": "3cc7f9c5",
   "metadata": {},
   "outputs": [],
   "source": [
    "y_pred2 = dregr.predict(X_test)"
   ]
  },
  {
   "cell_type": "code",
   "execution_count": 383,
   "id": "6c12c41e",
   "metadata": {},
   "outputs": [
    {
     "data": {
      "text/plain": [
       "0.9999145599778249"
      ]
     },
     "execution_count": 383,
     "metadata": {},
     "output_type": "execute_result"
    }
   ],
   "source": [
    "r2_score(y_test, y_pred2)"
   ]
  },
  {
   "cell_type": "code",
   "execution_count": 384,
   "id": "67d425b2",
   "metadata": {},
   "outputs": [
    {
     "data": {
      "text/plain": [
       "array([0.99988749, 0.99994516, 0.99992005, 0.99983487, 0.99992532,\n",
       "       0.99995146, 0.99993032, 0.9999319 , 0.99988551, 0.99993693])"
      ]
     },
     "execution_count": 384,
     "metadata": {},
     "output_type": "execute_result"
    }
   ],
   "source": [
    "dec_result"
   ]
  },
  {
   "cell_type": "code",
   "execution_count": 385,
   "id": "8b3bdcf3",
   "metadata": {},
   "outputs": [
    {
     "name": "stdout",
     "output_type": "stream",
     "text": [
      "Root mean squared error 0.08824315151253367\n",
      "Mean Absolute error:  0.023882399471633453\n",
      "Mean squared error:  0.007786853788863975\n"
     ]
    }
   ],
   "source": [
    "print('Root mean squared error', np.sqrt(metrics.mean_squared_error(y_test, y_pred2)))\n",
    "print('Mean Absolute error: ', metrics.mean_absolute_error(y_test, y_pred2))\n",
    "print('Mean squared error: ', metrics.mean_squared_error(y_test,y_pred2))"
   ]
  },
  {
   "cell_type": "code",
   "execution_count": null,
   "id": "40c7a2f9",
   "metadata": {},
   "outputs": [],
   "source": []
  }
 ],
 "metadata": {
  "kernelspec": {
   "display_name": "Python 3 (ipykernel)",
   "language": "python",
   "name": "python3"
  },
  "language_info": {
   "codemirror_mode": {
    "name": "ipython",
    "version": 3
   },
   "file_extension": ".py",
   "mimetype": "text/x-python",
   "name": "python",
   "nbconvert_exporter": "python",
   "pygments_lexer": "ipython3",
   "version": "3.9.7"
  }
 },
 "nbformat": 4,
 "nbformat_minor": 5
}
