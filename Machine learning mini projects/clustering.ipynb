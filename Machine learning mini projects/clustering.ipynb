{
  "nbformat": 4,
  "nbformat_minor": 0,
  "metadata": {
    "colab": {
      "name": "Assignment.ipynb",
      "provenance": [],
      "collapsed_sections": []
    },
    "kernelspec": {
      "name": "python3",
      "display_name": "Python 3"
    },
    "language_info": {
      "name": "python"
    }
  },
  "cells": [
    {
      "cell_type": "code",
      "execution_count": 8,
      "metadata": {
        "id": "cOu3oW_QuDFm"
      },
      "outputs": [],
      "source": [
        "import numpy as np\n",
        "import pandas as pd\n",
        "from matplotlib import pyplot as plt\n",
        "from sklearn.datasets import make_blobs\n",
        "from sklearn.cluster import KMeans"
      ]
    },
    {
      "cell_type": "code",
      "source": [
        "features, true_labels = make_blobs(n_samples=200, centers=6, cluster_std=2.75, random_state=42)"
      ],
      "metadata": {
        "id": "WXSPw2J98qtp"
      },
      "execution_count": 9,
      "outputs": []
    },
    {
      "cell_type": "code",
      "source": [
        "true_labels"
      ],
      "metadata": {
        "colab": {
          "base_uri": "https://localhost:8080/"
        },
        "id": "U_o7JwJG8q4w",
        "outputId": "9e8c31e2-2c8c-43f4-cbc9-4ab6e858bd6b"
      },
      "execution_count": 10,
      "outputs": [
        {
          "output_type": "execute_result",
          "data": {
            "text/plain": [
              "array([3, 1, 5, 4, 2, 4, 5, 5, 2, 1, 2, 3, 3, 3, 3, 5, 0, 1, 5, 3, 4, 4,\n",
              "       2, 0, 4, 0, 0, 1, 0, 2, 3, 3, 4, 3, 0, 4, 3, 1, 4, 1, 2, 5, 1, 2,\n",
              "       3, 4, 4, 5, 5, 5, 5, 1, 4, 0, 5, 1, 0, 0, 1, 3, 1, 4, 3, 1, 4, 5,\n",
              "       5, 3, 1, 0, 4, 0, 0, 5, 0, 4, 1, 2, 4, 0, 4, 0, 0, 2, 2, 4, 4, 4,\n",
              "       5, 1, 2, 4, 3, 1, 1, 2, 1, 2, 5, 0, 2, 0, 1, 3, 2, 1, 4, 1, 2, 5,\n",
              "       3, 3, 0, 2, 3, 0, 5, 1, 5, 4, 0, 0, 0, 4, 3, 1, 5, 5, 2, 2, 0, 3,\n",
              "       3, 4, 0, 5, 5, 2, 3, 3, 1, 3, 1, 0, 5, 2, 2, 0, 2, 5, 4, 3, 0, 5,\n",
              "       2, 5, 3, 4, 5, 1, 2, 2, 0, 2, 2, 5, 1, 4, 3, 2, 1, 4, 2, 4, 1, 3,\n",
              "       4, 1, 3, 1, 0, 1, 3, 0, 3, 5, 4, 4, 1, 2, 2, 2, 0, 0, 3, 5, 5, 0,\n",
              "       5, 1])"
            ]
          },
          "metadata": {},
          "execution_count": 10
        }
      ]
    },
    {
      "cell_type": "code",
      "source": [
        "features"
      ],
      "metadata": {
        "colab": {
          "base_uri": "https://localhost:8080/"
        },
        "id": "XARhBYN08rAQ",
        "outputId": "e8560564-8363-43e0-c755-7c90a6f8ef6d"
      },
      "execution_count": 11,
      "outputs": [
        {
          "output_type": "execute_result",
          "data": {
            "text/plain": [
              "array([[-12.13914288,   6.40364452],\n",
              "       [  4.87925827,   1.15089947],\n",
              "       [-13.57054205,   5.52767166],\n",
              "       [  4.29219519,   6.39860305],\n",
              "       [ -5.44428789,  -6.06340174],\n",
              "       [  2.79502787,   2.44902788],\n",
              "       [-11.56403172,   8.81121738],\n",
              "       [ -8.97205579,   9.43282615],\n",
              "       [ -7.49414985,  -4.91660823],\n",
              "       [  8.49756319,  -1.88192074],\n",
              "       [ -9.56000178,  -4.71562693],\n",
              "       [ -2.94248151,   9.06680023],\n",
              "       [ -7.26837885,  10.44632843],\n",
              "       [ -8.6615577 ,   4.35972478],\n",
              "       [-11.38738655,   7.15982819],\n",
              "       [ -9.64060469,   6.64124129],\n",
              "       [ -1.51469855,   7.2402068 ],\n",
              "       [  0.21929994,   2.48091279],\n",
              "       [ -8.70083407,   7.12331195],\n",
              "       [ -9.53289017,   3.89211917],\n",
              "       [  2.21425597,   3.10183916],\n",
              "       [  0.40154715,   6.49785732],\n",
              "       [-10.15571181,  -5.07458717],\n",
              "       [ -4.00625012,   9.31932325],\n",
              "       [ -0.22780664,   9.91551656],\n",
              "       [  0.32605106,  11.57530646],\n",
              "       [ -4.16095402,   8.21212832],\n",
              "       [  4.54442147,  -1.24069492],\n",
              "       [ -6.16170926,   9.55565453],\n",
              "       [ -5.46324605,   3.71490201],\n",
              "       [-17.75181294,   4.5064569 ],\n",
              "       [ -4.34919667,   3.39063413],\n",
              "       [  1.60489122,   5.77932387],\n",
              "       [ -6.95111223,   2.88855427],\n",
              "       [ -2.60771923,  13.31705618],\n",
              "       [  4.25767106,   5.89293087],\n",
              "       [-13.01659516,   5.99187922],\n",
              "       [  0.3755544 ,   2.16171786],\n",
              "       [  3.00409282,   2.25595017],\n",
              "       [  4.03578114,   2.95522926],\n",
              "       [ -5.15904198,  -9.23729287],\n",
              "       [ -5.59766519,  12.03619181],\n",
              "       [  7.15723466,   2.87723524],\n",
              "       [ -9.82458156,  -5.55331045],\n",
              "       [ -2.4730167 ,   2.18854364],\n",
              "       [  2.33447293,   5.98231091],\n",
              "       [  2.28903914,   5.79813338],\n",
              "       [-15.42902336,   7.95237073],\n",
              "       [-10.82599016,  11.11103436],\n",
              "       [-13.97298618,   7.74991573],\n",
              "       [-10.88366545,  10.03633437],\n",
              "       [  3.18303828,   3.38465513],\n",
              "       [  1.96482085,   4.48410186],\n",
              "       [ -5.67442996,  10.04745568],\n",
              "       [ -9.57388994,   9.52739368],\n",
              "       [  1.91590394,   0.41585093],\n",
              "       [ -3.77595424,  11.92137225],\n",
              "       [ -2.54631499,   6.10558107],\n",
              "       [  2.48593228,   1.08750051],\n",
              "       [-10.0484501 ,   7.6830595 ],\n",
              "       [  3.56158142,  -2.05149642],\n",
              "       [ -0.24781706,   3.27764049],\n",
              "       [-10.65824053,   9.66771459],\n",
              "       [  5.26539366,   5.56781226],\n",
              "       [  4.07735765,   5.83996979],\n",
              "       [ -9.88740052,  10.50290428],\n",
              "       [-11.67592493,   9.81177996],\n",
              "       [-10.14442736,   5.52686753],\n",
              "       [  2.11146219,   6.2354893 ],\n",
              "       [ -1.93482274,   3.62519329],\n",
              "       [ -0.23880585,   4.83159139],\n",
              "       [ -2.8272304 ,   8.18625097],\n",
              "       [ -4.37073312,  10.69639592],\n",
              "       [ -3.66705836,   7.28799125],\n",
              "       [  1.52133649,   8.3934013 ],\n",
              "       [ -0.25743605,   2.6209537 ],\n",
              "       [  6.25373584,   7.99692265],\n",
              "       [ -7.09165689,  -5.94194166],\n",
              "       [  3.73862973,   5.88940171],\n",
              "       [ -3.78359628,   7.73352931],\n",
              "       [  7.88814202,  -1.20678989],\n",
              "       [ -5.5516188 ,   5.72471791],\n",
              "       [ -0.24719911,   5.65696609],\n",
              "       [ -5.89571195,  -5.33795215],\n",
              "       [-10.66821795,  -9.45912845],\n",
              "       [ -0.74424756,   0.82243287],\n",
              "       [  5.20710514,   6.33852396],\n",
              "       [  2.5697144 ,   2.51085514],\n",
              "       [-14.29943007,  13.12134607],\n",
              "       [  4.89222097,  -3.49264483],\n",
              "       [ -5.46328021,  -5.46719823],\n",
              "       [  3.89767091,   3.30821798],\n",
              "       [-11.01775979,   7.0079977 ],\n",
              "       [  3.69741392,  -0.23309281],\n",
              "       [  1.71854362,   3.27554887],\n",
              "       [ -6.40337965,  -5.8204868 ],\n",
              "       [  7.78264158,   4.04098552],\n",
              "       [ -7.60743348,   0.60035561],\n",
              "       [ -9.63922124,   8.60438579],\n",
              "       [ -1.59822319,  11.69703523],\n",
              "       [ -8.74969518,  -6.24141193],\n",
              "       [ -3.82692678,   8.50372394],\n",
              "       [  5.4542096 ,   2.69107168],\n",
              "       [-10.13614039,  10.31813706],\n",
              "       [ -3.69348935,  -9.13698597],\n",
              "       [  4.19634313,   3.08430954],\n",
              "       [  5.5358787 ,   2.53463024],\n",
              "       [  4.65394084,   1.32805507],\n",
              "       [ -5.57822372,  -7.0803891 ],\n",
              "       [ -9.31970084,   7.27242014],\n",
              "       [-10.9635971 ,   6.67227175],\n",
              "       [ -3.9833286 ,   8.43722262],\n",
              "       [ -3.80025218,  10.50632625],\n",
              "       [-10.28124165, -10.51136528],\n",
              "       [ -5.3543221 ,   5.37743189],\n",
              "       [ -1.61796671,   7.95530986],\n",
              "       [ -8.73331431,  13.45542664],\n",
              "       [  4.9068421 ,   4.63694341],\n",
              "       [-12.05895046,  10.75097476],\n",
              "       [  4.7038795 ,   3.75704376],\n",
              "       [ -5.2944832 ,   9.87846629],\n",
              "       [ -1.56424733,   4.1659257 ],\n",
              "       [ -6.5751331 ,   7.03471456],\n",
              "       [  2.9137577 ,   3.80355816],\n",
              "       [-12.30575863,   9.84764327],\n",
              "       [  4.91392009,   0.58861164],\n",
              "       [ -8.91465204,   8.00410331],\n",
              "       [ -6.34484978,   8.107964  ],\n",
              "       [ -6.29086939, -10.30589123],\n",
              "       [ -6.71955322, -10.02327791],\n",
              "       [ -4.81704581,   8.16395209],\n",
              "       [-11.53747655,   8.59430747],\n",
              "       [ -9.70531818,   9.41068827],\n",
              "       [  1.42367693,   7.1830879 ],\n",
              "       [ -2.32349506,   5.09622862],\n",
              "       [ -7.18942836,   9.90238756],\n",
              "       [ -6.97464456,   7.81171199],\n",
              "       [ -4.61896175,  -1.66392889],\n",
              "       [-10.80541296,   9.19241673],\n",
              "       [-14.40746987,   7.83627228],\n",
              "       [  2.70923283,   1.07209878],\n",
              "       [ -7.61782433,   9.45376656],\n",
              "       [  4.80551191,   8.74708549],\n",
              "       [ -5.00626383,   5.13045095],\n",
              "       [ -9.90329469,  12.8021919 ],\n",
              "       [ -6.16494951,  -4.7300967 ],\n",
              "       [ -6.11872749,  -4.60535566],\n",
              "       [ -0.47841453,   9.4855489 ],\n",
              "       [ -6.07367789,  -8.84457599],\n",
              "       [ -8.1601072 ,  13.61322905],\n",
              "       [  6.38384648,   0.75745893],\n",
              "       [ -4.87482621,   3.374902  ],\n",
              "       [ -0.27475161,  12.74394621],\n",
              "       [ -7.69041414,   8.29484075],\n",
              "       [ -7.55444451,  -8.95288405],\n",
              "       [-12.52426629,   9.00665346],\n",
              "       [-10.17307751,   7.5486768 ],\n",
              "       [  2.23076277,   2.29925685],\n",
              "       [-11.89754518,   7.74986727],\n",
              "       [ -0.63674201,   1.90025653],\n",
              "       [ -9.20830992, -11.04593946],\n",
              "       [ -4.23034284,  -5.74496204],\n",
              "       [ -2.70722546,  11.7740016 ],\n",
              "       [ -9.32579187,  -9.12358788],\n",
              "       [ -3.90123627,  -3.98215395],\n",
              "       [ -3.56635205,   7.17537676],\n",
              "       [  8.70408746,   0.54792658],\n",
              "       [  3.15786173,   2.61120904],\n",
              "       [ -6.21482291,   9.11484886],\n",
              "       [ -1.74874729,  -5.57706906],\n",
              "       [  6.87705118,  -1.41170719],\n",
              "       [  1.44996405,   2.80569899],\n",
              "       [ -6.84387199,  -2.88289088],\n",
              "       [  3.52681803,   3.60542176],\n",
              "       [  0.7476093 ,   0.81639505],\n",
              "       [-10.84683599,   7.91878404],\n",
              "       [  4.49619989,   5.00652524],\n",
              "       [  6.81521669,  -0.52764582],\n",
              "       [ -5.63962744,   7.35166383],\n",
              "       [  4.11088618,   2.80242488],\n",
              "       [ -4.16389081,  14.10805114],\n",
              "       [  9.82689006,   2.45325867],\n",
              "       [ -3.00239821,  10.16280238],\n",
              "       [ -1.84380138,   3.75276546],\n",
              "       [ -7.44961274,   9.7043497 ],\n",
              "       [ -9.52090713,  10.76769234],\n",
              "       [  1.98862161,   1.69400203],\n",
              "       [  5.61236695,   4.21921212],\n",
              "       [  2.41652143,   0.59333781],\n",
              "       [ -6.19077185,  -5.92737702],\n",
              "       [ -9.31023514,  -6.45736555],\n",
              "       [ -8.10754331,  -4.52501291],\n",
              "       [ -9.71349666,  11.27451802],\n",
              "       [ -1.51535971,  13.24388669],\n",
              "       [ -8.7130052 ,   5.53162196],\n",
              "       [-13.21895143,  14.43470865],\n",
              "       [ -8.64848118,  14.55766685],\n",
              "       [ -7.25272166,   7.46799542],\n",
              "       [ -7.22974615,   8.95836609],\n",
              "       [  5.34814241,   1.76844342]])"
            ]
          },
          "metadata": {},
          "execution_count": 11
        }
      ]
    },
    {
      "cell_type": "code",
      "source": [
        "wcss = []\n",
        "for i in range(1, 12):\n",
        "        kmeans = KMeans(n_clusters=i, init='k-means++', max_iter=300, n_init=10, random_state=0)\n",
        "        kmeans.fit(features) \n",
        "        wcss.append(kmeans.inertia_)"
      ],
      "metadata": {
        "id": "5-yQT01X8rHx"
      },
      "execution_count": 12,
      "outputs": []
    },
    {
      "cell_type": "code",
      "source": [
        "plt.plot(range(1,12), wcss)\n",
        "plt.xlabel('Number of clusters')\n",
        "plt.ylabel('WCSS') \n",
        "plt.show()"
      ],
      "metadata": {
        "colab": {
          "base_uri": "https://localhost:8080/",
          "height": 279
        },
        "id": "6TJuRNrr8rPB",
        "outputId": "55a416b9-f601-40e2-db79-8e6ef256f30c"
      },
      "execution_count": 13,
      "outputs": [
        {
          "output_type": "display_data",
          "data": {
            "text/plain": [
              "<Figure size 432x288 with 1 Axes>"
            ],
            "image/png": "[encoded data removed]"
          },
          "metadata": {
            "needs_background": "light"
          }
        }
      ]
    },
    {
      "cell_type": "code",
      "source": [
        "kmeans = KMeans(n_clusters=6, init='k-means++', max_iter=300, n_init=10,random_state=0)"
      ],
      "metadata": {
        "id": "fFfEUlP38rWD"
      },
      "execution_count": 14,
      "outputs": []
    },
    {
      "cell_type": "code",
      "source": [
        "y_kmeans = kmeans.fit_predict(features)"
      ],
      "metadata": {
        "id": "CoV7Nhx58rdH"
      },
      "execution_count": 15,
      "outputs": []
    },
    {
      "cell_type": "code",
      "source": [
        "plt.scatter(features[:,0], features[:,1])\n",
        "plt.scatter(kmeans.cluster_centers_[:, 0], kmeans.cluster_centers_[:, 1], s=300,c='red')\n",
        "plt.show()"
      ],
      "metadata": {
        "colab": {
          "base_uri": "https://localhost:8080/",
          "height": 265
        },
        "id": "tAcI-OAk9DJN",
        "outputId": "3091c4b2-f1cb-4941-8777-0999d5f457a6"
      },
      "execution_count": 16,
      "outputs": [
        {
          "output_type": "display_data",
          "data": {
            "text/plain": [
              "<Figure size 432x288 with 1 Axes>"
            ],
            "image/png": "[encoded data removed]"
          },
          "metadata": {
            "needs_background": "light"
          }
        }
      ]
    },
    {
      "cell_type": "code",
      "source": [
        ""
      ],
      "metadata": {
        "id": "WeAAq6PZ8rlw"
      },
      "execution_count": null,
      "outputs": []
    },
    {
      "cell_type": "code",
      "source": [
        "import seaborn as sns; sns.set() # for plot styling\n",
        "from sklearn.datasets import load_digits\n",
        "\n",
        "digits = load_digits()\n",
        "digits.data.shape"
      ],
      "metadata": {
        "colab": {
          "base_uri": "https://localhost:8080/"
        },
        "id": "kHEH5j5-9PNp",
        "outputId": "c36c5a8b-e647-422b-f9a4-d531e33f9691"
      },
      "execution_count": 17,
      "outputs": [
        {
          "output_type": "execute_result",
          "data": {
            "text/plain": [
              "(1797, 64)"
            ]
          },
          "metadata": {},
          "execution_count": 17
        }
      ]
    },
    {
      "cell_type": "markdown",
      "source": [
        "\n",
        "1.\tSeaborn is a library used for plotting. For classification purposes, digits from the sklearn dataset are used. load_digits will load and return the digits dataset. The data.shape will return the number of samples and number of features(rows and columns). By running the code, we can conclude that there are 1797 rows and 64 columns."
      ],
      "metadata": {
        "id": "tpZ9fAuo-dAK"
      }
    },
    {
      "cell_type": "code",
      "source": [
        "kmeans = KMeans(n_clusters=10, random_state=0)\n",
        "clusters = kmeans.fit_predict(digits.data)\n",
        "kmeans.cluster_centers_.shape"
      ],
      "metadata": {
        "colab": {
          "base_uri": "https://localhost:8080/"
        },
        "id": "5tWWdbNwuMP-",
        "outputId": "8c36bb9a-69c3-4d40-eb82-872ef4c63dbc"
      },
      "execution_count": 20,
      "outputs": [
        {
          "output_type": "execute_result",
          "data": {
            "text/plain": [
              "(10, 64)"
            ]
          },
          "metadata": {},
          "execution_count": 20
        }
      ]
    },
    {
      "cell_type": "markdown",
      "source": [
        "2.\tKMeans is a famous unsupervised classification algorithm. Here, n_clusters is the number of clusters to form. Here, 10 clusters and centroids will be created. The loaded digits from the sklearn dataset are fitted and predicted using fit_predict. The cluster_centers_ is the mean of all points belonging to the cluster. In other words, the cluster centers can be extracted via clustering_centers_. By running the above code, we can conclude that kmeans created 10 clusters with 64 features."
      ],
      "metadata": {
        "id": "wNp7TzXz-rVo"
      }
    },
    {
      "cell_type": "code",
      "source": [
        "fig, ax = plt.subplots(2, 5, figsize=(8, 3))\n",
        "centers = kmeans.cluster_centers_.reshape(10, 8, 8)\n",
        "for axi, center in zip(ax.flat, centers):\n",
        "    axi.set(xticks=[], yticks=[])\n",
        "axi.imshow(center, interpolation='nearest', cmap=plt.cm.binary)"
      ],
      "metadata": {
        "colab": {
          "base_uri": "https://localhost:8080/",
          "height": 211
        },
        "id": "8xclDWNjuUL5",
        "outputId": "05e213db-4f6c-4b78-f7bc-7670b3c7f93d"
      },
      "execution_count": 21,
      "outputs": [
        {
          "output_type": "execute_result",
          "data": {
            "text/plain": [
              "<matplotlib.image.AxesImage at 0x7f484be23590>"
            ]
          },
          "metadata": {},
          "execution_count": 21
        },
        {
          "output_type": "display_data",
          "data": {
            "text/plain": [
              "<Figure size 576x216 with 10 Axes>"
            ],
            "image/png": "[encoded data removed]"
          },
          "metadata": {}
        }
      ]
    },
    {
      "cell_type": "code",
      "source": [
        "from scipy.stats import mode\n",
        "import numpy as np\n",
        "\n",
        "labels = np.zeros_like(clusters)\n",
        "for i in range(10):\n",
        "     mask = (clusters == i)\n",
        "labels[mask] = mode(digits.target[mask])[0]\n",
        "from sklearn.metrics import accuracy_score\n",
        "accuracy_score(digits.target, labels)"
      ],
      "metadata": {
        "colab": {
          "base_uri": "https://localhost:8080/"
        },
        "id": "Ja8kdy1Cudcp",
        "outputId": "64e1440b-4877-4f44-b567-d9f52ae1a9eb"
      },
      "execution_count": 22,
      "outputs": [
        {
          "output_type": "execute_result",
          "data": {
            "text/plain": [
              "0.19755147468002227"
            ]
          },
          "metadata": {},
          "execution_count": 22
        }
      ]
    },
    {
      "cell_type": "markdown",
      "source": [
        "3.\tThe Clusters as zeros stored in labels. In range 10, each digit is compared to original clusters and stored in the mask. Label values are replaced with mode values from digits. Accuracy is 20%. Meaning only one digit is classified that is 6."
      ],
      "metadata": {
        "id": "-5EcfaU3-8uv"
      }
    },
    {
      "cell_type": "code",
      "source": [
        "from sklearn.metrics import confusion_matrix\n",
        "mat = confusion_matrix(digits.target, labels)\n",
        "sns.heatmap(mat.T, square=True, annot=True, fmt='d', cbar=False,\n",
        " xticklabels=digits.target_names,\n",
        " yticklabels=digits.target_names)\n",
        "plt.xlabel('true label')\n",
        "plt.ylabel('predicted label')"
      ],
      "metadata": {
        "colab": {
          "base_uri": "https://localhost:8080/",
          "height": 302
        },
        "id": "alwHY-ifumoF",
        "outputId": "b7127aff-dae0-40c8-b4c7-db5c8c9cb9e9"
      },
      "execution_count": 23,
      "outputs": [
        {
          "output_type": "execute_result",
          "data": {
            "text/plain": [
              "Text(89.18, 0.5, 'predicted label')"
            ]
          },
          "metadata": {},
          "execution_count": 23
        },
        {
          "output_type": "display_data",
          "data": {
            "text/plain": [
              "<Figure size 432x288 with 1 Axes>"
            ],
            "image/png": "[encoded data removed]"
          },
          "metadata": {}
        }
      ]
    },
    {
      "cell_type": "code",
      "source": [
        ""
      ],
      "metadata": {
        "id": "-vgpv_bv7Yw1"
      },
      "execution_count": null,
      "outputs": []
    },
    {
      "cell_type": "code",
      "source": [
        ""
      ],
      "metadata": {
        "id": "qzzHl96Z_BXn"
      },
      "execution_count": null,
      "outputs": []
    },
    {
      "cell_type": "markdown",
      "source": [
        "**Activity four**\n",
        "\n",
        "---\n",
        "\n",
        "\n",
        "**Exercise 1:** We have three observed points (23, 41), (67, 84), (78, 100).\n",
        "Question: fit them to a linear model: Y = 𝛽0 + 𝛽1X.\n",
        "For the ease of computation, we use residual sum of squares (RSS) as the loss function to\n",
        "estimate the parameters:\n",
        "Set the learning rate λ = 0.00001, the initial guess for the parameters: 𝛽0 = 7, 𝛽1 = 1.\n",
        "You only need to provide the first three iterations using Gradient Descent.\n",
        "Calculate the results manually\n"
      ],
      "metadata": {
        "id": "pafNrYNg_CTN"
      }
    },
    {
      "cell_type": "code",
      "source": [
        "x = [23,67,78]\n",
        "y = [41, 84, 100]\n",
        "X = np.array(x)\n",
        "Y = np.array(y)"
      ],
      "metadata": {
        "id": "38yr8v6q7ZAf"
      },
      "execution_count": 6,
      "outputs": []
    },
    {
      "cell_type": "code",
      "source": [
        "import numpy as np\n",
        "\n",
        "class GradientDescentLinearRegression:\n",
        "    def __init__(self, learning_rate=0.01, iterations=1000):\n",
        "        self.learning_rate, self.iterations = learning_rate, iterations\n",
        "    \n",
        "    def fit(self, X, y):\n",
        "        b = 7\n",
        "        m = 1\n",
        "        n = X.shape[0]\n",
        "        for _ in range(self.iterations):\n",
        "            b_gradient = -2 * np.sum(y - m*X + b) / n\n",
        "            m_gradient = -2 * np.sum(X*(y - (m*X + b))) / n\n",
        "            b = b + (self.learning_rate * b_gradient)\n",
        "            m = m - (self.learning_rate * m_gradient)\n",
        "        self.m, self.b = m, b\n",
        "        \n",
        "    def predict(self, X):\n",
        "        return self.m*X + self.b"
      ],
      "metadata": {
        "id": "nwJgBx4l7ZD7"
      },
      "execution_count": 24,
      "outputs": []
    },
    {
      "cell_type": "code",
      "source": [
        "clf = GradientDescentLinearRegression()\n",
        "clf.fit(X, Y)"
      ],
      "metadata": {
        "colab": {
          "base_uri": "https://localhost:8080/"
        },
        "id": "CmeKjNnb7xNN",
        "outputId": "e6fd30e1-78ca-431c-ad06-8f75c59ae75d"
      },
      "execution_count": 25,
      "outputs": [
        {
          "output_type": "stream",
          "name": "stderr",
          "text": [
            "/usr/local/lib/python3.7/dist-packages/ipykernel_launcher.py:13: RuntimeWarning: overflow encountered in multiply\n",
            "  del sys.path[0]\n",
            "/usr/local/lib/python3.7/dist-packages/ipykernel_launcher.py:15: RuntimeWarning: invalid value encountered in double_scalars\n",
            "  from ipykernel import kernelapp as app\n"
          ]
        }
      ]
    }
  ]
}