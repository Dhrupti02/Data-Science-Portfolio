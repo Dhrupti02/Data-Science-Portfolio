{
 "cells": [
  {
   "cell_type": "markdown",
   "id": "02991c9c",
   "metadata": {},
   "source": [
    "## Understandung why people vote."
   ]
  },
  {
   "cell_type": "code",
   "execution_count": 126,
   "id": "89edd772",
   "metadata": {},
   "outputs": [],
   "source": [
    "import pandas as pd\n",
    "import numpy as np\n",
    "import matplotlib.pyplot as plt\n",
    "import seaborn as sns\n",
    "\n",
    "voting_data = pd.read_csv('gerber.csv')"
   ]
  },
  {
   "cell_type": "code",
   "execution_count": 127,
   "id": "05cff4fa",
   "metadata": {},
   "outputs": [
    {
     "data": {
      "text/html": [
       "<div>\n",
       "<style scoped>\n",
       "    .dataframe tbody tr th:only-of-type {\n",
       "        vertical-align: middle;\n",
       "    }\n",
       "\n",
       "    .dataframe tbody tr th {\n",
       "        vertical-align: top;\n",
       "    }\n",
       "\n",
       "    .dataframe thead th {\n",
       "        text-align: right;\n",
       "    }\n",
       "</style>\n",
       "<table border=\"1\" class=\"dataframe\">\n",
       "  <thead>\n",
       "    <tr style=\"text-align: right;\">\n",
       "      <th></th>\n",
       "      <th>sex</th>\n",
       "      <th>yob</th>\n",
       "      <th>voting</th>\n",
       "      <th>hawthorne</th>\n",
       "      <th>civicduty</th>\n",
       "      <th>neighbors</th>\n",
       "      <th>self</th>\n",
       "      <th>control</th>\n",
       "    </tr>\n",
       "  </thead>\n",
       "  <tbody>\n",
       "    <tr>\n",
       "      <th>0</th>\n",
       "      <td>0</td>\n",
       "      <td>1941</td>\n",
       "      <td>0</td>\n",
       "      <td>0</td>\n",
       "      <td>1</td>\n",
       "      <td>0</td>\n",
       "      <td>0</td>\n",
       "      <td>0</td>\n",
       "    </tr>\n",
       "    <tr>\n",
       "      <th>1</th>\n",
       "      <td>1</td>\n",
       "      <td>1947</td>\n",
       "      <td>0</td>\n",
       "      <td>0</td>\n",
       "      <td>1</td>\n",
       "      <td>0</td>\n",
       "      <td>0</td>\n",
       "      <td>0</td>\n",
       "    </tr>\n",
       "    <tr>\n",
       "      <th>2</th>\n",
       "      <td>1</td>\n",
       "      <td>1982</td>\n",
       "      <td>1</td>\n",
       "      <td>1</td>\n",
       "      <td>0</td>\n",
       "      <td>0</td>\n",
       "      <td>0</td>\n",
       "      <td>0</td>\n",
       "    </tr>\n",
       "    <tr>\n",
       "      <th>3</th>\n",
       "      <td>1</td>\n",
       "      <td>1950</td>\n",
       "      <td>1</td>\n",
       "      <td>1</td>\n",
       "      <td>0</td>\n",
       "      <td>0</td>\n",
       "      <td>0</td>\n",
       "      <td>0</td>\n",
       "    </tr>\n",
       "    <tr>\n",
       "      <th>4</th>\n",
       "      <td>0</td>\n",
       "      <td>1951</td>\n",
       "      <td>1</td>\n",
       "      <td>1</td>\n",
       "      <td>0</td>\n",
       "      <td>0</td>\n",
       "      <td>0</td>\n",
       "      <td>0</td>\n",
       "    </tr>\n",
       "    <tr>\n",
       "      <th>...</th>\n",
       "      <td>...</td>\n",
       "      <td>...</td>\n",
       "      <td>...</td>\n",
       "      <td>...</td>\n",
       "      <td>...</td>\n",
       "      <td>...</td>\n",
       "      <td>...</td>\n",
       "      <td>...</td>\n",
       "    </tr>\n",
       "    <tr>\n",
       "      <th>344079</th>\n",
       "      <td>1</td>\n",
       "      <td>1944</td>\n",
       "      <td>1</td>\n",
       "      <td>0</td>\n",
       "      <td>0</td>\n",
       "      <td>0</td>\n",
       "      <td>0</td>\n",
       "      <td>1</td>\n",
       "    </tr>\n",
       "    <tr>\n",
       "      <th>344080</th>\n",
       "      <td>1</td>\n",
       "      <td>1958</td>\n",
       "      <td>0</td>\n",
       "      <td>0</td>\n",
       "      <td>0</td>\n",
       "      <td>0</td>\n",
       "      <td>0</td>\n",
       "      <td>1</td>\n",
       "    </tr>\n",
       "    <tr>\n",
       "      <th>344081</th>\n",
       "      <td>0</td>\n",
       "      <td>1955</td>\n",
       "      <td>0</td>\n",
       "      <td>0</td>\n",
       "      <td>0</td>\n",
       "      <td>0</td>\n",
       "      <td>0</td>\n",
       "      <td>1</td>\n",
       "    </tr>\n",
       "    <tr>\n",
       "      <th>344082</th>\n",
       "      <td>1</td>\n",
       "      <td>1949</td>\n",
       "      <td>1</td>\n",
       "      <td>0</td>\n",
       "      <td>0</td>\n",
       "      <td>0</td>\n",
       "      <td>0</td>\n",
       "      <td>1</td>\n",
       "    </tr>\n",
       "    <tr>\n",
       "      <th>344083</th>\n",
       "      <td>0</td>\n",
       "      <td>1937</td>\n",
       "      <td>1</td>\n",
       "      <td>0</td>\n",
       "      <td>0</td>\n",
       "      <td>0</td>\n",
       "      <td>0</td>\n",
       "      <td>1</td>\n",
       "    </tr>\n",
       "  </tbody>\n",
       "</table>\n",
       "<p>344084 rows × 8 columns</p>\n",
       "</div>"
      ],
      "text/plain": [
       "        sex   yob  voting  hawthorne  civicduty  neighbors  self  control\n",
       "0         0  1941       0          0          1          0     0        0\n",
       "1         1  1947       0          0          1          0     0        0\n",
       "2         1  1982       1          1          0          0     0        0\n",
       "3         1  1950       1          1          0          0     0        0\n",
       "4         0  1951       1          1          0          0     0        0\n",
       "...     ...   ...     ...        ...        ...        ...   ...      ...\n",
       "344079    1  1944       1          0          0          0     0        1\n",
       "344080    1  1958       0          0          0          0     0        1\n",
       "344081    0  1955       0          0          0          0     0        1\n",
       "344082    1  1949       1          0          0          0     0        1\n",
       "344083    0  1937       1          0          0          0     0        1\n",
       "\n",
       "[344084 rows x 8 columns]"
      ]
     },
     "execution_count": 127,
     "metadata": {},
     "output_type": "execute_result"
    }
   ],
   "source": [
    "voting_data"
   ]
  },
  {
   "cell_type": "code",
   "execution_count": 128,
   "id": "db3d4ce8",
   "metadata": {},
   "outputs": [],
   "source": [
    "### missing values\n",
    "voting_df = pd.DataFrame(voting_data)"
   ]
  },
  {
   "cell_type": "code",
   "execution_count": 129,
   "id": "decb929d",
   "metadata": {},
   "outputs": [
    {
     "data": {
      "text/plain": [
       "sex          0\n",
       "yob          0\n",
       "voting       0\n",
       "hawthorne    0\n",
       "civicduty    0\n",
       "neighbors    0\n",
       "self         0\n",
       "control      0\n",
       "dtype: int64"
      ]
     },
     "execution_count": 129,
     "metadata": {},
     "output_type": "execute_result"
    }
   ],
   "source": [
    "voting_df.isnull().sum()"
   ]
  },
  {
   "cell_type": "code",
   "execution_count": 130,
   "id": "66aabdcd",
   "metadata": {},
   "outputs": [],
   "source": [
    "## how many people actually voted"
   ]
  },
  {
   "cell_type": "code",
   "execution_count": 131,
   "id": "6f305041",
   "metadata": {},
   "outputs": [
    {
     "data": {
      "text/plain": [
       "0    235388\n",
       "1    108696\n",
       "Name: voting, dtype: int64"
      ]
     },
     "execution_count": 131,
     "metadata": {},
     "output_type": "execute_result"
    }
   ],
   "source": [
    "voting_df['voting'].value_counts()"
   ]
  },
  {
   "cell_type": "code",
   "execution_count": 132,
   "id": "e6562204",
   "metadata": {},
   "outputs": [
    {
     "data": {
      "text/plain": [
       "sex  yob   voting  hawthorne  civicduty  neighbors  self  control\n",
       "1    1956  0       0          0          0          0     1          2169\n",
       "     1961  0       0          0          0          0     1          2164\n",
       "     1960  0       0          0          0          0     1          2158\n",
       "     1959  0       0          0          0          0     1          2124\n",
       "     1957  0       0          0          0          0     1          2088\n",
       "                                                                     ... \n",
       "0    1916  1       1          0          0          0     0             1\n",
       "1    1914  1       1          0          0          0     0             1\n",
       "0    1915  1       0          0          0          1     0             1\n",
       "     1912  1       0          0          0          1     0             1\n",
       "     1900  0       0          0          0          0     1             1\n",
       "Length: 1567, dtype: int64"
      ]
     },
     "execution_count": 132,
     "metadata": {},
     "output_type": "execute_result"
    }
   ],
   "source": [
    "count = voting_df.value_counts()\n",
    "count"
   ]
  },
  {
   "cell_type": "code",
   "execution_count": 133,
   "id": "e811bb2f",
   "metadata": {},
   "outputs": [
    {
     "data": {
      "text/plain": [
       "hawthorne  voting\n",
       "0          0         209500\n",
       "           1          96380\n",
       "1          0          25888\n",
       "           1          12316\n",
       "Name: voting, dtype: int64"
      ]
     },
     "execution_count": 133,
     "metadata": {},
     "output_type": "execute_result"
    }
   ],
   "source": [
    "count = voting_df.groupby(voting_df['hawthorne'])['voting'].value_counts()\n",
    "count"
   ]
  },
  {
   "cell_type": "code",
   "execution_count": 134,
   "id": "6ccbe9cb",
   "metadata": {},
   "outputs": [
    {
     "data": {
      "text/plain": [
       "civicduty  voting\n",
       "0          0         209191\n",
       "           1          96675\n",
       "1          0          26197\n",
       "           1          12021\n",
       "Name: voting, dtype: int64"
      ]
     },
     "execution_count": 134,
     "metadata": {},
     "output_type": "execute_result"
    }
   ],
   "source": [
    "count = voting_df.groupby(voting_df['civicduty'])['voting'].value_counts()\n",
    "count"
   ]
  },
  {
   "cell_type": "code",
   "execution_count": 135,
   "id": "e01bcb34",
   "metadata": {},
   "outputs": [
    {
     "data": {
      "text/plain": [
       "neighbors  voting\n",
       "0          0         211625\n",
       "           1          94258\n",
       "1          0          23763\n",
       "           1          14438\n",
       "Name: voting, dtype: int64"
      ]
     },
     "execution_count": 135,
     "metadata": {},
     "output_type": "execute_result"
    }
   ],
   "source": [
    "count = voting_df.groupby(voting_df['neighbors'])['voting'].value_counts()\n",
    "count"
   ]
  },
  {
   "cell_type": "code",
   "execution_count": 136,
   "id": "372550c5",
   "metadata": {},
   "outputs": [
    {
     "data": {
      "text/plain": [
       "self  voting\n",
       "0     0         210361\n",
       "      1          95505\n",
       "1     0          25027\n",
       "      1          13191\n",
       "Name: voting, dtype: int64"
      ]
     },
     "execution_count": 136,
     "metadata": {},
     "output_type": "execute_result"
    }
   ],
   "source": [
    "count = voting_df.groupby(voting_df['self'])['voting'].value_counts()\n",
    "count"
   ]
  },
  {
   "cell_type": "code",
   "execution_count": 137,
   "id": "8dbf058a",
   "metadata": {},
   "outputs": [],
   "source": [
    "for feature in voting_df.columns:\n",
    "    count = voting_df.groupby(voting_df[feature])['voting'].value_counts()\n",
    "    count"
   ]
  },
  {
   "cell_type": "code",
   "execution_count": 138,
   "id": "e2137da3",
   "metadata": {},
   "outputs": [],
   "source": [
    "x = voting_df[['sex', 'hawthorne', 'civicduty', 'neighbors', 'self']]"
   ]
  },
  {
   "cell_type": "code",
   "execution_count": 139,
   "id": "8bcb60e9",
   "metadata": {},
   "outputs": [
    {
     "data": {
      "text/plain": [
       "(344084, 5)"
      ]
     },
     "execution_count": 139,
     "metadata": {},
     "output_type": "execute_result"
    }
   ],
   "source": [
    "x.shape"
   ]
  },
  {
   "cell_type": "code",
   "execution_count": 140,
   "id": "e71cfe26",
   "metadata": {},
   "outputs": [
    {
     "data": {
      "text/plain": [
       "(344084,)"
      ]
     },
     "execution_count": 140,
     "metadata": {},
     "output_type": "execute_result"
    }
   ],
   "source": [
    "y = voting_df['voting']\n",
    "y.shape"
   ]
  },
  {
   "cell_type": "code",
   "execution_count": 141,
   "id": "f2f78a05",
   "metadata": {},
   "outputs": [
    {
     "data": {
      "text/plain": [
       "((344084, 5), (344084,))"
      ]
     },
     "execution_count": 141,
     "metadata": {},
     "output_type": "execute_result"
    }
   ],
   "source": [
    "x.shape, y.shape"
   ]
  },
  {
   "cell_type": "code",
   "execution_count": 142,
   "id": "2c32ab6e",
   "metadata": {},
   "outputs": [
    {
     "data": {
      "text/plain": [
       "LogisticRegression()"
      ]
     },
     "execution_count": 142,
     "metadata": {},
     "output_type": "execute_result"
    }
   ],
   "source": [
    "from sklearn.linear_model import LogisticRegression\n",
    "from sklearn.metrics import classification_report, confusion_matrix\n",
    "\n",
    "model = LogisticRegression()\n",
    "model.fit(x, y)"
   ]
  },
  {
   "cell_type": "code",
   "execution_count": 143,
   "id": "c1d3a217",
   "metadata": {},
   "outputs": [
    {
     "data": {
      "text/plain": [
       "array([[-0.05591181,  0.1204899 ,  0.08438966,  0.36516277,  0.22304065]])"
      ]
     },
     "execution_count": 143,
     "metadata": {},
     "output_type": "execute_result"
    }
   ],
   "source": [
    "model.coef_"
   ]
  },
  {
   "cell_type": "code",
   "execution_count": 144,
   "id": "f29a2382",
   "metadata": {},
   "outputs": [
    {
     "data": {
      "text/plain": [
       "array([0, 0, 0, ..., 0, 0, 0], dtype=int64)"
      ]
     },
     "execution_count": 144,
     "metadata": {},
     "output_type": "execute_result"
    }
   ],
   "source": [
    "model.predict(x)\n"
   ]
  },
  {
   "cell_type": "code",
   "execution_count": 145,
   "id": "b5e0bfc7",
   "metadata": {},
   "outputs": [],
   "source": [
    "threshold = 0.3\n",
    "pred = (model.predict_proba(x)[:,1] == threshold).astype(int)"
   ]
  },
  {
   "cell_type": "code",
   "execution_count": 146,
   "id": "941efe94",
   "metadata": {},
   "outputs": [
    {
     "data": {
      "text/plain": [
       "array([0, 0, 0, ..., 0, 0, 0])"
      ]
     },
     "execution_count": 146,
     "metadata": {},
     "output_type": "execute_result"
    }
   ],
   "source": [
    "pred"
   ]
  },
  {
   "cell_type": "code",
   "execution_count": 147,
   "id": "e0799b3b",
   "metadata": {},
   "outputs": [
    {
     "data": {
      "text/plain": [
       "0.6841003940898153"
      ]
     },
     "execution_count": 147,
     "metadata": {},
     "output_type": "execute_result"
    }
   ],
   "source": [
    "model.score(x, y)"
   ]
  },
  {
   "cell_type": "code",
   "execution_count": 148,
   "id": "c802dd3a",
   "metadata": {},
   "outputs": [
    {
     "data": {
      "text/html": [
       "<div>\n",
       "<style scoped>\n",
       "    .dataframe tbody tr th:only-of-type {\n",
       "        vertical-align: middle;\n",
       "    }\n",
       "\n",
       "    .dataframe tbody tr th {\n",
       "        vertical-align: top;\n",
       "    }\n",
       "\n",
       "    .dataframe thead th {\n",
       "        text-align: right;\n",
       "    }\n",
       "</style>\n",
       "<table border=\"1\" class=\"dataframe\">\n",
       "  <thead>\n",
       "    <tr style=\"text-align: right;\">\n",
       "      <th></th>\n",
       "      <th>0</th>\n",
       "    </tr>\n",
       "  </thead>\n",
       "  <tbody>\n",
       "    <tr>\n",
       "      <th>accuracy</th>\n",
       "      <td>0.432118</td>\n",
       "    </tr>\n",
       "    <tr>\n",
       "      <th>recall</th>\n",
       "      <td>0.745023</td>\n",
       "    </tr>\n",
       "    <tr>\n",
       "      <th>precision</th>\n",
       "      <td>0.325663</td>\n",
       "    </tr>\n",
       "    <tr>\n",
       "      <th>roc_auc_score</th>\n",
       "      <td>0.516325</td>\n",
       "    </tr>\n",
       "  </tbody>\n",
       "</table>\n",
       "</div>"
      ],
      "text/plain": [
       "                      0\n",
       "accuracy       0.432118\n",
       "recall         0.745023\n",
       "precision      0.325663\n",
       "roc_auc_score  0.516325"
      ]
     },
     "execution_count": 148,
     "metadata": {},
     "output_type": "execute_result"
    }
   ],
   "source": [
    "## Using a threshold of 0.3, what is the accuracy of the logistic regression model\n",
    "\n",
    "from sklearn.metrics import accuracy_score, confusion_matrix, recall_score, roc_auc_score, precision_score\n",
    "\n",
    "THRESHOLD = 0.3\n",
    "preds = np.where(model.predict_proba(x)[:,1] > THRESHOLD, 1, 0)\n",
    "\n",
    "pd.DataFrame(data=[accuracy_score(y, preds), recall_score(y, preds),\n",
    "                   precision_score(y, preds), roc_auc_score(y, preds)], \n",
    "             index=[\"accuracy\", \"recall\", \"precision\", \"roc_auc_score\"])"
   ]
  },
  {
   "cell_type": "code",
   "execution_count": 149,
   "id": "4d9cfa89",
   "metadata": {},
   "outputs": [
    {
     "name": "stderr",
     "output_type": "stream",
     "text": [
      "C:\\Users\\dhrup\\anaconda3\\lib\\site-packages\\sklearn\\metrics\\_classification.py:1245: UndefinedMetricWarning: Precision is ill-defined and being set to 0.0 due to no predicted samples. Use `zero_division` parameter to control this behavior.\n",
      "  _warn_prf(average, modifier, msg_start, len(result))\n"
     ]
    },
    {
     "data": {
      "text/html": [
       "<div>\n",
       "<style scoped>\n",
       "    .dataframe tbody tr th:only-of-type {\n",
       "        vertical-align: middle;\n",
       "    }\n",
       "\n",
       "    .dataframe tbody tr th {\n",
       "        vertical-align: top;\n",
       "    }\n",
       "\n",
       "    .dataframe thead th {\n",
       "        text-align: right;\n",
       "    }\n",
       "</style>\n",
       "<table border=\"1\" class=\"dataframe\">\n",
       "  <thead>\n",
       "    <tr style=\"text-align: right;\">\n",
       "      <th></th>\n",
       "      <th>0</th>\n",
       "    </tr>\n",
       "  </thead>\n",
       "  <tbody>\n",
       "    <tr>\n",
       "      <th>accuracy</th>\n",
       "      <td>0.6841</td>\n",
       "    </tr>\n",
       "    <tr>\n",
       "      <th>recall</th>\n",
       "      <td>0.0000</td>\n",
       "    </tr>\n",
       "    <tr>\n",
       "      <th>precision</th>\n",
       "      <td>0.0000</td>\n",
       "    </tr>\n",
       "    <tr>\n",
       "      <th>roc_auc_score</th>\n",
       "      <td>0.5000</td>\n",
       "    </tr>\n",
       "  </tbody>\n",
       "</table>\n",
       "</div>"
      ],
      "text/plain": [
       "                    0\n",
       "accuracy       0.6841\n",
       "recall         0.0000\n",
       "precision      0.0000\n",
       "roc_auc_score  0.5000"
      ]
     },
     "execution_count": 149,
     "metadata": {},
     "output_type": "execute_result"
    }
   ],
   "source": [
    "## Using a threshold of 0.5, what is the accuracy of the logistic regression model\n",
    "\n",
    "from sklearn.metrics import accuracy_score, confusion_matrix, recall_score, roc_auc_score, precision_score\n",
    "\n",
    "THRESHOLD = 0.5\n",
    "preds = np.where(model.predict_proba(x)[:,1] > THRESHOLD, 1, 0)\n",
    "\n",
    "pd.DataFrame(data=[accuracy_score(y, preds), recall_score(y, preds),\n",
    "                   precision_score(y, preds), roc_auc_score(y, preds)], \n",
    "             index=[\"accuracy\", \"recall\", \"precision\", \"roc_auc_score\"])"
   ]
  },
  {
   "cell_type": "markdown",
   "id": "2c036124",
   "metadata": {},
   "source": [
    "Even though all of the variables are significant, this is a weak predictive model."
   ]
  },
  {
   "cell_type": "code",
   "execution_count": 150,
   "id": "7185d928",
   "metadata": {},
   "outputs": [
    {
     "name": "stderr",
     "output_type": "stream",
     "text": [
      "C:\\Users\\dhrup\\anaconda3\\lib\\site-packages\\sklearn\\metrics\\_classification.py:1245: UndefinedMetricWarning: Precision and F-score are ill-defined and being set to 0.0 in labels with no predicted samples. Use `zero_division` parameter to control this behavior.\n",
      "  _warn_prf(average, modifier, msg_start, len(result))\n",
      "C:\\Users\\dhrup\\anaconda3\\lib\\site-packages\\sklearn\\metrics\\_classification.py:1245: UndefinedMetricWarning: Precision and F-score are ill-defined and being set to 0.0 in labels with no predicted samples. Use `zero_division` parameter to control this behavior.\n",
      "  _warn_prf(average, modifier, msg_start, len(result))\n"
     ]
    },
    {
     "name": "stdout",
     "output_type": "stream",
     "text": [
      "              precision    recall  f1-score   support\n",
      "\n",
      "           0       0.68      1.00      0.81    235388\n",
      "           1       0.00      0.00      0.00    108696\n",
      "\n",
      "    accuracy                           0.68    344084\n",
      "   macro avg       0.34      0.50      0.41    344084\n",
      "weighted avg       0.47      0.68      0.56    344084\n",
      "\n"
     ]
    },
    {
     "name": "stderr",
     "output_type": "stream",
     "text": [
      "C:\\Users\\dhrup\\anaconda3\\lib\\site-packages\\sklearn\\metrics\\_classification.py:1245: UndefinedMetricWarning: Precision and F-score are ill-defined and being set to 0.0 in labels with no predicted samples. Use `zero_division` parameter to control this behavior.\n",
      "  _warn_prf(average, modifier, msg_start, len(result))\n"
     ]
    }
   ],
   "source": [
    "print(classification_report(y, model.predict(x)))"
   ]
  },
  {
   "cell_type": "code",
   "execution_count": 151,
   "id": "74f4358d",
   "metadata": {},
   "outputs": [],
   "source": [
    "### We will try to predict by cart model"
   ]
  },
  {
   "cell_type": "code",
   "execution_count": 152,
   "id": "140dce08",
   "metadata": {},
   "outputs": [],
   "source": [
    "x = voting_df[['sex', 'hawthorne', 'civicduty', 'neighbors', 'self', 'control']]\n",
    "y = voting_df['voting']"
   ]
  },
  {
   "cell_type": "code",
   "execution_count": 153,
   "id": "cc777e6d",
   "metadata": {},
   "outputs": [
    {
     "name": "stdout",
     "output_type": "stream",
     "text": [
      "Accuracy on training set: 0.004\n"
     ]
    }
   ],
   "source": [
    "from sklearn.model_selection import train_test_split\n",
    "from sklearn.tree import DecisionTreeRegressor\n",
    "\n",
    "tree = DecisionTreeRegressor(random_state=0)\n",
    "tree.fit(x, y)\n",
    "print(\"Accuracy on training set: {:.3f}\".format(tree.score(x, y)))"
   ]
  },
  {
   "cell_type": "code",
   "execution_count": 154,
   "id": "9622de18",
   "metadata": {},
   "outputs": [],
   "source": [
    "from sklearn.tree import export_graphviz"
   ]
  },
  {
   "cell_type": "code",
   "execution_count": 155,
   "id": "f6e3bcca",
   "metadata": {},
   "outputs": [],
   "source": [
    "d = ['sex', 'hawthorne', 'civicduty', 'neighbors', 'self', 'control']\n",
    "export_graphviz(tree, out_file=\"tree.dot\", class_names=['voting'],\n",
    " feature_names=d, impurity=False, filled=True)"
   ]
  },
  {
   "cell_type": "code",
   "execution_count": 156,
   "id": "5325ab0c",
   "metadata": {},
   "outputs": [
    {
     "data": {
      "image/svg+xml": [
       "<?xml version=\"1.0\" encoding=\"UTF-8\" standalone=\"no\"?>\r\n",
       "<!DOCTYPE svg PUBLIC \"-//W3C//DTD SVG 1.1//EN\"\r\n",
       " \"http://www.w3.org/Graphics/SVG/1.1/DTD/svg11.dtd\">\r\n",
       "<!-- Generated by graphviz version 2.38.0 (20140413.2041)\r\n",
       " -->\r\n",
       "<!-- Title: Tree Pages: 1 -->\r\n",
       "<svg width=\"907pt\" height=\"491pt\"\r\n",
       " viewBox=\"0.00 0.00 907.00 491.00\" xmlns=\"http://www.w3.org/2000/svg\" xmlns:xlink=\"http://www.w3.org/1999/xlink\">\r\n",
       "<g id=\"graph0\" class=\"graph\" transform=\"scale(1 1) rotate(0) translate(4 487)\">\r\n",
       "<title>Tree</title>\r\n",
       "<polygon fill=\"white\" stroke=\"none\" points=\"-4,4 -4,-487 903,-487 903,4 -4,4\"/>\r\n",
       "<!-- 0 -->\r\n",
       "<g id=\"node1\" class=\"node\"><title>0</title>\r\n",
       "<polygon fill=\"#f8ddc9\" stroke=\"black\" points=\"706.5,-483 588.5,-483 588.5,-430 706.5,-430 706.5,-483\"/>\r\n",
       "<text text-anchor=\"middle\" x=\"647.5\" y=\"-467.8\" font-family=\"Times New Roman,serif\" font-size=\"14.00\">neighbors &lt;= 0.5</text>\r\n",
       "<text text-anchor=\"middle\" x=\"647.5\" y=\"-452.8\" font-family=\"Times New Roman,serif\" font-size=\"14.00\">samples = 344084</text>\r\n",
       "<text text-anchor=\"middle\" x=\"647.5\" y=\"-437.8\" font-family=\"Times New Roman,serif\" font-size=\"14.00\">value = 0.316</text>\r\n",
       "</g>\r\n",
       "<!-- 1 -->\r\n",
       "<g id=\"node2\" class=\"node\"><title>1</title>\r\n",
       "<polygon fill=\"#fae7da\" stroke=\"black\" points=\"640.5,-394 522.5,-394 522.5,-341 640.5,-341 640.5,-394\"/>\r\n",
       "<text text-anchor=\"middle\" x=\"581.5\" y=\"-378.8\" font-family=\"Times New Roman,serif\" font-size=\"14.00\">control &lt;= 0.5</text>\r\n",
       "<text text-anchor=\"middle\" x=\"581.5\" y=\"-363.8\" font-family=\"Times New Roman,serif\" font-size=\"14.00\">samples = 305883</text>\r\n",
       "<text text-anchor=\"middle\" x=\"581.5\" y=\"-348.8\" font-family=\"Times New Roman,serif\" font-size=\"14.00\">value = 0.308</text>\r\n",
       "</g>\r\n",
       "<!-- 0&#45;&gt;1 -->\r\n",
       "<g id=\"edge1\" class=\"edge\"><title>0&#45;&gt;1</title>\r\n",
       "<path fill=\"none\" stroke=\"black\" d=\"M628.055,-429.868C621.534,-421.272 614.158,-411.549 607.231,-402.419\"/>\r\n",
       "<polygon fill=\"black\" stroke=\"black\" points=\"609.867,-400.101 601.034,-394.25 604.29,-404.332 609.867,-400.101\"/>\r\n",
       "<text text-anchor=\"middle\" x=\"597.635\" y=\"-415.318\" font-family=\"Times New Roman,serif\" font-size=\"14.00\">True</text>\r\n",
       "</g>\r\n",
       "<!-- 16 -->\r\n",
       "<g id=\"node17\" class=\"node\"><title>16</title>\r\n",
       "<polygon fill=\"#e78a47\" stroke=\"black\" points=\"770,-394 659,-394 659,-341 770,-341 770,-394\"/>\r\n",
       "<text text-anchor=\"middle\" x=\"714.5\" y=\"-378.8\" font-family=\"Times New Roman,serif\" font-size=\"14.00\">sex &lt;= 0.5</text>\r\n",
       "<text text-anchor=\"middle\" x=\"714.5\" y=\"-363.8\" font-family=\"Times New Roman,serif\" font-size=\"14.00\">samples = 38201</text>\r\n",
       "<text text-anchor=\"middle\" x=\"714.5\" y=\"-348.8\" font-family=\"Times New Roman,serif\" font-size=\"14.00\">value = 0.378</text>\r\n",
       "</g>\r\n",
       "<!-- 0&#45;&gt;16 -->\r\n",
       "<g id=\"edge16\" class=\"edge\"><title>0&#45;&gt;16</title>\r\n",
       "<path fill=\"none\" stroke=\"black\" d=\"M667.24,-429.868C673.86,-421.272 681.347,-411.549 688.379,-402.419\"/>\r\n",
       "<polygon fill=\"black\" stroke=\"black\" points=\"691.341,-404.308 694.67,-394.25 685.795,-400.037 691.341,-404.308\"/>\r\n",
       "<text text-anchor=\"middle\" x=\"697.889\" y=\"-415.342\" font-family=\"Times New Roman,serif\" font-size=\"14.00\">False</text>\r\n",
       "</g>\r\n",
       "<!-- 2 -->\r\n",
       "<g id=\"node3\" class=\"node\"><title>2</title>\r\n",
       "<polygon fill=\"#f5ceb1\" stroke=\"black\" points=\"504.5,-305 386.5,-305 386.5,-252 504.5,-252 504.5,-305\"/>\r\n",
       "<text text-anchor=\"middle\" x=\"445.5\" y=\"-289.8\" font-family=\"Times New Roman,serif\" font-size=\"14.00\">self &lt;= 0.5</text>\r\n",
       "<text text-anchor=\"middle\" x=\"445.5\" y=\"-274.8\" font-family=\"Times New Roman,serif\" font-size=\"14.00\">samples = 114640</text>\r\n",
       "<text text-anchor=\"middle\" x=\"445.5\" y=\"-259.8\" font-family=\"Times New Roman,serif\" font-size=\"14.00\">value = 0.327</text>\r\n",
       "</g>\r\n",
       "<!-- 1&#45;&gt;2 -->\r\n",
       "<g id=\"edge2\" class=\"edge\"><title>1&#45;&gt;2</title>\r\n",
       "<path fill=\"none\" stroke=\"black\" d=\"M541.431,-340.868C526.622,-331.394 509.675,-320.553 494.185,-310.644\"/>\r\n",
       "<polygon fill=\"black\" stroke=\"black\" points=\"496.062,-307.69 485.752,-305.25 492.29,-313.587 496.062,-307.69\"/>\r\n",
       "</g>\r\n",
       "<!-- 13 -->\r\n",
       "<g id=\"node14\" class=\"node\"><title>13</title>\r\n",
       "<polygon fill=\"#fdf7f2\" stroke=\"black\" points=\"640.5,-305 522.5,-305 522.5,-252 640.5,-252 640.5,-305\"/>\r\n",
       "<text text-anchor=\"middle\" x=\"581.5\" y=\"-289.8\" font-family=\"Times New Roman,serif\" font-size=\"14.00\">sex &lt;= 0.5</text>\r\n",
       "<text text-anchor=\"middle\" x=\"581.5\" y=\"-274.8\" font-family=\"Times New Roman,serif\" font-size=\"14.00\">samples = 191243</text>\r\n",
       "<text text-anchor=\"middle\" x=\"581.5\" y=\"-259.8\" font-family=\"Times New Roman,serif\" font-size=\"14.00\">value = 0.297</text>\r\n",
       "</g>\r\n",
       "<!-- 1&#45;&gt;13 -->\r\n",
       "<g id=\"edge13\" class=\"edge\"><title>1&#45;&gt;13</title>\r\n",
       "<path fill=\"none\" stroke=\"black\" d=\"M581.5,-340.868C581.5,-332.886 581.5,-323.932 581.5,-315.384\"/>\r\n",
       "<polygon fill=\"black\" stroke=\"black\" points=\"585,-315.25 581.5,-305.25 578,-315.25 585,-315.25\"/>\r\n",
       "</g>\r\n",
       "<!-- 3 -->\r\n",
       "<g id=\"node4\" class=\"node\"><title>3</title>\r\n",
       "<polygon fill=\"#f7dac4\" stroke=\"black\" points=\"371,-216 260,-216 260,-163 371,-163 371,-216\"/>\r\n",
       "<text text-anchor=\"middle\" x=\"315.5\" y=\"-200.8\" font-family=\"Times New Roman,serif\" font-size=\"14.00\">sex &lt;= 0.5</text>\r\n",
       "<text text-anchor=\"middle\" x=\"315.5\" y=\"-185.8\" font-family=\"Times New Roman,serif\" font-size=\"14.00\">samples = 76422</text>\r\n",
       "<text text-anchor=\"middle\" x=\"315.5\" y=\"-170.8\" font-family=\"Times New Roman,serif\" font-size=\"14.00\">value = 0.318</text>\r\n",
       "</g>\r\n",
       "<!-- 2&#45;&gt;3 -->\r\n",
       "<g id=\"edge3\" class=\"edge\"><title>2&#45;&gt;3</title>\r\n",
       "<path fill=\"none\" stroke=\"black\" d=\"M407.199,-251.868C393.175,-242.482 377.143,-231.754 362.449,-221.92\"/>\r\n",
       "<polygon fill=\"black\" stroke=\"black\" points=\"364.234,-218.903 353.977,-216.25 360.341,-224.72 364.234,-218.903\"/>\r\n",
       "</g>\r\n",
       "<!-- 10 -->\r\n",
       "<g id=\"node11\" class=\"node\"><title>10</title>\r\n",
       "<polygon fill=\"#f0b68c\" stroke=\"black\" points=\"503,-216 392,-216 392,-163 503,-163 503,-216\"/>\r\n",
       "<text text-anchor=\"middle\" x=\"447.5\" y=\"-200.8\" font-family=\"Times New Roman,serif\" font-size=\"14.00\">sex &lt;= 0.5</text>\r\n",
       "<text text-anchor=\"middle\" x=\"447.5\" y=\"-185.8\" font-family=\"Times New Roman,serif\" font-size=\"14.00\">samples = 38218</text>\r\n",
       "<text text-anchor=\"middle\" x=\"447.5\" y=\"-170.8\" font-family=\"Times New Roman,serif\" font-size=\"14.00\">value = 0.345</text>\r\n",
       "</g>\r\n",
       "<!-- 2&#45;&gt;10 -->\r\n",
       "<g id=\"edge10\" class=\"edge\"><title>2&#45;&gt;10</title>\r\n",
       "<path fill=\"none\" stroke=\"black\" d=\"M446.089,-251.868C446.273,-243.886 446.479,-234.932 446.675,-226.384\"/>\r\n",
       "<polygon fill=\"black\" stroke=\"black\" points=\"450.177,-226.328 446.908,-216.25 443.179,-226.167 450.177,-226.328\"/>\r\n",
       "</g>\r\n",
       "<!-- 4 -->\r\n",
       "<g id=\"node5\" class=\"node\"><title>4</title>\r\n",
       "<polygon fill=\"#f5d1b6\" stroke=\"black\" points=\"239,-127 128,-127 128,-74 239,-74 239,-127\"/>\r\n",
       "<text text-anchor=\"middle\" x=\"183.5\" y=\"-111.8\" font-family=\"Times New Roman,serif\" font-size=\"14.00\">civicduty &lt;= 0.5</text>\r\n",
       "<text text-anchor=\"middle\" x=\"183.5\" y=\"-96.8\" font-family=\"Times New Roman,serif\" font-size=\"14.00\">samples = 38242</text>\r\n",
       "<text text-anchor=\"middle\" x=\"183.5\" y=\"-81.8\" font-family=\"Times New Roman,serif\" font-size=\"14.00\">value = 0.325</text>\r\n",
       "</g>\r\n",
       "<!-- 3&#45;&gt;4 -->\r\n",
       "<g id=\"edge4\" class=\"edge\"><title>3&#45;&gt;4</title>\r\n",
       "<path fill=\"none\" stroke=\"black\" d=\"M276.61,-162.868C262.37,-153.482 246.092,-142.754 231.171,-132.92\"/>\r\n",
       "<polygon fill=\"black\" stroke=\"black\" points=\"232.844,-129.831 222.569,-127.25 228.992,-135.675 232.844,-129.831\"/>\r\n",
       "</g>\r\n",
       "<!-- 7 -->\r\n",
       "<g id=\"node8\" class=\"node\"><title>7</title>\r\n",
       "<polygon fill=\"#f9e2d2\" stroke=\"black\" points=\"373.5,-127 257.5,-127 257.5,-74 373.5,-74 373.5,-127\"/>\r\n",
       "<text text-anchor=\"middle\" x=\"315.5\" y=\"-111.8\" font-family=\"Times New Roman,serif\" font-size=\"14.00\">hawthorne &lt;= 0.5</text>\r\n",
       "<text text-anchor=\"middle\" x=\"315.5\" y=\"-96.8\" font-family=\"Times New Roman,serif\" font-size=\"14.00\">samples = 38180</text>\r\n",
       "<text text-anchor=\"middle\" x=\"315.5\" y=\"-81.8\" font-family=\"Times New Roman,serif\" font-size=\"14.00\">value = 0.312</text>\r\n",
       "</g>\r\n",
       "<!-- 3&#45;&gt;7 -->\r\n",
       "<g id=\"edge7\" class=\"edge\"><title>3&#45;&gt;7</title>\r\n",
       "<path fill=\"none\" stroke=\"black\" d=\"M315.5,-162.868C315.5,-154.886 315.5,-145.932 315.5,-137.384\"/>\r\n",
       "<polygon fill=\"black\" stroke=\"black\" points=\"319,-137.25 315.5,-127.25 312,-137.25 319,-137.25\"/>\r\n",
       "</g>\r\n",
       "<!-- 5 -->\r\n",
       "<g id=\"node6\" class=\"node\"><title>5</title>\r\n",
       "<polygon fill=\"#f5cdb1\" stroke=\"black\" points=\"111,-38 0,-38 0,-0 111,-0 111,-38\"/>\r\n",
       "<text text-anchor=\"middle\" x=\"55.5\" y=\"-22.8\" font-family=\"Times New Roman,serif\" font-size=\"14.00\">samples = 19140</text>\r\n",
       "<text text-anchor=\"middle\" x=\"55.5\" y=\"-7.8\" font-family=\"Times New Roman,serif\" font-size=\"14.00\">value = 0.327</text>\r\n",
       "</g>\r\n",
       "<!-- 4&#45;&gt;5 -->\r\n",
       "<g id=\"edge5\" class=\"edge\"><title>4&#45;&gt;5</title>\r\n",
       "<path fill=\"none\" stroke=\"black\" d=\"M142.295,-73.9081C126.656,-64.1943 108.927,-53.1831 93.5874,-43.6559\"/>\r\n",
       "<polygon fill=\"black\" stroke=\"black\" points=\"95.2073,-40.5419 84.8658,-38.2389 91.514,-46.4883 95.2073,-40.5419\"/>\r\n",
       "</g>\r\n",
       "<!-- 6 -->\r\n",
       "<g id=\"node7\" class=\"node\"><title>6</title>\r\n",
       "<polygon fill=\"#f6d4bb\" stroke=\"black\" points=\"240,-38 129,-38 129,-0 240,-0 240,-38\"/>\r\n",
       "<text text-anchor=\"middle\" x=\"184.5\" y=\"-22.8\" font-family=\"Times New Roman,serif\" font-size=\"14.00\">samples = 19102</text>\r\n",
       "<text text-anchor=\"middle\" x=\"184.5\" y=\"-7.8\" font-family=\"Times New Roman,serif\" font-size=\"14.00\">value = 0.323</text>\r\n",
       "</g>\r\n",
       "<!-- 4&#45;&gt;6 -->\r\n",
       "<g id=\"edge6\" class=\"edge\"><title>4&#45;&gt;6</title>\r\n",
       "<path fill=\"none\" stroke=\"black\" d=\"M183.822,-73.9081C183.925,-65.7377 184.039,-56.6492 184.144,-48.2981\"/>\r\n",
       "<polygon fill=\"black\" stroke=\"black\" points=\"187.644,-48.2822 184.271,-38.2389 180.645,-48.1941 187.644,-48.2822\"/>\r\n",
       "</g>\r\n",
       "<!-- 8 -->\r\n",
       "<g id=\"node9\" class=\"node\"><title>8</title>\r\n",
       "<polygon fill=\"#fbeade\" stroke=\"black\" points=\"370,-38 259,-38 259,-0 370,-0 370,-38\"/>\r\n",
       "<text text-anchor=\"middle\" x=\"314.5\" y=\"-22.8\" font-family=\"Times New Roman,serif\" font-size=\"14.00\">samples = 19116</text>\r\n",
       "<text text-anchor=\"middle\" x=\"314.5\" y=\"-7.8\" font-family=\"Times New Roman,serif\" font-size=\"14.00\">value = 0.306</text>\r\n",
       "</g>\r\n",
       "<!-- 7&#45;&gt;8 -->\r\n",
       "<g id=\"edge8\" class=\"edge\"><title>7&#45;&gt;8</title>\r\n",
       "<path fill=\"none\" stroke=\"black\" d=\"M315.178,-73.9081C315.075,-65.7377 314.961,-56.6492 314.856,-48.2981\"/>\r\n",
       "<polygon fill=\"black\" stroke=\"black\" points=\"318.355,-48.1941 314.729,-38.2389 311.356,-48.2822 318.355,-48.1941\"/>\r\n",
       "</g>\r\n",
       "<!-- 9 -->\r\n",
       "<g id=\"node10\" class=\"node\"><title>9</title>\r\n",
       "<polygon fill=\"#f8dbc7\" stroke=\"black\" points=\"499,-38 388,-38 388,-0 499,-0 499,-38\"/>\r\n",
       "<text text-anchor=\"middle\" x=\"443.5\" y=\"-22.8\" font-family=\"Times New Roman,serif\" font-size=\"14.00\">samples = 19064</text>\r\n",
       "<text text-anchor=\"middle\" x=\"443.5\" y=\"-7.8\" font-family=\"Times New Roman,serif\" font-size=\"14.00\">value = 0.317</text>\r\n",
       "</g>\r\n",
       "<!-- 7&#45;&gt;9 -->\r\n",
       "<g id=\"edge9\" class=\"edge\"><title>7&#45;&gt;9</title>\r\n",
       "<path fill=\"none\" stroke=\"black\" d=\"M356.705,-73.9081C372.344,-64.1943 390.073,-53.1831 405.413,-43.6559\"/>\r\n",
       "<polygon fill=\"black\" stroke=\"black\" points=\"407.486,-46.4883 414.134,-38.2389 403.793,-40.5419 407.486,-46.4883\"/>\r\n",
       "</g>\r\n",
       "<!-- 11 -->\r\n",
       "<g id=\"node12\" class=\"node\"><title>11</title>\r\n",
       "<polygon fill=\"#efb185\" stroke=\"black\" points=\"503,-119.5 392,-119.5 392,-81.5 503,-81.5 503,-119.5\"/>\r\n",
       "<text text-anchor=\"middle\" x=\"447.5\" y=\"-104.3\" font-family=\"Times New Roman,serif\" font-size=\"14.00\">samples = 19125</text>\r\n",
       "<text text-anchor=\"middle\" x=\"447.5\" y=\"-89.3\" font-family=\"Times New Roman,serif\" font-size=\"14.00\">value = 0.349</text>\r\n",
       "</g>\r\n",
       "<!-- 10&#45;&gt;11 -->\r\n",
       "<g id=\"edge11\" class=\"edge\"><title>10&#45;&gt;11</title>\r\n",
       "<path fill=\"none\" stroke=\"black\" d=\"M447.5,-162.868C447.5,-152.417 447.5,-140.301 447.5,-129.609\"/>\r\n",
       "<polygon fill=\"black\" stroke=\"black\" points=\"451,-129.507 447.5,-119.507 444,-129.507 451,-129.507\"/>\r\n",
       "</g>\r\n",
       "<!-- 12 -->\r\n",
       "<g id=\"node13\" class=\"node\"><title>12</title>\r\n",
       "<polygon fill=\"#f1ba93\" stroke=\"black\" points=\"632,-119.5 521,-119.5 521,-81.5 632,-81.5 632,-119.5\"/>\r\n",
       "<text text-anchor=\"middle\" x=\"576.5\" y=\"-104.3\" font-family=\"Times New Roman,serif\" font-size=\"14.00\">samples = 19093</text>\r\n",
       "<text text-anchor=\"middle\" x=\"576.5\" y=\"-89.3\" font-family=\"Times New Roman,serif\" font-size=\"14.00\">value = 0.342</text>\r\n",
       "</g>\r\n",
       "<!-- 10&#45;&gt;12 -->\r\n",
       "<g id=\"edge12\" class=\"edge\"><title>10&#45;&gt;12</title>\r\n",
       "<path fill=\"none\" stroke=\"black\" d=\"M485.507,-162.868C503.101,-151.002 523.878,-136.989 541.133,-125.352\"/>\r\n",
       "<polygon fill=\"black\" stroke=\"black\" points=\"543.467,-128 549.8,-119.507 539.553,-122.196 543.467,-128\"/>\r\n",
       "</g>\r\n",
       "<!-- 14 -->\r\n",
       "<g id=\"node15\" class=\"node\"><title>14</title>\r\n",
       "<polygon fill=\"#fceee5\" stroke=\"black\" points=\"634,-208.5 523,-208.5 523,-170.5 634,-170.5 634,-208.5\"/>\r\n",
       "<text text-anchor=\"middle\" x=\"578.5\" y=\"-193.3\" font-family=\"Times New Roman,serif\" font-size=\"14.00\">samples = 95824</text>\r\n",
       "<text text-anchor=\"middle\" x=\"578.5\" y=\"-178.3\" font-family=\"Times New Roman,serif\" font-size=\"14.00\">value = 0.303</text>\r\n",
       "</g>\r\n",
       "<!-- 13&#45;&gt;14 -->\r\n",
       "<g id=\"edge14\" class=\"edge\"><title>13&#45;&gt;14</title>\r\n",
       "<path fill=\"none\" stroke=\"black\" d=\"M580.616,-251.868C580.256,-241.417 579.838,-229.301 579.469,-218.609\"/>\r\n",
       "<polygon fill=\"black\" stroke=\"black\" points=\"582.964,-218.38 579.121,-208.507 575.968,-218.621 582.964,-218.38\"/>\r\n",
       "</g>\r\n",
       "<!-- 15 -->\r\n",
       "<g id=\"node16\" class=\"node\"><title>15</title>\r\n",
       "<polygon fill=\"#ffffff\" stroke=\"black\" points=\"763,-208.5 652,-208.5 652,-170.5 763,-170.5 763,-208.5\"/>\r\n",
       "<text text-anchor=\"middle\" x=\"707.5\" y=\"-193.3\" font-family=\"Times New Roman,serif\" font-size=\"14.00\">samples = 95419</text>\r\n",
       "<text text-anchor=\"middle\" x=\"707.5\" y=\"-178.3\" font-family=\"Times New Roman,serif\" font-size=\"14.00\">value = 0.29</text>\r\n",
       "</g>\r\n",
       "<!-- 13&#45;&gt;15 -->\r\n",
       "<g id=\"edge15\" class=\"edge\"><title>13&#45;&gt;15</title>\r\n",
       "<path fill=\"none\" stroke=\"black\" d=\"M618.623,-251.868C635.808,-240.002 656.102,-225.989 672.956,-214.352\"/>\r\n",
       "<polygon fill=\"black\" stroke=\"black\" points=\"675.181,-217.069 681.421,-208.507 671.204,-211.308 675.181,-217.069\"/>\r\n",
       "</g>\r\n",
       "<!-- 17 -->\r\n",
       "<g id=\"node18\" class=\"node\"><title>17</title>\r\n",
       "<polygon fill=\"#e58139\" stroke=\"black\" points=\"770,-297.5 659,-297.5 659,-259.5 770,-259.5 770,-297.5\"/>\r\n",
       "<text text-anchor=\"middle\" x=\"714.5\" y=\"-282.3\" font-family=\"Times New Roman,serif\" font-size=\"14.00\">samples = 19098</text>\r\n",
       "<text text-anchor=\"middle\" x=\"714.5\" y=\"-267.3\" font-family=\"Times New Roman,serif\" font-size=\"14.00\">value = 0.385</text>\r\n",
       "</g>\r\n",
       "<!-- 16&#45;&gt;17 -->\r\n",
       "<g id=\"edge17\" class=\"edge\"><title>16&#45;&gt;17</title>\r\n",
       "<path fill=\"none\" stroke=\"black\" d=\"M714.5,-340.868C714.5,-330.417 714.5,-318.301 714.5,-307.609\"/>\r\n",
       "<polygon fill=\"black\" stroke=\"black\" points=\"718,-307.507 714.5,-297.507 711,-307.507 718,-307.507\"/>\r\n",
       "</g>\r\n",
       "<!-- 18 -->\r\n",
       "<g id=\"node19\" class=\"node\"><title>18</title>\r\n",
       "<polygon fill=\"#e99355\" stroke=\"black\" points=\"899,-297.5 788,-297.5 788,-259.5 899,-259.5 899,-297.5\"/>\r\n",
       "<text text-anchor=\"middle\" x=\"843.5\" y=\"-282.3\" font-family=\"Times New Roman,serif\" font-size=\"14.00\">samples = 19103</text>\r\n",
       "<text text-anchor=\"middle\" x=\"843.5\" y=\"-267.3\" font-family=\"Times New Roman,serif\" font-size=\"14.00\">value = 0.371</text>\r\n",
       "</g>\r\n",
       "<!-- 16&#45;&gt;18 -->\r\n",
       "<g id=\"edge18\" class=\"edge\"><title>16&#45;&gt;18</title>\r\n",
       "<path fill=\"none\" stroke=\"black\" d=\"M752.507,-340.868C770.101,-329.002 790.878,-314.989 808.133,-303.352\"/>\r\n",
       "<polygon fill=\"black\" stroke=\"black\" points=\"810.467,-306 816.8,-297.507 806.553,-300.196 810.467,-306\"/>\r\n",
       "</g>\r\n",
       "</g>\r\n",
       "</svg>\r\n"
      ],
      "text/plain": [
       "<graphviz.files.Source at 0x1c5920f51c0>"
      ]
     },
     "metadata": {},
     "output_type": "display_data"
    }
   ],
   "source": [
    "import graphviz\n",
    "with open(\"tree.dot\") as f:\n",
    "    dot_graph = f.read()\n",
    "display(graphviz.Source(dot_graph))"
   ]
  },
  {
   "cell_type": "code",
   "execution_count": 157,
   "id": "fdfdbda1",
   "metadata": {},
   "outputs": [],
   "source": [
    "x1 = voting_df['control']\n",
    "\n",
    "x1 = np.array(x1).reshape(-1, 1)"
   ]
  },
  {
   "cell_type": "code",
   "execution_count": 158,
   "id": "63cb2d19",
   "metadata": {},
   "outputs": [
    {
     "data": {
      "text/plain": [
       "array([[0],\n",
       "       [0],\n",
       "       [0],\n",
       "       ...,\n",
       "       [1],\n",
       "       [1],\n",
       "       [1]], dtype=int64)"
      ]
     },
     "execution_count": 158,
     "metadata": {},
     "output_type": "execute_result"
    }
   ],
   "source": [
    "x1"
   ]
  },
  {
   "cell_type": "code",
   "execution_count": 159,
   "id": "d05f07c4",
   "metadata": {},
   "outputs": [
    {
     "data": {
      "text/plain": [
       "(344084,)"
      ]
     },
     "execution_count": 159,
     "metadata": {},
     "output_type": "execute_result"
    }
   ],
   "source": [
    "y1 = voting_df['voting']\n",
    "y1.shape"
   ]
  },
  {
   "cell_type": "code",
   "execution_count": 160,
   "id": "2425331e",
   "metadata": {},
   "outputs": [
    {
     "name": "stdout",
     "output_type": "stream",
     "text": [
      "Accuracy on training set: 0.002\n"
     ]
    }
   ],
   "source": [
    "from sklearn.model_selection import train_test_split\n",
    "from sklearn.tree import DecisionTreeRegressor\n",
    "\n",
    "#X_train1, X_test1, y_train1, y_test1 = train_test_split(\n",
    " #x1, y1, random_state=42)\n",
    "tree = DecisionTreeRegressor(random_state=0)\n",
    "tree.fit(x1, y1)\n",
    "print(\"Accuracy on training set: {:.3f}\".format(tree.score(x1, y1)))\n",
    "#print(\"Accuracy on test set: {:.3f}\".format(tree.score(X_test1, y_test1)))"
   ]
  },
  {
   "cell_type": "code",
   "execution_count": 161,
   "id": "add6ef15",
   "metadata": {},
   "outputs": [],
   "source": [
    "d1 = ['control']\n",
    "export_graphviz(tree, out_file=\"tree.dot\", class_names=['voting'],\n",
    " feature_names=d1, impurity=False, filled=True)"
   ]
  },
  {
   "cell_type": "code",
   "execution_count": 162,
   "id": "7c9c6bc6",
   "metadata": {},
   "outputs": [
    {
     "data": {
      "image/svg+xml": [
       "<?xml version=\"1.0\" encoding=\"UTF-8\" standalone=\"no\"?>\r\n",
       "<!DOCTYPE svg PUBLIC \"-//W3C//DTD SVG 1.1//EN\"\r\n",
       " \"http://www.w3.org/Graphics/SVG/1.1/DTD/svg11.dtd\">\r\n",
       "<!-- Generated by graphviz version 2.38.0 (20140413.2041)\r\n",
       " -->\r\n",
       "<!-- Title: Tree Pages: 1 -->\r\n",
       "<svg width=\"262pt\" height=\"135pt\"\r\n",
       " viewBox=\"0.00 0.00 262.00 135.00\" xmlns=\"http://www.w3.org/2000/svg\" xmlns:xlink=\"http://www.w3.org/1999/xlink\">\r\n",
       "<g id=\"graph0\" class=\"graph\" transform=\"scale(1 1) rotate(0) translate(4 131)\">\r\n",
       "<title>Tree</title>\r\n",
       "<polygon fill=\"white\" stroke=\"none\" points=\"-4,4 -4,-131 258,-131 258,4 -4,4\"/>\r\n",
       "<!-- 0 -->\r\n",
       "<g id=\"node1\" class=\"node\"><title>0</title>\r\n",
       "<polygon fill=\"#f3c7a7\" stroke=\"black\" points=\"186,-127 68,-127 68,-74 186,-74 186,-127\"/>\r\n",
       "<text text-anchor=\"middle\" x=\"127\" y=\"-111.8\" font-family=\"Times New Roman,serif\" font-size=\"14.00\">control &lt;= 0.5</text>\r\n",
       "<text text-anchor=\"middle\" x=\"127\" y=\"-96.8\" font-family=\"Times New Roman,serif\" font-size=\"14.00\">samples = 344084</text>\r\n",
       "<text text-anchor=\"middle\" x=\"127\" y=\"-81.8\" font-family=\"Times New Roman,serif\" font-size=\"14.00\">value = 0.316</text>\r\n",
       "</g>\r\n",
       "<!-- 1 -->\r\n",
       "<g id=\"node2\" class=\"node\"><title>1</title>\r\n",
       "<polygon fill=\"#e58139\" stroke=\"black\" points=\"118,-38 0,-38 0,-0 118,-0 118,-38\"/>\r\n",
       "<text text-anchor=\"middle\" x=\"59\" y=\"-22.8\" font-family=\"Times New Roman,serif\" font-size=\"14.00\">samples = 152841</text>\r\n",
       "<text text-anchor=\"middle\" x=\"59\" y=\"-7.8\" font-family=\"Times New Roman,serif\" font-size=\"14.00\">value = 0.34</text>\r\n",
       "</g>\r\n",
       "<!-- 0&#45;&gt;1 -->\r\n",
       "<g id=\"edge1\" class=\"edge\"><title>0&#45;&gt;1</title>\r\n",
       "<path fill=\"none\" stroke=\"black\" d=\"M105.11,-73.9081C97.5003,-65.0114 88.9596,-55.0262 81.3158,-46.0898\"/>\r\n",
       "<polygon fill=\"black\" stroke=\"black\" points=\"83.7604,-43.5632 74.6006,-38.2389 78.4409,-48.1133 83.7604,-43.5632\"/>\r\n",
       "<text text-anchor=\"middle\" x=\"72.6573\" y=\"-59.4633\" font-family=\"Times New Roman,serif\" font-size=\"14.00\">True</text>\r\n",
       "</g>\r\n",
       "<!-- 2 -->\r\n",
       "<g id=\"node3\" class=\"node\"><title>2</title>\r\n",
       "<polygon fill=\"#ffffff\" stroke=\"black\" points=\"254,-38 136,-38 136,-0 254,-0 254,-38\"/>\r\n",
       "<text text-anchor=\"middle\" x=\"195\" y=\"-22.8\" font-family=\"Times New Roman,serif\" font-size=\"14.00\">samples = 191243</text>\r\n",
       "<text text-anchor=\"middle\" x=\"195\" y=\"-7.8\" font-family=\"Times New Roman,serif\" font-size=\"14.00\">value = 0.297</text>\r\n",
       "</g>\r\n",
       "<!-- 0&#45;&gt;2 -->\r\n",
       "<g id=\"edge2\" class=\"edge\"><title>0&#45;&gt;2</title>\r\n",
       "<path fill=\"none\" stroke=\"black\" d=\"M148.89,-73.9081C156.5,-65.0114 165.04,-55.0262 172.684,-46.0898\"/>\r\n",
       "<polygon fill=\"black\" stroke=\"black\" points=\"175.559,-48.1133 179.399,-38.2389 170.24,-43.5632 175.559,-48.1133\"/>\r\n",
       "<text text-anchor=\"middle\" x=\"181.343\" y=\"-59.4633\" font-family=\"Times New Roman,serif\" font-size=\"14.00\">False</text>\r\n",
       "</g>\r\n",
       "</g>\r\n",
       "</svg>\r\n"
      ],
      "text/plain": [
       "<graphviz.files.Source at 0x1c5920f5400>"
      ]
     },
     "metadata": {},
     "output_type": "display_data"
    }
   ],
   "source": [
    "import graphviz\n",
    "with open(\"tree.dot\") as f:\n",
    " dot_graph = f.read()\n",
    "display(graphviz.Source(dot_graph))"
   ]
  },
  {
   "cell_type": "code",
   "execution_count": 163,
   "id": "39012723",
   "metadata": {},
   "outputs": [],
   "source": [
    "###In the \"control\" only tree, what is the absolute value of the difference in the predicted probability of voting between being in the control group versus being in a different group? You can use the absolute value function to get answer, i.e. abs(Control Prediction - Non-Control Prediction). Add the argument \"digits = 6\" to the prp command to get a more accurate estimate.\n",
    "#is  0.043"
   ]
  },
  {
   "cell_type": "code",
   "execution_count": 164,
   "id": "0563988c",
   "metadata": {},
   "outputs": [],
   "source": [
    "x2 = voting_df[['sex', 'control']]\n",
    "y2 = voting_df['voting']"
   ]
  },
  {
   "cell_type": "code",
   "execution_count": 165,
   "id": "9d4835d2",
   "metadata": {},
   "outputs": [
    {
     "name": "stdout",
     "output_type": "stream",
     "text": [
      "Accuracy on training set: 0.002\n"
     ]
    }
   ],
   "source": [
    "from sklearn.model_selection import train_test_split\n",
    "from sklearn.tree import DecisionTreeRegressor\n",
    "\n",
    "tree = DecisionTreeRegressor(random_state=0)\n",
    "tree.fit(x2, y2)\n",
    "print(\"Accuracy on training set: {:.3f}\".format(tree.score(x2, y2)))\n",
    "#print(\"Accuracy on test set: {:.3f}\".format(tree.score(X_test1, y_test1)))"
   ]
  },
  {
   "cell_type": "code",
   "execution_count": 166,
   "id": "7b042f3b",
   "metadata": {},
   "outputs": [],
   "source": [
    "d2 = ['sex', 'control']\n",
    "\n",
    "export_graphviz(tree, out_file=\"tree.dot\", class_names=['voting'], feature_names=d2, impurity=False, filled=True)"
   ]
  },
  {
   "cell_type": "code",
   "execution_count": 167,
   "id": "d5cb5952",
   "metadata": {},
   "outputs": [
    {
     "data": {
      "image/svg+xml": [
       "<?xml version=\"1.0\" encoding=\"UTF-8\" standalone=\"no\"?>\r\n",
       "<!DOCTYPE svg PUBLIC \"-//W3C//DTD SVG 1.1//EN\"\r\n",
       " \"http://www.w3.org/Graphics/SVG/1.1/DTD/svg11.dtd\">\r\n",
       "<!-- Generated by graphviz version 2.38.0 (20140413.2041)\r\n",
       " -->\r\n",
       "<!-- Title: Tree Pages: 1 -->\r\n",
       "<svg width=\"509pt\" height=\"224pt\"\r\n",
       " viewBox=\"0.00 0.00 509.00 224.00\" xmlns=\"http://www.w3.org/2000/svg\" xmlns:xlink=\"http://www.w3.org/1999/xlink\">\r\n",
       "<g id=\"graph0\" class=\"graph\" transform=\"scale(1 1) rotate(0) translate(4 220)\">\r\n",
       "<title>Tree</title>\r\n",
       "<polygon fill=\"white\" stroke=\"none\" points=\"-4,4 -4,-220 505,-220 505,4 -4,4\"/>\r\n",
       "<!-- 0 -->\r\n",
       "<g id=\"node1\" class=\"node\"><title>0</title>\r\n",
       "<polygon fill=\"#f3c5a4\" stroke=\"black\" points=\"309.5,-216 191.5,-216 191.5,-163 309.5,-163 309.5,-216\"/>\r\n",
       "<text text-anchor=\"middle\" x=\"250.5\" y=\"-200.8\" font-family=\"Times New Roman,serif\" font-size=\"14.00\">control &lt;= 0.5</text>\r\n",
       "<text text-anchor=\"middle\" x=\"250.5\" y=\"-185.8\" font-family=\"Times New Roman,serif\" font-size=\"14.00\">samples = 344084</text>\r\n",
       "<text text-anchor=\"middle\" x=\"250.5\" y=\"-170.8\" font-family=\"Times New Roman,serif\" font-size=\"14.00\">value = 0.316</text>\r\n",
       "</g>\r\n",
       "<!-- 1 -->\r\n",
       "<g id=\"node2\" class=\"node\"><title>1</title>\r\n",
       "<polygon fill=\"#e88e4e\" stroke=\"black\" points=\"241.5,-127 123.5,-127 123.5,-74 241.5,-74 241.5,-127\"/>\r\n",
       "<text text-anchor=\"middle\" x=\"182.5\" y=\"-111.8\" font-family=\"Times New Roman,serif\" font-size=\"14.00\">sex &lt;= 0.5</text>\r\n",
       "<text text-anchor=\"middle\" x=\"182.5\" y=\"-96.8\" font-family=\"Times New Roman,serif\" font-size=\"14.00\">samples = 152841</text>\r\n",
       "<text text-anchor=\"middle\" x=\"182.5\" y=\"-81.8\" font-family=\"Times New Roman,serif\" font-size=\"14.00\">value = 0.34</text>\r\n",
       "</g>\r\n",
       "<!-- 0&#45;&gt;1 -->\r\n",
       "<g id=\"edge1\" class=\"edge\"><title>0&#45;&gt;1</title>\r\n",
       "<path fill=\"none\" stroke=\"black\" d=\"M230.466,-162.868C223.678,-154.184 215.992,-144.35 208.793,-135.139\"/>\r\n",
       "<polygon fill=\"black\" stroke=\"black\" points=\"211.542,-132.973 202.626,-127.25 206.027,-137.284 211.542,-132.973\"/>\r\n",
       "<text text-anchor=\"middle\" x=\"199.584\" y=\"-148.364\" font-family=\"Times New Roman,serif\" font-size=\"14.00\">True</text>\r\n",
       "</g>\r\n",
       "<!-- 4 -->\r\n",
       "<g id=\"node5\" class=\"node\"><title>4</title>\r\n",
       "<polygon fill=\"#fcf1e9\" stroke=\"black\" points=\"377.5,-127 259.5,-127 259.5,-74 377.5,-74 377.5,-127\"/>\r\n",
       "<text text-anchor=\"middle\" x=\"318.5\" y=\"-111.8\" font-family=\"Times New Roman,serif\" font-size=\"14.00\">sex &lt;= 0.5</text>\r\n",
       "<text text-anchor=\"middle\" x=\"318.5\" y=\"-96.8\" font-family=\"Times New Roman,serif\" font-size=\"14.00\">samples = 191243</text>\r\n",
       "<text text-anchor=\"middle\" x=\"318.5\" y=\"-81.8\" font-family=\"Times New Roman,serif\" font-size=\"14.00\">value = 0.297</text>\r\n",
       "</g>\r\n",
       "<!-- 0&#45;&gt;4 -->\r\n",
       "<g id=\"edge4\" class=\"edge\"><title>0&#45;&gt;4</title>\r\n",
       "<path fill=\"none\" stroke=\"black\" d=\"M270.534,-162.868C277.322,-154.184 285.008,-144.35 292.207,-135.139\"/>\r\n",
       "<polygon fill=\"black\" stroke=\"black\" points=\"294.973,-137.284 298.374,-127.25 289.458,-132.973 294.973,-137.284\"/>\r\n",
       "<text text-anchor=\"middle\" x=\"301.416\" y=\"-148.364\" font-family=\"Times New Roman,serif\" font-size=\"14.00\">False</text>\r\n",
       "</g>\r\n",
       "<!-- 2 -->\r\n",
       "<g id=\"node3\" class=\"node\"><title>2</title>\r\n",
       "<polygon fill=\"#e58139\" stroke=\"black\" points=\"111,-38 0,-38 0,-0 111,-0 111,-38\"/>\r\n",
       "<text text-anchor=\"middle\" x=\"55.5\" y=\"-22.8\" font-family=\"Times New Roman,serif\" font-size=\"14.00\">samples = 76465</text>\r\n",
       "<text text-anchor=\"middle\" x=\"55.5\" y=\"-7.8\" font-family=\"Times New Roman,serif\" font-size=\"14.00\">value = 0.346</text>\r\n",
       "</g>\r\n",
       "<!-- 1&#45;&gt;2 -->\r\n",
       "<g id=\"edge2\" class=\"edge\"><title>1&#45;&gt;2</title>\r\n",
       "<path fill=\"none\" stroke=\"black\" d=\"M141.617,-73.9081C126.1,-64.1943 108.509,-53.1831 93.2899,-43.6559\"/>\r\n",
       "<polygon fill=\"black\" stroke=\"black\" points=\"94.9697,-40.5783 84.6364,-38.2389 91.2555,-46.5116 94.9697,-40.5783\"/>\r\n",
       "</g>\r\n",
       "<!-- 3 -->\r\n",
       "<g id=\"node4\" class=\"node\"><title>3</title>\r\n",
       "<polygon fill=\"#ea9b63\" stroke=\"black\" points=\"240,-38 129,-38 129,-0 240,-0 240,-38\"/>\r\n",
       "<text text-anchor=\"middle\" x=\"184.5\" y=\"-22.8\" font-family=\"Times New Roman,serif\" font-size=\"14.00\">samples = 76376</text>\r\n",
       "<text text-anchor=\"middle\" x=\"184.5\" y=\"-7.8\" font-family=\"Times New Roman,serif\" font-size=\"14.00\">value = 0.334</text>\r\n",
       "</g>\r\n",
       "<!-- 1&#45;&gt;3 -->\r\n",
       "<g id=\"edge3\" class=\"edge\"><title>1&#45;&gt;3</title>\r\n",
       "<path fill=\"none\" stroke=\"black\" d=\"M183.144,-73.9081C183.349,-65.7377 183.578,-56.6492 183.788,-48.2981\"/>\r\n",
       "<polygon fill=\"black\" stroke=\"black\" points=\"187.288,-48.3238 184.041,-38.2389 180.291,-48.1477 187.288,-48.3238\"/>\r\n",
       "</g>\r\n",
       "<!-- 5 -->\r\n",
       "<g id=\"node6\" class=\"node\"><title>5</title>\r\n",
       "<polygon fill=\"#f9e3d3\" stroke=\"black\" points=\"372,-38 261,-38 261,-0 372,-0 372,-38\"/>\r\n",
       "<text text-anchor=\"middle\" x=\"316.5\" y=\"-22.8\" font-family=\"Times New Roman,serif\" font-size=\"14.00\">samples = 95824</text>\r\n",
       "<text text-anchor=\"middle\" x=\"316.5\" y=\"-7.8\" font-family=\"Times New Roman,serif\" font-size=\"14.00\">value = 0.303</text>\r\n",
       "</g>\r\n",
       "<!-- 4&#45;&gt;5 -->\r\n",
       "<g id=\"edge5\" class=\"edge\"><title>4&#45;&gt;5</title>\r\n",
       "<path fill=\"none\" stroke=\"black\" d=\"M317.856,-73.9081C317.651,-65.7377 317.422,-56.6492 317.212,-48.2981\"/>\r\n",
       "<polygon fill=\"black\" stroke=\"black\" points=\"320.709,-48.1477 316.959,-38.2389 313.712,-48.3238 320.709,-48.1477\"/>\r\n",
       "</g>\r\n",
       "<!-- 6 -->\r\n",
       "<g id=\"node7\" class=\"node\"><title>6</title>\r\n",
       "<polygon fill=\"#ffffff\" stroke=\"black\" points=\"501,-38 390,-38 390,-0 501,-0 501,-38\"/>\r\n",
       "<text text-anchor=\"middle\" x=\"445.5\" y=\"-22.8\" font-family=\"Times New Roman,serif\" font-size=\"14.00\">samples = 95419</text>\r\n",
       "<text text-anchor=\"middle\" x=\"445.5\" y=\"-7.8\" font-family=\"Times New Roman,serif\" font-size=\"14.00\">value = 0.29</text>\r\n",
       "</g>\r\n",
       "<!-- 4&#45;&gt;6 -->\r\n",
       "<g id=\"edge6\" class=\"edge\"><title>4&#45;&gt;6</title>\r\n",
       "<path fill=\"none\" stroke=\"black\" d=\"M359.383,-73.9081C374.9,-64.1943 392.491,-53.1831 407.71,-43.6559\"/>\r\n",
       "<polygon fill=\"black\" stroke=\"black\" points=\"409.744,-46.5116 416.364,-38.2389 406.03,-40.5783 409.744,-46.5116\"/>\r\n",
       "</g>\r\n",
       "</g>\r\n",
       "</svg>\r\n"
      ],
      "text/plain": [
       "<graphviz.files.Source at 0x1c591c45dc0>"
      ]
     },
     "metadata": {},
     "output_type": "display_data"
    }
   ],
   "source": [
    "import graphviz\n",
    "with open(\"tree.dot\") as f:\n",
    "    dot_graph = f.read()\n",
    "display(graphviz.Source(dot_graph))"
   ]
  },
  {
   "cell_type": "markdown",
   "id": "e66a48f0",
   "metadata": {},
   "source": [
    "##### In the above decision tree, for the sex feature, left side is for male and right side is for female. By looking at the decision trees, In the control group men are more likely to vote."
   ]
  }
 ],
 "metadata": {
  "kernelspec": {
   "display_name": "Python 3",
   "language": "python",
   "name": "python3"
  },
  "language_info": {
   "codemirror_mode": {
    "name": "ipython",
    "version": 3
   },
   "file_extension": ".py",
   "mimetype": "text/x-python",
   "name": "python",
   "nbconvert_exporter": "python",
   "pygments_lexer": "ipython3",
   "version": "3.8.8"
  }
 },
 "nbformat": 4,
 "nbformat_minor": 5
}
