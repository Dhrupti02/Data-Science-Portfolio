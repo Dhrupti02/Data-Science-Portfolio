{
 "cells": [
  {
   "cell_type": "code",
   "execution_count": 1,
   "id": "e4964a0d",
   "metadata": {},
   "outputs": [],
   "source": [
    "import pandas as pd\n",
    "import numpy as np\n",
    "from datetime import date"
   ]
  },
  {
   "cell_type": "code",
   "execution_count": 2,
   "id": "8e096e69",
   "metadata": {},
   "outputs": [],
   "source": [
    "data1 = pd.read_excel('Big Game Census data.xlsx')\n",
    "data2 = pd.read_excel('All Places Census 2016 Population Estimates.xlsx')\n",
    "data3 = pd.read_excel('All states Census 2017 Population Estimates.xlsx')"
   ]
  },
  {
   "cell_type": "code",
   "execution_count": 3,
   "id": "697cb906",
   "metadata": {},
   "outputs": [
    {
     "data": {
      "text/plain": [
       "Player Name                                                 2\n",
       "Player Jersey Number                                        3\n",
       "Player Position                                             3\n",
       "Player Age                                                  3\n",
       "Player Weight (lbs.)                                        3\n",
       "Years Played                                                3\n",
       "Player Birthplace (city, town, etc.)                        3\n",
       "Player Birth State                                          3\n",
       "Player Birthplace (Combo)                                   3\n",
       "Player College                                              3\n",
       "Player Team                                                 3\n",
       "Conference                                                  3\n",
       "2016 Population Estimates (except where otherwise noted)    3\n",
       "State GEO ID                                                3\n",
       "Full GEOID                                                  3\n",
       "Latitude (player birthplace)                                3\n",
       "Longitude (player birthplace)                               3\n",
       "Number from City                                            3\n",
       "Number of Records                                           3\n",
       "American FactFinder Link for more Census data points        3\n",
       "Quickfacts Link                                             3\n",
       "State Data Link                                             3\n",
       "Source (Population States 2017)                             3\n",
       "Birthplace, Population Data Source                          3\n",
       "dtype: int64"
      ]
     },
     "execution_count": 3,
     "metadata": {},
     "output_type": "execute_result"
    }
   ],
   "source": [
    "data1.isnull().sum()"
   ]
  },
  {
   "cell_type": "code",
   "execution_count": 8,
   "id": "d8d3e1ba",
   "metadata": {},
   "outputs": [
    {
     "data": {
      "text/plain": [
       "Geographic ID                                0\n",
       "GEOID 2                                      0\n",
       "Geography, full name (City, State)           0\n",
       "April 1, 2010 - Census                       0\n",
       "April 1, 2010 - Estimates Base               0\n",
       "Population Estimate (as of July 1) - 2010    0\n",
       "Population Estimate (as of July 1) - 2011    0\n",
       "Population Estimate (as of July 1) - 2012    0\n",
       "Population Estimate (as of July 1) - 2013    0\n",
       "Population Estimate (as of July 1) - 2014    0\n",
       "Population Estimate (as of July 1) - 2015    0\n",
       "Population Estimate (as of July 1) - 2016    0\n",
       "dtype: int64"
      ]
     },
     "execution_count": 8,
     "metadata": {},
     "output_type": "execute_result"
    }
   ],
   "source": [
    "data2.isnull().sum()"
   ]
  },
  {
   "cell_type": "code",
   "execution_count": 9,
   "id": "97c7026a",
   "metadata": {},
   "outputs": [
    {
     "data": {
      "text/plain": [
       "GEOID                                        0\n",
       "GEOID2                                       0\n",
       "Geography Name                               0\n",
       "April 1, 2010 - Census                       0\n",
       "April 1, 2010 - Estimates Base               0\n",
       "Population Estimate (as of July 1) - 2010    0\n",
       "Population Estimate (as of July 1) - 2011    0\n",
       "Population Estimate (as of July 1) - 2012    0\n",
       "Population Estimate (as of July 1) - 2013    0\n",
       "Population Estimate (as of July 1) - 2014    0\n",
       "Population Estimate (as of July 1) - 2015    0\n",
       "Population Estimate (as of July 1) - 2016    0\n",
       "Population Estimate (as of July 1) - 2017    0\n",
       "dtype: int64"
      ]
     },
     "execution_count": 9,
     "metadata": {},
     "output_type": "execute_result"
    }
   ],
   "source": [
    "data3.isnull().sum()"
   ]
  },
  {
   "cell_type": "code",
   "execution_count": null,
   "id": "2f343049",
   "metadata": {},
   "outputs": [],
   "source": []
  },
  {
   "cell_type": "code",
   "execution_count": 10,
   "id": "0a3727b8",
   "metadata": {},
   "outputs": [
    {
     "data": {
      "text/html": [
       "<div>\n",
       "<style scoped>\n",
       "    .dataframe tbody tr th:only-of-type {\n",
       "        vertical-align: middle;\n",
       "    }\n",
       "\n",
       "    .dataframe tbody tr th {\n",
       "        vertical-align: top;\n",
       "    }\n",
       "\n",
       "    .dataframe thead th {\n",
       "        text-align: right;\n",
       "    }\n",
       "</style>\n",
       "<table border=\"1\" class=\"dataframe\">\n",
       "  <thead>\n",
       "    <tr style=\"text-align: right;\">\n",
       "      <th></th>\n",
       "      <th>Player Name</th>\n",
       "      <th>Player Jersey Number</th>\n",
       "      <th>Player Position</th>\n",
       "      <th>Player Age</th>\n",
       "      <th>Player Weight (lbs.)</th>\n",
       "      <th>Years Played</th>\n",
       "      <th>Player Birthplace (city, town, etc.)</th>\n",
       "      <th>Player Birth State</th>\n",
       "      <th>Player Birthplace (Combo)</th>\n",
       "      <th>Player College</th>\n",
       "      <th>...</th>\n",
       "      <th>Full GEOID</th>\n",
       "      <th>Latitude (player birthplace)</th>\n",
       "      <th>Longitude (player birthplace)</th>\n",
       "      <th>Number from City</th>\n",
       "      <th>Number of Records</th>\n",
       "      <th>American FactFinder Link for more Census data points</th>\n",
       "      <th>Quickfacts Link</th>\n",
       "      <th>State Data Link</th>\n",
       "      <th>Source (Population States 2017)</th>\n",
       "      <th>Birthplace, Population Data Source</th>\n",
       "    </tr>\n",
       "  </thead>\n",
       "  <tbody>\n",
       "    <tr>\n",
       "      <th>118</th>\n",
       "      <td>NaN</td>\n",
       "      <td>NaN</td>\n",
       "      <td>NaN</td>\n",
       "      <td>NaN</td>\n",
       "      <td>NaN</td>\n",
       "      <td>NaN</td>\n",
       "      <td>NaN</td>\n",
       "      <td>NaN</td>\n",
       "      <td>NaN</td>\n",
       "      <td>NaN</td>\n",
       "      <td>...</td>\n",
       "      <td>NaN</td>\n",
       "      <td>NaN</td>\n",
       "      <td>NaN</td>\n",
       "      <td>NaN</td>\n",
       "      <td>NaN</td>\n",
       "      <td>NaN</td>\n",
       "      <td>NaN</td>\n",
       "      <td>NaN</td>\n",
       "      <td>NaN</td>\n",
       "      <td>NaN</td>\n",
       "    </tr>\n",
       "    <tr>\n",
       "      <th>119</th>\n",
       "      <td>NaN</td>\n",
       "      <td>NaN</td>\n",
       "      <td>NaN</td>\n",
       "      <td>NaN</td>\n",
       "      <td>NaN</td>\n",
       "      <td>NaN</td>\n",
       "      <td>NaN</td>\n",
       "      <td>NaN</td>\n",
       "      <td>NaN</td>\n",
       "      <td>NaN</td>\n",
       "      <td>...</td>\n",
       "      <td>NaN</td>\n",
       "      <td>NaN</td>\n",
       "      <td>NaN</td>\n",
       "      <td>NaN</td>\n",
       "      <td>NaN</td>\n",
       "      <td>NaN</td>\n",
       "      <td>NaN</td>\n",
       "      <td>NaN</td>\n",
       "      <td>NaN</td>\n",
       "      <td>NaN</td>\n",
       "    </tr>\n",
       "    <tr>\n",
       "      <th>120</th>\n",
       "      <td>Player data from Yahoo Sports</td>\n",
       "      <td>NaN</td>\n",
       "      <td>NaN</td>\n",
       "      <td>NaN</td>\n",
       "      <td>NaN</td>\n",
       "      <td>NaN</td>\n",
       "      <td>NaN</td>\n",
       "      <td>NaN</td>\n",
       "      <td>NaN</td>\n",
       "      <td>NaN</td>\n",
       "      <td>...</td>\n",
       "      <td>NaN</td>\n",
       "      <td>NaN</td>\n",
       "      <td>NaN</td>\n",
       "      <td>NaN</td>\n",
       "      <td>NaN</td>\n",
       "      <td>NaN</td>\n",
       "      <td>NaN</td>\n",
       "      <td>NaN</td>\n",
       "      <td>NaN</td>\n",
       "      <td>NaN</td>\n",
       "    </tr>\n",
       "  </tbody>\n",
       "</table>\n",
       "<p>3 rows × 24 columns</p>\n",
       "</div>"
      ],
      "text/plain": [
       "                       Player Name Player Jersey Number Player Position  \\\n",
       "118                            NaN                  NaN             NaN   \n",
       "119                            NaN                  NaN             NaN   \n",
       "120  Player data from Yahoo Sports                  NaN             NaN   \n",
       "\n",
       "     Player Age  Player Weight (lbs.) Years Played  \\\n",
       "118         NaN                   NaN          NaN   \n",
       "119         NaN                   NaN          NaN   \n",
       "120         NaN                   NaN          NaN   \n",
       "\n",
       "    Player Birthplace (city, town, etc.) Player Birth State  \\\n",
       "118                                  NaN                NaN   \n",
       "119                                  NaN                NaN   \n",
       "120                                  NaN                NaN   \n",
       "\n",
       "    Player Birthplace (Combo) Player College  ... Full GEOID  \\\n",
       "118                       NaN            NaN  ...        NaN   \n",
       "119                       NaN            NaN  ...        NaN   \n",
       "120                       NaN            NaN  ...        NaN   \n",
       "\n",
       "    Latitude (player birthplace) Longitude (player birthplace)  \\\n",
       "118                          NaN                           NaN   \n",
       "119                          NaN                           NaN   \n",
       "120                          NaN                           NaN   \n",
       "\n",
       "     Number from City Number of Records  \\\n",
       "118               NaN               NaN   \n",
       "119               NaN               NaN   \n",
       "120               NaN               NaN   \n",
       "\n",
       "     American FactFinder Link for more Census data points  Quickfacts Link  \\\n",
       "118                                                NaN                 NaN   \n",
       "119                                                NaN                 NaN   \n",
       "120                                                NaN                 NaN   \n",
       "\n",
       "     State Data Link  Source (Population States 2017)  \\\n",
       "118              NaN                              NaN   \n",
       "119              NaN                              NaN   \n",
       "120              NaN                              NaN   \n",
       "\n",
       "    Birthplace, Population Data Source  \n",
       "118                                NaN  \n",
       "119                                NaN  \n",
       "120                                NaN  \n",
       "\n",
       "[3 rows x 24 columns]"
      ]
     },
     "execution_count": 10,
     "metadata": {},
     "output_type": "execute_result"
    }
   ],
   "source": [
    "data1[data1['State Data Link'].isna()]"
   ]
  },
  {
   "cell_type": "code",
   "execution_count": 14,
   "id": "d98f5c3c",
   "metadata": {},
   "outputs": [],
   "source": [
    "data1.dropna(inplace=True)"
   ]
  },
  {
   "cell_type": "code",
   "execution_count": 16,
   "id": "3e9604f7",
   "metadata": {},
   "outputs": [
    {
     "data": {
      "text/plain": [
       "Player Name                                                 0\n",
       "Player Jersey Number                                        0\n",
       "Player Position                                             0\n",
       "Player Age                                                  0\n",
       "Player Weight (lbs.)                                        0\n",
       "Years Played                                                0\n",
       "Player Birthplace (city, town, etc.)                        0\n",
       "Player Birth State                                          0\n",
       "Player Birthplace (Combo)                                   0\n",
       "Player College                                              0\n",
       "Player Team                                                 0\n",
       "Conference                                                  0\n",
       "2016 Population Estimates (except where otherwise noted)    0\n",
       "State GEO ID                                                0\n",
       "Full GEOID                                                  0\n",
       "Latitude (player birthplace)                                0\n",
       "Longitude (player birthplace)                               0\n",
       "Number from City                                            0\n",
       "Number of Records                                           0\n",
       "American FactFinder Link for more Census data points        0\n",
       "Quickfacts Link                                             0\n",
       "State Data Link                                             0\n",
       "Source (Population States 2017)                             0\n",
       "Birthplace, Population Data Source                          0\n",
       "dtype: int64"
      ]
     },
     "execution_count": 16,
     "metadata": {},
     "output_type": "execute_result"
    }
   ],
   "source": [
    "data1.isnull().sum()"
   ]
  },
  {
   "cell_type": "code",
   "execution_count": 17,
   "id": "a11ffc03",
   "metadata": {},
   "outputs": [],
   "source": [
    "data1.to_excel('Big game census.xlsx')"
   ]
  },
  {
   "cell_type": "code",
   "execution_count": 18,
   "id": "0ffc7794",
   "metadata": {},
   "outputs": [],
   "source": [
    "df = pd.read_excel('Big game census.xlsx')"
   ]
  },
  {
   "cell_type": "code",
   "execution_count": 19,
   "id": "32a38239",
   "metadata": {},
   "outputs": [
    {
     "data": {
      "text/plain": [
       "Player Birth State  Player Team \n",
       "Alabama             New England     2\n",
       "American Samoa      Philadelphia    1\n",
       "Arizona             New England     1\n",
       "California          Philadelphia    9\n",
       "                    New England     6\n",
       "Colorado            New England     1\n",
       "Delaware            New England     1\n",
       "                    Philadelphia    1\n",
       "England             Philadelphia    1\n",
       "Florida             Philadelphia    7\n",
       "                    New England     6\n",
       "Georgia             New England     3\n",
       "                    Philadelphia    1\n",
       "Hawaii              Philadelphia    2\n",
       "Illinois            New England     2\n",
       "                    Philadelphia    1\n",
       "Iowa                New England     1\n",
       "                    Philadelphia    1\n",
       "Jamaica             New England     1\n",
       "Kansas              New England     1\n",
       "Louisiana           New England     1\n",
       "                    Philadelphia    1\n",
       "Maryland            Philadelphia    3\n",
       "                    New England     1\n",
       "Michigan            New England     1\n",
       "                    Philadelphia    1\n",
       "Minnesota           Philadelphia    1\n",
       "Mississippi         New England     2\n",
       "                    Philadelphia    1\n",
       "Montana             New England     1\n",
       "Nevada              New England     2\n",
       "                    Philadelphia    1\n",
       "New Jersey          Philadelphia    5\n",
       "                    New England     2\n",
       "New Mexico          New England     1\n",
       "New York            New England     3\n",
       "                    Philadelphia    2\n",
       "North Carolina      New England     2\n",
       "                    Philadelphia    2\n",
       "Ohio                New England     5\n",
       "                    Philadelphia    4\n",
       "Oregon              New England     2\n",
       "Pennsylvania        Philadelphia    2\n",
       "                    New England     1\n",
       "South Carolina      New England     1\n",
       "                    Philadelphia    1\n",
       "South Dakota        Philadelphia    1\n",
       "Tennessee           New England     1\n",
       "                    Philadelphia    1\n",
       "Texas               New England     9\n",
       "                    Philadelphia    5\n",
       "Virginia            Philadelphia    1\n",
       "Washington          Philadelphia    1\n",
       "Wisconsin           Philadelphia    1\n",
       "Name: Player Team, dtype: int64"
      ]
     },
     "execution_count": 19,
     "metadata": {},
     "output_type": "execute_result"
    }
   ],
   "source": [
    "df.groupby('Player Birth State')['Player Team'].value_counts()"
   ]
  },
  {
   "cell_type": "code",
   "execution_count": 20,
   "id": "8c6cc98a",
   "metadata": {},
   "outputs": [
    {
     "data": {
      "text/plain": [
       "California        15\n",
       "Texas             14\n",
       "Florida           13\n",
       "Ohio               9\n",
       "New Jersey         7\n",
       "New York           5\n",
       "Maryland           4\n",
       "North Carolina     4\n",
       "Georgia            4\n",
       "Nevada             3\n",
       "Illinois           3\n",
       "Mississippi        3\n",
       "Pennsylvania       3\n",
       "Tennessee          2\n",
       "Louisiana          2\n",
       "Delaware           2\n",
       "Iowa               2\n",
       "Michigan           2\n",
       "Oregon             2\n",
       "Alabama            2\n",
       "South Carolina     2\n",
       "Hawaii             2\n",
       "Montana            1\n",
       "Kansas             1\n",
       "Jamaica            1\n",
       "New Mexico         1\n",
       "Colorado           1\n",
       "Arizona            1\n",
       "American Samoa     1\n",
       "England            1\n",
       "Virginia           1\n",
       "South Dakota       1\n",
       "Minnesota          1\n",
       "Wisconsin          1\n",
       "Washington         1\n",
       "Name: Player Birth State, dtype: int64"
      ]
     },
     "execution_count": 20,
     "metadata": {},
     "output_type": "execute_result"
    }
   ],
   "source": [
    "df['Player Birth State'].value_counts()"
   ]
  },
  {
   "cell_type": "code",
   "execution_count": null,
   "id": "d0b3c404",
   "metadata": {},
   "outputs": [],
   "source": []
  }
 ],
 "metadata": {
  "kernelspec": {
   "display_name": "Python 3 (ipykernel)",
   "language": "python",
   "name": "python3"
  },
  "language_info": {
   "codemirror_mode": {
    "name": "ipython",
    "version": 3
   },
   "file_extension": ".py",
   "mimetype": "text/x-python",
   "name": "python",
   "nbconvert_exporter": "python",
   "pygments_lexer": "ipython3",
   "version": "3.9.12"
  }
 },
 "nbformat": 4,
 "nbformat_minor": 5
}
