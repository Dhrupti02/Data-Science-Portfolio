{
 "cells": [
  {
   "cell_type": "code",
   "execution_count": 370,
   "id": "24eb7c93",
   "metadata": {},
   "outputs": [],
   "source": [
    "import pandas as pd\n",
    "import numpy as np\n",
    "import matplotlib.pyplot as plt\n",
    "import seaborn as sns"
   ]
  },
  {
   "cell_type": "code",
   "execution_count": 371,
   "id": "a520de94",
   "metadata": {},
   "outputs": [],
   "source": [
    "data = pd.read_csv('Social Media Data for DSBA.csv')"
   ]
  },
  {
   "cell_type": "code",
   "execution_count": 372,
   "id": "38114213",
   "metadata": {},
   "outputs": [
    {
     "data": {
      "text/html": [
       "<div>\n",
       "<style scoped>\n",
       "    .dataframe tbody tr th:only-of-type {\n",
       "        vertical-align: middle;\n",
       "    }\n",
       "\n",
       "    .dataframe tbody tr th {\n",
       "        vertical-align: top;\n",
       "    }\n",
       "\n",
       "    .dataframe thead th {\n",
       "        text-align: right;\n",
       "    }\n",
       "</style>\n",
       "<table border=\"1\" class=\"dataframe\">\n",
       "  <thead>\n",
       "    <tr style=\"text-align: right;\">\n",
       "      <th></th>\n",
       "      <th>UserID</th>\n",
       "      <th>Taken_product</th>\n",
       "      <th>Yearly_avg_view_on_travel_page</th>\n",
       "      <th>preferred_device</th>\n",
       "      <th>total_likes_on_outstation_checkin_given</th>\n",
       "      <th>yearly_avg_Outstation_checkins</th>\n",
       "      <th>member_in_family</th>\n",
       "      <th>preferred_location_type</th>\n",
       "      <th>Yearly_avg_comment_on_travel_page</th>\n",
       "      <th>total_likes_on_outofstation_checkin_received</th>\n",
       "      <th>week_since_last_outstation_checkin</th>\n",
       "      <th>following_company_page</th>\n",
       "      <th>montly_avg_comment_on_company_page</th>\n",
       "      <th>working_flag</th>\n",
       "      <th>travelling_network_rating</th>\n",
       "      <th>Adult_flag</th>\n",
       "      <th>Daily_Avg_mins_spend_on_traveling_page</th>\n",
       "    </tr>\n",
       "  </thead>\n",
       "  <tbody>\n",
       "    <tr>\n",
       "      <th>0</th>\n",
       "      <td>1000001</td>\n",
       "      <td>Yes</td>\n",
       "      <td>307.0</td>\n",
       "      <td>iOS and Android</td>\n",
       "      <td>38570.0</td>\n",
       "      <td>1</td>\n",
       "      <td>2</td>\n",
       "      <td>Financial</td>\n",
       "      <td>94.0</td>\n",
       "      <td>5993</td>\n",
       "      <td>8</td>\n",
       "      <td>Yes</td>\n",
       "      <td>11</td>\n",
       "      <td>No</td>\n",
       "      <td>1</td>\n",
       "      <td>0</td>\n",
       "      <td>8</td>\n",
       "    </tr>\n",
       "    <tr>\n",
       "      <th>1</th>\n",
       "      <td>1000002</td>\n",
       "      <td>No</td>\n",
       "      <td>367.0</td>\n",
       "      <td>iOS</td>\n",
       "      <td>9765.0</td>\n",
       "      <td>1</td>\n",
       "      <td>1</td>\n",
       "      <td>Financial</td>\n",
       "      <td>61.0</td>\n",
       "      <td>5130</td>\n",
       "      <td>1</td>\n",
       "      <td>No</td>\n",
       "      <td>23</td>\n",
       "      <td>Yes</td>\n",
       "      <td>4</td>\n",
       "      <td>1</td>\n",
       "      <td>10</td>\n",
       "    </tr>\n",
       "    <tr>\n",
       "      <th>2</th>\n",
       "      <td>1000003</td>\n",
       "      <td>Yes</td>\n",
       "      <td>277.0</td>\n",
       "      <td>iOS and Android</td>\n",
       "      <td>48055.0</td>\n",
       "      <td>1</td>\n",
       "      <td>2</td>\n",
       "      <td>Other</td>\n",
       "      <td>92.0</td>\n",
       "      <td>2090</td>\n",
       "      <td>6</td>\n",
       "      <td>Yes</td>\n",
       "      <td>15</td>\n",
       "      <td>No</td>\n",
       "      <td>2</td>\n",
       "      <td>0</td>\n",
       "      <td>7</td>\n",
       "    </tr>\n",
       "    <tr>\n",
       "      <th>3</th>\n",
       "      <td>1000004</td>\n",
       "      <td>No</td>\n",
       "      <td>247.0</td>\n",
       "      <td>iOS</td>\n",
       "      <td>48720.0</td>\n",
       "      <td>1</td>\n",
       "      <td>4</td>\n",
       "      <td>Financial</td>\n",
       "      <td>56.0</td>\n",
       "      <td>2909</td>\n",
       "      <td>1</td>\n",
       "      <td>Yes</td>\n",
       "      <td>11</td>\n",
       "      <td>No</td>\n",
       "      <td>3</td>\n",
       "      <td>0</td>\n",
       "      <td>8</td>\n",
       "    </tr>\n",
       "    <tr>\n",
       "      <th>4</th>\n",
       "      <td>1000005</td>\n",
       "      <td>No</td>\n",
       "      <td>202.0</td>\n",
       "      <td>iOS and Android</td>\n",
       "      <td>20685.0</td>\n",
       "      <td>1</td>\n",
       "      <td>1</td>\n",
       "      <td>Medical</td>\n",
       "      <td>40.0</td>\n",
       "      <td>3468</td>\n",
       "      <td>9</td>\n",
       "      <td>No</td>\n",
       "      <td>12</td>\n",
       "      <td>No</td>\n",
       "      <td>4</td>\n",
       "      <td>1</td>\n",
       "      <td>6</td>\n",
       "    </tr>\n",
       "    <tr>\n",
       "      <th>...</th>\n",
       "      <td>...</td>\n",
       "      <td>...</td>\n",
       "      <td>...</td>\n",
       "      <td>...</td>\n",
       "      <td>...</td>\n",
       "      <td>...</td>\n",
       "      <td>...</td>\n",
       "      <td>...</td>\n",
       "      <td>...</td>\n",
       "      <td>...</td>\n",
       "      <td>...</td>\n",
       "      <td>...</td>\n",
       "      <td>...</td>\n",
       "      <td>...</td>\n",
       "      <td>...</td>\n",
       "      <td>...</td>\n",
       "      <td>...</td>\n",
       "    </tr>\n",
       "    <tr>\n",
       "      <th>11755</th>\n",
       "      <td>1011756</td>\n",
       "      <td>No</td>\n",
       "      <td>279.0</td>\n",
       "      <td>Laptop</td>\n",
       "      <td>30987.0</td>\n",
       "      <td>23</td>\n",
       "      <td>2</td>\n",
       "      <td>Historical site</td>\n",
       "      <td>58.0</td>\n",
       "      <td>2616</td>\n",
       "      <td>4</td>\n",
       "      <td>No</td>\n",
       "      <td>36</td>\n",
       "      <td>No</td>\n",
       "      <td>3</td>\n",
       "      <td>1</td>\n",
       "      <td>23</td>\n",
       "    </tr>\n",
       "    <tr>\n",
       "      <th>11756</th>\n",
       "      <td>1011757</td>\n",
       "      <td>No</td>\n",
       "      <td>305.0</td>\n",
       "      <td>Tab</td>\n",
       "      <td>21510.0</td>\n",
       "      <td>6</td>\n",
       "      <td>1</td>\n",
       "      <td>Historical site</td>\n",
       "      <td>55.0</td>\n",
       "      <td>10041</td>\n",
       "      <td>4</td>\n",
       "      <td>No</td>\n",
       "      <td>30</td>\n",
       "      <td>No</td>\n",
       "      <td>1</td>\n",
       "      <td>1</td>\n",
       "      <td>11</td>\n",
       "    </tr>\n",
       "    <tr>\n",
       "      <th>11757</th>\n",
       "      <td>1011758</td>\n",
       "      <td>No</td>\n",
       "      <td>214.0</td>\n",
       "      <td>Tab</td>\n",
       "      <td>5478.0</td>\n",
       "      <td>4</td>\n",
       "      <td>3</td>\n",
       "      <td>Beach</td>\n",
       "      <td>103.0</td>\n",
       "      <td>6203</td>\n",
       "      <td>3</td>\n",
       "      <td>Yes</td>\n",
       "      <td>40</td>\n",
       "      <td>Yes</td>\n",
       "      <td>2</td>\n",
       "      <td>1</td>\n",
       "      <td>12</td>\n",
       "    </tr>\n",
       "    <tr>\n",
       "      <th>11758</th>\n",
       "      <td>1011759</td>\n",
       "      <td>No</td>\n",
       "      <td>382.0</td>\n",
       "      <td>Laptop</td>\n",
       "      <td>35851.0</td>\n",
       "      <td>2</td>\n",
       "      <td>3</td>\n",
       "      <td>Historical site</td>\n",
       "      <td>83.0</td>\n",
       "      <td>5444</td>\n",
       "      <td>3</td>\n",
       "      <td>No</td>\n",
       "      <td>32</td>\n",
       "      <td>No</td>\n",
       "      <td>4</td>\n",
       "      <td>0</td>\n",
       "      <td>20</td>\n",
       "    </tr>\n",
       "    <tr>\n",
       "      <th>11759</th>\n",
       "      <td>1011760</td>\n",
       "      <td>No</td>\n",
       "      <td>270.0</td>\n",
       "      <td>Tab</td>\n",
       "      <td>22025.0</td>\n",
       "      <td>8</td>\n",
       "      <td>3</td>\n",
       "      <td>Historical site</td>\n",
       "      <td>104.0</td>\n",
       "      <td>4470</td>\n",
       "      <td>2</td>\n",
       "      <td>No</td>\n",
       "      <td>29</td>\n",
       "      <td>No</td>\n",
       "      <td>1</td>\n",
       "      <td>0</td>\n",
       "      <td>14</td>\n",
       "    </tr>\n",
       "  </tbody>\n",
       "</table>\n",
       "<p>11760 rows × 17 columns</p>\n",
       "</div>"
      ],
      "text/plain": [
       "        UserID Taken_product  Yearly_avg_view_on_travel_page preferred_device  \\\n",
       "0      1000001           Yes                           307.0  iOS and Android   \n",
       "1      1000002            No                           367.0              iOS   \n",
       "2      1000003           Yes                           277.0  iOS and Android   \n",
       "3      1000004            No                           247.0              iOS   \n",
       "4      1000005            No                           202.0  iOS and Android   \n",
       "...        ...           ...                             ...              ...   \n",
       "11755  1011756            No                           279.0           Laptop   \n",
       "11756  1011757            No                           305.0              Tab   \n",
       "11757  1011758            No                           214.0              Tab   \n",
       "11758  1011759            No                           382.0           Laptop   \n",
       "11759  1011760            No                           270.0              Tab   \n",
       "\n",
       "       total_likes_on_outstation_checkin_given yearly_avg_Outstation_checkins  \\\n",
       "0                                      38570.0                              1   \n",
       "1                                       9765.0                              1   \n",
       "2                                      48055.0                              1   \n",
       "3                                      48720.0                              1   \n",
       "4                                      20685.0                              1   \n",
       "...                                        ...                            ...   \n",
       "11755                                  30987.0                             23   \n",
       "11756                                  21510.0                              6   \n",
       "11757                                   5478.0                              4   \n",
       "11758                                  35851.0                              2   \n",
       "11759                                  22025.0                              8   \n",
       "\n",
       "      member_in_family preferred_location_type  \\\n",
       "0                    2               Financial   \n",
       "1                    1               Financial   \n",
       "2                    2                   Other   \n",
       "3                    4               Financial   \n",
       "4                    1                 Medical   \n",
       "...                ...                     ...   \n",
       "11755                2         Historical site   \n",
       "11756                1         Historical site   \n",
       "11757                3                   Beach   \n",
       "11758                3         Historical site   \n",
       "11759                3         Historical site   \n",
       "\n",
       "       Yearly_avg_comment_on_travel_page  \\\n",
       "0                                   94.0   \n",
       "1                                   61.0   \n",
       "2                                   92.0   \n",
       "3                                   56.0   \n",
       "4                                   40.0   \n",
       "...                                  ...   \n",
       "11755                               58.0   \n",
       "11756                               55.0   \n",
       "11757                              103.0   \n",
       "11758                               83.0   \n",
       "11759                              104.0   \n",
       "\n",
       "       total_likes_on_outofstation_checkin_received  \\\n",
       "0                                              5993   \n",
       "1                                              5130   \n",
       "2                                              2090   \n",
       "3                                              2909   \n",
       "4                                              3468   \n",
       "...                                             ...   \n",
       "11755                                          2616   \n",
       "11756                                         10041   \n",
       "11757                                          6203   \n",
       "11758                                          5444   \n",
       "11759                                          4470   \n",
       "\n",
       "       week_since_last_outstation_checkin following_company_page  \\\n",
       "0                                       8                    Yes   \n",
       "1                                       1                     No   \n",
       "2                                       6                    Yes   \n",
       "3                                       1                    Yes   \n",
       "4                                       9                     No   \n",
       "...                                   ...                    ...   \n",
       "11755                                   4                     No   \n",
       "11756                                   4                     No   \n",
       "11757                                   3                    Yes   \n",
       "11758                                   3                     No   \n",
       "11759                                   2                     No   \n",
       "\n",
       "       montly_avg_comment_on_company_page working_flag  \\\n",
       "0                                      11           No   \n",
       "1                                      23          Yes   \n",
       "2                                      15           No   \n",
       "3                                      11           No   \n",
       "4                                      12           No   \n",
       "...                                   ...          ...   \n",
       "11755                                  36           No   \n",
       "11756                                  30           No   \n",
       "11757                                  40          Yes   \n",
       "11758                                  32           No   \n",
       "11759                                  29           No   \n",
       "\n",
       "       travelling_network_rating  Adult_flag  \\\n",
       "0                              1           0   \n",
       "1                              4           1   \n",
       "2                              2           0   \n",
       "3                              3           0   \n",
       "4                              4           1   \n",
       "...                          ...         ...   \n",
       "11755                          3           1   \n",
       "11756                          1           1   \n",
       "11757                          2           1   \n",
       "11758                          4           0   \n",
       "11759                          1           0   \n",
       "\n",
       "       Daily_Avg_mins_spend_on_traveling_page  \n",
       "0                                           8  \n",
       "1                                          10  \n",
       "2                                           7  \n",
       "3                                           8  \n",
       "4                                           6  \n",
       "...                                       ...  \n",
       "11755                                      23  \n",
       "11756                                      11  \n",
       "11757                                      12  \n",
       "11758                                      20  \n",
       "11759                                      14  \n",
       "\n",
       "[11760 rows x 17 columns]"
      ]
     },
     "execution_count": 372,
     "metadata": {},
     "output_type": "execute_result"
    }
   ],
   "source": [
    "data"
   ]
  },
  {
   "cell_type": "code",
   "execution_count": 373,
   "id": "1ec7a741",
   "metadata": {},
   "outputs": [],
   "source": [
    "data.drop('UserID', axis=1, inplace=True)"
   ]
  },
  {
   "cell_type": "code",
   "execution_count": 374,
   "id": "76f21a15",
   "metadata": {},
   "outputs": [
    {
     "data": {
      "text/plain": [
       "(11760, 16)"
      ]
     },
     "execution_count": 374,
     "metadata": {},
     "output_type": "execute_result"
    }
   ],
   "source": [
    "data.shape"
   ]
  },
  {
   "cell_type": "code",
   "execution_count": 375,
   "id": "a8955e2f",
   "metadata": {},
   "outputs": [
    {
     "name": "stdout",
     "output_type": "stream",
     "text": [
      "<class 'pandas.core.frame.DataFrame'>\n",
      "RangeIndex: 11760 entries, 0 to 11759\n",
      "Data columns (total 16 columns):\n",
      " #   Column                                        Non-Null Count  Dtype  \n",
      "---  ------                                        --------------  -----  \n",
      " 0   Taken_product                                 11760 non-null  object \n",
      " 1   Yearly_avg_view_on_travel_page                11179 non-null  float64\n",
      " 2   preferred_device                              11707 non-null  object \n",
      " 3   total_likes_on_outstation_checkin_given       11379 non-null  float64\n",
      " 4   yearly_avg_Outstation_checkins                11685 non-null  object \n",
      " 5   member_in_family                              11760 non-null  object \n",
      " 6   preferred_location_type                       11729 non-null  object \n",
      " 7   Yearly_avg_comment_on_travel_page             11554 non-null  float64\n",
      " 8   total_likes_on_outofstation_checkin_received  11760 non-null  int64  \n",
      " 9   week_since_last_outstation_checkin            11760 non-null  int64  \n",
      " 10  following_company_page                        11657 non-null  object \n",
      " 11  montly_avg_comment_on_company_page            11760 non-null  int64  \n",
      " 12  working_flag                                  11760 non-null  object \n",
      " 13  travelling_network_rating                     11760 non-null  int64  \n",
      " 14  Adult_flag                                    11760 non-null  int64  \n",
      " 15  Daily_Avg_mins_spend_on_traveling_page        11760 non-null  int64  \n",
      "dtypes: float64(3), int64(6), object(7)\n",
      "memory usage: 1.4+ MB\n"
     ]
    }
   ],
   "source": [
    "data.info()"
   ]
  },
  {
   "cell_type": "code",
   "execution_count": null,
   "id": "b3f3af5f",
   "metadata": {},
   "outputs": [],
   "source": []
  },
  {
   "cell_type": "code",
   "execution_count": 376,
   "id": "d50555ce",
   "metadata": {},
   "outputs": [
    {
     "data": {
      "text/plain": [
       "['Yearly_avg_view_on_travel_page',\n",
       " 'total_likes_on_outstation_checkin_given',\n",
       " 'Yearly_avg_comment_on_travel_page',\n",
       " 'total_likes_on_outofstation_checkin_received',\n",
       " 'week_since_last_outstation_checkin',\n",
       " 'montly_avg_comment_on_company_page',\n",
       " 'travelling_network_rating',\n",
       " 'Adult_flag',\n",
       " 'Daily_Avg_mins_spend_on_traveling_page']"
      ]
     },
     "execution_count": 376,
     "metadata": {},
     "output_type": "execute_result"
    }
   ],
   "source": [
    "## numerical features\n",
    "numerical_feature = [feature for feature in data.columns if data[feature].dtype != 'O']\n",
    "numerical_feature"
   ]
  },
  {
   "cell_type": "code",
   "execution_count": 377,
   "id": "2b973403",
   "metadata": {},
   "outputs": [],
   "source": [
    "##continuous and discrete features\n",
    "discrete_feature = [feature for feature in numerical_feature if len(data[feature].unique()) < 35]\n",
    "continuous_feature = [feature for feature in numerical_feature if feature not in discrete_feature+['UserID']]"
   ]
  },
  {
   "cell_type": "code",
   "execution_count": 378,
   "id": "f4eebbd7",
   "metadata": {},
   "outputs": [
    {
     "data": {
      "text/plain": [
       "['week_since_last_outstation_checkin',\n",
       " 'travelling_network_rating',\n",
       " 'Adult_flag']"
      ]
     },
     "execution_count": 378,
     "metadata": {},
     "output_type": "execute_result"
    }
   ],
   "source": [
    "discrete_feature"
   ]
  },
  {
   "cell_type": "code",
   "execution_count": 379,
   "id": "62d63c60",
   "metadata": {},
   "outputs": [
    {
     "data": {
      "text/plain": [
       "['Yearly_avg_view_on_travel_page',\n",
       " 'total_likes_on_outstation_checkin_given',\n",
       " 'Yearly_avg_comment_on_travel_page',\n",
       " 'total_likes_on_outofstation_checkin_received',\n",
       " 'montly_avg_comment_on_company_page',\n",
       " 'Daily_Avg_mins_spend_on_traveling_page']"
      ]
     },
     "execution_count": 379,
     "metadata": {},
     "output_type": "execute_result"
    }
   ],
   "source": [
    "continuous_feature"
   ]
  },
  {
   "cell_type": "code",
   "execution_count": 380,
   "id": "dafae021",
   "metadata": {},
   "outputs": [
    {
     "data": {
      "text/plain": [
       "['Taken_product',\n",
       " 'preferred_device',\n",
       " 'yearly_avg_Outstation_checkins',\n",
       " 'member_in_family',\n",
       " 'preferred_location_type',\n",
       " 'following_company_page',\n",
       " 'working_flag']"
      ]
     },
     "execution_count": 380,
     "metadata": {},
     "output_type": "execute_result"
    }
   ],
   "source": [
    "## categorical feature\n",
    "categorical_feature = [feature for feature in data.columns if data[feature].dtype == 'O']\n",
    "categorical_feature"
   ]
  },
  {
   "cell_type": "code",
   "execution_count": 381,
   "id": "4fd9c2a5",
   "metadata": {},
   "outputs": [],
   "source": [
    "cat = []\n",
    "for category in categorical_feature:\n",
    "        cat.append(data[category].unique())"
   ]
  },
  {
   "cell_type": "code",
   "execution_count": 382,
   "id": "c4ca40c4",
   "metadata": {},
   "outputs": [
    {
     "data": {
      "text/plain": [
       "[array(['Yes', 'No'], dtype=object),\n",
       " array(['iOS and Android', 'iOS', 'ANDROID', nan, 'Android', 'Android OS',\n",
       "        'Other', 'Others', 'Tab', 'Laptop', 'Mobile'], dtype=object),\n",
       " array(['1', '24', '23', '27', '16', '15', '26', '19', '21', '11', '10',\n",
       "        '25', '12', '18', '29', nan, '22', '14', '20', '28', '17', '13',\n",
       "        '*', '5', '8', '2', '3', '9', '7', '6', '4'], dtype=object),\n",
       " array(['2', '1', '4', 'Three', '3', '5', '10'], dtype=object),\n",
       " array(['Financial', 'Other', 'Medical', nan, 'Game', 'Social media',\n",
       "        'Entertainment', 'Tour and Travel', 'Movie', 'OTT', 'Tour  Travel',\n",
       "        'Beach', 'Historical site', 'Big Cities', 'Trekking',\n",
       "        'Hill Stations'], dtype=object),\n",
       " array(['Yes', 'No', nan, '1', '0'], dtype=object),\n",
       " array(['No', 'Yes'], dtype=object)]"
      ]
     },
     "execution_count": 382,
     "metadata": {},
     "output_type": "execute_result"
    }
   ],
   "source": [
    "cat"
   ]
  },
  {
   "cell_type": "code",
   "execution_count": 383,
   "id": "bb30c4a1",
   "metadata": {},
   "outputs": [],
   "source": [
    "data['preferred_device'] = data['preferred_device'].replace(to_replace='ANDROID', value='Android')\n",
    "data['preferred_device'] = data['preferred_device'].replace(to_replace='Android OS', value='Android')\n",
    "data['preferred_device'] = data['preferred_device'].replace(to_replace='Others', value='Other')\n",
    "data['preferred_device'] = data['preferred_device'].replace(to_replace='iOS and Android', value='Mobile')\n",
    "\n",
    "data['yearly_avg_Outstation_checkins'] = data['yearly_avg_Outstation_checkins'].replace(to_replace='*', value=np.nan)\n",
    "\n",
    "data['member_in_family'] = data['member_in_family'].replace(to_replace='Three', value='3')\n",
    "\n",
    "data['preferred_location_type'] = data['preferred_location_type'].replace(to_replace='Tour  Travel', value='Tour_and_Travel')\n",
    "data['preferred_location_type'] = data['preferred_location_type'].replace(to_replace='Tour and Travel', value='Tour_and_Travel')\n",
    "data['preferred_location_type'] = data['preferred_location_type'].replace(to_replace='Social media', value='Social_media')\n",
    "data['preferred_location_type'] = data['preferred_location_type'].replace(to_replace='Historical site', value='Historical_site')\n",
    "data['preferred_location_type'] = data['preferred_location_type'].replace(to_replace='Big Cities', value='Big_Cities')\n",
    "data['preferred_location_type'] = data['preferred_location_type'].replace(to_replace='Hill Stations', value='Hill_Stations')\n",
    "\n",
    "data['following_company_page'] = data['following_company_page'].replace(to_replace='0', value='No')\n",
    "data['following_company_page'] = data['following_company_page'].replace(to_replace='1', value='Yes')"
   ]
  },
  {
   "cell_type": "code",
   "execution_count": 384,
   "id": "55ab9a63",
   "metadata": {},
   "outputs": [
    {
     "data": {
      "text/plain": [
       "[array(['Yes', 'No'], dtype=object),\n",
       " array(['Mobile', 'iOS', 'Android', nan, 'Other', 'Tab', 'Laptop'],\n",
       "       dtype=object),\n",
       " array(['1', '24', '23', '27', '16', '15', '26', '19', '21', '11', '10',\n",
       "        '25', '12', '18', '29', nan, '22', '14', '20', '28', '17', '13',\n",
       "        '5', '8', '2', '3', '9', '7', '6', '4'], dtype=object),\n",
       " array(['2', '1', '4', '3', '5', '10'], dtype=object),\n",
       " array(['Financial', 'Other', 'Medical', nan, 'Game', 'Social_media',\n",
       "        'Entertainment', 'Tour_and_Travel', 'Movie', 'OTT', 'Beach',\n",
       "        'Historical_site', 'Big_Cities', 'Trekking', 'Hill_Stations'],\n",
       "       dtype=object),\n",
       " array(['Yes', 'No', nan], dtype=object),\n",
       " array(['No', 'Yes'], dtype=object)]"
      ]
     },
     "execution_count": 384,
     "metadata": {},
     "output_type": "execute_result"
    }
   ],
   "source": [
    "cat = []\n",
    "for category in categorical_feature:\n",
    "        cat.append(data[category].unique())\n",
    "cat"
   ]
  },
  {
   "cell_type": "code",
   "execution_count": 385,
   "id": "a9fbcc87",
   "metadata": {},
   "outputs": [
    {
     "data": {
      "text/html": [
       "<div>\n",
       "<style scoped>\n",
       "    .dataframe tbody tr th:only-of-type {\n",
       "        vertical-align: middle;\n",
       "    }\n",
       "\n",
       "    .dataframe tbody tr th {\n",
       "        vertical-align: top;\n",
       "    }\n",
       "\n",
       "    .dataframe thead th {\n",
       "        text-align: right;\n",
       "    }\n",
       "</style>\n",
       "<table border=\"1\" class=\"dataframe\">\n",
       "  <thead>\n",
       "    <tr style=\"text-align: right;\">\n",
       "      <th></th>\n",
       "      <th>Yearly_avg_view_on_travel_page</th>\n",
       "      <th>total_likes_on_outstation_checkin_given</th>\n",
       "      <th>Yearly_avg_comment_on_travel_page</th>\n",
       "      <th>total_likes_on_outofstation_checkin_received</th>\n",
       "      <th>week_since_last_outstation_checkin</th>\n",
       "      <th>montly_avg_comment_on_company_page</th>\n",
       "      <th>travelling_network_rating</th>\n",
       "      <th>Adult_flag</th>\n",
       "      <th>Daily_Avg_mins_spend_on_traveling_page</th>\n",
       "    </tr>\n",
       "  </thead>\n",
       "  <tbody>\n",
       "    <tr>\n",
       "      <th>0</th>\n",
       "      <td>262.0</td>\n",
       "      <td>24185.0</td>\n",
       "      <td>96.0</td>\n",
       "      <td>2377</td>\n",
       "      <td>1</td>\n",
       "      <td>23</td>\n",
       "      <td>3</td>\n",
       "      <td>0</td>\n",
       "      <td>10</td>\n",
       "    </tr>\n",
       "  </tbody>\n",
       "</table>\n",
       "</div>"
      ],
      "text/plain": [
       "   Yearly_avg_view_on_travel_page  total_likes_on_outstation_checkin_given  \\\n",
       "0                           262.0                                  24185.0   \n",
       "\n",
       "   Yearly_avg_comment_on_travel_page  \\\n",
       "0                               96.0   \n",
       "\n",
       "   total_likes_on_outofstation_checkin_received  \\\n",
       "0                                          2377   \n",
       "\n",
       "   week_since_last_outstation_checkin  montly_avg_comment_on_company_page  \\\n",
       "0                                   1                                  23   \n",
       "\n",
       "   travelling_network_rating  Adult_flag  \\\n",
       "0                          3           0   \n",
       "\n",
       "   Daily_Avg_mins_spend_on_traveling_page  \n",
       "0                                      10  "
      ]
     },
     "execution_count": 385,
     "metadata": {},
     "output_type": "execute_result"
    }
   ],
   "source": [
    "# mode\n",
    "data[['Yearly_avg_view_on_travel_page',\n",
    " 'total_likes_on_outstation_checkin_given',\n",
    " 'Yearly_avg_comment_on_travel_page',\n",
    " 'total_likes_on_outofstation_checkin_received',\n",
    " 'week_since_last_outstation_checkin',\n",
    " 'montly_avg_comment_on_company_page',\n",
    " 'travelling_network_rating',\n",
    " 'Adult_flag',\n",
    " 'Daily_Avg_mins_spend_on_traveling_page']].mode()"
   ]
  },
  {
   "cell_type": "code",
   "execution_count": 386,
   "id": "06777413",
   "metadata": {},
   "outputs": [
    {
     "data": {
      "text/plain": [
       "Yearly_avg_view_on_travel_page                  4.648916e+03\n",
       "total_likes_on_outstation_checkin_given         2.069291e+08\n",
       "Yearly_avg_comment_on_travel_page               5.772799e+02\n",
       "total_likes_on_outofstation_checkin_received    2.215221e+07\n",
       "week_since_last_outstation_checkin              6.845365e+00\n",
       "montly_avg_comment_on_company_page              2.367845e+03\n",
       "travelling_network_rating                       1.168317e+00\n",
       "Adult_flag                                      7.256024e-01\n",
       "Daily_Avg_mins_spend_on_traveling_page          8.227681e+01\n",
       "dtype: float64"
      ]
     },
     "execution_count": 386,
     "metadata": {},
     "output_type": "execute_result"
    }
   ],
   "source": [
    "# variance\n",
    "data[['Yearly_avg_view_on_travel_page',\n",
    " 'total_likes_on_outstation_checkin_given',\n",
    " 'Yearly_avg_comment_on_travel_page',\n",
    " 'total_likes_on_outofstation_checkin_received',\n",
    " 'week_since_last_outstation_checkin',\n",
    " 'montly_avg_comment_on_company_page',\n",
    " 'travelling_network_rating',\n",
    " 'Adult_flag',\n",
    " 'Daily_Avg_mins_spend_on_traveling_page']].var()"
   ]
  },
  {
   "cell_type": "code",
   "execution_count": 387,
   "id": "cdfbf280",
   "metadata": {},
   "outputs": [
    {
     "data": {
      "text/plain": [
       "Yearly_avg_view_on_travel_page                  0.414409\n",
       "total_likes_on_outstation_checkin_given         0.489638\n",
       "Yearly_avg_comment_on_travel_page               4.868225\n",
       "total_likes_on_outofstation_checkin_received    1.368578\n",
       "week_since_last_outstation_checkin              0.915334\n",
       "montly_avg_comment_on_company_page              7.684150\n",
       "travelling_network_rating                      -0.302557\n",
       "Adult_flag                                      0.968115\n",
       "Daily_Avg_mins_spend_on_traveling_page          4.480682\n",
       "dtype: float64"
      ]
     },
     "execution_count": 387,
     "metadata": {},
     "output_type": "execute_result"
    }
   ],
   "source": [
    "# skew\n",
    "data[['Yearly_avg_view_on_travel_page',\n",
    " 'total_likes_on_outstation_checkin_given',\n",
    " 'Yearly_avg_comment_on_travel_page',\n",
    " 'total_likes_on_outofstation_checkin_received',\n",
    " 'week_since_last_outstation_checkin',\n",
    " 'montly_avg_comment_on_company_page',\n",
    " 'travelling_network_rating',\n",
    " 'Adult_flag',\n",
    " 'Daily_Avg_mins_spend_on_traveling_page']].skew()"
   ]
  },
  {
   "cell_type": "code",
   "execution_count": 388,
   "id": "b0fda42a",
   "metadata": {},
   "outputs": [
    {
     "data": {
      "text/html": [
       "<div>\n",
       "<style scoped>\n",
       "    .dataframe tbody tr th:only-of-type {\n",
       "        vertical-align: middle;\n",
       "    }\n",
       "\n",
       "    .dataframe tbody tr th {\n",
       "        vertical-align: top;\n",
       "    }\n",
       "\n",
       "    .dataframe thead th {\n",
       "        text-align: right;\n",
       "    }\n",
       "</style>\n",
       "<table border=\"1\" class=\"dataframe\">\n",
       "  <thead>\n",
       "    <tr style=\"text-align: right;\">\n",
       "      <th></th>\n",
       "      <th>Taken_product</th>\n",
       "      <th>Yearly_avg_view_on_travel_page</th>\n",
       "      <th>preferred_device</th>\n",
       "      <th>total_likes_on_outstation_checkin_given</th>\n",
       "      <th>yearly_avg_Outstation_checkins</th>\n",
       "      <th>member_in_family</th>\n",
       "      <th>preferred_location_type</th>\n",
       "      <th>Yearly_avg_comment_on_travel_page</th>\n",
       "      <th>total_likes_on_outofstation_checkin_received</th>\n",
       "      <th>week_since_last_outstation_checkin</th>\n",
       "      <th>following_company_page</th>\n",
       "      <th>montly_avg_comment_on_company_page</th>\n",
       "      <th>working_flag</th>\n",
       "      <th>travelling_network_rating</th>\n",
       "      <th>Adult_flag</th>\n",
       "      <th>Daily_Avg_mins_spend_on_traveling_page</th>\n",
       "    </tr>\n",
       "  </thead>\n",
       "  <tbody>\n",
       "    <tr>\n",
       "      <th>0</th>\n",
       "      <td>Yes</td>\n",
       "      <td>307.0</td>\n",
       "      <td>Mobile</td>\n",
       "      <td>38570.0</td>\n",
       "      <td>1</td>\n",
       "      <td>2</td>\n",
       "      <td>Financial</td>\n",
       "      <td>94.0</td>\n",
       "      <td>5993</td>\n",
       "      <td>8</td>\n",
       "      <td>Yes</td>\n",
       "      <td>11</td>\n",
       "      <td>No</td>\n",
       "      <td>1</td>\n",
       "      <td>0</td>\n",
       "      <td>8</td>\n",
       "    </tr>\n",
       "    <tr>\n",
       "      <th>1</th>\n",
       "      <td>No</td>\n",
       "      <td>367.0</td>\n",
       "      <td>iOS</td>\n",
       "      <td>9765.0</td>\n",
       "      <td>1</td>\n",
       "      <td>1</td>\n",
       "      <td>Financial</td>\n",
       "      <td>61.0</td>\n",
       "      <td>5130</td>\n",
       "      <td>1</td>\n",
       "      <td>No</td>\n",
       "      <td>23</td>\n",
       "      <td>Yes</td>\n",
       "      <td>4</td>\n",
       "      <td>1</td>\n",
       "      <td>10</td>\n",
       "    </tr>\n",
       "    <tr>\n",
       "      <th>2</th>\n",
       "      <td>Yes</td>\n",
       "      <td>277.0</td>\n",
       "      <td>Mobile</td>\n",
       "      <td>48055.0</td>\n",
       "      <td>1</td>\n",
       "      <td>2</td>\n",
       "      <td>Other</td>\n",
       "      <td>92.0</td>\n",
       "      <td>2090</td>\n",
       "      <td>6</td>\n",
       "      <td>Yes</td>\n",
       "      <td>15</td>\n",
       "      <td>No</td>\n",
       "      <td>2</td>\n",
       "      <td>0</td>\n",
       "      <td>7</td>\n",
       "    </tr>\n",
       "    <tr>\n",
       "      <th>3</th>\n",
       "      <td>No</td>\n",
       "      <td>247.0</td>\n",
       "      <td>iOS</td>\n",
       "      <td>48720.0</td>\n",
       "      <td>1</td>\n",
       "      <td>4</td>\n",
       "      <td>Financial</td>\n",
       "      <td>56.0</td>\n",
       "      <td>2909</td>\n",
       "      <td>1</td>\n",
       "      <td>Yes</td>\n",
       "      <td>11</td>\n",
       "      <td>No</td>\n",
       "      <td>3</td>\n",
       "      <td>0</td>\n",
       "      <td>8</td>\n",
       "    </tr>\n",
       "    <tr>\n",
       "      <th>4</th>\n",
       "      <td>No</td>\n",
       "      <td>202.0</td>\n",
       "      <td>Mobile</td>\n",
       "      <td>20685.0</td>\n",
       "      <td>1</td>\n",
       "      <td>1</td>\n",
       "      <td>Medical</td>\n",
       "      <td>40.0</td>\n",
       "      <td>3468</td>\n",
       "      <td>9</td>\n",
       "      <td>No</td>\n",
       "      <td>12</td>\n",
       "      <td>No</td>\n",
       "      <td>4</td>\n",
       "      <td>1</td>\n",
       "      <td>6</td>\n",
       "    </tr>\n",
       "    <tr>\n",
       "      <th>...</th>\n",
       "      <td>...</td>\n",
       "      <td>...</td>\n",
       "      <td>...</td>\n",
       "      <td>...</td>\n",
       "      <td>...</td>\n",
       "      <td>...</td>\n",
       "      <td>...</td>\n",
       "      <td>...</td>\n",
       "      <td>...</td>\n",
       "      <td>...</td>\n",
       "      <td>...</td>\n",
       "      <td>...</td>\n",
       "      <td>...</td>\n",
       "      <td>...</td>\n",
       "      <td>...</td>\n",
       "      <td>...</td>\n",
       "    </tr>\n",
       "    <tr>\n",
       "      <th>11755</th>\n",
       "      <td>No</td>\n",
       "      <td>279.0</td>\n",
       "      <td>Laptop</td>\n",
       "      <td>30987.0</td>\n",
       "      <td>23</td>\n",
       "      <td>2</td>\n",
       "      <td>Historical_site</td>\n",
       "      <td>58.0</td>\n",
       "      <td>2616</td>\n",
       "      <td>4</td>\n",
       "      <td>No</td>\n",
       "      <td>36</td>\n",
       "      <td>No</td>\n",
       "      <td>3</td>\n",
       "      <td>1</td>\n",
       "      <td>23</td>\n",
       "    </tr>\n",
       "    <tr>\n",
       "      <th>11756</th>\n",
       "      <td>No</td>\n",
       "      <td>305.0</td>\n",
       "      <td>Tab</td>\n",
       "      <td>21510.0</td>\n",
       "      <td>6</td>\n",
       "      <td>1</td>\n",
       "      <td>Historical_site</td>\n",
       "      <td>55.0</td>\n",
       "      <td>10041</td>\n",
       "      <td>4</td>\n",
       "      <td>No</td>\n",
       "      <td>30</td>\n",
       "      <td>No</td>\n",
       "      <td>1</td>\n",
       "      <td>1</td>\n",
       "      <td>11</td>\n",
       "    </tr>\n",
       "    <tr>\n",
       "      <th>11757</th>\n",
       "      <td>No</td>\n",
       "      <td>214.0</td>\n",
       "      <td>Tab</td>\n",
       "      <td>5478.0</td>\n",
       "      <td>4</td>\n",
       "      <td>3</td>\n",
       "      <td>Beach</td>\n",
       "      <td>103.0</td>\n",
       "      <td>6203</td>\n",
       "      <td>3</td>\n",
       "      <td>Yes</td>\n",
       "      <td>40</td>\n",
       "      <td>Yes</td>\n",
       "      <td>2</td>\n",
       "      <td>1</td>\n",
       "      <td>12</td>\n",
       "    </tr>\n",
       "    <tr>\n",
       "      <th>11758</th>\n",
       "      <td>No</td>\n",
       "      <td>382.0</td>\n",
       "      <td>Laptop</td>\n",
       "      <td>35851.0</td>\n",
       "      <td>2</td>\n",
       "      <td>3</td>\n",
       "      <td>Historical_site</td>\n",
       "      <td>83.0</td>\n",
       "      <td>5444</td>\n",
       "      <td>3</td>\n",
       "      <td>No</td>\n",
       "      <td>32</td>\n",
       "      <td>No</td>\n",
       "      <td>4</td>\n",
       "      <td>0</td>\n",
       "      <td>20</td>\n",
       "    </tr>\n",
       "    <tr>\n",
       "      <th>11759</th>\n",
       "      <td>No</td>\n",
       "      <td>270.0</td>\n",
       "      <td>Tab</td>\n",
       "      <td>22025.0</td>\n",
       "      <td>8</td>\n",
       "      <td>3</td>\n",
       "      <td>Historical_site</td>\n",
       "      <td>104.0</td>\n",
       "      <td>4470</td>\n",
       "      <td>2</td>\n",
       "      <td>No</td>\n",
       "      <td>29</td>\n",
       "      <td>No</td>\n",
       "      <td>1</td>\n",
       "      <td>0</td>\n",
       "      <td>14</td>\n",
       "    </tr>\n",
       "  </tbody>\n",
       "</table>\n",
       "<p>11760 rows × 16 columns</p>\n",
       "</div>"
      ],
      "text/plain": [
       "      Taken_product  Yearly_avg_view_on_travel_page preferred_device  \\\n",
       "0               Yes                           307.0           Mobile   \n",
       "1                No                           367.0              iOS   \n",
       "2               Yes                           277.0           Mobile   \n",
       "3                No                           247.0              iOS   \n",
       "4                No                           202.0           Mobile   \n",
       "...             ...                             ...              ...   \n",
       "11755            No                           279.0           Laptop   \n",
       "11756            No                           305.0              Tab   \n",
       "11757            No                           214.0              Tab   \n",
       "11758            No                           382.0           Laptop   \n",
       "11759            No                           270.0              Tab   \n",
       "\n",
       "       total_likes_on_outstation_checkin_given yearly_avg_Outstation_checkins  \\\n",
       "0                                      38570.0                              1   \n",
       "1                                       9765.0                              1   \n",
       "2                                      48055.0                              1   \n",
       "3                                      48720.0                              1   \n",
       "4                                      20685.0                              1   \n",
       "...                                        ...                            ...   \n",
       "11755                                  30987.0                             23   \n",
       "11756                                  21510.0                              6   \n",
       "11757                                   5478.0                              4   \n",
       "11758                                  35851.0                              2   \n",
       "11759                                  22025.0                              8   \n",
       "\n",
       "      member_in_family preferred_location_type  \\\n",
       "0                    2               Financial   \n",
       "1                    1               Financial   \n",
       "2                    2                   Other   \n",
       "3                    4               Financial   \n",
       "4                    1                 Medical   \n",
       "...                ...                     ...   \n",
       "11755                2         Historical_site   \n",
       "11756                1         Historical_site   \n",
       "11757                3                   Beach   \n",
       "11758                3         Historical_site   \n",
       "11759                3         Historical_site   \n",
       "\n",
       "       Yearly_avg_comment_on_travel_page  \\\n",
       "0                                   94.0   \n",
       "1                                   61.0   \n",
       "2                                   92.0   \n",
       "3                                   56.0   \n",
       "4                                   40.0   \n",
       "...                                  ...   \n",
       "11755                               58.0   \n",
       "11756                               55.0   \n",
       "11757                              103.0   \n",
       "11758                               83.0   \n",
       "11759                              104.0   \n",
       "\n",
       "       total_likes_on_outofstation_checkin_received  \\\n",
       "0                                              5993   \n",
       "1                                              5130   \n",
       "2                                              2090   \n",
       "3                                              2909   \n",
       "4                                              3468   \n",
       "...                                             ...   \n",
       "11755                                          2616   \n",
       "11756                                         10041   \n",
       "11757                                          6203   \n",
       "11758                                          5444   \n",
       "11759                                          4470   \n",
       "\n",
       "       week_since_last_outstation_checkin following_company_page  \\\n",
       "0                                       8                    Yes   \n",
       "1                                       1                     No   \n",
       "2                                       6                    Yes   \n",
       "3                                       1                    Yes   \n",
       "4                                       9                     No   \n",
       "...                                   ...                    ...   \n",
       "11755                                   4                     No   \n",
       "11756                                   4                     No   \n",
       "11757                                   3                    Yes   \n",
       "11758                                   3                     No   \n",
       "11759                                   2                     No   \n",
       "\n",
       "       montly_avg_comment_on_company_page working_flag  \\\n",
       "0                                      11           No   \n",
       "1                                      23          Yes   \n",
       "2                                      15           No   \n",
       "3                                      11           No   \n",
       "4                                      12           No   \n",
       "...                                   ...          ...   \n",
       "11755                                  36           No   \n",
       "11756                                  30           No   \n",
       "11757                                  40          Yes   \n",
       "11758                                  32           No   \n",
       "11759                                  29           No   \n",
       "\n",
       "       travelling_network_rating  Adult_flag  \\\n",
       "0                              1           0   \n",
       "1                              4           1   \n",
       "2                              2           0   \n",
       "3                              3           0   \n",
       "4                              4           1   \n",
       "...                          ...         ...   \n",
       "11755                          3           1   \n",
       "11756                          1           1   \n",
       "11757                          2           1   \n",
       "11758                          4           0   \n",
       "11759                          1           0   \n",
       "\n",
       "       Daily_Avg_mins_spend_on_traveling_page  \n",
       "0                                           8  \n",
       "1                                          10  \n",
       "2                                           7  \n",
       "3                                           8  \n",
       "4                                           6  \n",
       "...                                       ...  \n",
       "11755                                      23  \n",
       "11756                                      11  \n",
       "11757                                      12  \n",
       "11758                                      20  \n",
       "11759                                      14  \n",
       "\n",
       "[11760 rows x 16 columns]"
      ]
     },
     "execution_count": 388,
     "metadata": {},
     "output_type": "execute_result"
    }
   ],
   "source": [
    "data"
   ]
  },
  {
   "cell_type": "code",
   "execution_count": 389,
   "id": "4f026b80",
   "metadata": {},
   "outputs": [
    {
     "name": "stdout",
     "output_type": "stream",
     "text": [
      "<class 'pandas.core.frame.DataFrame'>\n",
      "RangeIndex: 11760 entries, 0 to 11759\n",
      "Data columns (total 16 columns):\n",
      " #   Column                                        Non-Null Count  Dtype  \n",
      "---  ------                                        --------------  -----  \n",
      " 0   Taken_product                                 11760 non-null  object \n",
      " 1   Yearly_avg_view_on_travel_page                11179 non-null  float64\n",
      " 2   preferred_device                              11707 non-null  object \n",
      " 3   total_likes_on_outstation_checkin_given       11379 non-null  float64\n",
      " 4   yearly_avg_Outstation_checkins                11684 non-null  object \n",
      " 5   member_in_family                              11760 non-null  object \n",
      " 6   preferred_location_type                       11729 non-null  object \n",
      " 7   Yearly_avg_comment_on_travel_page             11554 non-null  float64\n",
      " 8   total_likes_on_outofstation_checkin_received  11760 non-null  int64  \n",
      " 9   week_since_last_outstation_checkin            11760 non-null  int64  \n",
      " 10  following_company_page                        11657 non-null  object \n",
      " 11  montly_avg_comment_on_company_page            11760 non-null  int64  \n",
      " 12  working_flag                                  11760 non-null  object \n",
      " 13  travelling_network_rating                     11760 non-null  int64  \n",
      " 14  Adult_flag                                    11760 non-null  int64  \n",
      " 15  Daily_Avg_mins_spend_on_traveling_page        11760 non-null  int64  \n",
      "dtypes: float64(3), int64(6), object(7)\n",
      "memory usage: 1.4+ MB\n"
     ]
    }
   ],
   "source": [
    "data.info()"
   ]
  },
  {
   "cell_type": "code",
   "execution_count": 390,
   "id": "9a80fbd3",
   "metadata": {},
   "outputs": [
    {
     "data": {
      "text/html": [
       "<div>\n",
       "<style scoped>\n",
       "    .dataframe tbody tr th:only-of-type {\n",
       "        vertical-align: middle;\n",
       "    }\n",
       "\n",
       "    .dataframe tbody tr th {\n",
       "        vertical-align: top;\n",
       "    }\n",
       "\n",
       "    .dataframe thead th {\n",
       "        text-align: right;\n",
       "    }\n",
       "</style>\n",
       "<table border=\"1\" class=\"dataframe\">\n",
       "  <thead>\n",
       "    <tr style=\"text-align: right;\">\n",
       "      <th></th>\n",
       "      <th>Yearly_avg_view_on_travel_page</th>\n",
       "      <th>total_likes_on_outstation_checkin_given</th>\n",
       "      <th>Yearly_avg_comment_on_travel_page</th>\n",
       "      <th>total_likes_on_outofstation_checkin_received</th>\n",
       "      <th>week_since_last_outstation_checkin</th>\n",
       "      <th>montly_avg_comment_on_company_page</th>\n",
       "      <th>travelling_network_rating</th>\n",
       "      <th>Adult_flag</th>\n",
       "      <th>Daily_Avg_mins_spend_on_traveling_page</th>\n",
       "    </tr>\n",
       "  </thead>\n",
       "  <tbody>\n",
       "    <tr>\n",
       "      <th>count</th>\n",
       "      <td>11179.000000</td>\n",
       "      <td>11379.000000</td>\n",
       "      <td>11554.000000</td>\n",
       "      <td>11760.000000</td>\n",
       "      <td>11760.000000</td>\n",
       "      <td>11760.000000</td>\n",
       "      <td>11760.000000</td>\n",
       "      <td>11760.000000</td>\n",
       "      <td>11760.000000</td>\n",
       "    </tr>\n",
       "    <tr>\n",
       "      <th>mean</th>\n",
       "      <td>280.830844</td>\n",
       "      <td>28170.481765</td>\n",
       "      <td>74.790029</td>\n",
       "      <td>6531.699065</td>\n",
       "      <td>3.203571</td>\n",
       "      <td>28.661565</td>\n",
       "      <td>2.712245</td>\n",
       "      <td>0.793878</td>\n",
       "      <td>13.817432</td>\n",
       "    </tr>\n",
       "    <tr>\n",
       "      <th>std</th>\n",
       "      <td>68.182958</td>\n",
       "      <td>14385.032134</td>\n",
       "      <td>24.026650</td>\n",
       "      <td>4706.613785</td>\n",
       "      <td>2.616365</td>\n",
       "      <td>48.660504</td>\n",
       "      <td>1.080887</td>\n",
       "      <td>0.851823</td>\n",
       "      <td>9.070657</td>\n",
       "    </tr>\n",
       "    <tr>\n",
       "      <th>min</th>\n",
       "      <td>35.000000</td>\n",
       "      <td>3570.000000</td>\n",
       "      <td>3.000000</td>\n",
       "      <td>1009.000000</td>\n",
       "      <td>0.000000</td>\n",
       "      <td>11.000000</td>\n",
       "      <td>1.000000</td>\n",
       "      <td>0.000000</td>\n",
       "      <td>0.000000</td>\n",
       "    </tr>\n",
       "    <tr>\n",
       "      <th>25%</th>\n",
       "      <td>232.000000</td>\n",
       "      <td>16380.000000</td>\n",
       "      <td>57.000000</td>\n",
       "      <td>2940.750000</td>\n",
       "      <td>1.000000</td>\n",
       "      <td>17.000000</td>\n",
       "      <td>2.000000</td>\n",
       "      <td>0.000000</td>\n",
       "      <td>8.000000</td>\n",
       "    </tr>\n",
       "    <tr>\n",
       "      <th>50%</th>\n",
       "      <td>271.000000</td>\n",
       "      <td>28076.000000</td>\n",
       "      <td>75.000000</td>\n",
       "      <td>4948.000000</td>\n",
       "      <td>3.000000</td>\n",
       "      <td>22.000000</td>\n",
       "      <td>3.000000</td>\n",
       "      <td>1.000000</td>\n",
       "      <td>12.000000</td>\n",
       "    </tr>\n",
       "    <tr>\n",
       "      <th>75%</th>\n",
       "      <td>324.000000</td>\n",
       "      <td>40525.000000</td>\n",
       "      <td>92.000000</td>\n",
       "      <td>8393.250000</td>\n",
       "      <td>5.000000</td>\n",
       "      <td>27.000000</td>\n",
       "      <td>4.000000</td>\n",
       "      <td>1.000000</td>\n",
       "      <td>18.000000</td>\n",
       "    </tr>\n",
       "    <tr>\n",
       "      <th>max</th>\n",
       "      <td>464.000000</td>\n",
       "      <td>252430.000000</td>\n",
       "      <td>815.000000</td>\n",
       "      <td>20065.000000</td>\n",
       "      <td>11.000000</td>\n",
       "      <td>500.000000</td>\n",
       "      <td>4.000000</td>\n",
       "      <td>3.000000</td>\n",
       "      <td>270.000000</td>\n",
       "    </tr>\n",
       "  </tbody>\n",
       "</table>\n",
       "</div>"
      ],
      "text/plain": [
       "       Yearly_avg_view_on_travel_page  \\\n",
       "count                    11179.000000   \n",
       "mean                       280.830844   \n",
       "std                         68.182958   \n",
       "min                         35.000000   \n",
       "25%                        232.000000   \n",
       "50%                        271.000000   \n",
       "75%                        324.000000   \n",
       "max                        464.000000   \n",
       "\n",
       "       total_likes_on_outstation_checkin_given  \\\n",
       "count                             11379.000000   \n",
       "mean                              28170.481765   \n",
       "std                               14385.032134   \n",
       "min                                3570.000000   \n",
       "25%                               16380.000000   \n",
       "50%                               28076.000000   \n",
       "75%                               40525.000000   \n",
       "max                              252430.000000   \n",
       "\n",
       "       Yearly_avg_comment_on_travel_page  \\\n",
       "count                       11554.000000   \n",
       "mean                           74.790029   \n",
       "std                            24.026650   \n",
       "min                             3.000000   \n",
       "25%                            57.000000   \n",
       "50%                            75.000000   \n",
       "75%                            92.000000   \n",
       "max                           815.000000   \n",
       "\n",
       "       total_likes_on_outofstation_checkin_received  \\\n",
       "count                                  11760.000000   \n",
       "mean                                    6531.699065   \n",
       "std                                     4706.613785   \n",
       "min                                     1009.000000   \n",
       "25%                                     2940.750000   \n",
       "50%                                     4948.000000   \n",
       "75%                                     8393.250000   \n",
       "max                                    20065.000000   \n",
       "\n",
       "       week_since_last_outstation_checkin  montly_avg_comment_on_company_page  \\\n",
       "count                        11760.000000                        11760.000000   \n",
       "mean                             3.203571                           28.661565   \n",
       "std                              2.616365                           48.660504   \n",
       "min                              0.000000                           11.000000   \n",
       "25%                              1.000000                           17.000000   \n",
       "50%                              3.000000                           22.000000   \n",
       "75%                              5.000000                           27.000000   \n",
       "max                             11.000000                          500.000000   \n",
       "\n",
       "       travelling_network_rating    Adult_flag  \\\n",
       "count               11760.000000  11760.000000   \n",
       "mean                    2.712245      0.793878   \n",
       "std                     1.080887      0.851823   \n",
       "min                     1.000000      0.000000   \n",
       "25%                     2.000000      0.000000   \n",
       "50%                     3.000000      1.000000   \n",
       "75%                     4.000000      1.000000   \n",
       "max                     4.000000      3.000000   \n",
       "\n",
       "       Daily_Avg_mins_spend_on_traveling_page  \n",
       "count                            11760.000000  \n",
       "mean                                13.817432  \n",
       "std                                  9.070657  \n",
       "min                                  0.000000  \n",
       "25%                                  8.000000  \n",
       "50%                                 12.000000  \n",
       "75%                                 18.000000  \n",
       "max                                270.000000  "
      ]
     },
     "execution_count": 390,
     "metadata": {},
     "output_type": "execute_result"
    }
   ],
   "source": [
    "data.describe()"
   ]
  },
  {
   "cell_type": "code",
   "execution_count": null,
   "id": "be484af1",
   "metadata": {},
   "outputs": [],
   "source": []
  },
  {
   "cell_type": "markdown",
   "id": "2af21d9f",
   "metadata": {},
   "source": [
    "### sns.heatmap(data.corr())"
   ]
  },
  {
   "cell_type": "code",
   "execution_count": 391,
   "id": "60dea6b3",
   "metadata": {},
   "outputs": [
    {
     "data": {
      "text/plain": [
       "<AxesSubplot:>"
      ]
     },
     "execution_count": 391,
     "metadata": {},
     "output_type": "execute_result"
    },
    {
     "data": {
      "image/png": "[encoded data removed]",
      "text/plain": [
       "<Figure size 432x288 with 2 Axes>"
      ]
     },
     "metadata": {
      "needs_background": "light"
     },
     "output_type": "display_data"
    }
   ],
   "source": [
    "sns.heatmap(data.corr())"
   ]
  },
  {
   "cell_type": "markdown",
   "id": "834ff429",
   "metadata": {},
   "source": [
    "### "
   ]
  },
  {
   "cell_type": "code",
   "execution_count": 449,
   "id": "4fde136c",
   "metadata": {
    "scrolled": false
   },
   "outputs": [
    {
     "data": {
      "image/png": "[encoded data removed]",
      "text/plain": [
       "<Figure size 432x288 with 1 Axes>"
      ]
     },
     "metadata": {
      "needs_background": "light"
     },
     "output_type": "display_data"
    },
    {
     "data": {
      "image/png": "[encoded data removed]",
      "text/plain": [
       "<Figure size 432x288 with 1 Axes>"
      ]
     },
     "metadata": {
      "needs_background": "light"
     },
     "output_type": "display_data"
    },
    {
     "data": {
      "image/png": "[encoded data removed]",
      "text/plain": [
       "<Figure size 432x288 with 1 Axes>"
      ]
     },
     "metadata": {
      "needs_background": "light"
     },
     "output_type": "display_data"
    },
    {
     "data": {
      "image/png": "[encoded data removed]",
      "text/plain": [
       "<Figure size 432x288 with 1 Axes>"
      ]
     },
     "metadata": {
      "needs_background": "light"
     },
     "output_type": "display_data"
    },
    {
     "data": {
      "image/png": "[encoded data removed]",
      "text/plain": [
       "<Figure size 432x288 with 1 Axes>"
      ]
     },
     "metadata": {
      "needs_background": "light"
     },
     "output_type": "display_data"
    },
    {
     "data": {
      "image/png": "[encoded data removed]",
      "text/plain": [
       "<Figure size 432x288 with 1 Axes>"
      ]
     },
     "metadata": {
      "needs_background": "light"
     },
     "output_type": "display_data"
    }
   ],
   "source": [
    "## Univariate analysis\n",
    "\n",
    "for feature in continuous_feature:\n",
    "    dataset=data.copy()\n",
    "    dataset[feature].hist(bins=25)\n",
    "    plt.xlabel(feature)\n",
    "    plt.ylabel(\"Count\")\n",
    "    plt.title(feature)\n",
    "    plt.show()"
   ]
  },
  {
   "cell_type": "code",
   "execution_count": 393,
   "id": "38fe0774",
   "metadata": {},
   "outputs": [
    {
     "data": {
      "image/png": "[encoded data removed]",
      "text/plain": [
       "<Figure size 432x288 with 1 Axes>"
      ]
     },
     "metadata": {
      "needs_background": "light"
     },
     "output_type": "display_data"
    },
    {
     "data": {
      "image/png": "[encoded data removed]",
      "text/plain": [
       "<Figure size 432x288 with 1 Axes>"
      ]
     },
     "metadata": {
      "needs_background": "light"
     },
     "output_type": "display_data"
    },
    {
     "data": {
      "image/png": "[encoded data removed]",
      "text/plain": [
       "<Figure size 432x288 with 1 Axes>"
      ]
     },
     "metadata": {
      "needs_background": "light"
     },
     "output_type": "display_data"
    },
    {
     "data": {
      "image/png": "[encoded data removed]",
      "text/plain": [
       "<Figure size 432x288 with 1 Axes>"
      ]
     },
     "metadata": {
      "needs_background": "light"
     },
     "output_type": "display_data"
    },
    {
     "data": {
      "image/png": "[encoded data removed]",
      "text/plain": [
       "<Figure size 432x288 with 1 Axes>"
      ]
     },
     "metadata": {
      "needs_background": "light"
     },
     "output_type": "display_data"
    },
    {
     "data": {
      "image/png": "[encoded data removed]",
      "text/plain": [
       "<Figure size 432x288 with 1 Axes>"
      ]
     },
     "metadata": {
      "needs_background": "light"
     },
     "output_type": "display_data"
    },
    {
     "data": {
      "image/png": "[encoded data removed]",
      "text/plain": [
       "<Figure size 432x288 with 1 Axes>"
      ]
     },
     "metadata": {
      "needs_background": "light"
     },
     "output_type": "display_data"
    }
   ],
   "source": [
    "for feature in categorical_feature:\n",
    "    dataset=data.copy()\n",
    "    dataset[feature].value_counts().hist(bins=25)\n",
    "    plt.xlabel(feature)\n",
    "    plt.ylabel(\"Count\")\n",
    "    plt.title(feature)\n",
    "    plt.show()"
   ]
  },
  {
   "cell_type": "code",
   "execution_count": null,
   "id": "91b781ff",
   "metadata": {},
   "outputs": [],
   "source": []
  },
  {
   "cell_type": "code",
   "execution_count": 394,
   "id": "b316eadd",
   "metadata": {},
   "outputs": [
    {
     "data": {
      "image/png": "[encoded data removed]",
      "text/plain": [
       "<Figure size 432x288 with 1 Axes>"
      ]
     },
     "metadata": {
      "needs_background": "light"
     },
     "output_type": "display_data"
    },
    {
     "data": {
      "image/png": "[encoded data removed]",
      "text/plain": [
       "<Figure size 432x288 with 1 Axes>"
      ]
     },
     "metadata": {
      "needs_background": "light"
     },
     "output_type": "display_data"
    },
    {
     "data": {
      "image/png": "[encoded data removed]",
      "text/plain": [
       "<Figure size 432x288 with 1 Axes>"
      ]
     },
     "metadata": {
      "needs_background": "light"
     },
     "output_type": "display_data"
    }
   ],
   "source": [
    "for feature in discrete_feature:\n",
    "        dataset = data.copy()\n",
    "        dataset.groupby(feature)['Taken_product'].value_counts().plot.bar()\n",
    "        plt.xlabel(feature)\n",
    "        plt.ylabel('taken product')\n",
    "        plt.show()"
   ]
  },
  {
   "cell_type": "code",
   "execution_count": 395,
   "id": "9b07b0a5",
   "metadata": {},
   "outputs": [
    {
     "name": "stdout",
     "output_type": "stream",
     "text": [
      "Features is Taken_product and categories are 2\n",
      "Features is preferred_device and categories are 7\n",
      "Features is yearly_avg_Outstation_checkins and categories are 30\n",
      "Features is member_in_family and categories are 6\n",
      "Features is preferred_location_type and categories are 15\n",
      "Features is following_company_page and categories are 3\n",
      "Features is working_flag and categories are 2\n"
     ]
    }
   ],
   "source": [
    "for feature in categorical_feature:\n",
    "    print(\"Features is {} and categories are {}\".format(feature, len(data[feature].unique())))  "
   ]
  },
  {
   "cell_type": "code",
   "execution_count": null,
   "id": "686a8f3e",
   "metadata": {},
   "outputs": [],
   "source": []
  },
  {
   "cell_type": "code",
   "execution_count": 396,
   "id": "af35b069",
   "metadata": {},
   "outputs": [],
   "source": [
    "## missing values are < 75%. We will impute the missing values. We will impute numerical values using mean, and categorical values using mode."
   ]
  },
  {
   "cell_type": "code",
   "execution_count": 397,
   "id": "d25de28a",
   "metadata": {},
   "outputs": [
    {
     "data": {
      "text/plain": [
       "Taken_product                                     0\n",
       "Yearly_avg_view_on_travel_page                  581\n",
       "preferred_device                                 53\n",
       "total_likes_on_outstation_checkin_given         381\n",
       "yearly_avg_Outstation_checkins                   76\n",
       "member_in_family                                  0\n",
       "preferred_location_type                          31\n",
       "Yearly_avg_comment_on_travel_page               206\n",
       "total_likes_on_outofstation_checkin_received      0\n",
       "week_since_last_outstation_checkin                0\n",
       "following_company_page                          103\n",
       "montly_avg_comment_on_company_page                0\n",
       "working_flag                                      0\n",
       "travelling_network_rating                         0\n",
       "Adult_flag                                        0\n",
       "Daily_Avg_mins_spend_on_traveling_page            0\n",
       "dtype: int64"
      ]
     },
     "execution_count": 397,
     "metadata": {},
     "output_type": "execute_result"
    }
   ],
   "source": [
    "data.isnull().sum()"
   ]
  },
  {
   "cell_type": "code",
   "execution_count": 398,
   "id": "b011d81e",
   "metadata": {
    "scrolled": true
   },
   "outputs": [
    {
     "data": {
      "text/plain": [
       "Taken_product                                   0.000000\n",
       "Yearly_avg_view_on_travel_page                  4.940476\n",
       "preferred_device                                0.450680\n",
       "total_likes_on_outstation_checkin_given         3.239796\n",
       "yearly_avg_Outstation_checkins                  0.646259\n",
       "member_in_family                                0.000000\n",
       "preferred_location_type                         0.263605\n",
       "Yearly_avg_comment_on_travel_page               1.751701\n",
       "total_likes_on_outofstation_checkin_received    0.000000\n",
       "week_since_last_outstation_checkin              0.000000\n",
       "following_company_page                          0.875850\n",
       "montly_avg_comment_on_company_page              0.000000\n",
       "working_flag                                    0.000000\n",
       "travelling_network_rating                       0.000000\n",
       "Adult_flag                                      0.000000\n",
       "Daily_Avg_mins_spend_on_traveling_page          0.000000\n",
       "dtype: float64"
      ]
     },
     "execution_count": 398,
     "metadata": {},
     "output_type": "execute_result"
    }
   ],
   "source": [
    "data.isnull().sum() * 100 / len(data)"
   ]
  },
  {
   "cell_type": "code",
   "execution_count": 399,
   "id": "09a7b85f",
   "metadata": {},
   "outputs": [],
   "source": [
    "data['Yearly_avg_view_on_travel_page'] = data['Yearly_avg_view_on_travel_page'].fillna(data['Yearly_avg_view_on_travel_page'].median())\n",
    "data['total_likes_on_outstation_checkin_given'] = data['total_likes_on_outstation_checkin_given'].fillna(data['total_likes_on_outstation_checkin_given'].median())\n",
    "data['preferred_device'] = data['preferred_device'].fillna(data['preferred_device'].mode)\n",
    "data['yearly_avg_Outstation_checkins'] = data['yearly_avg_Outstation_checkins'].fillna(data['yearly_avg_Outstation_checkins'].mode)\n",
    "data['preferred_location_type'] = data['preferred_location_type'].fillna(data['preferred_location_type'].mode)\n",
    "data['Yearly_avg_comment_on_travel_page'] = data['Yearly_avg_comment_on_travel_page'].fillna(data['Yearly_avg_comment_on_travel_page'].median())\n",
    "data['following_company_page'] = data['following_company_page'].fillna(data['following_company_page'].mode)\n"
   ]
  },
  {
   "cell_type": "code",
   "execution_count": 400,
   "id": "4cd12412",
   "metadata": {},
   "outputs": [
    {
     "data": {
      "text/plain": [
       "Taken_product                                   0\n",
       "Yearly_avg_view_on_travel_page                  0\n",
       "preferred_device                                0\n",
       "total_likes_on_outstation_checkin_given         0\n",
       "yearly_avg_Outstation_checkins                  0\n",
       "member_in_family                                0\n",
       "preferred_location_type                         0\n",
       "Yearly_avg_comment_on_travel_page               0\n",
       "total_likes_on_outofstation_checkin_received    0\n",
       "week_since_last_outstation_checkin              0\n",
       "following_company_page                          0\n",
       "montly_avg_comment_on_company_page              0\n",
       "working_flag                                    0\n",
       "travelling_network_rating                       0\n",
       "Adult_flag                                      0\n",
       "Daily_Avg_mins_spend_on_traveling_page          0\n",
       "dtype: int64"
      ]
     },
     "execution_count": 400,
     "metadata": {},
     "output_type": "execute_result"
    }
   ],
   "source": [
    "data.isnull().sum()"
   ]
  },
  {
   "cell_type": "code",
   "execution_count": 403,
   "id": "11ce98e5",
   "metadata": {},
   "outputs": [
    {
     "name": "stdout",
     "output_type": "stream",
     "text": [
      "<class 'pandas.core.frame.DataFrame'>\n",
      "RangeIndex: 11760 entries, 0 to 11759\n",
      "Data columns (total 16 columns):\n",
      " #   Column                                        Non-Null Count  Dtype  \n",
      "---  ------                                        --------------  -----  \n",
      " 0   Taken_product                                 11760 non-null  object \n",
      " 1   Yearly_avg_view_on_travel_page                11760 non-null  float64\n",
      " 2   preferred_device                              11760 non-null  object \n",
      " 3   total_likes_on_outstation_checkin_given       11760 non-null  float64\n",
      " 4   yearly_avg_Outstation_checkins                11760 non-null  object \n",
      " 5   member_in_family                              11760 non-null  object \n",
      " 6   preferred_location_type                       11760 non-null  object \n",
      " 7   Yearly_avg_comment_on_travel_page             11760 non-null  float64\n",
      " 8   total_likes_on_outofstation_checkin_received  11760 non-null  int64  \n",
      " 9   week_since_last_outstation_checkin            11760 non-null  int64  \n",
      " 10  following_company_page                        11760 non-null  object \n",
      " 11  montly_avg_comment_on_company_page            11760 non-null  int64  \n",
      " 12  working_flag                                  11760 non-null  object \n",
      " 13  travelling_network_rating                     11760 non-null  int64  \n",
      " 14  Adult_flag                                    11760 non-null  int64  \n",
      " 15  Daily_Avg_mins_spend_on_traveling_page        11760 non-null  int64  \n",
      "dtypes: float64(3), int64(6), object(7)\n",
      "memory usage: 1.4+ MB\n"
     ]
    }
   ],
   "source": [
    "data.info()"
   ]
  },
  {
   "cell_type": "code",
   "execution_count": null,
   "id": "5e8838ef",
   "metadata": {},
   "outputs": [],
   "source": []
  },
  {
   "cell_type": "code",
   "execution_count": 404,
   "id": "4fd9c0e4",
   "metadata": {},
   "outputs": [],
   "source": [
    "## Handling outliers"
   ]
  },
  {
   "cell_type": "code",
   "execution_count": 405,
   "id": "debd16e7",
   "metadata": {},
   "outputs": [
    {
     "data": {
      "image/png": "[encoded data removed]",
      "text/plain": [
       "<Figure size 432x288 with 1 Axes>"
      ]
     },
     "metadata": {
      "needs_background": "light"
     },
     "output_type": "display_data"
    },
    {
     "data": {
      "image/png": "[encoded data removed]",
      "text/plain": [
       "<Figure size 432x288 with 1 Axes>"
      ]
     },
     "metadata": {
      "needs_background": "light"
     },
     "output_type": "display_data"
    },
    {
     "data": {
      "image/png": "[encoded data removed]",
      "text/plain": [
       "<Figure size 432x288 with 1 Axes>"
      ]
     },
     "metadata": {
      "needs_background": "light"
     },
     "output_type": "display_data"
    },
    {
     "data": {
      "image/png": "[encoded data removed]",
      "text/plain": [
       "<Figure size 432x288 with 1 Axes>"
      ]
     },
     "metadata": {
      "needs_background": "light"
     },
     "output_type": "display_data"
    },
    {
     "data": {
      "image/png": "[encoded data removed]",
      "text/plain": [
       "<Figure size 432x288 with 1 Axes>"
      ]
     },
     "metadata": {
      "needs_background": "light"
     },
     "output_type": "display_data"
    },
    {
     "data": {
      "image/png": "[encoded data removed]",
      "text/plain": [
       "<Figure size 432x288 with 1 Axes>"
      ]
     },
     "metadata": {
      "needs_background": "light"
     },
     "output_type": "display_data"
    }
   ],
   "source": [
    "## outliers\n",
    "\n",
    "for feature in numerical_feature:\n",
    "    if 0 in data[feature].unique():\n",
    "        pass\n",
    "    else:\n",
    "        #df[feature]=np.log(df[feature])\n",
    "        data.boxplot(column=feature)\n",
    "        plt.ylabel(feature)\n",
    "        plt.title(feature)\n",
    "        plt.show()"
   ]
  },
  {
   "cell_type": "code",
   "execution_count": null,
   "id": "d49b4e93",
   "metadata": {},
   "outputs": [],
   "source": []
  },
  {
   "cell_type": "code",
   "execution_count": 406,
   "id": "40ec9fb2",
   "metadata": {},
   "outputs": [
    {
     "name": "stdout",
     "output_type": "stream",
     "text": [
      "Outliers from IQR method:  [3.0, 3.0, 3.0, 3.0, 3.0, 3.0, 3.0, 3.0, 3.0, 3.0, 3.0, 3.0, 3.0, 3.0, 3.0, 3.0, 3.0, 3.0, 3.0, 3.0, 3.0, 3.0, 3.0, 3.0, 3.0, 3.0, 3.0, 3.0, 3.0, 3.0, 3.0, 3.0, 3.0, 3.0, 3.0, 3.0, 215.0, 615.0, 685.0, 815.0]\n"
     ]
    }
   ],
   "source": [
    "outliers = []\n",
    "def detect_outliers_iqr(data):\n",
    "    data = sorted(data)\n",
    "    q1 = np.percentile(data, 25)\n",
    "    q3 = np.percentile(data, 75)\n",
    "    # print(q1, q3)\n",
    "    IQR = q3-q1\n",
    "    lwr_bound = q1-(1.5*IQR)\n",
    "    upr_bound = q3+(1.5*IQR)\n",
    "    # print(lwr_bound, upr_bound)\n",
    "    for i in data: \n",
    "        if (i<lwr_bound or i>upr_bound):\n",
    "            outliers.append(i)\n",
    "    return outliers# Driver code\n",
    "sample_outliers = detect_outliers_iqr(data['Yearly_avg_comment_on_travel_page'])\n",
    "print(\"Outliers from IQR method: \", sample_outliers)"
   ]
  },
  {
   "cell_type": "code",
   "execution_count": 407,
   "id": "ef97d9ad",
   "metadata": {},
   "outputs": [],
   "source": [
    "q1 = np.percentile(data['Yearly_avg_view_on_travel_page'], 25)\n",
    "q3 = np.percentile(data['Yearly_avg_view_on_travel_page'], 75)"
   ]
  },
  {
   "cell_type": "code",
   "execution_count": 408,
   "id": "da28e693",
   "metadata": {},
   "outputs": [],
   "source": [
    "IQR = q3 - q1"
   ]
  },
  {
   "cell_type": "code",
   "execution_count": 409,
   "id": "dcfd875e",
   "metadata": {},
   "outputs": [],
   "source": [
    "lwr_bound = q1-(1.5*IQR)\n",
    "upr_bound = q3+(1.5*IQR)"
   ]
  },
  {
   "cell_type": "code",
   "execution_count": 410,
   "id": "31cf8a08",
   "metadata": {},
   "outputs": [],
   "source": [
    "data.drop(data[ (data.Yearly_avg_view_on_travel_page > upr_bound) | (data.Yearly_avg_view_on_travel_page < lwr_bound) ].index , inplace=True)"
   ]
  },
  {
   "cell_type": "code",
   "execution_count": null,
   "id": "09f2a32b",
   "metadata": {},
   "outputs": [],
   "source": []
  },
  {
   "cell_type": "code",
   "execution_count": 411,
   "id": "accade87",
   "metadata": {},
   "outputs": [],
   "source": [
    "q11 = np.percentile(data['total_likes_on_outstation_checkin_given'], 25)\n",
    "q33 = np.percentile(data['total_likes_on_outstation_checkin_given'], 75)"
   ]
  },
  {
   "cell_type": "code",
   "execution_count": 412,
   "id": "03fb2bcc",
   "metadata": {},
   "outputs": [],
   "source": [
    "IQR1 = q33 - q11"
   ]
  },
  {
   "cell_type": "code",
   "execution_count": 413,
   "id": "0a9a3580",
   "metadata": {},
   "outputs": [],
   "source": [
    "lwr_bound1 = q11-(1.5*IQR1)\n",
    "upr_bound1 = q33+(1.5*IQR1)"
   ]
  },
  {
   "cell_type": "code",
   "execution_count": 414,
   "id": "f122ed8c",
   "metadata": {},
   "outputs": [],
   "source": [
    "data.drop(data[ (data.total_likes_on_outstation_checkin_given > upr_bound1) | (data.total_likes_on_outstation_checkin_given < lwr_bound1) ].index , inplace=True)"
   ]
  },
  {
   "cell_type": "code",
   "execution_count": null,
   "id": "3b1e958b",
   "metadata": {},
   "outputs": [],
   "source": []
  },
  {
   "cell_type": "code",
   "execution_count": 415,
   "id": "8b35a404",
   "metadata": {},
   "outputs": [],
   "source": [
    "q111 = np.percentile(data['Yearly_avg_comment_on_travel_page'], 25)\n",
    "q333 = np.percentile(data['Yearly_avg_comment_on_travel_page'], 75)"
   ]
  },
  {
   "cell_type": "code",
   "execution_count": 416,
   "id": "da26e47a",
   "metadata": {},
   "outputs": [],
   "source": [
    "IQR2 = q333 - q111"
   ]
  },
  {
   "cell_type": "code",
   "execution_count": 417,
   "id": "96a0d67c",
   "metadata": {},
   "outputs": [],
   "source": [
    "lwr_bound2 = q111-(1.5*IQR2)\n",
    "upr_bound2 = q333+(1.5*IQR2)"
   ]
  },
  {
   "cell_type": "code",
   "execution_count": 418,
   "id": "5580b39b",
   "metadata": {},
   "outputs": [],
   "source": [
    "data.drop(data[ (data.Yearly_avg_comment_on_travel_page > upr_bound2) | (data.Yearly_avg_comment_on_travel_page < lwr_bound2) ].index , inplace=True)"
   ]
  },
  {
   "cell_type": "code",
   "execution_count": 419,
   "id": "7bbab15c",
   "metadata": {},
   "outputs": [
    {
     "data": {
      "text/html": [
       "<div>\n",
       "<style scoped>\n",
       "    .dataframe tbody tr th:only-of-type {\n",
       "        vertical-align: middle;\n",
       "    }\n",
       "\n",
       "    .dataframe tbody tr th {\n",
       "        vertical-align: top;\n",
       "    }\n",
       "\n",
       "    .dataframe thead th {\n",
       "        text-align: right;\n",
       "    }\n",
       "</style>\n",
       "<table border=\"1\" class=\"dataframe\">\n",
       "  <thead>\n",
       "    <tr style=\"text-align: right;\">\n",
       "      <th></th>\n",
       "      <th>Taken_product</th>\n",
       "      <th>Yearly_avg_view_on_travel_page</th>\n",
       "      <th>preferred_device</th>\n",
       "      <th>total_likes_on_outstation_checkin_given</th>\n",
       "      <th>yearly_avg_Outstation_checkins</th>\n",
       "      <th>member_in_family</th>\n",
       "      <th>preferred_location_type</th>\n",
       "      <th>Yearly_avg_comment_on_travel_page</th>\n",
       "      <th>total_likes_on_outofstation_checkin_received</th>\n",
       "      <th>week_since_last_outstation_checkin</th>\n",
       "      <th>following_company_page</th>\n",
       "      <th>montly_avg_comment_on_company_page</th>\n",
       "      <th>working_flag</th>\n",
       "      <th>travelling_network_rating</th>\n",
       "      <th>Adult_flag</th>\n",
       "      <th>Daily_Avg_mins_spend_on_traveling_page</th>\n",
       "    </tr>\n",
       "  </thead>\n",
       "  <tbody>\n",
       "    <tr>\n",
       "      <th>0</th>\n",
       "      <td>Yes</td>\n",
       "      <td>307.0</td>\n",
       "      <td>Mobile</td>\n",
       "      <td>38570.0</td>\n",
       "      <td>1</td>\n",
       "      <td>2</td>\n",
       "      <td>Financial</td>\n",
       "      <td>94.0</td>\n",
       "      <td>5993</td>\n",
       "      <td>8</td>\n",
       "      <td>Yes</td>\n",
       "      <td>11</td>\n",
       "      <td>No</td>\n",
       "      <td>1</td>\n",
       "      <td>0</td>\n",
       "      <td>8</td>\n",
       "    </tr>\n",
       "    <tr>\n",
       "      <th>1</th>\n",
       "      <td>No</td>\n",
       "      <td>367.0</td>\n",
       "      <td>iOS</td>\n",
       "      <td>9765.0</td>\n",
       "      <td>1</td>\n",
       "      <td>1</td>\n",
       "      <td>Financial</td>\n",
       "      <td>61.0</td>\n",
       "      <td>5130</td>\n",
       "      <td>1</td>\n",
       "      <td>No</td>\n",
       "      <td>23</td>\n",
       "      <td>Yes</td>\n",
       "      <td>4</td>\n",
       "      <td>1</td>\n",
       "      <td>10</td>\n",
       "    </tr>\n",
       "    <tr>\n",
       "      <th>2</th>\n",
       "      <td>Yes</td>\n",
       "      <td>277.0</td>\n",
       "      <td>Mobile</td>\n",
       "      <td>48055.0</td>\n",
       "      <td>1</td>\n",
       "      <td>2</td>\n",
       "      <td>Other</td>\n",
       "      <td>92.0</td>\n",
       "      <td>2090</td>\n",
       "      <td>6</td>\n",
       "      <td>Yes</td>\n",
       "      <td>15</td>\n",
       "      <td>No</td>\n",
       "      <td>2</td>\n",
       "      <td>0</td>\n",
       "      <td>7</td>\n",
       "    </tr>\n",
       "    <tr>\n",
       "      <th>3</th>\n",
       "      <td>No</td>\n",
       "      <td>247.0</td>\n",
       "      <td>iOS</td>\n",
       "      <td>48720.0</td>\n",
       "      <td>1</td>\n",
       "      <td>4</td>\n",
       "      <td>Financial</td>\n",
       "      <td>56.0</td>\n",
       "      <td>2909</td>\n",
       "      <td>1</td>\n",
       "      <td>Yes</td>\n",
       "      <td>11</td>\n",
       "      <td>No</td>\n",
       "      <td>3</td>\n",
       "      <td>0</td>\n",
       "      <td>8</td>\n",
       "    </tr>\n",
       "    <tr>\n",
       "      <th>4</th>\n",
       "      <td>No</td>\n",
       "      <td>202.0</td>\n",
       "      <td>Mobile</td>\n",
       "      <td>20685.0</td>\n",
       "      <td>1</td>\n",
       "      <td>1</td>\n",
       "      <td>Medical</td>\n",
       "      <td>40.0</td>\n",
       "      <td>3468</td>\n",
       "      <td>9</td>\n",
       "      <td>No</td>\n",
       "      <td>12</td>\n",
       "      <td>No</td>\n",
       "      <td>4</td>\n",
       "      <td>1</td>\n",
       "      <td>6</td>\n",
       "    </tr>\n",
       "    <tr>\n",
       "      <th>...</th>\n",
       "      <td>...</td>\n",
       "      <td>...</td>\n",
       "      <td>...</td>\n",
       "      <td>...</td>\n",
       "      <td>...</td>\n",
       "      <td>...</td>\n",
       "      <td>...</td>\n",
       "      <td>...</td>\n",
       "      <td>...</td>\n",
       "      <td>...</td>\n",
       "      <td>...</td>\n",
       "      <td>...</td>\n",
       "      <td>...</td>\n",
       "      <td>...</td>\n",
       "      <td>...</td>\n",
       "      <td>...</td>\n",
       "    </tr>\n",
       "    <tr>\n",
       "      <th>11755</th>\n",
       "      <td>No</td>\n",
       "      <td>279.0</td>\n",
       "      <td>Laptop</td>\n",
       "      <td>30987.0</td>\n",
       "      <td>23</td>\n",
       "      <td>2</td>\n",
       "      <td>Historical_site</td>\n",
       "      <td>58.0</td>\n",
       "      <td>2616</td>\n",
       "      <td>4</td>\n",
       "      <td>No</td>\n",
       "      <td>36</td>\n",
       "      <td>No</td>\n",
       "      <td>3</td>\n",
       "      <td>1</td>\n",
       "      <td>23</td>\n",
       "    </tr>\n",
       "    <tr>\n",
       "      <th>11756</th>\n",
       "      <td>No</td>\n",
       "      <td>305.0</td>\n",
       "      <td>Tab</td>\n",
       "      <td>21510.0</td>\n",
       "      <td>6</td>\n",
       "      <td>1</td>\n",
       "      <td>Historical_site</td>\n",
       "      <td>55.0</td>\n",
       "      <td>10041</td>\n",
       "      <td>4</td>\n",
       "      <td>No</td>\n",
       "      <td>30</td>\n",
       "      <td>No</td>\n",
       "      <td>1</td>\n",
       "      <td>1</td>\n",
       "      <td>11</td>\n",
       "    </tr>\n",
       "    <tr>\n",
       "      <th>11757</th>\n",
       "      <td>No</td>\n",
       "      <td>214.0</td>\n",
       "      <td>Tab</td>\n",
       "      <td>5478.0</td>\n",
       "      <td>4</td>\n",
       "      <td>3</td>\n",
       "      <td>Beach</td>\n",
       "      <td>103.0</td>\n",
       "      <td>6203</td>\n",
       "      <td>3</td>\n",
       "      <td>Yes</td>\n",
       "      <td>40</td>\n",
       "      <td>Yes</td>\n",
       "      <td>2</td>\n",
       "      <td>1</td>\n",
       "      <td>12</td>\n",
       "    </tr>\n",
       "    <tr>\n",
       "      <th>11758</th>\n",
       "      <td>No</td>\n",
       "      <td>382.0</td>\n",
       "      <td>Laptop</td>\n",
       "      <td>35851.0</td>\n",
       "      <td>2</td>\n",
       "      <td>3</td>\n",
       "      <td>Historical_site</td>\n",
       "      <td>83.0</td>\n",
       "      <td>5444</td>\n",
       "      <td>3</td>\n",
       "      <td>No</td>\n",
       "      <td>32</td>\n",
       "      <td>No</td>\n",
       "      <td>4</td>\n",
       "      <td>0</td>\n",
       "      <td>20</td>\n",
       "    </tr>\n",
       "    <tr>\n",
       "      <th>11759</th>\n",
       "      <td>No</td>\n",
       "      <td>270.0</td>\n",
       "      <td>Tab</td>\n",
       "      <td>22025.0</td>\n",
       "      <td>8</td>\n",
       "      <td>3</td>\n",
       "      <td>Historical_site</td>\n",
       "      <td>104.0</td>\n",
       "      <td>4470</td>\n",
       "      <td>2</td>\n",
       "      <td>No</td>\n",
       "      <td>29</td>\n",
       "      <td>No</td>\n",
       "      <td>1</td>\n",
       "      <td>0</td>\n",
       "      <td>14</td>\n",
       "    </tr>\n",
       "  </tbody>\n",
       "</table>\n",
       "<p>11687 rows × 16 columns</p>\n",
       "</div>"
      ],
      "text/plain": [
       "      Taken_product  Yearly_avg_view_on_travel_page preferred_device  \\\n",
       "0               Yes                           307.0           Mobile   \n",
       "1                No                           367.0              iOS   \n",
       "2               Yes                           277.0           Mobile   \n",
       "3                No                           247.0              iOS   \n",
       "4                No                           202.0           Mobile   \n",
       "...             ...                             ...              ...   \n",
       "11755            No                           279.0           Laptop   \n",
       "11756            No                           305.0              Tab   \n",
       "11757            No                           214.0              Tab   \n",
       "11758            No                           382.0           Laptop   \n",
       "11759            No                           270.0              Tab   \n",
       "\n",
       "       total_likes_on_outstation_checkin_given yearly_avg_Outstation_checkins  \\\n",
       "0                                      38570.0                              1   \n",
       "1                                       9765.0                              1   \n",
       "2                                      48055.0                              1   \n",
       "3                                      48720.0                              1   \n",
       "4                                      20685.0                              1   \n",
       "...                                        ...                            ...   \n",
       "11755                                  30987.0                             23   \n",
       "11756                                  21510.0                              6   \n",
       "11757                                   5478.0                              4   \n",
       "11758                                  35851.0                              2   \n",
       "11759                                  22025.0                              8   \n",
       "\n",
       "      member_in_family preferred_location_type  \\\n",
       "0                    2               Financial   \n",
       "1                    1               Financial   \n",
       "2                    2                   Other   \n",
       "3                    4               Financial   \n",
       "4                    1                 Medical   \n",
       "...                ...                     ...   \n",
       "11755                2         Historical_site   \n",
       "11756                1         Historical_site   \n",
       "11757                3                   Beach   \n",
       "11758                3         Historical_site   \n",
       "11759                3         Historical_site   \n",
       "\n",
       "       Yearly_avg_comment_on_travel_page  \\\n",
       "0                                   94.0   \n",
       "1                                   61.0   \n",
       "2                                   92.0   \n",
       "3                                   56.0   \n",
       "4                                   40.0   \n",
       "...                                  ...   \n",
       "11755                               58.0   \n",
       "11756                               55.0   \n",
       "11757                              103.0   \n",
       "11758                               83.0   \n",
       "11759                              104.0   \n",
       "\n",
       "       total_likes_on_outofstation_checkin_received  \\\n",
       "0                                              5993   \n",
       "1                                              5130   \n",
       "2                                              2090   \n",
       "3                                              2909   \n",
       "4                                              3468   \n",
       "...                                             ...   \n",
       "11755                                          2616   \n",
       "11756                                         10041   \n",
       "11757                                          6203   \n",
       "11758                                          5444   \n",
       "11759                                          4470   \n",
       "\n",
       "       week_since_last_outstation_checkin following_company_page  \\\n",
       "0                                       8                    Yes   \n",
       "1                                       1                     No   \n",
       "2                                       6                    Yes   \n",
       "3                                       1                    Yes   \n",
       "4                                       9                     No   \n",
       "...                                   ...                    ...   \n",
       "11755                                   4                     No   \n",
       "11756                                   4                     No   \n",
       "11757                                   3                    Yes   \n",
       "11758                                   3                     No   \n",
       "11759                                   2                     No   \n",
       "\n",
       "       montly_avg_comment_on_company_page working_flag  \\\n",
       "0                                      11           No   \n",
       "1                                      23          Yes   \n",
       "2                                      15           No   \n",
       "3                                      11           No   \n",
       "4                                      12           No   \n",
       "...                                   ...          ...   \n",
       "11755                                  36           No   \n",
       "11756                                  30           No   \n",
       "11757                                  40          Yes   \n",
       "11758                                  32           No   \n",
       "11759                                  29           No   \n",
       "\n",
       "       travelling_network_rating  Adult_flag  \\\n",
       "0                              1           0   \n",
       "1                              4           1   \n",
       "2                              2           0   \n",
       "3                              3           0   \n",
       "4                              4           1   \n",
       "...                          ...         ...   \n",
       "11755                          3           1   \n",
       "11756                          1           1   \n",
       "11757                          2           1   \n",
       "11758                          4           0   \n",
       "11759                          1           0   \n",
       "\n",
       "       Daily_Avg_mins_spend_on_traveling_page  \n",
       "0                                           8  \n",
       "1                                          10  \n",
       "2                                           7  \n",
       "3                                           8  \n",
       "4                                           6  \n",
       "...                                       ...  \n",
       "11755                                      23  \n",
       "11756                                      11  \n",
       "11757                                      12  \n",
       "11758                                      20  \n",
       "11759                                      14  \n",
       "\n",
       "[11687 rows x 16 columns]"
      ]
     },
     "execution_count": 419,
     "metadata": {},
     "output_type": "execute_result"
    }
   ],
   "source": [
    "data"
   ]
  },
  {
   "cell_type": "code",
   "execution_count": null,
   "id": "bb1875f5",
   "metadata": {},
   "outputs": [],
   "source": []
  },
  {
   "cell_type": "code",
   "execution_count": 420,
   "id": "e26633bd",
   "metadata": {},
   "outputs": [
    {
     "data": {
      "image/png": "[encoded data removed]",
      "text/plain": [
       "<Figure size 432x288 with 1 Axes>"
      ]
     },
     "metadata": {
      "needs_background": "light"
     },
     "output_type": "display_data"
    },
    {
     "data": {
      "image/png": "[encoded data removed]",
      "text/plain": [
       "<Figure size 432x288 with 1 Axes>"
      ]
     },
     "metadata": {
      "needs_background": "light"
     },
     "output_type": "display_data"
    },
    {
     "data": {
      "image/png": "[encoded data removed]",
      "text/plain": [
       "<Figure size 432x288 with 1 Axes>"
      ]
     },
     "metadata": {
      "needs_background": "light"
     },
     "output_type": "display_data"
    },
    {
     "data": {
      "image/png": "[encoded data removed]",
      "text/plain": [
       "<Figure size 432x288 with 1 Axes>"
      ]
     },
     "metadata": {
      "needs_background": "light"
     },
     "output_type": "display_data"
    },
    {
     "data": {
      "image/png": "[encoded data removed]",
      "text/plain": [
       "<Figure size 432x288 with 1 Axes>"
      ]
     },
     "metadata": {
      "needs_background": "light"
     },
     "output_type": "display_data"
    },
    {
     "data": {
      "image/png": "[encoded data removed]",
      "text/plain": [
       "<Figure size 432x288 with 1 Axes>"
      ]
     },
     "metadata": {
      "needs_background": "light"
     },
     "output_type": "display_data"
    }
   ],
   "source": [
    "## outliers\n",
    "\n",
    "for feature in numerical_feature:\n",
    "    if 0 in data[feature].unique():\n",
    "        pass\n",
    "    else:\n",
    "        #df[feature]=np.log(df[feature])\n",
    "        data.boxplot(column=feature)\n",
    "        plt.ylabel(feature)\n",
    "        plt.title(feature)\n",
    "        plt.show()"
   ]
  },
  {
   "cell_type": "code",
   "execution_count": null,
   "id": "54d7ef16",
   "metadata": {},
   "outputs": [],
   "source": []
  },
  {
   "cell_type": "code",
   "execution_count": 421,
   "id": "732ed21d",
   "metadata": {},
   "outputs": [],
   "source": [
    "# laptop = df_out.loc[df_out['preferred_device'] == 'Laptop']"
   ]
  },
  {
   "cell_type": "code",
   "execution_count": 422,
   "id": "d6875e74",
   "metadata": {},
   "outputs": [],
   "source": [
    "# laptop"
   ]
  },
  {
   "cell_type": "code",
   "execution_count": 423,
   "id": "26f9ae48",
   "metadata": {},
   "outputs": [],
   "source": [
    "# mobile = df_out.loc[df_out['preferred_device'] != 'Laptop']"
   ]
  },
  {
   "cell_type": "code",
   "execution_count": 424,
   "id": "fa9b386f",
   "metadata": {},
   "outputs": [],
   "source": [
    "# mobile"
   ]
  },
  {
   "cell_type": "code",
   "execution_count": 425,
   "id": "9e2c81da",
   "metadata": {},
   "outputs": [],
   "source": [
    "# ## one hot encoding for laptop\n",
    "\n",
    "# obj = laptop[['Taken_product',\n",
    "#  'preferred_device',\n",
    "#  'yearly_avg_Outstation_checkins',\n",
    "#  'member_in_family',\n",
    "#  'preferred_location_type',\n",
    "#  'following_company_page',\n",
    "#  'working_flag']]\n",
    "# num = laptop.drop(['Taken_product',\n",
    "#  'preferred_device',\n",
    "#  'yearly_avg_Outstation_checkins',\n",
    "#  'member_in_family',\n",
    "#  'preferred_location_type',\n",
    "#  'following_company_page',\n",
    "#  'working_flag'], axis = 1)\n",
    "# encode = pd.get_dummies(obj, drop_first = True)\n",
    "# laptop_1 = pd.concat([num, encode], axis = 1)"
   ]
  },
  {
   "cell_type": "code",
   "execution_count": 428,
   "id": "6b416760",
   "metadata": {
    "scrolled": false
   },
   "outputs": [],
   "source": [
    "data[\"yearly_avg_Outstation_checkins\"] = data[\"yearly_avg_Outstation_checkins\"].astype(object).astype(str)"
   ]
  },
  {
   "cell_type": "code",
   "execution_count": 433,
   "id": "1f782611",
   "metadata": {},
   "outputs": [],
   "source": [
    "data[\"preferred_location_type\"] = data[\"preferred_location_type\"].astype(object).astype(str)"
   ]
  },
  {
   "cell_type": "code",
   "execution_count": 434,
   "id": "76c8c7f1",
   "metadata": {},
   "outputs": [],
   "source": [
    "# Import label encoder\n",
    "from sklearn import preprocessing\n",
    "  \n",
    "# label_encoder object knows how to understand word labels.\n",
    "label_encoder = preprocessing.LabelEncoder()\n",
    "  \n",
    "# Encode labels in column 'species'.\n",
    "data['yearly_avg_Outstation_checkins']= label_encoder.fit_transform(data['yearly_avg_Outstation_checkins'])\n",
    "data['preferred_location_type']= label_encoder.fit_transform(data['preferred_location_type'])"
   ]
  },
  {
   "cell_type": "code",
   "execution_count": 435,
   "id": "a0676bf1",
   "metadata": {},
   "outputs": [
    {
     "name": "stdout",
     "output_type": "stream",
     "text": [
      "<class 'pandas.core.frame.DataFrame'>\n",
      "Int64Index: 11687 entries, 0 to 11759\n",
      "Data columns (total 16 columns):\n",
      " #   Column                                        Non-Null Count  Dtype  \n",
      "---  ------                                        --------------  -----  \n",
      " 0   Taken_product                                 11687 non-null  object \n",
      " 1   Yearly_avg_view_on_travel_page                11687 non-null  float64\n",
      " 2   preferred_device                              11687 non-null  object \n",
      " 3   total_likes_on_outstation_checkin_given       11687 non-null  float64\n",
      " 4   yearly_avg_Outstation_checkins                11687 non-null  int64  \n",
      " 5   member_in_family                              11687 non-null  object \n",
      " 6   preferred_location_type                       11687 non-null  int32  \n",
      " 7   Yearly_avg_comment_on_travel_page             11687 non-null  float64\n",
      " 8   total_likes_on_outofstation_checkin_received  11687 non-null  int64  \n",
      " 9   week_since_last_outstation_checkin            11687 non-null  int64  \n",
      " 10  following_company_page                        11687 non-null  object \n",
      " 11  montly_avg_comment_on_company_page            11687 non-null  int64  \n",
      " 12  working_flag                                  11687 non-null  object \n",
      " 13  travelling_network_rating                     11687 non-null  int64  \n",
      " 14  Adult_flag                                    11687 non-null  int64  \n",
      " 15  Daily_Avg_mins_spend_on_traveling_page        11687 non-null  int64  \n",
      "dtypes: float64(3), int32(1), int64(7), object(5)\n",
      "memory usage: 1.5+ MB\n"
     ]
    }
   ],
   "source": [
    "data.info()"
   ]
  },
  {
   "cell_type": "code",
   "execution_count": 437,
   "id": "dffb768e",
   "metadata": {},
   "outputs": [],
   "source": [
    "## one hot encoding for mobile\n",
    "\n",
    "obj = data[['Taken_product',\n",
    " 'preferred_device',\n",
    " 'member_in_family',\n",
    " 'following_company_page',\n",
    " 'working_flag']]\n",
    "num = data.drop(['Taken_product',\n",
    " 'preferred_device',\n",
    " 'member_in_family',\n",
    " 'following_company_page',\n",
    " 'working_flag'], axis = 1)\n",
    "encode = pd.get_dummies(obj, drop_first = True)\n",
    "df = pd.concat([num, encode], axis = 1)"
   ]
  },
  {
   "cell_type": "code",
   "execution_count": 439,
   "id": "5f21023e",
   "metadata": {},
   "outputs": [
    {
     "data": {
      "text/html": [
       "<div>\n",
       "<style scoped>\n",
       "    .dataframe tbody tr th:only-of-type {\n",
       "        vertical-align: middle;\n",
       "    }\n",
       "\n",
       "    .dataframe tbody tr th {\n",
       "        vertical-align: top;\n",
       "    }\n",
       "\n",
       "    .dataframe thead th {\n",
       "        text-align: right;\n",
       "    }\n",
       "</style>\n",
       "<table border=\"1\" class=\"dataframe\">\n",
       "  <thead>\n",
       "    <tr style=\"text-align: right;\">\n",
       "      <th></th>\n",
       "      <th>Yearly_avg_view_on_travel_page</th>\n",
       "      <th>total_likes_on_outstation_checkin_given</th>\n",
       "      <th>yearly_avg_Outstation_checkins</th>\n",
       "      <th>preferred_location_type</th>\n",
       "      <th>Yearly_avg_comment_on_travel_page</th>\n",
       "      <th>total_likes_on_outofstation_checkin_received</th>\n",
       "      <th>week_since_last_outstation_checkin</th>\n",
       "      <th>montly_avg_comment_on_company_page</th>\n",
       "      <th>travelling_network_rating</th>\n",
       "      <th>Adult_flag</th>\n",
       "      <th>...</th>\n",
       "      <th>preferred_device_Tab</th>\n",
       "      <th>preferred_device_iOS</th>\n",
       "      <th>member_in_family_10</th>\n",
       "      <th>member_in_family_2</th>\n",
       "      <th>member_in_family_3</th>\n",
       "      <th>member_in_family_4</th>\n",
       "      <th>member_in_family_5</th>\n",
       "      <th>following_company_page_No</th>\n",
       "      <th>following_company_page_Yes</th>\n",
       "      <th>working_flag_Yes</th>\n",
       "    </tr>\n",
       "  </thead>\n",
       "  <tbody>\n",
       "    <tr>\n",
       "      <th>0</th>\n",
       "      <td>307.0</td>\n",
       "      <td>38570.0</td>\n",
       "      <td>0</td>\n",
       "      <td>4</td>\n",
       "      <td>94.0</td>\n",
       "      <td>5993</td>\n",
       "      <td>8</td>\n",
       "      <td>11</td>\n",
       "      <td>1</td>\n",
       "      <td>0</td>\n",
       "      <td>...</td>\n",
       "      <td>0</td>\n",
       "      <td>0</td>\n",
       "      <td>0</td>\n",
       "      <td>1</td>\n",
       "      <td>0</td>\n",
       "      <td>0</td>\n",
       "      <td>0</td>\n",
       "      <td>0</td>\n",
       "      <td>1</td>\n",
       "      <td>0</td>\n",
       "    </tr>\n",
       "    <tr>\n",
       "      <th>1</th>\n",
       "      <td>367.0</td>\n",
       "      <td>9765.0</td>\n",
       "      <td>0</td>\n",
       "      <td>4</td>\n",
       "      <td>61.0</td>\n",
       "      <td>5130</td>\n",
       "      <td>1</td>\n",
       "      <td>23</td>\n",
       "      <td>4</td>\n",
       "      <td>1</td>\n",
       "      <td>...</td>\n",
       "      <td>0</td>\n",
       "      <td>1</td>\n",
       "      <td>0</td>\n",
       "      <td>0</td>\n",
       "      <td>0</td>\n",
       "      <td>0</td>\n",
       "      <td>0</td>\n",
       "      <td>1</td>\n",
       "      <td>0</td>\n",
       "      <td>1</td>\n",
       "    </tr>\n",
       "    <tr>\n",
       "      <th>2</th>\n",
       "      <td>277.0</td>\n",
       "      <td>48055.0</td>\n",
       "      <td>0</td>\n",
       "      <td>11</td>\n",
       "      <td>92.0</td>\n",
       "      <td>2090</td>\n",
       "      <td>6</td>\n",
       "      <td>15</td>\n",
       "      <td>2</td>\n",
       "      <td>0</td>\n",
       "      <td>...</td>\n",
       "      <td>0</td>\n",
       "      <td>0</td>\n",
       "      <td>0</td>\n",
       "      <td>1</td>\n",
       "      <td>0</td>\n",
       "      <td>0</td>\n",
       "      <td>0</td>\n",
       "      <td>0</td>\n",
       "      <td>1</td>\n",
       "      <td>0</td>\n",
       "    </tr>\n",
       "    <tr>\n",
       "      <th>3</th>\n",
       "      <td>247.0</td>\n",
       "      <td>48720.0</td>\n",
       "      <td>0</td>\n",
       "      <td>4</td>\n",
       "      <td>56.0</td>\n",
       "      <td>2909</td>\n",
       "      <td>1</td>\n",
       "      <td>11</td>\n",
       "      <td>3</td>\n",
       "      <td>0</td>\n",
       "      <td>...</td>\n",
       "      <td>0</td>\n",
       "      <td>1</td>\n",
       "      <td>0</td>\n",
       "      <td>0</td>\n",
       "      <td>0</td>\n",
       "      <td>1</td>\n",
       "      <td>0</td>\n",
       "      <td>0</td>\n",
       "      <td>1</td>\n",
       "      <td>0</td>\n",
       "    </tr>\n",
       "    <tr>\n",
       "      <th>4</th>\n",
       "      <td>202.0</td>\n",
       "      <td>20685.0</td>\n",
       "      <td>0</td>\n",
       "      <td>8</td>\n",
       "      <td>40.0</td>\n",
       "      <td>3468</td>\n",
       "      <td>9</td>\n",
       "      <td>12</td>\n",
       "      <td>4</td>\n",
       "      <td>1</td>\n",
       "      <td>...</td>\n",
       "      <td>0</td>\n",
       "      <td>0</td>\n",
       "      <td>0</td>\n",
       "      <td>0</td>\n",
       "      <td>0</td>\n",
       "      <td>0</td>\n",
       "      <td>0</td>\n",
       "      <td>1</td>\n",
       "      <td>0</td>\n",
       "      <td>0</td>\n",
       "    </tr>\n",
       "    <tr>\n",
       "      <th>...</th>\n",
       "      <td>...</td>\n",
       "      <td>...</td>\n",
       "      <td>...</td>\n",
       "      <td>...</td>\n",
       "      <td>...</td>\n",
       "      <td>...</td>\n",
       "      <td>...</td>\n",
       "      <td>...</td>\n",
       "      <td>...</td>\n",
       "      <td>...</td>\n",
       "      <td>...</td>\n",
       "      <td>...</td>\n",
       "      <td>...</td>\n",
       "      <td>...</td>\n",
       "      <td>...</td>\n",
       "      <td>...</td>\n",
       "      <td>...</td>\n",
       "      <td>...</td>\n",
       "      <td>...</td>\n",
       "      <td>...</td>\n",
       "      <td>...</td>\n",
       "    </tr>\n",
       "    <tr>\n",
       "      <th>11755</th>\n",
       "      <td>279.0</td>\n",
       "      <td>30987.0</td>\n",
       "      <td>15</td>\n",
       "      <td>7</td>\n",
       "      <td>58.0</td>\n",
       "      <td>2616</td>\n",
       "      <td>4</td>\n",
       "      <td>36</td>\n",
       "      <td>3</td>\n",
       "      <td>1</td>\n",
       "      <td>...</td>\n",
       "      <td>0</td>\n",
       "      <td>0</td>\n",
       "      <td>0</td>\n",
       "      <td>1</td>\n",
       "      <td>0</td>\n",
       "      <td>0</td>\n",
       "      <td>0</td>\n",
       "      <td>1</td>\n",
       "      <td>0</td>\n",
       "      <td>0</td>\n",
       "    </tr>\n",
       "    <tr>\n",
       "      <th>11756</th>\n",
       "      <td>305.0</td>\n",
       "      <td>21510.0</td>\n",
       "      <td>25</td>\n",
       "      <td>7</td>\n",
       "      <td>55.0</td>\n",
       "      <td>10041</td>\n",
       "      <td>4</td>\n",
       "      <td>30</td>\n",
       "      <td>1</td>\n",
       "      <td>1</td>\n",
       "      <td>...</td>\n",
       "      <td>1</td>\n",
       "      <td>0</td>\n",
       "      <td>0</td>\n",
       "      <td>0</td>\n",
       "      <td>0</td>\n",
       "      <td>0</td>\n",
       "      <td>0</td>\n",
       "      <td>1</td>\n",
       "      <td>0</td>\n",
       "      <td>0</td>\n",
       "    </tr>\n",
       "    <tr>\n",
       "      <th>11757</th>\n",
       "      <td>214.0</td>\n",
       "      <td>5478.0</td>\n",
       "      <td>23</td>\n",
       "      <td>1</td>\n",
       "      <td>103.0</td>\n",
       "      <td>6203</td>\n",
       "      <td>3</td>\n",
       "      <td>40</td>\n",
       "      <td>2</td>\n",
       "      <td>1</td>\n",
       "      <td>...</td>\n",
       "      <td>1</td>\n",
       "      <td>0</td>\n",
       "      <td>0</td>\n",
       "      <td>0</td>\n",
       "      <td>1</td>\n",
       "      <td>0</td>\n",
       "      <td>0</td>\n",
       "      <td>0</td>\n",
       "      <td>1</td>\n",
       "      <td>1</td>\n",
       "    </tr>\n",
       "    <tr>\n",
       "      <th>11758</th>\n",
       "      <td>382.0</td>\n",
       "      <td>35851.0</td>\n",
       "      <td>11</td>\n",
       "      <td>7</td>\n",
       "      <td>83.0</td>\n",
       "      <td>5444</td>\n",
       "      <td>3</td>\n",
       "      <td>32</td>\n",
       "      <td>4</td>\n",
       "      <td>0</td>\n",
       "      <td>...</td>\n",
       "      <td>0</td>\n",
       "      <td>0</td>\n",
       "      <td>0</td>\n",
       "      <td>0</td>\n",
       "      <td>1</td>\n",
       "      <td>0</td>\n",
       "      <td>0</td>\n",
       "      <td>1</td>\n",
       "      <td>0</td>\n",
       "      <td>0</td>\n",
       "    </tr>\n",
       "    <tr>\n",
       "      <th>11759</th>\n",
       "      <td>270.0</td>\n",
       "      <td>22025.0</td>\n",
       "      <td>27</td>\n",
       "      <td>7</td>\n",
       "      <td>104.0</td>\n",
       "      <td>4470</td>\n",
       "      <td>2</td>\n",
       "      <td>29</td>\n",
       "      <td>1</td>\n",
       "      <td>0</td>\n",
       "      <td>...</td>\n",
       "      <td>1</td>\n",
       "      <td>0</td>\n",
       "      <td>0</td>\n",
       "      <td>0</td>\n",
       "      <td>1</td>\n",
       "      <td>0</td>\n",
       "      <td>0</td>\n",
       "      <td>1</td>\n",
       "      <td>0</td>\n",
       "      <td>0</td>\n",
       "    </tr>\n",
       "  </tbody>\n",
       "</table>\n",
       "<p>11687 rows × 26 columns</p>\n",
       "</div>"
      ],
      "text/plain": [
       "       Yearly_avg_view_on_travel_page  \\\n",
       "0                               307.0   \n",
       "1                               367.0   \n",
       "2                               277.0   \n",
       "3                               247.0   \n",
       "4                               202.0   \n",
       "...                               ...   \n",
       "11755                           279.0   \n",
       "11756                           305.0   \n",
       "11757                           214.0   \n",
       "11758                           382.0   \n",
       "11759                           270.0   \n",
       "\n",
       "       total_likes_on_outstation_checkin_given  \\\n",
       "0                                      38570.0   \n",
       "1                                       9765.0   \n",
       "2                                      48055.0   \n",
       "3                                      48720.0   \n",
       "4                                      20685.0   \n",
       "...                                        ...   \n",
       "11755                                  30987.0   \n",
       "11756                                  21510.0   \n",
       "11757                                   5478.0   \n",
       "11758                                  35851.0   \n",
       "11759                                  22025.0   \n",
       "\n",
       "       yearly_avg_Outstation_checkins  preferred_location_type  \\\n",
       "0                                   0                        4   \n",
       "1                                   0                        4   \n",
       "2                                   0                       11   \n",
       "3                                   0                        4   \n",
       "4                                   0                        8   \n",
       "...                               ...                      ...   \n",
       "11755                              15                        7   \n",
       "11756                              25                        7   \n",
       "11757                              23                        1   \n",
       "11758                              11                        7   \n",
       "11759                              27                        7   \n",
       "\n",
       "       Yearly_avg_comment_on_travel_page  \\\n",
       "0                                   94.0   \n",
       "1                                   61.0   \n",
       "2                                   92.0   \n",
       "3                                   56.0   \n",
       "4                                   40.0   \n",
       "...                                  ...   \n",
       "11755                               58.0   \n",
       "11756                               55.0   \n",
       "11757                              103.0   \n",
       "11758                               83.0   \n",
       "11759                              104.0   \n",
       "\n",
       "       total_likes_on_outofstation_checkin_received  \\\n",
       "0                                              5993   \n",
       "1                                              5130   \n",
       "2                                              2090   \n",
       "3                                              2909   \n",
       "4                                              3468   \n",
       "...                                             ...   \n",
       "11755                                          2616   \n",
       "11756                                         10041   \n",
       "11757                                          6203   \n",
       "11758                                          5444   \n",
       "11759                                          4470   \n",
       "\n",
       "       week_since_last_outstation_checkin  montly_avg_comment_on_company_page  \\\n",
       "0                                       8                                  11   \n",
       "1                                       1                                  23   \n",
       "2                                       6                                  15   \n",
       "3                                       1                                  11   \n",
       "4                                       9                                  12   \n",
       "...                                   ...                                 ...   \n",
       "11755                                   4                                  36   \n",
       "11756                                   4                                  30   \n",
       "11757                                   3                                  40   \n",
       "11758                                   3                                  32   \n",
       "11759                                   2                                  29   \n",
       "\n",
       "       travelling_network_rating  Adult_flag  ...  preferred_device_Tab  \\\n",
       "0                              1           0  ...                     0   \n",
       "1                              4           1  ...                     0   \n",
       "2                              2           0  ...                     0   \n",
       "3                              3           0  ...                     0   \n",
       "4                              4           1  ...                     0   \n",
       "...                          ...         ...  ...                   ...   \n",
       "11755                          3           1  ...                     0   \n",
       "11756                          1           1  ...                     1   \n",
       "11757                          2           1  ...                     1   \n",
       "11758                          4           0  ...                     0   \n",
       "11759                          1           0  ...                     1   \n",
       "\n",
       "       preferred_device_iOS  member_in_family_10  member_in_family_2  \\\n",
       "0                         0                    0                   1   \n",
       "1                         1                    0                   0   \n",
       "2                         0                    0                   1   \n",
       "3                         1                    0                   0   \n",
       "4                         0                    0                   0   \n",
       "...                     ...                  ...                 ...   \n",
       "11755                     0                    0                   1   \n",
       "11756                     0                    0                   0   \n",
       "11757                     0                    0                   0   \n",
       "11758                     0                    0                   0   \n",
       "11759                     0                    0                   0   \n",
       "\n",
       "       member_in_family_3  member_in_family_4  member_in_family_5  \\\n",
       "0                       0                   0                   0   \n",
       "1                       0                   0                   0   \n",
       "2                       0                   0                   0   \n",
       "3                       0                   1                   0   \n",
       "4                       0                   0                   0   \n",
       "...                   ...                 ...                 ...   \n",
       "11755                   0                   0                   0   \n",
       "11756                   0                   0                   0   \n",
       "11757                   1                   0                   0   \n",
       "11758                   1                   0                   0   \n",
       "11759                   1                   0                   0   \n",
       "\n",
       "       following_company_page_No  following_company_page_Yes  working_flag_Yes  \n",
       "0                              0                           1                 0  \n",
       "1                              1                           0                 1  \n",
       "2                              0                           1                 0  \n",
       "3                              0                           1                 0  \n",
       "4                              1                           0                 0  \n",
       "...                          ...                         ...               ...  \n",
       "11755                          1                           0                 0  \n",
       "11756                          1                           0                 0  \n",
       "11757                          0                           1                 1  \n",
       "11758                          1                           0                 0  \n",
       "11759                          1                           0                 0  \n",
       "\n",
       "[11687 rows x 26 columns]"
      ]
     },
     "execution_count": 439,
     "metadata": {},
     "output_type": "execute_result"
    }
   ],
   "source": [
    "df"
   ]
  },
  {
   "cell_type": "code",
   "execution_count": 440,
   "id": "f5cbfc9f",
   "metadata": {},
   "outputs": [],
   "source": [
    "## Checking for multicolinearity"
   ]
  },
  {
   "cell_type": "code",
   "execution_count": 442,
   "id": "1d1912a4",
   "metadata": {},
   "outputs": [],
   "source": [
    "# Import library for VIF for mobile\n",
    "from statsmodels.stats.outliers_influence import variance_inflation_factor\n",
    "\n",
    "def calc_vif(X):\n",
    "\n",
    "    # Calculating VIF\n",
    "    vif = pd.DataFrame()\n",
    "    vif[\"variables\"] = mobile_1.columns\n",
    "    vif[\"VIF\"] = [variance_inflation_factor(mobile_1.values, i) for i in range(mobile_1.shape[1])]\n",
    "\n",
    "    return(vif)"
   ]
  },
  {
   "cell_type": "code",
   "execution_count": 443,
   "id": "2093f4e0",
   "metadata": {},
   "outputs": [
    {
     "data": {
      "text/html": [
       "<div>\n",
       "<style scoped>\n",
       "    .dataframe tbody tr th:only-of-type {\n",
       "        vertical-align: middle;\n",
       "    }\n",
       "\n",
       "    .dataframe tbody tr th {\n",
       "        vertical-align: top;\n",
       "    }\n",
       "\n",
       "    .dataframe thead th {\n",
       "        text-align: right;\n",
       "    }\n",
       "</style>\n",
       "<table border=\"1\" class=\"dataframe\">\n",
       "  <thead>\n",
       "    <tr style=\"text-align: right;\">\n",
       "      <th></th>\n",
       "      <th>variables</th>\n",
       "      <th>VIF</th>\n",
       "    </tr>\n",
       "  </thead>\n",
       "  <tbody>\n",
       "    <tr>\n",
       "      <th>0</th>\n",
       "      <td>Yearly_avg_view_on_travel_page</td>\n",
       "      <td>31.126346</td>\n",
       "    </tr>\n",
       "    <tr>\n",
       "      <th>1</th>\n",
       "      <td>total_likes_on_outstation_checkin_given</td>\n",
       "      <td>5.098292</td>\n",
       "    </tr>\n",
       "    <tr>\n",
       "      <th>2</th>\n",
       "      <td>yearly_avg_Outstation_checkins</td>\n",
       "      <td>2.332029</td>\n",
       "    </tr>\n",
       "    <tr>\n",
       "      <th>3</th>\n",
       "      <td>preferred_location_type</td>\n",
       "      <td>3.334952</td>\n",
       "    </tr>\n",
       "    <tr>\n",
       "      <th>4</th>\n",
       "      <td>Yearly_avg_comment_on_travel_page</td>\n",
       "      <td>13.705246</td>\n",
       "    </tr>\n",
       "    <tr>\n",
       "      <th>5</th>\n",
       "      <td>total_likes_on_outofstation_checkin_received</td>\n",
       "      <td>5.588726</td>\n",
       "    </tr>\n",
       "    <tr>\n",
       "      <th>6</th>\n",
       "      <td>week_since_last_outstation_checkin</td>\n",
       "      <td>2.827811</td>\n",
       "    </tr>\n",
       "    <tr>\n",
       "      <th>7</th>\n",
       "      <td>montly_avg_comment_on_company_page</td>\n",
       "      <td>1.505957</td>\n",
       "    </tr>\n",
       "    <tr>\n",
       "      <th>8</th>\n",
       "      <td>travelling_network_rating</td>\n",
       "      <td>7.322175</td>\n",
       "    </tr>\n",
       "    <tr>\n",
       "      <th>9</th>\n",
       "      <td>Adult_flag</td>\n",
       "      <td>1.929399</td>\n",
       "    </tr>\n",
       "    <tr>\n",
       "      <th>10</th>\n",
       "      <td>Daily_Avg_mins_spend_on_traveling_page</td>\n",
       "      <td>7.399869</td>\n",
       "    </tr>\n",
       "    <tr>\n",
       "      <th>11</th>\n",
       "      <td>Taken_product_Yes</td>\n",
       "      <td>1.384820</td>\n",
       "    </tr>\n",
       "    <tr>\n",
       "      <th>12</th>\n",
       "      <td>preferred_device_Android</td>\n",
       "      <td>5.624764</td>\n",
       "    </tr>\n",
       "    <tr>\n",
       "      <th>13</th>\n",
       "      <td>preferred_device_Laptop</td>\n",
       "      <td>10.189233</td>\n",
       "    </tr>\n",
       "    <tr>\n",
       "      <th>14</th>\n",
       "      <td>preferred_device_Mobile</td>\n",
       "      <td>38.407066</td>\n",
       "    </tr>\n",
       "    <tr>\n",
       "      <th>15</th>\n",
       "      <td>preferred_device_Other</td>\n",
       "      <td>1.034453</td>\n",
       "    </tr>\n",
       "    <tr>\n",
       "      <th>16</th>\n",
       "      <td>preferred_device_Tab</td>\n",
       "      <td>35.761256</td>\n",
       "    </tr>\n",
       "    <tr>\n",
       "      <th>17</th>\n",
       "      <td>preferred_device_iOS</td>\n",
       "      <td>9.453978</td>\n",
       "    </tr>\n",
       "    <tr>\n",
       "      <th>18</th>\n",
       "      <td>member_in_family_10</td>\n",
       "      <td>1.009931</td>\n",
       "    </tr>\n",
       "    <tr>\n",
       "      <th>19</th>\n",
       "      <td>member_in_family_2</td>\n",
       "      <td>2.717529</td>\n",
       "    </tr>\n",
       "    <tr>\n",
       "      <th>20</th>\n",
       "      <td>member_in_family_3</td>\n",
       "      <td>4.450670</td>\n",
       "    </tr>\n",
       "    <tr>\n",
       "      <th>21</th>\n",
       "      <td>member_in_family_4</td>\n",
       "      <td>3.515177</td>\n",
       "    </tr>\n",
       "    <tr>\n",
       "      <th>22</th>\n",
       "      <td>member_in_family_5</td>\n",
       "      <td>1.308597</td>\n",
       "    </tr>\n",
       "    <tr>\n",
       "      <th>23</th>\n",
       "      <td>following_company_page_No</td>\n",
       "      <td>58.501151</td>\n",
       "    </tr>\n",
       "    <tr>\n",
       "      <th>24</th>\n",
       "      <td>following_company_page_Yes</td>\n",
       "      <td>23.936398</td>\n",
       "    </tr>\n",
       "    <tr>\n",
       "      <th>25</th>\n",
       "      <td>working_flag_Yes</td>\n",
       "      <td>1.311136</td>\n",
       "    </tr>\n",
       "  </tbody>\n",
       "</table>\n",
       "</div>"
      ],
      "text/plain": [
       "                                       variables        VIF\n",
       "0                 Yearly_avg_view_on_travel_page  31.126346\n",
       "1        total_likes_on_outstation_checkin_given   5.098292\n",
       "2                 yearly_avg_Outstation_checkins   2.332029\n",
       "3                        preferred_location_type   3.334952\n",
       "4              Yearly_avg_comment_on_travel_page  13.705246\n",
       "5   total_likes_on_outofstation_checkin_received   5.588726\n",
       "6             week_since_last_outstation_checkin   2.827811\n",
       "7             montly_avg_comment_on_company_page   1.505957\n",
       "8                      travelling_network_rating   7.322175\n",
       "9                                     Adult_flag   1.929399\n",
       "10        Daily_Avg_mins_spend_on_traveling_page   7.399869\n",
       "11                             Taken_product_Yes   1.384820\n",
       "12                      preferred_device_Android   5.624764\n",
       "13                       preferred_device_Laptop  10.189233\n",
       "14                       preferred_device_Mobile  38.407066\n",
       "15                        preferred_device_Other   1.034453\n",
       "16                          preferred_device_Tab  35.761256\n",
       "17                          preferred_device_iOS   9.453978\n",
       "18                           member_in_family_10   1.009931\n",
       "19                            member_in_family_2   2.717529\n",
       "20                            member_in_family_3   4.450670\n",
       "21                            member_in_family_4   3.515177\n",
       "22                            member_in_family_5   1.308597\n",
       "23                     following_company_page_No  58.501151\n",
       "24                    following_company_page_Yes  23.936398\n",
       "25                              working_flag_Yes   1.311136"
      ]
     },
     "execution_count": 443,
     "metadata": {},
     "output_type": "execute_result"
    }
   ],
   "source": [
    "X = df.drop(['Taken_product_Yes'], axis = 1)\n",
    "calc_vif(X)"
   ]
  },
  {
   "cell_type": "code",
   "execution_count": 84,
   "id": "1a2b2f27",
   "metadata": {},
   "outputs": [],
   "source": [
    "#df[['Yearly_avg_view_on_travel_page', 'total_likes_on_outstation_checkin_given', 'Yearly_avg_comment_on_travel_page', 'total_likes_on_outofstation_checkin_received', 'week_since_last_outstation_checkin', 'montly_avg_comment_on_company_page', 'travelling_network_rating']] = np.log(df[['Yearly_avg_view_on_travel_page', 'total_likes_on_outstation_checkin_given', 'Yearly_avg_comment_on_travel_page', 'total_likes_on_outofstation_checkin_received', 'week_since_last_outstation_checkin', 'montly_avg_comment_on_company_page', 'travelling_network_rating']])"
   ]
  },
  {
   "cell_type": "code",
   "execution_count": 444,
   "id": "3e4d1662",
   "metadata": {},
   "outputs": [],
   "source": [
    "# pd.set_option(\"display.max_columns\", None)"
   ]
  },
  {
   "cell_type": "code",
   "execution_count": 450,
   "id": "5bbfd70b",
   "metadata": {},
   "outputs": [
    {
     "data": {
      "text/plain": [
       "array([[0.5375    , 0.71517604, 0.        , ..., 0.        , 1.        ,\n",
       "        0.        ],\n",
       "       [0.725     , 0.12658616, 0.        , ..., 1.        , 0.        ,\n",
       "        1.        ],\n",
       "       [0.44375   , 0.90898874, 0.        , ..., 0.        , 1.        ,\n",
       "        0.        ],\n",
       "       ...,\n",
       "       [0.246875  , 0.03898731, 0.79310345, ..., 0.        , 1.        ,\n",
       "        1.        ],\n",
       "       [0.771875  , 0.65961707, 0.37931034, ..., 1.        , 0.        ,\n",
       "        0.        ],\n",
       "       [0.421875  , 0.37710211, 0.93103448, ..., 1.        , 0.        ,\n",
       "        0.        ]])"
      ]
     },
     "execution_count": 450,
     "metadata": {},
     "output_type": "execute_result"
    }
   ],
   "source": [
    "feature_scale=[feature for feature in df.columns if feature not in ['Taken_product_Yes']]\n",
    "\n",
    "from sklearn.preprocessing import MinMaxScaler\n",
    "scaler=MinMaxScaler()\n",
    "scaler.fit(df[feature_scale])\n",
    "scaler.transform(df[feature_scale])"
   ]
  },
  {
   "cell_type": "code",
   "execution_count": 451,
   "id": "fb17c4a7",
   "metadata": {},
   "outputs": [],
   "source": [
    "# transform the train and test set, and add on the Id and SalePrice variables\n",
    "df = pd.concat([df[['Taken_product_Yes']].reset_index(drop=True),\n",
    "                    pd.DataFrame(scaler.transform(df[feature_scale]), columns=feature_scale)],\n",
    "                    axis=1)"
   ]
  },
  {
   "cell_type": "code",
   "execution_count": 452,
   "id": "cbebaa28",
   "metadata": {},
   "outputs": [],
   "source": [
    "df.to_csv('new_data.csv',index=False)"
   ]
  },
  {
   "cell_type": "code",
   "execution_count": 453,
   "id": "25924d9e",
   "metadata": {},
   "outputs": [],
   "source": [
    "## Feature selection\n",
    "\n",
    "from sklearn.linear_model import Lasso\n",
    "from sklearn.feature_selection import SelectFromModel"
   ]
  },
  {
   "cell_type": "code",
   "execution_count": 454,
   "id": "b112e2d2",
   "metadata": {},
   "outputs": [],
   "source": [
    "df_new = pd.read_csv('new_data.csv')"
   ]
  },
  {
   "cell_type": "code",
   "execution_count": 455,
   "id": "bd8b867b",
   "metadata": {
    "scrolled": true
   },
   "outputs": [
    {
     "data": {
      "text/html": [
       "<div>\n",
       "<style scoped>\n",
       "    .dataframe tbody tr th:only-of-type {\n",
       "        vertical-align: middle;\n",
       "    }\n",
       "\n",
       "    .dataframe tbody tr th {\n",
       "        vertical-align: top;\n",
       "    }\n",
       "\n",
       "    .dataframe thead th {\n",
       "        text-align: right;\n",
       "    }\n",
       "</style>\n",
       "<table border=\"1\" class=\"dataframe\">\n",
       "  <thead>\n",
       "    <tr style=\"text-align: right;\">\n",
       "      <th></th>\n",
       "      <th>Taken_product_Yes</th>\n",
       "      <th>Yearly_avg_view_on_travel_page</th>\n",
       "      <th>total_likes_on_outstation_checkin_given</th>\n",
       "      <th>yearly_avg_Outstation_checkins</th>\n",
       "      <th>preferred_location_type</th>\n",
       "      <th>Yearly_avg_comment_on_travel_page</th>\n",
       "      <th>total_likes_on_outofstation_checkin_received</th>\n",
       "      <th>week_since_last_outstation_checkin</th>\n",
       "      <th>montly_avg_comment_on_company_page</th>\n",
       "      <th>travelling_network_rating</th>\n",
       "      <th>...</th>\n",
       "      <th>preferred_device_Tab</th>\n",
       "      <th>preferred_device_iOS</th>\n",
       "      <th>member_in_family_10</th>\n",
       "      <th>member_in_family_2</th>\n",
       "      <th>member_in_family_3</th>\n",
       "      <th>member_in_family_4</th>\n",
       "      <th>member_in_family_5</th>\n",
       "      <th>following_company_page_No</th>\n",
       "      <th>following_company_page_Yes</th>\n",
       "      <th>working_flag_Yes</th>\n",
       "    </tr>\n",
       "  </thead>\n",
       "  <tbody>\n",
       "    <tr>\n",
       "      <th>0</th>\n",
       "      <td>1</td>\n",
       "      <td>0.537500</td>\n",
       "      <td>0.715176</td>\n",
       "      <td>0.000000</td>\n",
       "      <td>0.285714</td>\n",
       "      <td>0.670213</td>\n",
       "      <td>0.261545</td>\n",
       "      <td>0.727273</td>\n",
       "      <td>0.000000</td>\n",
       "      <td>0.000000</td>\n",
       "      <td>...</td>\n",
       "      <td>0.0</td>\n",
       "      <td>0.0</td>\n",
       "      <td>0.0</td>\n",
       "      <td>1.0</td>\n",
       "      <td>0.0</td>\n",
       "      <td>0.0</td>\n",
       "      <td>0.0</td>\n",
       "      <td>0.0</td>\n",
       "      <td>1.0</td>\n",
       "      <td>0.0</td>\n",
       "    </tr>\n",
       "    <tr>\n",
       "      <th>1</th>\n",
       "      <td>0</td>\n",
       "      <td>0.725000</td>\n",
       "      <td>0.126586</td>\n",
       "      <td>0.000000</td>\n",
       "      <td>0.285714</td>\n",
       "      <td>0.319149</td>\n",
       "      <td>0.216257</td>\n",
       "      <td>0.090909</td>\n",
       "      <td>0.024540</td>\n",
       "      <td>1.000000</td>\n",
       "      <td>...</td>\n",
       "      <td>0.0</td>\n",
       "      <td>1.0</td>\n",
       "      <td>0.0</td>\n",
       "      <td>0.0</td>\n",
       "      <td>0.0</td>\n",
       "      <td>0.0</td>\n",
       "      <td>0.0</td>\n",
       "      <td>1.0</td>\n",
       "      <td>0.0</td>\n",
       "      <td>1.0</td>\n",
       "    </tr>\n",
       "    <tr>\n",
       "      <th>2</th>\n",
       "      <td>1</td>\n",
       "      <td>0.443750</td>\n",
       "      <td>0.908989</td>\n",
       "      <td>0.000000</td>\n",
       "      <td>0.785714</td>\n",
       "      <td>0.648936</td>\n",
       "      <td>0.056728</td>\n",
       "      <td>0.545455</td>\n",
       "      <td>0.008180</td>\n",
       "      <td>0.333333</td>\n",
       "      <td>...</td>\n",
       "      <td>0.0</td>\n",
       "      <td>0.0</td>\n",
       "      <td>0.0</td>\n",
       "      <td>1.0</td>\n",
       "      <td>0.0</td>\n",
       "      <td>0.0</td>\n",
       "      <td>0.0</td>\n",
       "      <td>0.0</td>\n",
       "      <td>1.0</td>\n",
       "      <td>0.0</td>\n",
       "    </tr>\n",
       "    <tr>\n",
       "      <th>3</th>\n",
       "      <td>0</td>\n",
       "      <td>0.350000</td>\n",
       "      <td>0.922577</td>\n",
       "      <td>0.000000</td>\n",
       "      <td>0.285714</td>\n",
       "      <td>0.265957</td>\n",
       "      <td>0.099706</td>\n",
       "      <td>0.090909</td>\n",
       "      <td>0.000000</td>\n",
       "      <td>0.666667</td>\n",
       "      <td>...</td>\n",
       "      <td>0.0</td>\n",
       "      <td>1.0</td>\n",
       "      <td>0.0</td>\n",
       "      <td>0.0</td>\n",
       "      <td>0.0</td>\n",
       "      <td>1.0</td>\n",
       "      <td>0.0</td>\n",
       "      <td>0.0</td>\n",
       "      <td>1.0</td>\n",
       "      <td>0.0</td>\n",
       "    </tr>\n",
       "    <tr>\n",
       "      <th>4</th>\n",
       "      <td>0</td>\n",
       "      <td>0.209375</td>\n",
       "      <td>0.349721</td>\n",
       "      <td>0.000000</td>\n",
       "      <td>0.571429</td>\n",
       "      <td>0.095745</td>\n",
       "      <td>0.129041</td>\n",
       "      <td>0.818182</td>\n",
       "      <td>0.002045</td>\n",
       "      <td>1.000000</td>\n",
       "      <td>...</td>\n",
       "      <td>0.0</td>\n",
       "      <td>0.0</td>\n",
       "      <td>0.0</td>\n",
       "      <td>0.0</td>\n",
       "      <td>0.0</td>\n",
       "      <td>0.0</td>\n",
       "      <td>0.0</td>\n",
       "      <td>1.0</td>\n",
       "      <td>0.0</td>\n",
       "      <td>0.0</td>\n",
       "    </tr>\n",
       "    <tr>\n",
       "      <th>...</th>\n",
       "      <td>...</td>\n",
       "      <td>...</td>\n",
       "      <td>...</td>\n",
       "      <td>...</td>\n",
       "      <td>...</td>\n",
       "      <td>...</td>\n",
       "      <td>...</td>\n",
       "      <td>...</td>\n",
       "      <td>...</td>\n",
       "      <td>...</td>\n",
       "      <td>...</td>\n",
       "      <td>...</td>\n",
       "      <td>...</td>\n",
       "      <td>...</td>\n",
       "      <td>...</td>\n",
       "      <td>...</td>\n",
       "      <td>...</td>\n",
       "      <td>...</td>\n",
       "      <td>...</td>\n",
       "      <td>...</td>\n",
       "      <td>...</td>\n",
       "    </tr>\n",
       "    <tr>\n",
       "      <th>11682</th>\n",
       "      <td>0</td>\n",
       "      <td>0.450000</td>\n",
       "      <td>0.560228</td>\n",
       "      <td>0.517241</td>\n",
       "      <td>0.500000</td>\n",
       "      <td>0.287234</td>\n",
       "      <td>0.084330</td>\n",
       "      <td>0.363636</td>\n",
       "      <td>0.051125</td>\n",
       "      <td>0.666667</td>\n",
       "      <td>...</td>\n",
       "      <td>0.0</td>\n",
       "      <td>0.0</td>\n",
       "      <td>0.0</td>\n",
       "      <td>1.0</td>\n",
       "      <td>0.0</td>\n",
       "      <td>0.0</td>\n",
       "      <td>0.0</td>\n",
       "      <td>1.0</td>\n",
       "      <td>0.0</td>\n",
       "      <td>0.0</td>\n",
       "    </tr>\n",
       "    <tr>\n",
       "      <th>11683</th>\n",
       "      <td>0</td>\n",
       "      <td>0.531250</td>\n",
       "      <td>0.366579</td>\n",
       "      <td>0.862069</td>\n",
       "      <td>0.500000</td>\n",
       "      <td>0.255319</td>\n",
       "      <td>0.473971</td>\n",
       "      <td>0.363636</td>\n",
       "      <td>0.038855</td>\n",
       "      <td>0.000000</td>\n",
       "      <td>...</td>\n",
       "      <td>1.0</td>\n",
       "      <td>0.0</td>\n",
       "      <td>0.0</td>\n",
       "      <td>0.0</td>\n",
       "      <td>0.0</td>\n",
       "      <td>0.0</td>\n",
       "      <td>0.0</td>\n",
       "      <td>1.0</td>\n",
       "      <td>0.0</td>\n",
       "      <td>0.0</td>\n",
       "    </tr>\n",
       "    <tr>\n",
       "      <th>11684</th>\n",
       "      <td>0</td>\n",
       "      <td>0.246875</td>\n",
       "      <td>0.038987</td>\n",
       "      <td>0.793103</td>\n",
       "      <td>0.071429</td>\n",
       "      <td>0.765957</td>\n",
       "      <td>0.272565</td>\n",
       "      <td>0.272727</td>\n",
       "      <td>0.059305</td>\n",
       "      <td>0.333333</td>\n",
       "      <td>...</td>\n",
       "      <td>1.0</td>\n",
       "      <td>0.0</td>\n",
       "      <td>0.0</td>\n",
       "      <td>0.0</td>\n",
       "      <td>1.0</td>\n",
       "      <td>0.0</td>\n",
       "      <td>0.0</td>\n",
       "      <td>0.0</td>\n",
       "      <td>1.0</td>\n",
       "      <td>1.0</td>\n",
       "    </tr>\n",
       "    <tr>\n",
       "      <th>11685</th>\n",
       "      <td>0</td>\n",
       "      <td>0.771875</td>\n",
       "      <td>0.659617</td>\n",
       "      <td>0.379310</td>\n",
       "      <td>0.500000</td>\n",
       "      <td>0.553191</td>\n",
       "      <td>0.232735</td>\n",
       "      <td>0.272727</td>\n",
       "      <td>0.042945</td>\n",
       "      <td>1.000000</td>\n",
       "      <td>...</td>\n",
       "      <td>0.0</td>\n",
       "      <td>0.0</td>\n",
       "      <td>0.0</td>\n",
       "      <td>0.0</td>\n",
       "      <td>1.0</td>\n",
       "      <td>0.0</td>\n",
       "      <td>0.0</td>\n",
       "      <td>1.0</td>\n",
       "      <td>0.0</td>\n",
       "      <td>0.0</td>\n",
       "    </tr>\n",
       "    <tr>\n",
       "      <th>11686</th>\n",
       "      <td>0</td>\n",
       "      <td>0.421875</td>\n",
       "      <td>0.377102</td>\n",
       "      <td>0.931034</td>\n",
       "      <td>0.500000</td>\n",
       "      <td>0.776596</td>\n",
       "      <td>0.181623</td>\n",
       "      <td>0.181818</td>\n",
       "      <td>0.036810</td>\n",
       "      <td>0.000000</td>\n",
       "      <td>...</td>\n",
       "      <td>1.0</td>\n",
       "      <td>0.0</td>\n",
       "      <td>0.0</td>\n",
       "      <td>0.0</td>\n",
       "      <td>1.0</td>\n",
       "      <td>0.0</td>\n",
       "      <td>0.0</td>\n",
       "      <td>1.0</td>\n",
       "      <td>0.0</td>\n",
       "      <td>0.0</td>\n",
       "    </tr>\n",
       "  </tbody>\n",
       "</table>\n",
       "<p>11687 rows × 26 columns</p>\n",
       "</div>"
      ],
      "text/plain": [
       "       Taken_product_Yes  Yearly_avg_view_on_travel_page  \\\n",
       "0                      1                        0.537500   \n",
       "1                      0                        0.725000   \n",
       "2                      1                        0.443750   \n",
       "3                      0                        0.350000   \n",
       "4                      0                        0.209375   \n",
       "...                  ...                             ...   \n",
       "11682                  0                        0.450000   \n",
       "11683                  0                        0.531250   \n",
       "11684                  0                        0.246875   \n",
       "11685                  0                        0.771875   \n",
       "11686                  0                        0.421875   \n",
       "\n",
       "       total_likes_on_outstation_checkin_given  \\\n",
       "0                                     0.715176   \n",
       "1                                     0.126586   \n",
       "2                                     0.908989   \n",
       "3                                     0.922577   \n",
       "4                                     0.349721   \n",
       "...                                        ...   \n",
       "11682                                 0.560228   \n",
       "11683                                 0.366579   \n",
       "11684                                 0.038987   \n",
       "11685                                 0.659617   \n",
       "11686                                 0.377102   \n",
       "\n",
       "       yearly_avg_Outstation_checkins  preferred_location_type  \\\n",
       "0                            0.000000                 0.285714   \n",
       "1                            0.000000                 0.285714   \n",
       "2                            0.000000                 0.785714   \n",
       "3                            0.000000                 0.285714   \n",
       "4                            0.000000                 0.571429   \n",
       "...                               ...                      ...   \n",
       "11682                        0.517241                 0.500000   \n",
       "11683                        0.862069                 0.500000   \n",
       "11684                        0.793103                 0.071429   \n",
       "11685                        0.379310                 0.500000   \n",
       "11686                        0.931034                 0.500000   \n",
       "\n",
       "       Yearly_avg_comment_on_travel_page  \\\n",
       "0                               0.670213   \n",
       "1                               0.319149   \n",
       "2                               0.648936   \n",
       "3                               0.265957   \n",
       "4                               0.095745   \n",
       "...                                  ...   \n",
       "11682                           0.287234   \n",
       "11683                           0.255319   \n",
       "11684                           0.765957   \n",
       "11685                           0.553191   \n",
       "11686                           0.776596   \n",
       "\n",
       "       total_likes_on_outofstation_checkin_received  \\\n",
       "0                                          0.261545   \n",
       "1                                          0.216257   \n",
       "2                                          0.056728   \n",
       "3                                          0.099706   \n",
       "4                                          0.129041   \n",
       "...                                             ...   \n",
       "11682                                      0.084330   \n",
       "11683                                      0.473971   \n",
       "11684                                      0.272565   \n",
       "11685                                      0.232735   \n",
       "11686                                      0.181623   \n",
       "\n",
       "       week_since_last_outstation_checkin  montly_avg_comment_on_company_page  \\\n",
       "0                                0.727273                            0.000000   \n",
       "1                                0.090909                            0.024540   \n",
       "2                                0.545455                            0.008180   \n",
       "3                                0.090909                            0.000000   \n",
       "4                                0.818182                            0.002045   \n",
       "...                                   ...                                 ...   \n",
       "11682                            0.363636                            0.051125   \n",
       "11683                            0.363636                            0.038855   \n",
       "11684                            0.272727                            0.059305   \n",
       "11685                            0.272727                            0.042945   \n",
       "11686                            0.181818                            0.036810   \n",
       "\n",
       "       travelling_network_rating  ...  preferred_device_Tab  \\\n",
       "0                       0.000000  ...                   0.0   \n",
       "1                       1.000000  ...                   0.0   \n",
       "2                       0.333333  ...                   0.0   \n",
       "3                       0.666667  ...                   0.0   \n",
       "4                       1.000000  ...                   0.0   \n",
       "...                          ...  ...                   ...   \n",
       "11682                   0.666667  ...                   0.0   \n",
       "11683                   0.000000  ...                   1.0   \n",
       "11684                   0.333333  ...                   1.0   \n",
       "11685                   1.000000  ...                   0.0   \n",
       "11686                   0.000000  ...                   1.0   \n",
       "\n",
       "       preferred_device_iOS  member_in_family_10  member_in_family_2  \\\n",
       "0                       0.0                  0.0                 1.0   \n",
       "1                       1.0                  0.0                 0.0   \n",
       "2                       0.0                  0.0                 1.0   \n",
       "3                       1.0                  0.0                 0.0   \n",
       "4                       0.0                  0.0                 0.0   \n",
       "...                     ...                  ...                 ...   \n",
       "11682                   0.0                  0.0                 1.0   \n",
       "11683                   0.0                  0.0                 0.0   \n",
       "11684                   0.0                  0.0                 0.0   \n",
       "11685                   0.0                  0.0                 0.0   \n",
       "11686                   0.0                  0.0                 0.0   \n",
       "\n",
       "       member_in_family_3  member_in_family_4  member_in_family_5  \\\n",
       "0                     0.0                 0.0                 0.0   \n",
       "1                     0.0                 0.0                 0.0   \n",
       "2                     0.0                 0.0                 0.0   \n",
       "3                     0.0                 1.0                 0.0   \n",
       "4                     0.0                 0.0                 0.0   \n",
       "...                   ...                 ...                 ...   \n",
       "11682                 0.0                 0.0                 0.0   \n",
       "11683                 0.0                 0.0                 0.0   \n",
       "11684                 1.0                 0.0                 0.0   \n",
       "11685                 1.0                 0.0                 0.0   \n",
       "11686                 1.0                 0.0                 0.0   \n",
       "\n",
       "       following_company_page_No  following_company_page_Yes  working_flag_Yes  \n",
       "0                            0.0                         1.0               0.0  \n",
       "1                            1.0                         0.0               1.0  \n",
       "2                            0.0                         1.0               0.0  \n",
       "3                            0.0                         1.0               0.0  \n",
       "4                            1.0                         0.0               0.0  \n",
       "...                          ...                         ...               ...  \n",
       "11682                        1.0                         0.0               0.0  \n",
       "11683                        1.0                         0.0               0.0  \n",
       "11684                        0.0                         1.0               1.0  \n",
       "11685                        1.0                         0.0               0.0  \n",
       "11686                        1.0                         0.0               0.0  \n",
       "\n",
       "[11687 rows x 26 columns]"
      ]
     },
     "execution_count": 455,
     "metadata": {},
     "output_type": "execute_result"
    }
   ],
   "source": [
    "df_new"
   ]
  },
  {
   "cell_type": "code",
   "execution_count": 456,
   "id": "3a8e952b",
   "metadata": {},
   "outputs": [],
   "source": [
    "## Choose dependent and independent variable\n",
    "y = df_new[['Taken_product_Yes']]\n",
    "X = df_new.drop(['Taken_product_Yes'],axis=1)"
   ]
  },
  {
   "cell_type": "code",
   "execution_count": 457,
   "id": "f5f63dbe",
   "metadata": {},
   "outputs": [
    {
     "data": {
      "text/plain": [
       "SelectFromModel(estimator=Lasso(alpha=0.005, random_state=0))"
      ]
     },
     "execution_count": 457,
     "metadata": {},
     "output_type": "execute_result"
    }
   ],
   "source": [
    "feature_sel_model = SelectFromModel(Lasso(alpha=0.005, random_state=0)) # remember to set the seed, the random state in this function\n",
    "feature_sel_model.fit(X, y)"
   ]
  },
  {
   "cell_type": "code",
   "execution_count": 458,
   "id": "17131daf",
   "metadata": {},
   "outputs": [
    {
     "data": {
      "text/plain": [
       "array([ True,  True, False, False, False,  True,  True, False,  True,\n",
       "        True, False, False,  True,  True, False, False,  True, False,\n",
       "       False,  True, False, False,  True,  True, False])"
      ]
     },
     "execution_count": 458,
     "metadata": {},
     "output_type": "execute_result"
    }
   ],
   "source": [
    "feature_sel_model.get_support()"
   ]
  },
  {
   "cell_type": "code",
   "execution_count": 459,
   "id": "28206fdf",
   "metadata": {},
   "outputs": [
    {
     "name": "stdout",
     "output_type": "stream",
     "text": [
      "total features: 25\n",
      "selected features: 12\n"
     ]
    }
   ],
   "source": [
    "# The selected features from the total features\n",
    "\n",
    "selected_feature = X.columns[(feature_sel_model.get_support())]\n",
    "\n",
    "print('total features: {}'.format((X.shape[1])))\n",
    "print('selected features: {}'.format(len(selected_feature)))"
   ]
  },
  {
   "cell_type": "code",
   "execution_count": 460,
   "id": "c0e56845",
   "metadata": {},
   "outputs": [
    {
     "data": {
      "text/plain": [
       "Index(['Yearly_avg_view_on_travel_page',\n",
       "       'total_likes_on_outstation_checkin_given',\n",
       "       'total_likes_on_outofstation_checkin_received',\n",
       "       'week_since_last_outstation_checkin', 'travelling_network_rating',\n",
       "       'Adult_flag', 'preferred_device_Laptop', 'preferred_device_Mobile',\n",
       "       'preferred_device_iOS', 'member_in_family_3',\n",
       "       'following_company_page_No', 'following_company_page_Yes'],\n",
       "      dtype='object')"
      ]
     },
     "execution_count": 460,
     "metadata": {},
     "output_type": "execute_result"
    }
   ],
   "source": [
    "selected_feature"
   ]
  },
  {
   "cell_type": "code",
   "execution_count": 461,
   "id": "db8b7bbe",
   "metadata": {},
   "outputs": [],
   "source": [
    "X = X[selected_feature]"
   ]
  },
  {
   "cell_type": "code",
   "execution_count": 462,
   "id": "fb744d43",
   "metadata": {
    "scrolled": true
   },
   "outputs": [
    {
     "data": {
      "text/html": [
       "<div>\n",
       "<style scoped>\n",
       "    .dataframe tbody tr th:only-of-type {\n",
       "        vertical-align: middle;\n",
       "    }\n",
       "\n",
       "    .dataframe tbody tr th {\n",
       "        vertical-align: top;\n",
       "    }\n",
       "\n",
       "    .dataframe thead th {\n",
       "        text-align: right;\n",
       "    }\n",
       "</style>\n",
       "<table border=\"1\" class=\"dataframe\">\n",
       "  <thead>\n",
       "    <tr style=\"text-align: right;\">\n",
       "      <th></th>\n",
       "      <th>Yearly_avg_view_on_travel_page</th>\n",
       "      <th>total_likes_on_outstation_checkin_given</th>\n",
       "      <th>total_likes_on_outofstation_checkin_received</th>\n",
       "      <th>week_since_last_outstation_checkin</th>\n",
       "      <th>travelling_network_rating</th>\n",
       "      <th>Adult_flag</th>\n",
       "      <th>preferred_device_Laptop</th>\n",
       "      <th>preferred_device_Mobile</th>\n",
       "      <th>preferred_device_iOS</th>\n",
       "      <th>member_in_family_3</th>\n",
       "      <th>following_company_page_No</th>\n",
       "      <th>following_company_page_Yes</th>\n",
       "    </tr>\n",
       "  </thead>\n",
       "  <tbody>\n",
       "    <tr>\n",
       "      <th>0</th>\n",
       "      <td>0.537500</td>\n",
       "      <td>0.715176</td>\n",
       "      <td>0.261545</td>\n",
       "      <td>0.727273</td>\n",
       "      <td>0.000000</td>\n",
       "      <td>0.000000</td>\n",
       "      <td>0.0</td>\n",
       "      <td>1.0</td>\n",
       "      <td>0.0</td>\n",
       "      <td>0.0</td>\n",
       "      <td>0.0</td>\n",
       "      <td>1.0</td>\n",
       "    </tr>\n",
       "    <tr>\n",
       "      <th>1</th>\n",
       "      <td>0.725000</td>\n",
       "      <td>0.126586</td>\n",
       "      <td>0.216257</td>\n",
       "      <td>0.090909</td>\n",
       "      <td>1.000000</td>\n",
       "      <td>0.333333</td>\n",
       "      <td>0.0</td>\n",
       "      <td>0.0</td>\n",
       "      <td>1.0</td>\n",
       "      <td>0.0</td>\n",
       "      <td>1.0</td>\n",
       "      <td>0.0</td>\n",
       "    </tr>\n",
       "    <tr>\n",
       "      <th>2</th>\n",
       "      <td>0.443750</td>\n",
       "      <td>0.908989</td>\n",
       "      <td>0.056728</td>\n",
       "      <td>0.545455</td>\n",
       "      <td>0.333333</td>\n",
       "      <td>0.000000</td>\n",
       "      <td>0.0</td>\n",
       "      <td>1.0</td>\n",
       "      <td>0.0</td>\n",
       "      <td>0.0</td>\n",
       "      <td>0.0</td>\n",
       "      <td>1.0</td>\n",
       "    </tr>\n",
       "    <tr>\n",
       "      <th>3</th>\n",
       "      <td>0.350000</td>\n",
       "      <td>0.922577</td>\n",
       "      <td>0.099706</td>\n",
       "      <td>0.090909</td>\n",
       "      <td>0.666667</td>\n",
       "      <td>0.000000</td>\n",
       "      <td>0.0</td>\n",
       "      <td>0.0</td>\n",
       "      <td>1.0</td>\n",
       "      <td>0.0</td>\n",
       "      <td>0.0</td>\n",
       "      <td>1.0</td>\n",
       "    </tr>\n",
       "    <tr>\n",
       "      <th>4</th>\n",
       "      <td>0.209375</td>\n",
       "      <td>0.349721</td>\n",
       "      <td>0.129041</td>\n",
       "      <td>0.818182</td>\n",
       "      <td>1.000000</td>\n",
       "      <td>0.333333</td>\n",
       "      <td>0.0</td>\n",
       "      <td>1.0</td>\n",
       "      <td>0.0</td>\n",
       "      <td>0.0</td>\n",
       "      <td>1.0</td>\n",
       "      <td>0.0</td>\n",
       "    </tr>\n",
       "    <tr>\n",
       "      <th>...</th>\n",
       "      <td>...</td>\n",
       "      <td>...</td>\n",
       "      <td>...</td>\n",
       "      <td>...</td>\n",
       "      <td>...</td>\n",
       "      <td>...</td>\n",
       "      <td>...</td>\n",
       "      <td>...</td>\n",
       "      <td>...</td>\n",
       "      <td>...</td>\n",
       "      <td>...</td>\n",
       "      <td>...</td>\n",
       "    </tr>\n",
       "    <tr>\n",
       "      <th>11682</th>\n",
       "      <td>0.450000</td>\n",
       "      <td>0.560228</td>\n",
       "      <td>0.084330</td>\n",
       "      <td>0.363636</td>\n",
       "      <td>0.666667</td>\n",
       "      <td>0.333333</td>\n",
       "      <td>1.0</td>\n",
       "      <td>0.0</td>\n",
       "      <td>0.0</td>\n",
       "      <td>0.0</td>\n",
       "      <td>1.0</td>\n",
       "      <td>0.0</td>\n",
       "    </tr>\n",
       "    <tr>\n",
       "      <th>11683</th>\n",
       "      <td>0.531250</td>\n",
       "      <td>0.366579</td>\n",
       "      <td>0.473971</td>\n",
       "      <td>0.363636</td>\n",
       "      <td>0.000000</td>\n",
       "      <td>0.333333</td>\n",
       "      <td>0.0</td>\n",
       "      <td>0.0</td>\n",
       "      <td>0.0</td>\n",
       "      <td>0.0</td>\n",
       "      <td>1.0</td>\n",
       "      <td>0.0</td>\n",
       "    </tr>\n",
       "    <tr>\n",
       "      <th>11684</th>\n",
       "      <td>0.246875</td>\n",
       "      <td>0.038987</td>\n",
       "      <td>0.272565</td>\n",
       "      <td>0.272727</td>\n",
       "      <td>0.333333</td>\n",
       "      <td>0.333333</td>\n",
       "      <td>0.0</td>\n",
       "      <td>0.0</td>\n",
       "      <td>0.0</td>\n",
       "      <td>1.0</td>\n",
       "      <td>0.0</td>\n",
       "      <td>1.0</td>\n",
       "    </tr>\n",
       "    <tr>\n",
       "      <th>11685</th>\n",
       "      <td>0.771875</td>\n",
       "      <td>0.659617</td>\n",
       "      <td>0.232735</td>\n",
       "      <td>0.272727</td>\n",
       "      <td>1.000000</td>\n",
       "      <td>0.000000</td>\n",
       "      <td>1.0</td>\n",
       "      <td>0.0</td>\n",
       "      <td>0.0</td>\n",
       "      <td>1.0</td>\n",
       "      <td>1.0</td>\n",
       "      <td>0.0</td>\n",
       "    </tr>\n",
       "    <tr>\n",
       "      <th>11686</th>\n",
       "      <td>0.421875</td>\n",
       "      <td>0.377102</td>\n",
       "      <td>0.181623</td>\n",
       "      <td>0.181818</td>\n",
       "      <td>0.000000</td>\n",
       "      <td>0.000000</td>\n",
       "      <td>0.0</td>\n",
       "      <td>0.0</td>\n",
       "      <td>0.0</td>\n",
       "      <td>1.0</td>\n",
       "      <td>1.0</td>\n",
       "      <td>0.0</td>\n",
       "    </tr>\n",
       "  </tbody>\n",
       "</table>\n",
       "<p>11687 rows × 12 columns</p>\n",
       "</div>"
      ],
      "text/plain": [
       "       Yearly_avg_view_on_travel_page  \\\n",
       "0                            0.537500   \n",
       "1                            0.725000   \n",
       "2                            0.443750   \n",
       "3                            0.350000   \n",
       "4                            0.209375   \n",
       "...                               ...   \n",
       "11682                        0.450000   \n",
       "11683                        0.531250   \n",
       "11684                        0.246875   \n",
       "11685                        0.771875   \n",
       "11686                        0.421875   \n",
       "\n",
       "       total_likes_on_outstation_checkin_given  \\\n",
       "0                                     0.715176   \n",
       "1                                     0.126586   \n",
       "2                                     0.908989   \n",
       "3                                     0.922577   \n",
       "4                                     0.349721   \n",
       "...                                        ...   \n",
       "11682                                 0.560228   \n",
       "11683                                 0.366579   \n",
       "11684                                 0.038987   \n",
       "11685                                 0.659617   \n",
       "11686                                 0.377102   \n",
       "\n",
       "       total_likes_on_outofstation_checkin_received  \\\n",
       "0                                          0.261545   \n",
       "1                                          0.216257   \n",
       "2                                          0.056728   \n",
       "3                                          0.099706   \n",
       "4                                          0.129041   \n",
       "...                                             ...   \n",
       "11682                                      0.084330   \n",
       "11683                                      0.473971   \n",
       "11684                                      0.272565   \n",
       "11685                                      0.232735   \n",
       "11686                                      0.181623   \n",
       "\n",
       "       week_since_last_outstation_checkin  travelling_network_rating  \\\n",
       "0                                0.727273                   0.000000   \n",
       "1                                0.090909                   1.000000   \n",
       "2                                0.545455                   0.333333   \n",
       "3                                0.090909                   0.666667   \n",
       "4                                0.818182                   1.000000   \n",
       "...                                   ...                        ...   \n",
       "11682                            0.363636                   0.666667   \n",
       "11683                            0.363636                   0.000000   \n",
       "11684                            0.272727                   0.333333   \n",
       "11685                            0.272727                   1.000000   \n",
       "11686                            0.181818                   0.000000   \n",
       "\n",
       "       Adult_flag  preferred_device_Laptop  preferred_device_Mobile  \\\n",
       "0        0.000000                      0.0                      1.0   \n",
       "1        0.333333                      0.0                      0.0   \n",
       "2        0.000000                      0.0                      1.0   \n",
       "3        0.000000                      0.0                      0.0   \n",
       "4        0.333333                      0.0                      1.0   \n",
       "...           ...                      ...                      ...   \n",
       "11682    0.333333                      1.0                      0.0   \n",
       "11683    0.333333                      0.0                      0.0   \n",
       "11684    0.333333                      0.0                      0.0   \n",
       "11685    0.000000                      1.0                      0.0   \n",
       "11686    0.000000                      0.0                      0.0   \n",
       "\n",
       "       preferred_device_iOS  member_in_family_3  following_company_page_No  \\\n",
       "0                       0.0                 0.0                        0.0   \n",
       "1                       1.0                 0.0                        1.0   \n",
       "2                       0.0                 0.0                        0.0   \n",
       "3                       1.0                 0.0                        0.0   \n",
       "4                       0.0                 0.0                        1.0   \n",
       "...                     ...                 ...                        ...   \n",
       "11682                   0.0                 0.0                        1.0   \n",
       "11683                   0.0                 0.0                        1.0   \n",
       "11684                   0.0                 1.0                        0.0   \n",
       "11685                   0.0                 1.0                        1.0   \n",
       "11686                   0.0                 1.0                        1.0   \n",
       "\n",
       "       following_company_page_Yes  \n",
       "0                             1.0  \n",
       "1                             0.0  \n",
       "2                             1.0  \n",
       "3                             1.0  \n",
       "4                             0.0  \n",
       "...                           ...  \n",
       "11682                         0.0  \n",
       "11683                         0.0  \n",
       "11684                         1.0  \n",
       "11685                         0.0  \n",
       "11686                         0.0  \n",
       "\n",
       "[11687 rows x 12 columns]"
      ]
     },
     "execution_count": 462,
     "metadata": {},
     "output_type": "execute_result"
    }
   ],
   "source": [
    "X"
   ]
  },
  {
   "cell_type": "code",
   "execution_count": null,
   "id": "489ca7f1",
   "metadata": {},
   "outputs": [],
   "source": []
  },
  {
   "cell_type": "code",
   "execution_count": null,
   "id": "07f805ac",
   "metadata": {},
   "outputs": [],
   "source": []
  },
  {
   "cell_type": "code",
   "execution_count": 463,
   "id": "01766e6c",
   "metadata": {},
   "outputs": [],
   "source": [
    "from sklearn.model_selection import train_test_split"
   ]
  },
  {
   "cell_type": "code",
   "execution_count": 520,
   "id": "c11ad7be",
   "metadata": {},
   "outputs": [],
   "source": [
    "X_train, X_test, y_train, y_test = train_test_split(X, y, test_size = 0.2, random_state=42)"
   ]
  },
  {
   "cell_type": "code",
   "execution_count": 521,
   "id": "d9f5af54",
   "metadata": {},
   "outputs": [
    {
     "data": {
      "text/html": [
       "<div>\n",
       "<style scoped>\n",
       "    .dataframe tbody tr th:only-of-type {\n",
       "        vertical-align: middle;\n",
       "    }\n",
       "\n",
       "    .dataframe tbody tr th {\n",
       "        vertical-align: top;\n",
       "    }\n",
       "\n",
       "    .dataframe thead th {\n",
       "        text-align: right;\n",
       "    }\n",
       "</style>\n",
       "<table border=\"1\" class=\"dataframe\">\n",
       "  <thead>\n",
       "    <tr style=\"text-align: right;\">\n",
       "      <th></th>\n",
       "      <th>Yearly_avg_view_on_travel_page</th>\n",
       "      <th>total_likes_on_outstation_checkin_given</th>\n",
       "      <th>total_likes_on_outofstation_checkin_received</th>\n",
       "      <th>week_since_last_outstation_checkin</th>\n",
       "      <th>travelling_network_rating</th>\n",
       "      <th>Adult_flag</th>\n",
       "      <th>preferred_device_Laptop</th>\n",
       "      <th>preferred_device_Mobile</th>\n",
       "      <th>preferred_device_iOS</th>\n",
       "      <th>member_in_family_3</th>\n",
       "      <th>following_company_page_No</th>\n",
       "      <th>following_company_page_Yes</th>\n",
       "    </tr>\n",
       "  </thead>\n",
       "  <tbody>\n",
       "    <tr>\n",
       "      <th>2015</th>\n",
       "      <td>0.425000</td>\n",
       "      <td>0.874660</td>\n",
       "      <td>0.112301</td>\n",
       "      <td>0.727273</td>\n",
       "      <td>0.333333</td>\n",
       "      <td>0.333333</td>\n",
       "      <td>0.0</td>\n",
       "      <td>1.0</td>\n",
       "      <td>0.0</td>\n",
       "      <td>0.0</td>\n",
       "      <td>1.0</td>\n",
       "      <td>0.0</td>\n",
       "    </tr>\n",
       "    <tr>\n",
       "      <th>1885</th>\n",
       "      <td>0.303125</td>\n",
       "      <td>0.419093</td>\n",
       "      <td>0.553526</td>\n",
       "      <td>0.818182</td>\n",
       "      <td>0.666667</td>\n",
       "      <td>0.333333</td>\n",
       "      <td>0.0</td>\n",
       "      <td>1.0</td>\n",
       "      <td>0.0</td>\n",
       "      <td>1.0</td>\n",
       "      <td>1.0</td>\n",
       "      <td>0.0</td>\n",
       "    </tr>\n",
       "    <tr>\n",
       "      <th>5226</th>\n",
       "      <td>0.240625</td>\n",
       "      <td>0.770919</td>\n",
       "      <td>0.117181</td>\n",
       "      <td>0.272727</td>\n",
       "      <td>0.666667</td>\n",
       "      <td>1.000000</td>\n",
       "      <td>0.0</td>\n",
       "      <td>1.0</td>\n",
       "      <td>0.0</td>\n",
       "      <td>0.0</td>\n",
       "      <td>1.0</td>\n",
       "      <td>0.0</td>\n",
       "    </tr>\n",
       "    <tr>\n",
       "      <th>5786</th>\n",
       "      <td>0.331250</td>\n",
       "      <td>0.095078</td>\n",
       "      <td>0.068587</td>\n",
       "      <td>0.181818</td>\n",
       "      <td>0.333333</td>\n",
       "      <td>0.333333</td>\n",
       "      <td>0.0</td>\n",
       "      <td>1.0</td>\n",
       "      <td>0.0</td>\n",
       "      <td>0.0</td>\n",
       "      <td>1.0</td>\n",
       "      <td>0.0</td>\n",
       "    </tr>\n",
       "    <tr>\n",
       "      <th>9581</th>\n",
       "      <td>0.278125</td>\n",
       "      <td>0.480762</td>\n",
       "      <td>0.091835</td>\n",
       "      <td>0.272727</td>\n",
       "      <td>1.000000</td>\n",
       "      <td>0.333333</td>\n",
       "      <td>1.0</td>\n",
       "      <td>0.0</td>\n",
       "      <td>0.0</td>\n",
       "      <td>1.0</td>\n",
       "      <td>0.0</td>\n",
       "      <td>1.0</td>\n",
       "    </tr>\n",
       "    <tr>\n",
       "      <th>...</th>\n",
       "      <td>...</td>\n",
       "      <td>...</td>\n",
       "      <td>...</td>\n",
       "      <td>...</td>\n",
       "      <td>...</td>\n",
       "      <td>...</td>\n",
       "      <td>...</td>\n",
       "      <td>...</td>\n",
       "      <td>...</td>\n",
       "      <td>...</td>\n",
       "      <td>...</td>\n",
       "      <td>...</td>\n",
       "    </tr>\n",
       "    <tr>\n",
       "      <th>11284</th>\n",
       "      <td>0.375000</td>\n",
       "      <td>0.713930</td>\n",
       "      <td>0.150976</td>\n",
       "      <td>0.909091</td>\n",
       "      <td>1.000000</td>\n",
       "      <td>0.000000</td>\n",
       "      <td>0.0</td>\n",
       "      <td>0.0</td>\n",
       "      <td>0.0</td>\n",
       "      <td>0.0</td>\n",
       "      <td>1.0</td>\n",
       "      <td>0.0</td>\n",
       "    </tr>\n",
       "    <tr>\n",
       "      <th>5191</th>\n",
       "      <td>0.212500</td>\n",
       "      <td>0.070210</td>\n",
       "      <td>0.082651</td>\n",
       "      <td>0.272727</td>\n",
       "      <td>0.666667</td>\n",
       "      <td>0.333333</td>\n",
       "      <td>0.0</td>\n",
       "      <td>1.0</td>\n",
       "      <td>0.0</td>\n",
       "      <td>1.0</td>\n",
       "      <td>1.0</td>\n",
       "      <td>0.0</td>\n",
       "    </tr>\n",
       "    <tr>\n",
       "      <th>5390</th>\n",
       "      <td>0.496875</td>\n",
       "      <td>0.351356</td>\n",
       "      <td>0.141268</td>\n",
       "      <td>0.363636</td>\n",
       "      <td>0.333333</td>\n",
       "      <td>0.000000</td>\n",
       "      <td>0.0</td>\n",
       "      <td>0.0</td>\n",
       "      <td>0.0</td>\n",
       "      <td>1.0</td>\n",
       "      <td>0.0</td>\n",
       "      <td>1.0</td>\n",
       "    </tr>\n",
       "    <tr>\n",
       "      <th>860</th>\n",
       "      <td>0.350000</td>\n",
       "      <td>0.010728</td>\n",
       "      <td>0.092989</td>\n",
       "      <td>0.000000</td>\n",
       "      <td>0.333333</td>\n",
       "      <td>0.333333</td>\n",
       "      <td>0.0</td>\n",
       "      <td>1.0</td>\n",
       "      <td>0.0</td>\n",
       "      <td>1.0</td>\n",
       "      <td>1.0</td>\n",
       "      <td>0.0</td>\n",
       "    </tr>\n",
       "    <tr>\n",
       "      <th>7270</th>\n",
       "      <td>0.459375</td>\n",
       "      <td>0.142545</td>\n",
       "      <td>0.231003</td>\n",
       "      <td>0.090909</td>\n",
       "      <td>0.000000</td>\n",
       "      <td>0.333333</td>\n",
       "      <td>0.0</td>\n",
       "      <td>1.0</td>\n",
       "      <td>0.0</td>\n",
       "      <td>0.0</td>\n",
       "      <td>1.0</td>\n",
       "      <td>0.0</td>\n",
       "    </tr>\n",
       "  </tbody>\n",
       "</table>\n",
       "<p>9349 rows × 12 columns</p>\n",
       "</div>"
      ],
      "text/plain": [
       "       Yearly_avg_view_on_travel_page  \\\n",
       "2015                         0.425000   \n",
       "1885                         0.303125   \n",
       "5226                         0.240625   \n",
       "5786                         0.331250   \n",
       "9581                         0.278125   \n",
       "...                               ...   \n",
       "11284                        0.375000   \n",
       "5191                         0.212500   \n",
       "5390                         0.496875   \n",
       "860                          0.350000   \n",
       "7270                         0.459375   \n",
       "\n",
       "       total_likes_on_outstation_checkin_given  \\\n",
       "2015                                  0.874660   \n",
       "1885                                  0.419093   \n",
       "5226                                  0.770919   \n",
       "5786                                  0.095078   \n",
       "9581                                  0.480762   \n",
       "...                                        ...   \n",
       "11284                                 0.713930   \n",
       "5191                                  0.070210   \n",
       "5390                                  0.351356   \n",
       "860                                   0.010728   \n",
       "7270                                  0.142545   \n",
       "\n",
       "       total_likes_on_outofstation_checkin_received  \\\n",
       "2015                                       0.112301   \n",
       "1885                                       0.553526   \n",
       "5226                                       0.117181   \n",
       "5786                                       0.068587   \n",
       "9581                                       0.091835   \n",
       "...                                             ...   \n",
       "11284                                      0.150976   \n",
       "5191                                       0.082651   \n",
       "5390                                       0.141268   \n",
       "860                                        0.092989   \n",
       "7270                                       0.231003   \n",
       "\n",
       "       week_since_last_outstation_checkin  travelling_network_rating  \\\n",
       "2015                             0.727273                   0.333333   \n",
       "1885                             0.818182                   0.666667   \n",
       "5226                             0.272727                   0.666667   \n",
       "5786                             0.181818                   0.333333   \n",
       "9581                             0.272727                   1.000000   \n",
       "...                                   ...                        ...   \n",
       "11284                            0.909091                   1.000000   \n",
       "5191                             0.272727                   0.666667   \n",
       "5390                             0.363636                   0.333333   \n",
       "860                              0.000000                   0.333333   \n",
       "7270                             0.090909                   0.000000   \n",
       "\n",
       "       Adult_flag  preferred_device_Laptop  preferred_device_Mobile  \\\n",
       "2015     0.333333                      0.0                      1.0   \n",
       "1885     0.333333                      0.0                      1.0   \n",
       "5226     1.000000                      0.0                      1.0   \n",
       "5786     0.333333                      0.0                      1.0   \n",
       "9581     0.333333                      1.0                      0.0   \n",
       "...           ...                      ...                      ...   \n",
       "11284    0.000000                      0.0                      0.0   \n",
       "5191     0.333333                      0.0                      1.0   \n",
       "5390     0.000000                      0.0                      0.0   \n",
       "860      0.333333                      0.0                      1.0   \n",
       "7270     0.333333                      0.0                      1.0   \n",
       "\n",
       "       preferred_device_iOS  member_in_family_3  following_company_page_No  \\\n",
       "2015                    0.0                 0.0                        1.0   \n",
       "1885                    0.0                 1.0                        1.0   \n",
       "5226                    0.0                 0.0                        1.0   \n",
       "5786                    0.0                 0.0                        1.0   \n",
       "9581                    0.0                 1.0                        0.0   \n",
       "...                     ...                 ...                        ...   \n",
       "11284                   0.0                 0.0                        1.0   \n",
       "5191                    0.0                 1.0                        1.0   \n",
       "5390                    0.0                 1.0                        0.0   \n",
       "860                     0.0                 1.0                        1.0   \n",
       "7270                    0.0                 0.0                        1.0   \n",
       "\n",
       "       following_company_page_Yes  \n",
       "2015                          0.0  \n",
       "1885                          0.0  \n",
       "5226                          0.0  \n",
       "5786                          0.0  \n",
       "9581                          1.0  \n",
       "...                           ...  \n",
       "11284                         0.0  \n",
       "5191                          0.0  \n",
       "5390                          1.0  \n",
       "860                           0.0  \n",
       "7270                          0.0  \n",
       "\n",
       "[9349 rows x 12 columns]"
      ]
     },
     "execution_count": 521,
     "metadata": {},
     "output_type": "execute_result"
    }
   ],
   "source": [
    "X_train"
   ]
  },
  {
   "cell_type": "code",
   "execution_count": 522,
   "id": "daeaede6",
   "metadata": {},
   "outputs": [],
   "source": [
    "from sklearn.linear_model import LogisticRegression"
   ]
  },
  {
   "cell_type": "code",
   "execution_count": 523,
   "id": "0731976f",
   "metadata": {},
   "outputs": [
    {
     "data": {
      "text/plain": [
       "Taken_product_Yes    0\n",
       "dtype: int64"
      ]
     },
     "execution_count": 523,
     "metadata": {},
     "output_type": "execute_result"
    }
   ],
   "source": [
    "y_train.isnull().sum()"
   ]
  },
  {
   "cell_type": "code",
   "execution_count": 524,
   "id": "7914f31a",
   "metadata": {},
   "outputs": [
    {
     "data": {
      "text/plain": [
       "Yearly_avg_view_on_travel_page                  0\n",
       "total_likes_on_outstation_checkin_given         0\n",
       "total_likes_on_outofstation_checkin_received    0\n",
       "week_since_last_outstation_checkin              0\n",
       "travelling_network_rating                       0\n",
       "Adult_flag                                      0\n",
       "preferred_device_Laptop                         0\n",
       "preferred_device_Mobile                         0\n",
       "preferred_device_iOS                            0\n",
       "member_in_family_3                              0\n",
       "following_company_page_No                       0\n",
       "following_company_page_Yes                      0\n",
       "dtype: int64"
      ]
     },
     "execution_count": 524,
     "metadata": {},
     "output_type": "execute_result"
    }
   ],
   "source": [
    "X_train.isnull().sum()"
   ]
  },
  {
   "cell_type": "code",
   "execution_count": 525,
   "id": "e493ac8e",
   "metadata": {},
   "outputs": [
    {
     "name": "stderr",
     "output_type": "stream",
     "text": [
      "C:\\Users\\DHRUPTI PATEL\\anaconda3\\lib\\site-packages\\sklearn\\utils\\validation.py:993: DataConversionWarning: A column-vector y was passed when a 1d array was expected. Please change the shape of y to (n_samples, ), for example using ravel().\n",
      "  y = column_or_1d(y, warn=True)\n"
     ]
    },
    {
     "data": {
      "text/plain": [
       "LogisticRegression()"
      ]
     },
     "execution_count": 525,
     "metadata": {},
     "output_type": "execute_result"
    }
   ],
   "source": [
    "model = LogisticRegression()\n",
    "model.fit(X_train, y_train)"
   ]
  },
  {
   "cell_type": "code",
   "execution_count": 526,
   "id": "6535777c",
   "metadata": {},
   "outputs": [],
   "source": [
    "y_pred=model.predict(X_test)"
   ]
  },
  {
   "cell_type": "code",
   "execution_count": 527,
   "id": "c29ba491",
   "metadata": {},
   "outputs": [
    {
     "data": {
      "text/plain": [
       "array([[1942,   33],\n",
       "       [ 294,   69]], dtype=int64)"
      ]
     },
     "execution_count": 527,
     "metadata": {},
     "output_type": "execute_result"
    }
   ],
   "source": [
    "# import the metrics class\n",
    "from sklearn import metrics\n",
    "cnf_matrix = metrics.confusion_matrix(y_test, y_pred)\n",
    "cnf_matrix"
   ]
  },
  {
   "cell_type": "code",
   "execution_count": 528,
   "id": "3d25c9e0",
   "metadata": {},
   "outputs": [
    {
     "data": {
      "text/plain": [
       "Text(0.5, 257.44, 'Predicted label')"
      ]
     },
     "execution_count": 528,
     "metadata": {},
     "output_type": "execute_result"
    },
    {
     "data": {
      "image/png": "[encoded data removed]",
      "text/plain": [
       "<Figure size 432x288 with 2 Axes>"
      ]
     },
     "metadata": {},
     "output_type": "display_data"
    }
   ],
   "source": [
    "class_names=[0,1] # name  of classes\n",
    "fig, ax = plt.subplots()\n",
    "tick_marks = np.arange(len(class_names))\n",
    "plt.xticks(tick_marks, class_names)\n",
    "plt.yticks(tick_marks, class_names)\n",
    "# create heatmap\n",
    "sns.heatmap(pd.DataFrame(cnf_matrix), annot=True, cmap=\"YlGnBu\" ,fmt='g')\n",
    "ax.xaxis.set_label_position(\"top\")\n",
    "plt.tight_layout()\n",
    "plt.title('Confusion matrix', y=1.1)\n",
    "plt.ylabel('Actual label')\n",
    "plt.xlabel('Predicted label')"
   ]
  },
  {
   "cell_type": "code",
   "execution_count": 529,
   "id": "1d81bc3f",
   "metadata": {},
   "outputs": [
    {
     "name": "stdout",
     "output_type": "stream",
     "text": [
      "              precision    recall  f1-score   support\n",
      "\n",
      "           0       0.87      0.98      0.92      1975\n",
      "           1       0.68      0.19      0.30       363\n",
      "\n",
      "    accuracy                           0.86      2338\n",
      "   macro avg       0.77      0.59      0.61      2338\n",
      "weighted avg       0.84      0.86      0.83      2338\n",
      "\n"
     ]
    }
   ],
   "source": [
    "print(metrics.classification_report(y_test,y_pred))"
   ]
  },
  {
   "cell_type": "code",
   "execution_count": 530,
   "id": "206a133f",
   "metadata": {},
   "outputs": [],
   "source": [
    "## We can't proceed with the model as recall and precision is very low."
   ]
  },
  {
   "cell_type": "code",
   "execution_count": 531,
   "id": "d7bef6b4",
   "metadata": {},
   "outputs": [],
   "source": [
    "from sklearn.metrics import roc_auc_score,roc_curve,auc"
   ]
  },
  {
   "cell_type": "code",
   "execution_count": 532,
   "id": "c5c68add",
   "metadata": {},
   "outputs": [
    {
     "name": "stdout",
     "output_type": "stream",
     "text": [
      "AUC: 0.773\n"
     ]
    },
    {
     "data": {
      "text/plain": [
       "[<matplotlib.lines.Line2D at 0x20d942016a0>]"
      ]
     },
     "execution_count": 532,
     "metadata": {},
     "output_type": "execute_result"
    },
    {
     "data": {
      "image/png": "[encoded data removed]",
      "text/plain": [
       "<Figure size 432x288 with 1 Axes>"
      ]
     },
     "metadata": {},
     "output_type": "display_data"
    }
   ],
   "source": [
    "# predict probabilities\n",
    "probs = model.predict_proba(X_train)\n",
    "# keep probabilities for the positive outcome only\n",
    "probs = probs[:, 1]\n",
    "# calculate AUC\n",
    "auc = roc_auc_score(y_train, probs)\n",
    "print('AUC: %.3f' % auc)\n",
    "# calculate roc curve\n",
    "train_fpr, train_tpr, train_thresholds = roc_curve(y_train, probs)\n",
    "plt.plot([0, 1], [0, 1], linestyle='--')\n",
    "# plot the roc curve for the model\n",
    "plt.plot(train_fpr, train_tpr)"
   ]
  },
  {
   "cell_type": "code",
   "execution_count": 533,
   "id": "74345b25",
   "metadata": {},
   "outputs": [],
   "source": [
    "## LDA"
   ]
  },
  {
   "cell_type": "code",
   "execution_count": 534,
   "id": "452cc699",
   "metadata": {},
   "outputs": [],
   "source": [
    "from sklearn.discriminant_analysis import LinearDiscriminantAnalysis"
   ]
  },
  {
   "cell_type": "code",
   "execution_count": 535,
   "id": "86d4795b",
   "metadata": {},
   "outputs": [
    {
     "name": "stderr",
     "output_type": "stream",
     "text": [
      "C:\\Users\\DHRUPTI PATEL\\anaconda3\\lib\\site-packages\\sklearn\\utils\\validation.py:993: DataConversionWarning: A column-vector y was passed when a 1d array was expected. Please change the shape of y to (n_samples, ), for example using ravel().\n",
      "  y = column_or_1d(y, warn=True)\n"
     ]
    },
    {
     "data": {
      "text/plain": [
       "LinearDiscriminantAnalysis()"
      ]
     },
     "execution_count": 535,
     "metadata": {},
     "output_type": "execute_result"
    }
   ],
   "source": [
    "LDA_model=LinearDiscriminantAnalysis()\n",
    "LDA_model.fit(X_train, y_train)"
   ]
  },
  {
   "cell_type": "code",
   "execution_count": 536,
   "id": "344c25f9",
   "metadata": {},
   "outputs": [
    {
     "name": "stdout",
     "output_type": "stream",
     "text": [
      "0.8481120975505402\n",
      "[[7643  179]\n",
      " [1241  286]]\n",
      "              precision    recall  f1-score   support\n",
      "\n",
      "           0       0.86      0.98      0.92      7822\n",
      "           1       0.62      0.19      0.29      1527\n",
      "\n",
      "    accuracy                           0.85      9349\n",
      "   macro avg       0.74      0.58      0.60      9349\n",
      "weighted avg       0.82      0.85      0.81      9349\n",
      "\n"
     ]
    }
   ],
   "source": [
    "y_train_predict=LDA_model.predict(X_train)\n",
    "LDA_model_score=LDA_model.score(X_train,y_train)\n",
    "print(LDA_model_score)\n",
    "print(metrics.confusion_matrix(y_train,y_train_predict))\n",
    "print(metrics.classification_report(y_train,y_train_predict))"
   ]
  },
  {
   "cell_type": "code",
   "execution_count": 537,
   "id": "7375b5cd",
   "metadata": {},
   "outputs": [
    {
     "name": "stdout",
     "output_type": "stream",
     "text": [
      "the auc 0.770 \n"
     ]
    },
    {
     "data": {
      "text/plain": [
       "[<matplotlib.lines.Line2D at 0x20d942649a0>]"
      ]
     },
     "execution_count": 537,
     "metadata": {},
     "output_type": "execute_result"
    },
    {
     "data": {
      "image/png": "[encoded data removed]",
      "text/plain": [
       "<Figure size 432x288 with 1 Axes>"
      ]
     },
     "metadata": {},
     "output_type": "display_data"
    }
   ],
   "source": [
    "probs_train=LDA_model.predict_proba(X_train)\n",
    "probs_train=probs_train[:, 1]\n",
    "auc=roc_auc_score(y_train,probs_train)\n",
    "print(\"the auc %.3f \" % auc)\n",
    "train_fpr ,train_tpr, train_thresholds= roc_curve(y_train,probs_train)\n",
    "plt.plot([0,1],[0,1],linestyle='--')\n",
    "plt.plot(train_fpr,train_tpr)"
   ]
  },
  {
   "cell_type": "code",
   "execution_count": 538,
   "id": "1411a7d6",
   "metadata": {},
   "outputs": [
    {
     "name": "stdout",
     "output_type": "stream",
     "text": [
      "0.8601368691189051\n",
      "[[1931   44]\n",
      " [ 283   80]]\n",
      "              precision    recall  f1-score   support\n",
      "\n",
      "           0       0.87      0.98      0.92      1975\n",
      "           1       0.65      0.22      0.33       363\n",
      "\n",
      "    accuracy                           0.86      2338\n",
      "   macro avg       0.76      0.60      0.63      2338\n",
      "weighted avg       0.84      0.86      0.83      2338\n",
      "\n"
     ]
    }
   ],
   "source": [
    "y_test_predict=LDA_model.predict(X_test)\n",
    "LDA_model_score=LDA_model.score(X_test,y_test)\n",
    "print(LDA_model_score)\n",
    "print(metrics.confusion_matrix(y_test,y_test_predict))\n",
    "print(metrics.classification_report(y_test,y_test_predict))"
   ]
  },
  {
   "cell_type": "code",
   "execution_count": 539,
   "id": "36895694",
   "metadata": {},
   "outputs": [
    {
     "name": "stdout",
     "output_type": "stream",
     "text": [
      "the auc curve 0.782 \n"
     ]
    },
    {
     "data": {
      "text/plain": [
       "[<matplotlib.lines.Line2D at 0x20d942c6e50>]"
      ]
     },
     "execution_count": 539,
     "metadata": {},
     "output_type": "execute_result"
    },
    {
     "data": {
      "image/png": "[encoded data removed]",
      "text/plain": [
       "<Figure size 432x288 with 1 Axes>"
      ]
     },
     "metadata": {},
     "output_type": "display_data"
    }
   ],
   "source": [
    "probs_test=LDA_model.predict_proba(X_test)\n",
    "probs_test=probs_test[:,1]\n",
    "auc=roc_auc_score(y_test,probs_test)\n",
    "print(\"the auc curve %.3f \" % auc)\n",
    "test_fpr,test_tpr,test_threshold=roc_curve(y_test,probs_test)\n",
    "plt.plot([0,1],[0,1],linestyle='--')\n",
    "plt.plot(test_fpr, test_tpr)"
   ]
  },
  {
   "cell_type": "code",
   "execution_count": null,
   "id": "b8a01040",
   "metadata": {},
   "outputs": [],
   "source": []
  },
  {
   "cell_type": "code",
   "execution_count": 540,
   "id": "b7a96026",
   "metadata": {},
   "outputs": [],
   "source": [
    "## Naive bayes"
   ]
  },
  {
   "cell_type": "code",
   "execution_count": 541,
   "id": "a91514e6",
   "metadata": {},
   "outputs": [],
   "source": [
    "from sklearn.naive_bayes import GaussianNB\n",
    "from sklearn import metrics"
   ]
  },
  {
   "cell_type": "code",
   "execution_count": 542,
   "id": "0ca04949",
   "metadata": {},
   "outputs": [
    {
     "name": "stderr",
     "output_type": "stream",
     "text": [
      "C:\\Users\\DHRUPTI PATEL\\anaconda3\\lib\\site-packages\\sklearn\\utils\\validation.py:993: DataConversionWarning: A column-vector y was passed when a 1d array was expected. Please change the shape of y to (n_samples, ), for example using ravel().\n",
      "  y = column_or_1d(y, warn=True)\n"
     ]
    },
    {
     "data": {
      "text/plain": [
       "GaussianNB()"
      ]
     },
     "execution_count": 542,
     "metadata": {},
     "output_type": "execute_result"
    }
   ],
   "source": [
    "NB_model=GaussianNB()\n",
    "NB_model.fit(X_train, y_train)"
   ]
  },
  {
   "cell_type": "code",
   "execution_count": 543,
   "id": "1ea19c2c",
   "metadata": {},
   "outputs": [
    {
     "name": "stdout",
     "output_type": "stream",
     "text": [
      "0.8118515349235212\n",
      "[[6903  919]\n",
      " [ 840  687]]\n",
      "              precision    recall  f1-score   support\n",
      "\n",
      "           0       0.89      0.88      0.89      7822\n",
      "           1       0.43      0.45      0.44      1527\n",
      "\n",
      "    accuracy                           0.81      9349\n",
      "   macro avg       0.66      0.67      0.66      9349\n",
      "weighted avg       0.82      0.81      0.81      9349\n",
      "\n"
     ]
    }
   ],
   "source": [
    "Y_train_predict = NB_model.predict(X_train)\n",
    "model_score = NB_model.score(X_train, y_train)\n",
    "\n",
    "print(model_score)\n",
    "print(metrics.confusion_matrix(y_train,Y_train_predict))\n",
    "print(metrics.classification_report(y_train,Y_train_predict))"
   ]
  },
  {
   "cell_type": "code",
   "execution_count": 544,
   "id": "a6a633de",
   "metadata": {},
   "outputs": [
    {
     "name": "stdout",
     "output_type": "stream",
     "text": [
      "the auc 0.750 \n"
     ]
    },
    {
     "data": {
      "text/plain": [
       "[<matplotlib.lines.Line2D at 0x20d9433a130>]"
      ]
     },
     "execution_count": 544,
     "metadata": {},
     "output_type": "execute_result"
    },
    {
     "data": {
      "image/png": "[encoded data removed]",
      "text/plain": [
       "<Figure size 432x288 with 1 Axes>"
      ]
     },
     "metadata": {},
     "output_type": "display_data"
    }
   ],
   "source": [
    "probs_train=NB_model.predict_proba(X_train)\n",
    "probs_train=probs_train[:, 1]\n",
    "auc=roc_auc_score(y_train,probs_train)\n",
    "print(\"the auc %.3f \" % auc)\n",
    "train_fpr ,train_tpr, train_thresholds= roc_curve(y_train,probs_train)\n",
    "plt.plot([0,1],[0,1],linestyle='--')\n",
    "plt.plot(train_fpr,train_tpr)"
   ]
  },
  {
   "cell_type": "code",
   "execution_count": 545,
   "id": "2f89af0f",
   "metadata": {},
   "outputs": [
    {
     "name": "stdout",
     "output_type": "stream",
     "text": [
      "0.8284858853721129\n",
      "[[1762  213]\n",
      " [ 188  175]]\n",
      "              precision    recall  f1-score   support\n",
      "\n",
      "           0       0.90      0.89      0.90      1975\n",
      "           1       0.45      0.48      0.47       363\n",
      "\n",
      "    accuracy                           0.83      2338\n",
      "   macro avg       0.68      0.69      0.68      2338\n",
      "weighted avg       0.83      0.83      0.83      2338\n",
      "\n"
     ]
    }
   ],
   "source": [
    "Y_test_predict=NB_model.predict(X_test)\n",
    "model_score=NB_model.score(X_test, y_test)\n",
    "\n",
    "print(model_score)\n",
    "print(metrics.confusion_matrix(y_test,Y_test_predict))\n",
    "print(metrics.classification_report(y_test,Y_test_predict))"
   ]
  },
  {
   "cell_type": "code",
   "execution_count": 546,
   "id": "29135758",
   "metadata": {},
   "outputs": [
    {
     "name": "stdout",
     "output_type": "stream",
     "text": [
      "the auc curve 0.756 \n"
     ]
    },
    {
     "data": {
      "text/plain": [
       "[<matplotlib.lines.Line2D at 0x20d9439f3d0>]"
      ]
     },
     "execution_count": 546,
     "metadata": {},
     "output_type": "execute_result"
    },
    {
     "data": {
      "image/png": "[encoded data removed]",
      "text/plain": [
       "<Figure size 432x288 with 1 Axes>"
      ]
     },
     "metadata": {},
     "output_type": "display_data"
    }
   ],
   "source": [
    "probs_test=NB_model.predict_proba(X_test)\n",
    "probs_test=probs_test[:,1]\n",
    "auc=roc_auc_score(y_test,probs_test)\n",
    "print(\"the auc curve %.3f \" % auc)\n",
    "test_fpr,test_tpr,test_threshold=roc_curve(y_test,probs_test)\n",
    "plt.plot([0,1],[0,1],linestyle='--')\n",
    "plt.plot(test_fpr, test_tpr)"
   ]
  },
  {
   "cell_type": "code",
   "execution_count": null,
   "id": "0876cf75",
   "metadata": {},
   "outputs": [],
   "source": []
  },
  {
   "cell_type": "code",
   "execution_count": 547,
   "id": "474f176b",
   "metadata": {},
   "outputs": [],
   "source": [
    "## KNN"
   ]
  },
  {
   "cell_type": "code",
   "execution_count": 548,
   "id": "9cd22119",
   "metadata": {},
   "outputs": [],
   "source": [
    "x1 = df_new.drop(\"Taken_product_Yes\",axis=1)\n",
    "y1 = df_new[\"Taken_product_Yes\"]"
   ]
  },
  {
   "cell_type": "code",
   "execution_count": 549,
   "id": "800bd6f8",
   "metadata": {},
   "outputs": [],
   "source": [
    "from scipy.stats import zscore"
   ]
  },
  {
   "cell_type": "code",
   "execution_count": 550,
   "id": "026a8959",
   "metadata": {},
   "outputs": [],
   "source": [
    "x1[x1.columns] = x1[x1.columns].apply(zscore)"
   ]
  },
  {
   "cell_type": "code",
   "execution_count": 551,
   "id": "a5e893ca",
   "metadata": {},
   "outputs": [],
   "source": [
    "from sklearn.model_selection import train_test_split\n",
    "x_train1,x_test1,y_train1,y_test1 = train_test_split(x1,y1, shuffle = False)"
   ]
  },
  {
   "cell_type": "code",
   "execution_count": 552,
   "id": "7bfe5409",
   "metadata": {},
   "outputs": [],
   "source": [
    "from sklearn.neighbors import KNeighborsClassifier"
   ]
  },
  {
   "cell_type": "code",
   "execution_count": 553,
   "id": "61ae56cb",
   "metadata": {},
   "outputs": [
    {
     "name": "stdout",
     "output_type": "stream",
     "text": [
      "Neighbours: 1 ; Accuracy: 0.9996577686516085\n",
      "Neighbours: 3 ; Accuracy: 0.9996577686516085\n",
      "Neighbours: 5 ; Accuracy: 0.8887748117727584\n",
      "Neighbours: 7 ; Accuracy: 0.8891170431211499\n",
      "Neighbours: 9 ; Accuracy: 0.8812457221081451\n",
      "Neighbours: 11 ; Accuracy: 0.87782340862423\n",
      "Neighbours: 13 ; Accuracy: 0.8723477070499658\n",
      "Neighbours: 15 ; Accuracy: 0.8726899383983573\n",
      "Neighbours: 17 ; Accuracy: 0.8675564681724846\n",
      "Neighbours: 19 ; Accuracy: 0.8685831622176592\n"
     ]
    }
   ],
   "source": [
    "for k in range(1,20,2):\n",
    "    knn= KNeighborsClassifier(n_neighbors=k)\n",
    "    knn.fit(x_train1, y_train1)\n",
    "    scores=knn.score(x_test1,y_test1)\n",
    "    print('Neighbours:',k,'; Accuracy:',scores)"
   ]
  },
  {
   "cell_type": "code",
   "execution_count": 554,
   "id": "38661ea9",
   "metadata": {},
   "outputs": [
    {
     "name": "stdout",
     "output_type": "stream",
     "text": [
      "0.9412435824301197\n",
      "[[7240  107]\n",
      " [ 408 1010]]\n",
      "              precision    recall  f1-score   support\n",
      "\n",
      "           0       0.95      0.99      0.97      7347\n",
      "           1       0.90      0.71      0.80      1418\n",
      "\n",
      "    accuracy                           0.94      8765\n",
      "   macro avg       0.93      0.85      0.88      8765\n",
      "weighted avg       0.94      0.94      0.94      8765\n",
      "\n"
     ]
    }
   ],
   "source": [
    "KNN_model=KNeighborsClassifier(n_neighbors=7)\n",
    "KNN_model.fit(x_train1,y_train1)\n",
    "\n",
    "y_train_predict = KNN_model.predict(x_train1)\n",
    "KNN_model_score = KNN_model.score(x_train1,y_train1)\n",
    "\n",
    "print(KNN_model_score)\n",
    "print(metrics.confusion_matrix(y_train1,y_train_predict))\n",
    "print(metrics.classification_report(y_train1,y_train_predict))"
   ]
  },
  {
   "cell_type": "code",
   "execution_count": 555,
   "id": "00907629",
   "metadata": {},
   "outputs": [
    {
     "name": "stdout",
     "output_type": "stream",
     "text": [
      "the auc 0.973 \n"
     ]
    },
    {
     "data": {
      "text/plain": [
       "[<matplotlib.lines.Line2D at 0x20d94403850>]"
      ]
     },
     "execution_count": 555,
     "metadata": {},
     "output_type": "execute_result"
    },
    {
     "data": {
      "image/png": "[encoded data removed]",
      "text/plain": [
       "<Figure size 432x288 with 1 Axes>"
      ]
     },
     "metadata": {},
     "output_type": "display_data"
    }
   ],
   "source": [
    "probs_train=KNN_model.predict_proba(x_train1)\n",
    "probs_train=probs_train[:, 1]\n",
    "auc=roc_auc_score(y_train1,probs_train)\n",
    "print(\"the auc %.3f \" % auc)\n",
    "train_fpr ,train_tpr, train_thresholds= roc_curve(y_train1,probs_train)\n",
    "plt.plot([0,1],[0,1],linestyle='--')\n",
    "plt.plot(train_fpr,train_tpr)"
   ]
  },
  {
   "cell_type": "code",
   "execution_count": 556,
   "id": "70416ec4",
   "metadata": {},
   "outputs": [
    {
     "name": "stdout",
     "output_type": "stream",
     "text": [
      "0.8891170431211499\n",
      "[[2388   62]\n",
      " [ 262  210]]\n",
      "              precision    recall  f1-score   support\n",
      "\n",
      "           0       0.90      0.97      0.94      2450\n",
      "           1       0.77      0.44      0.56       472\n",
      "\n",
      "    accuracy                           0.89      2922\n",
      "   macro avg       0.84      0.71      0.75      2922\n",
      "weighted avg       0.88      0.89      0.88      2922\n",
      "\n"
     ]
    }
   ],
   "source": [
    "y_test_predict=KNN_model.predict(x_test1)\n",
    "\n",
    "KNN_model_score=KNN_model.score(x_test1, y_test1)\n",
    "\n",
    "print(KNN_model_score)\n",
    "print(metrics.confusion_matrix(y_test1,y_test_predict))\n",
    "print(metrics.classification_report(y_test1,y_test_predict))"
   ]
  },
  {
   "cell_type": "code",
   "execution_count": 557,
   "id": "b55989d5",
   "metadata": {},
   "outputs": [
    {
     "name": "stdout",
     "output_type": "stream",
     "text": [
      "the auc curve 0.930 \n"
     ]
    },
    {
     "data": {
      "text/plain": [
       "[<matplotlib.lines.Line2D at 0x20d8b8e7a90>]"
      ]
     },
     "execution_count": 557,
     "metadata": {},
     "output_type": "execute_result"
    },
    {
     "data": {
      "image/png": "[encoded data removed]",
      "text/plain": [
       "<Figure size 432x288 with 1 Axes>"
      ]
     },
     "metadata": {},
     "output_type": "display_data"
    }
   ],
   "source": [
    "probs_test=KNN_model.predict_proba(x_test1)\n",
    "probs_test=probs_test[:,1]\n",
    "auc=roc_auc_score(y_test1,probs_test)\n",
    "print(\"the auc curve %.3f \" % auc)\n",
    "test_fpr,test_tpr,test_threshold=roc_curve(y_test1,probs_test)\n",
    "plt.plot([0,1],[0,1],linestyle='--')\n",
    "plt.plot(test_fpr, test_tpr)"
   ]
  },
  {
   "cell_type": "code",
   "execution_count": null,
   "id": "a2bddaf4",
   "metadata": {},
   "outputs": [],
   "source": []
  },
  {
   "cell_type": "code",
   "execution_count": 558,
   "id": "59b7a0c7",
   "metadata": {},
   "outputs": [],
   "source": [
    "## Ensembed modeling Randomforest"
   ]
  },
  {
   "cell_type": "code",
   "execution_count": 559,
   "id": "c6d35d35",
   "metadata": {},
   "outputs": [],
   "source": [
    "x1 = df_new.drop('Taken_product_Yes', axis = 1)\n",
    "y1 = df_new['Taken_product_Yes']"
   ]
  },
  {
   "cell_type": "code",
   "execution_count": 560,
   "id": "e9d7df24",
   "metadata": {},
   "outputs": [],
   "source": [
    "X_train1, X_test1, y_train1, y_test1 = train_test_split(x1, y1, test_size = 0.33, shuffle = False)"
   ]
  },
  {
   "cell_type": "code",
   "execution_count": 578,
   "id": "24c00629",
   "metadata": {},
   "outputs": [],
   "source": [
    "from sklearn.model_selection import cross_val_score\n",
    "from sklearn.model_selection import RepeatedKFold\n",
    "from sklearn.ensemble import BaggingRegressor, RandomForestClassifier, GradientBoostingRegressor"
   ]
  },
  {
   "cell_type": "code",
   "execution_count": 579,
   "id": "a6a05508",
   "metadata": {},
   "outputs": [
    {
     "name": "stderr",
     "output_type": "stream",
     "text": [
      "C:\\Users\\DHRUPTI PATEL\\AppData\\Local\\Temp\\ipykernel_22144\\3106718272.py:4: DataConversionWarning: A column-vector y was passed when a 1d array was expected. Please change the shape of y to (n_samples,), for example using ravel().\n",
      "  rf.fit(X_train, y_train)\n"
     ]
    },
    {
     "data": {
      "text/plain": [
       "RandomForestClassifier()"
      ]
     },
     "execution_count": 579,
     "metadata": {},
     "output_type": "execute_result"
    }
   ],
   "source": [
    "# Instantiate model with 1000 decision trees\n",
    "rf = RandomForestClassifier()\n",
    "# Train the model on training data\n",
    "rf.fit(X_train, y_train)"
   ]
  },
  {
   "cell_type": "code",
   "execution_count": 582,
   "id": "e5cbb99c",
   "metadata": {},
   "outputs": [
    {
     "name": "stdout",
     "output_type": "stream",
     "text": [
      "Mean Absolute Error: Taken_product_Yes    0.01\n",
      "dtype: float64 degrees.\n"
     ]
    },
    {
     "name": "stderr",
     "output_type": "stream",
     "text": [
      "C:\\Users\\DHRUPTI PATEL\\anaconda3\\lib\\site-packages\\numpy\\core\\fromnumeric.py:3438: FutureWarning: In a future version, DataFrame.mean(axis=None) will return a scalar mean over the entire DataFrame. To retain the old behavior, use 'frame.mean(axis=0)' or just 'frame.mean()'\n",
      "  return mean(axis=axis, dtype=dtype, out=out, **kwargs)\n"
     ]
    }
   ],
   "source": [
    "# Use the forest's predict method on the test data\n",
    "predictions = rf.predict(X_test)\n",
    "predictions=predictions.reshape(2338, 1)\n",
    "# Calculate the absolute errors\n",
    "errors = abs(predictions - y_test)\n",
    "# Print out the mean absolute error (mae)\n",
    "print('Mean Absolute Error:', round(np.mean(errors), 2), 'degrees.')"
   ]
  },
  {
   "cell_type": "code",
   "execution_count": 583,
   "id": "dbba8047",
   "metadata": {},
   "outputs": [
    {
     "name": "stdout",
     "output_type": "stream",
     "text": [
      "Accuracy: 0.9905902480752781\n"
     ]
    }
   ],
   "source": [
    "from sklearn import metrics\n",
    "# Model Accuracy, how often is the classifier correct?\n",
    "print(\"Accuracy:\",metrics.accuracy_score(y_test, predictions))"
   ]
  },
  {
   "cell_type": "code",
   "execution_count": 584,
   "id": "a6c81e69",
   "metadata": {},
   "outputs": [
    {
     "name": "stdout",
     "output_type": "stream",
     "text": [
      "Variable: yearly_avg_Outstation_checkins Importance: 0.26\n",
      "Variable: total_likes_on_outstation_checkin_given Importance: 0.21\n",
      "Variable: Yearly_avg_view_on_travel_page Importance: 0.18\n",
      "Variable: preferred_location_type Importance: 0.08\n",
      "Variable: Yearly_avg_comment_on_travel_page Importance: 0.06\n",
      "Variable: total_likes_on_outofstation_checkin_received Importance: 0.06\n",
      "Variable: preferred_device_Android Importance: 0.04\n",
      "Variable: Adult_flag           Importance: 0.03\n",
      "Variable: Daily_Avg_mins_spend_on_traveling_page Importance: 0.03\n",
      "Variable: travelling_network_rating Importance: 0.02\n",
      "Variable: week_since_last_outstation_checkin Importance: 0.01\n",
      "Variable: montly_avg_comment_on_company_page Importance: 0.01\n"
     ]
    }
   ],
   "source": [
    "## variable importances\n",
    "\n",
    "# Get numerical feature importances\n",
    "importances = list(rf.feature_importances_)\n",
    "# List of tuples with variable and importance\n",
    "feature_importances = [(feature, round(importance, 2)) for feature, importance in zip(x1, importances)]\n",
    "# Sort the feature importances by most important first\n",
    "feature_importances = sorted(feature_importances, key = lambda x1: x1[1], reverse = True)\n",
    "# Print out the feature and importances \n",
    "[print('Variable: {:20} Importance: {}'.format(*pair)) for pair in feature_importances];"
   ]
  },
  {
   "cell_type": "code",
   "execution_count": 586,
   "id": "f14478c0",
   "metadata": {},
   "outputs": [
    {
     "data": {
      "image/png": "[encoded data removed]",
      "text/plain": [
       "<Figure size 1080x432 with 1 Axes>"
      ]
     },
     "metadata": {},
     "output_type": "display_data"
    }
   ],
   "source": [
    "## Visualizations\n",
    "\n",
    "plt.figure(figsize = (15,6))\n",
    "\n",
    "# Set the style\n",
    "plt.style.use('fivethirtyeight')\n",
    "# list of x locations for plotting\n",
    "x_values = list(range(len(importances)))\n",
    "\n",
    "# Make a bar chart\n",
    "plt.bar(x_values, importances, orientation = 'vertical')\n",
    "# Tick labels for x axis\n",
    "plt.xticks(x_values, X, rotation='vertical')\n",
    "# Axis labels and title\n",
    "plt.ylabel('Importance'); plt.xlabel('Variable'); plt.title('Variable Importances');"
   ]
  },
  {
   "cell_type": "code",
   "execution_count": null,
   "id": "2d8c933c",
   "metadata": {},
   "outputs": [],
   "source": []
  },
  {
   "cell_type": "code",
   "execution_count": 587,
   "id": "ce29e56c",
   "metadata": {},
   "outputs": [],
   "source": [
    "from sklearn.ensemble import BaggingClassifier\n",
    "from sklearn.tree import DecisionTreeClassifier"
   ]
  },
  {
   "cell_type": "code",
   "execution_count": 601,
   "id": "ec461b12",
   "metadata": {},
   "outputs": [
    {
     "name": "stderr",
     "output_type": "stream",
     "text": [
      "C:\\Users\\DHRUPTI PATEL\\anaconda3\\lib\\site-packages\\sklearn\\ensemble\\_bagging.py:719: DataConversionWarning: A column-vector y was passed when a 1d array was expected. Please change the shape of y to (n_samples, ), for example using ravel().\n",
      "  y = column_or_1d(y, warn=True)\n"
     ]
    },
    {
     "name": "stdout",
     "output_type": "stream",
     "text": [
      "0.9995721467536635\n",
      "[[7822    0]\n",
      " [   4 1523]]\n",
      "              precision    recall  f1-score   support\n",
      "\n",
      "           0       1.00      1.00      1.00      7822\n",
      "           1       1.00      1.00      1.00      1527\n",
      "\n",
      "    accuracy                           1.00      9349\n",
      "   macro avg       1.00      1.00      1.00      9349\n",
      "weighted avg       1.00      1.00      1.00      9349\n",
      "\n"
     ]
    }
   ],
   "source": [
    "cart=DecisionTreeClassifier()\n",
    "Bagging_model=BaggingClassifier(base_estimator=cart)\n",
    "Bagging_model.fit(X_train,y_train)\n",
    "y_train_predict=Bagging_model.predict(X_train)\n",
    "Bagging_model_score=Bagging_model.score(X_train,y_train)\n",
    "print(Bagging_model_score)\n",
    "print(metrics.confusion_matrix(y_train,y_train_predict))\n",
    "print(metrics.classification_report(y_train,y_train_predict))"
   ]
  },
  {
   "cell_type": "code",
   "execution_count": 591,
   "id": "558637b1",
   "metadata": {},
   "outputs": [
    {
     "name": "stdout",
     "output_type": "stream",
     "text": [
      "AUC: 1.000\n"
     ]
    },
    {
     "data": {
      "text/plain": [
       "[<matplotlib.lines.Line2D at 0x20d99e40dc0>]"
      ]
     },
     "execution_count": 591,
     "metadata": {},
     "output_type": "execute_result"
    },
    {
     "data": {
      "image/png": "[encoded data removed]",
      "text/plain": [
       "<Figure size 432x288 with 1 Axes>"
      ]
     },
     "metadata": {},
     "output_type": "display_data"
    }
   ],
   "source": [
    "probs = Bagging_model.predict_proba(X_train)\n",
    "probs = probs[:, 1]\n",
    "auc = roc_auc_score(y_train, probs)\n",
    "print('AUC: %.3f' % auc)\n",
    "train_fpr, train_tpr, train_thresholds = roc_curve(y_train, probs)\n",
    "plt.plot([0, 1], [0, 1], linestyle='--')\n",
    "plt.plot(train_fpr, train_tpr)"
   ]
  },
  {
   "cell_type": "code",
   "execution_count": 592,
   "id": "95781e62",
   "metadata": {},
   "outputs": [
    {
     "name": "stdout",
     "output_type": "stream",
     "text": [
      "0.9897348160821214\n",
      "[[1970    5]\n",
      " [  19  344]]\n",
      "              precision    recall  f1-score   support\n",
      "\n",
      "           0       0.99      1.00      0.99      1975\n",
      "           1       0.99      0.95      0.97       363\n",
      "\n",
      "    accuracy                           0.99      2338\n",
      "   macro avg       0.99      0.97      0.98      2338\n",
      "weighted avg       0.99      0.99      0.99      2338\n",
      "\n"
     ]
    }
   ],
   "source": [
    "y_test_predict=Bagging_model.predict(X_test)\n",
    "Bagging_model_score=Bagging_model.score(X_test,y_test)\n",
    "print(Bagging_model_score)\n",
    "print(metrics.confusion_matrix(y_test,y_test_predict))\n",
    "print(metrics.classification_report(y_test,y_test_predict))"
   ]
  },
  {
   "cell_type": "code",
   "execution_count": 593,
   "id": "56cdbcff",
   "metadata": {},
   "outputs": [
    {
     "name": "stdout",
     "output_type": "stream",
     "text": [
      "AUC: 0.995\n"
     ]
    },
    {
     "data": {
      "text/plain": [
       "[<matplotlib.lines.Line2D at 0x20d99e6b7f0>]"
      ]
     },
     "execution_count": 593,
     "metadata": {},
     "output_type": "execute_result"
    },
    {
     "data": {
      "image/png": "[encoded data removed]",
      "text/plain": [
       "<Figure size 432x288 with 1 Axes>"
      ]
     },
     "metadata": {},
     "output_type": "display_data"
    }
   ],
   "source": [
    "probs_test = Bagging_model.predict_proba(X_test)\n",
    "probs_test = probs_test[:, 1]\n",
    "auc = roc_auc_score(y_test, probs_test)\n",
    "print('AUC: %.3f' % auc)\n",
    "test_fpr, test_tpr, test_thresholds = roc_curve(y_test, probs_test)\n",
    "plt.plot([0, 1], [0, 1], linestyle='--')\n",
    "plt.plot(test_fpr, test_tpr)"
   ]
  },
  {
   "cell_type": "code",
   "execution_count": null,
   "id": "eb499bd9",
   "metadata": {},
   "outputs": [],
   "source": []
  },
  {
   "cell_type": "code",
   "execution_count": 594,
   "id": "2689f1d5",
   "metadata": {},
   "outputs": [],
   "source": [
    "## Boosting"
   ]
  },
  {
   "cell_type": "code",
   "execution_count": 595,
   "id": "4a7c7441",
   "metadata": {},
   "outputs": [
    {
     "name": "stderr",
     "output_type": "stream",
     "text": [
      "C:\\Users\\DHRUPTI PATEL\\anaconda3\\lib\\site-packages\\sklearn\\utils\\validation.py:993: DataConversionWarning: A column-vector y was passed when a 1d array was expected. Please change the shape of y to (n_samples, ), for example using ravel().\n",
      "  y = column_or_1d(y, warn=True)\n"
     ]
    },
    {
     "data": {
      "text/plain": [
       "AdaBoostClassifier(random_state=1)"
      ]
     },
     "execution_count": 595,
     "metadata": {},
     "output_type": "execute_result"
    }
   ],
   "source": [
    "from sklearn.ensemble import AdaBoostClassifier\n",
    "ADB_model=AdaBoostClassifier(random_state=1)\n",
    "ADB_model.fit(X_train,y_train)"
   ]
  },
  {
   "cell_type": "code",
   "execution_count": 596,
   "id": "452021ea",
   "metadata": {},
   "outputs": [
    {
     "name": "stdout",
     "output_type": "stream",
     "text": [
      "0.8650123007808321\n",
      "[[7615  207]\n",
      " [1055  472]]\n",
      "              precision    recall  f1-score   support\n",
      "\n",
      "           0       0.88      0.97      0.92      7822\n",
      "           1       0.70      0.31      0.43      1527\n",
      "\n",
      "    accuracy                           0.87      9349\n",
      "   macro avg       0.79      0.64      0.68      9349\n",
      "weighted avg       0.85      0.87      0.84      9349\n",
      "\n"
     ]
    }
   ],
   "source": [
    "y_train_predict=ADB_model.predict(X_train)\n",
    "ADB_model_score=ADB_model.score(X_train,y_train)\n",
    "print(ADB_model_score)\n",
    "print(metrics.confusion_matrix(y_train,y_train_predict))\n",
    "print(metrics.classification_report(y_train,y_train_predict))"
   ]
  },
  {
   "cell_type": "code",
   "execution_count": 597,
   "id": "40d1bef5",
   "metadata": {},
   "outputs": [
    {
     "name": "stdout",
     "output_type": "stream",
     "text": [
      "AUC: 0.848\n"
     ]
    },
    {
     "data": {
      "text/plain": [
       "[<matplotlib.lines.Line2D at 0x20d99ebda60>]"
      ]
     },
     "execution_count": 597,
     "metadata": {},
     "output_type": "execute_result"
    },
    {
     "data": {
      "image/png": "[encoded data removed]",
      "text/plain": [
       "<Figure size 432x288 with 1 Axes>"
      ]
     },
     "metadata": {},
     "output_type": "display_data"
    }
   ],
   "source": [
    "probs = ADB_model.predict_proba(X_train)\n",
    "probs = probs[:, 1]\n",
    "auc = roc_auc_score(y_train, probs)\n",
    "print('AUC: %.3f' % auc)\n",
    "train_fpr, train_tpr, train_thresholds = roc_curve(y_train, probs)\n",
    "plt.plot([0, 1], [0, 1], linestyle='--')\n",
    "plt.plot(train_fpr, train_tpr)"
   ]
  },
  {
   "cell_type": "code",
   "execution_count": null,
   "id": "205117d5",
   "metadata": {},
   "outputs": [],
   "source": []
  },
  {
   "cell_type": "code",
   "execution_count": null,
   "id": "734d698f",
   "metadata": {},
   "outputs": [],
   "source": []
  },
  {
   "cell_type": "code",
   "execution_count": 598,
   "id": "2e9866be",
   "metadata": {},
   "outputs": [],
   "source": [
    "import pickle"
   ]
  },
  {
   "cell_type": "code",
   "execution_count": 602,
   "id": "460dfd03",
   "metadata": {},
   "outputs": [],
   "source": [
    "# open a file, where you ant to store the data\n",
    "file = open('baggingclassifier.pkl', 'wb')\n",
    "\n",
    "# dump information to that file\n",
    "pickle.dump(Bagging_model, file)"
   ]
  },
  {
   "cell_type": "code",
   "execution_count": null,
   "id": "8da9d1e2",
   "metadata": {},
   "outputs": [],
   "source": []
  }
 ],
 "metadata": {
  "kernelspec": {
   "display_name": "Python 3 (ipykernel)",
   "language": "python",
   "name": "python3"
  },
  "language_info": {
   "codemirror_mode": {
    "name": "ipython",
    "version": 3
   },
   "file_extension": ".py",
   "mimetype": "text/x-python",
   "name": "python",
   "nbconvert_exporter": "python",
   "pygments_lexer": "ipython3",
   "version": "3.9.12"
  }
 },
 "nbformat": 4,
 "nbformat_minor": 5
}
